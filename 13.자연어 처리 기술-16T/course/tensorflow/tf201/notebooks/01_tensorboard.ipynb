{
 "cells": [
  {
   "cell_type": "markdown",
   "metadata": {},
   "source": [
    "# Tensorboard"
   ]
  },
  {
   "cell_type": "markdown",
   "metadata": {},
   "source": [
    "** Author : Sangkeun Jung (hugmanskj@gmail.com)**"
   ]
  },
  {
   "cell_type": "markdown",
   "metadata": {
    "collapsed": true
   },
   "source": [
    "Tensorflow provide a very useful dashboard tool named **\"Tensorboard\"**.\n",
    "Tensorboard is tightly coupled to the summary concept of tesnorflow. \n",
    "Therefore, it is good idea to study summary at first. \n",
    "\n",
    "- [Summary Operations](https://www.tensorflow.org/versions/r0.11/api_docs/python/train.html#summary-operations)\n",
    "\n",
    "Typical working flow of showing some summaries on tensorboard is as follows:\n",
    "\n",
    "- In graph design time,\n",
    "    - Add **value monitoring** ops for summary\n",
    "    - Add **summary** operation with \"tf.merge_all_summaries()\"\n",
    "    - Add physical **writer** which is bound to the target graph\n",
    "- In running time,\n",
    "    - Run **summary** operation to collect monitoring values\n",
    "    - Add **collected monitoring values** to **writer**\n",
    "- In server, \n",
    "    - Launch tensorboard binary with monitoring directory    \n",
    "    \n",
    "You can check example monitoring codes in here:\n",
    "https://github.com/hugman/deep_learning/blob/master/tutorial/mnist_with_monitoring.py\n",
    "\n"
   ]
  },
  {
   "cell_type": "markdown",
   "metadata": {
    "collapsed": false
   },
   "source": [
    "## Add value monitoring"
   ]
  },
  {
   "cell_type": "markdown",
   "metadata": {},
   "source": [
    "Tensorflow provides basic value monitoring operations\n",
    "- tf.scalar_summary\n",
    "- tf.image_summary\n",
    "- tf.audio_summary\n",
    "- tf.histogram_summary\n",
    "\n",
    "Typical usage is as follows:\n",
    "```\n",
    "tf.scalar_summary('cross_entropy', loss) # register loss to monitor\n",
    "```"
   ]
  },
  {
   "cell_type": "markdown",
   "metadata": {},
   "source": [
    "## Add summary operation"
   ]
  },
  {
   "cell_type": "markdown",
   "metadata": {},
   "source": [
    "In most of the case, following op definition is enough. \n",
    "\n",
    "```\n",
    "summary_op = tf.merge_all_summaries()\n",
    "```"
   ]
  },
  {
   "cell_type": "markdown",
   "metadata": {},
   "source": [
    "## Add physical writer "
   ]
  },
  {
   "cell_type": "markdown",
   "metadata": {},
   "source": [
    "It is necessary to prepare pyhisical writer to write summaries on disk, db, or any other resources.\n",
    "\n",
    "```\n",
    "# Create writer op for monitoring\n",
    "monitor_dir = '/local/log-tensorboard' # <-- it can be changed!\n",
    "\n",
    "# register writer\n",
    "summary_writer = tf.train.SummaryWriter(monitor_dir, graph_def=sess.graph_def) \n",
    "```\n"
   ]
  },
  {
   "cell_type": "markdown",
   "metadata": {},
   "source": [
    "## Add collected monitoring values to writer"
   ]
  },
  {
   "cell_type": "markdown",
   "metadata": {},
   "source": [
    "Finally, run summary ops to collect values, and write them through writer.\n",
    "\n",
    "It's important that we need to give **'step'** or **'global_step'** to writer!"
   ]
  },
  {
   "cell_type": "markdown",
   "metadata": {},
   "source": [
    "\n",
    "```\n",
    "    for <training loop> :\n",
    "        # monitoring\n",
    "        summary_str = sess.run(summary_op, ... )      # get summary info from summary op\n",
    "        summary_writer.add_summary(summary_str, step) # add summary\n",
    "```\n"
   ]
  },
  {
   "cell_type": "markdown",
   "metadata": {},
   "source": [
    "## Launch Tensorboard"
   ]
  },
  {
   "cell_type": "markdown",
   "metadata": {},
   "source": [
    "For monitoring using tensorbaord: You need to launch tensorboard web server as follows:\n",
    "\n",
    " ```\n",
    " $ ./nohup tensorboard --logdir /local/log-tensorboard & \n",
    " ```\n",
    "\n",
    "in here, log-tensorboard can be changed by users."
   ]
  }
 ],
 "metadata": {
  "kernelspec": {
   "display_name": "Python 2",
   "language": "python",
   "name": "python2"
  },
  "language_info": {
   "codemirror_mode": {
    "name": "ipython",
    "version": 2
   },
   "file_extension": ".py",
   "mimetype": "text/x-python",
   "name": "python",
   "nbconvert_exporter": "python",
   "pygments_lexer": "ipython2",
   "version": "2.7.6"
  }
 },
 "nbformat": 4,
 "nbformat_minor": 0
}
