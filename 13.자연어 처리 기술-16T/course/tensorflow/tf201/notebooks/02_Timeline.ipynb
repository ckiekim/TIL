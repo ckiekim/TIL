{
 "cells": [
  {
   "cell_type": "markdown",
   "metadata": {},
   "source": [
    "# Timeline"
   ]
  },
  {
   "cell_type": "markdown",
   "metadata": {},
   "source": [
    "** Author : Sangkeun Jung (hugmanskj@gmail.com)**"
   ]
  },
  {
   "cell_type": "markdown",
   "metadata": {
    "collapsed": true
   },
   "source": [
    "Tensorflow support a tool for analyzing computation costs and resources name as **timeline**.\n",
    "**timeline** is a 3rd party package. \n",
    "\n",
    "(For now - 2016-10-27) It only supports a first cycle of graph running."
   ]
  },
  {
   "cell_type": "markdown",
   "metadata": {
    "collapsed": false
   },
   "source": [
    "## import timeline"
   ]
  },
  {
   "cell_type": "markdown",
   "metadata": {},
   "source": [
    "```python\n",
    "from tensorflow.python.client import timeline\n",
    "```"
   ]
  },
  {
   "cell_type": "markdown",
   "metadata": {},
   "source": [
    "## Prepare collecting meta data"
   ]
  },
  {
   "cell_type": "markdown",
   "metadata": {},
   "source": [
    "After session creation, \n",
    "\n",
    "```python\n",
    "    with tf.Session() as sess:\n",
    "        # .. \n",
    "        sess.run(tf.initialize_all_variables())\n",
    "        # ..\n",
    "        \n",
    "        run_metadata = tf.RunMetadata()  # <-- prepare collecting metadata\n",
    "        trace_file = open('timeline.ctf.json', 'w') # <-- file to store\n",
    "\n",
    "        for <training loop>:\n",
    "            # ...\n",
    "            _ = sess.run([train_op],\n",
    "                           options=tf.RunOptions(trace_level=tf.RunOptions.FULL_TRACE),\n",
    "                           run_metadata=run_metadata,\n",
    "                       )\n",
    "            trace = timeline.Timeline(step_stats=run_metadata.step_stats)\n",
    "            trace_file.write(trace.generate_chrome_trace_format())\n",
    "            \n",
    "        trace_file.close()\n",
    "```\n",
    "\n",
    "\n",
    "Yo can check whole working tensorflow code in here : \n",
    "https://github.com/hugman/deep_learning/blob/master/course/tf201/notebooks/dnn_codes/mnist_with_trace.py\n"
   ]
  },
  {
   "cell_type": "markdown",
   "metadata": {},
   "source": [
    "## Visualizing traced file with Chrome"
   ]
  },
  {
   "cell_type": "markdown",
   "metadata": {},
   "source": [
    "timline dump traced information as chrome trace file format. \n",
    "So you need to install chrome if it is not yet installed. \n",
    "\n",
    "- launch chrome browser\n",
    "- Put below URL in the navigation\n",
    "    - chrome://tracing\n",
    "- The tracing screen looks like\n",
    "\n",
    "<img src=\"./dnn_codes/fig/timeline_01.jpg\">\n",
    "\n",
    "- Then load traced file ( in this case, \"timeline.ctf.json\" )\n",
    "- The visualized screen looks like \n",
    "\n",
    "<img src=\"./dnn_codes/fig/timeline_02.jpg\">\n",
    "\n",
    "\n"
   ]
  },
  {
   "cell_type": "markdown",
   "metadata": {},
   "source": [
    "## Problem Shooting!"
   ]
  },
  {
   "cell_type": "markdown",
   "metadata": {},
   "source": [
    "Sometimes, timeline generates following errors \n",
    "```bash\n",
    "I tensorflow/stream_executor/dso_loader.cc:102] Couldn't open CUDA library libcupti.so. LD_LIBRARY_PATH: /usr/local/lib:/usr/local/cuda/lib64:/usr/local/cuda-7.0/extras/CUPTI/lib64\n",
    "F tensorflow/core/platform/default/gpu/cupti_wrapper.cc:58] Check failed: f != nullptr could not find cuptiActivityRegisterCallbacksin libcupti DSO; dlerror: /usr/local/lib/python2.7/dist-packages/tensorflow/python/_pywrap_tensorflow.so: undefined symbol: cuptiActivityRegisterCallbacks\n",
    "```\n",
    "\n",
    "Most of the case, your export enviroments do not connect correct cuda library. \n",
    "Correct as follows:\n",
    "\n",
    "- check current environment \n",
    "    - <code>export | egrep 'LD_LIBRARY_PATH'</code>\n",
    "    - in my case, it shows\n",
    "    - <code> declare -x LD_LIBRARY_PATH=\"/usr/local/lib:/usr/local/cuda/lib64:/usr/local/cuda-7.5/extras/CUPTI/lib64\" </code>\n",
    "  \n",
    "in this setting, tensorflow tries to use <code>/usr/local/cuda-7.5/extras/CUPTI/lib64\"</code>. Check there is a <code>libcupti.so</code> in the folder. "
   ]
  }
 ],
 "metadata": {
  "kernelspec": {
   "display_name": "Python 2",
   "language": "python",
   "name": "python2"
  },
  "language_info": {
   "codemirror_mode": {
    "name": "ipython",
    "version": 2
   },
   "file_extension": ".py",
   "mimetype": "text/x-python",
   "name": "python",
   "nbconvert_exporter": "python",
   "pygments_lexer": "ipython2",
   "version": "2.7.6"
  }
 },
 "nbformat": 4,
 "nbformat_minor": 0
}
