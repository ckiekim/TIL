{
 "cells": [
  {
   "cell_type": "markdown",
   "metadata": {},
   "source": [
    "# Change Graphic Card"
   ]
  },
  {
   "cell_type": "markdown",
   "metadata": {},
   "source": [
    "** Author : Sangkeun Jung (hugmanskj@gmail.com)**"
   ]
  },
  {
   "cell_type": "markdown",
   "metadata": {
    "collapsed": true
   },
   "source": [
    "If we have multiple gpu cards in machine, we need to change graphic card. \n",
    "\n",
    "Tensorflow assign the first gpu card as primary gpu card. \n",
    "\n",
    ">> If you have more than one GPU in your system, the GPU with **the lowest ID** will be selected by default. If you would like to run on a different GPU, you will need to specify the preference explicitly:\n",
    "\n",
    ">> from : https://www.tensorflow.org/versions/r0.11/how_tos/using_gpu/index.html\n",
    "\n",
    "Therefore, tensorflow tries to assign gpu as '/gpu:0'. \n",
    "\n",
    "We can change it with two different methods \n",
    "\n",
    "- In software level \n",
    "- In driver level"
   ]
  },
  {
   "cell_type": "markdown",
   "metadata": {
    "collapsed": false
   },
   "source": [
    "## Software method"
   ]
  },
  {
   "cell_type": "markdown",
   "metadata": {},
   "source": [
    "We can change device any time with <code> with tf.device('~~'): </code>  \n",
    "\n",
    "```python\n",
    "    with tf.device('/gpu:1'):\n",
    "        # --- op and tensors --- #\n",
    "```\n"
   ]
  },
  {
   "cell_type": "markdown",
   "metadata": {},
   "source": [
    "## Driver method"
   ]
  },
  {
   "cell_type": "markdown",
   "metadata": {},
   "source": [
    "We can change default gpu device which is exposed to current linux environment with <code> CUDA_VISIBLE_DEVICES </code>\n",
    "\n",
    "You can check more detail information in here : [CUDA_VISIBLE_DEVICES](https://devblogs.nvidia.com/parallelforall/cuda-pro-tip-control-gpu-visibility-cuda_visible_devices/)\n",
    "\n",
    "Using this method, you can change gpu device before running tensorflow code, \n",
    "\n",
    "- To use '/gpu:1'\n",
    "    - <code> export CUDA_VISIBLE_DEVICES=1,0 </code>\n",
    "  \n",
    "- To use '/gpu:2'\n",
    "    - <code> export CUDA_VISIBLE_DEVICES=2,0 </code>\n",
    "- ...\n",
    "\n"
   ]
  }
 ],
 "metadata": {
  "kernelspec": {
   "display_name": "Python 2",
   "language": "python",
   "name": "python2"
  },
  "language_info": {
   "codemirror_mode": {
    "name": "ipython",
    "version": 2
   },
   "file_extension": ".py",
   "mimetype": "text/x-python",
   "name": "python",
   "nbconvert_exporter": "python",
   "pygments_lexer": "ipython2",
   "version": "2.7.6"
  }
 },
 "nbformat": 4,
 "nbformat_minor": 0
}
