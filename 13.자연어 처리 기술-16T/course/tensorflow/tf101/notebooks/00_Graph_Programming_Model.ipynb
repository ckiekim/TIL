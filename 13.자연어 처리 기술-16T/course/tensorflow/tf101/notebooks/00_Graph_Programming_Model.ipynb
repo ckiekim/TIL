{
 "cells": [
  {
   "cell_type": "markdown",
   "metadata": {},
   "source": [
    "# Graph Programming Model"
   ]
  },
  {
   "cell_type": "markdown",
   "metadata": {},
   "source": [
    "** Author : Sangkeun Jung (hugmanskj@gmail.com)**"
   ]
  },
  {
   "cell_type": "markdown",
   "metadata": {
    "collapsed": true
   },
   "source": [
    "It is important to mind that **tensorflow** is a \n",
    "- distributable\n",
    "- **graph** based\n",
    "- computation\n",
    "- infra\n",
    "\n",
    ">> TensorFlow™ is an open source software library for numerical computation using data flow graphs. Nodes in the graph represent mathematical operations, while the graph edges represent the multidimensional data arrays (tensors) communicated between them.\n",
    ">> from : https://www.tensorflow.org/\n",
    "\n",
    "\n",
    "It can **compute** in a very flexible and easy way, so it can do **deep learning **, not vice versa.\n",
    "\n",
    "In general, tensorflow codes can be organized with two things\n",
    "- Graph Design \n",
    "- Run operations (which are kind of nodes in the graph)\n"
   ]
  },
  {
   "cell_type": "markdown",
   "metadata": {
    "collapsed": false
   },
   "source": [
    "## Graph Design"
   ]
  },
  {
   "cell_type": "markdown",
   "metadata": {},
   "source": [
    "Tensorflow graph constitutes of \n",
    "- Operation\n",
    "- Tensor\n",
    "\n",
    "> A Graph contains a set of **Operation** objects, which represent units of computation; and \n",
    "\n",
    "> **Tensor** objects, which represent the units of data that flow between operations.\n"
   ]
  },
  {
   "cell_type": "markdown",
   "metadata": {
    "collapsed": true
   },
   "source": [
    "Example of the computation graph is like this : \n",
    "\n",
    "<img src=\"https://www.tensorflow.org/images/tensors_flowing.gif\">\n",
    "\n",
    "(Real computation graph will be shown in other python notebooks in this tutorial.)\n",
    "\n",
    "\n",
    "Tensorflow already provides many useful and handy linear algebra operations such as *matmul, reduce_mean, transpose* and many others. Most of the tensor manipulation apis are similar to those of numpy apis, so if you are familiar with numpy and matlab, it is easy to go. \n",
    "\n",
    "Besides basic numerical operations, tensorflow supports ready-to-go functions for building neural network and optimization as *tf.nn* and *tf.train*.\n",
    "\n",
    "If you are not satisfied with basic tensorflow neural network apis, there are many contributed codes in github ( check : https://github.com/tensorflow/tensorflow/tree/master/tensorflow/contrib ).\n",
    "\n",
    "Futhermore, you can find many matured satellite neural network packages using tensorflow as backend compuation platform. If you want to start bulding block first not from studying tensorflow itself, following packages are good start points. \n",
    "\n",
    "- [Keras](https://keras.io/)\n",
    "- [TF-Slim](https://github.com/tensorflow/models/blob/master/inception/inception/slim/README.md)\n",
    "- [TFLearn](http://tflearn.org/)\n"
   ]
  },
  {
   "cell_type": "markdown",
   "metadata": {},
   "source": [
    "## Run Operations"
   ]
  },
  {
   "cell_type": "markdown",
   "metadata": {},
   "source": [
    "After designing graph, we need to \n",
    "-  create session(s) and \n",
    "- bind graph(s) to the session(s)."
   ]
  },
  {
   "cell_type": "markdown",
   "metadata": {},
   "source": [
    "If session and graph are ready to run, we can run any operations in the graph using *session.run( operation_name )* and *operation.eval()*.\n",
    "\n",
    "More detail explanations will be followed in the next tutorials."
   ]
  }
 ],
 "metadata": {
  "kernelspec": {
   "display_name": "Python 2",
   "language": "python",
   "name": "python2"
  },
  "language_info": {
   "codemirror_mode": {
    "name": "ipython",
    "version": 2
   },
   "file_extension": ".py",
   "mimetype": "text/x-python",
   "name": "python",
   "nbconvert_exporter": "python",
   "pygments_lexer": "ipython2",
   "version": "2.7.6"
  }
 },
 "nbformat": 4,
 "nbformat_minor": 0
}
