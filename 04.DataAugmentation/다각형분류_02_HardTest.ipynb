{
 "cells": [
  {
   "cell_type": "markdown",
   "metadata": {
    "colab_type": "text",
    "id": "3rG34xrNgE7I"
   },
   "source": [
    "# 원, 삼각형, 사각형 구분하기\n",
    "## Local에서 작업\n",
    "## 2. 어려운 테스트 문제를 기존 CNN 모델로 푸는 경우"
   ]
  },
  {
   "cell_type": "code",
   "execution_count": 1,
   "metadata": {
    "colab": {},
    "colab_type": "code",
    "id": "bwA2Lk7gilA1"
   },
   "outputs": [
    {
     "name": "stderr",
     "output_type": "stream",
     "text": [
      "Using TensorFlow backend.\n"
     ]
    }
   ],
   "source": [
    "import numpy as np\n",
    "from keras.models import Sequential\n",
    "from keras.layers import Dense\n",
    "from keras.layers import Flatten\n",
    "from keras.layers.convolutional import Conv2D\n",
    "from keras.layers.convolutional import MaxPooling2D\n",
    "from keras.preprocessing.image import ImageDataGenerator\n",
    "\n",
    "# 랜덤시드 고정시키기\n",
    "np.random.seed(3)"
   ]
  },
  {
   "cell_type": "markdown",
   "metadata": {
    "colab_type": "text",
    "id": "SjsMBcR0pnzv"
   },
   "source": [
    "### 데이터셋 생성하기"
   ]
  },
  {
   "cell_type": "code",
   "execution_count": 2,
   "metadata": {
    "colab": {
     "base_uri": "https://localhost:8080/",
     "height": 53
    },
    "colab_type": "code",
    "id": "9Ffv4Qcfkxd0",
    "outputId": "caa7aa1e-8c4b-482d-ce65-d7f48e8e5920"
   },
   "outputs": [
    {
     "name": "stdout",
     "output_type": "stream",
     "text": [
      "Found 45 images belonging to 3 classes.\n",
      "Found 15 images belonging to 3 classes.\n"
     ]
    }
   ],
   "source": [
    "train_datagen = ImageDataGenerator(rescale=1./255)\n",
    "\n",
    "train_generator = train_datagen.flow_from_directory(\n",
    "        'hard_handwriting_shape/train',\n",
    "        target_size=(24, 24),\n",
    "        batch_size=3,\n",
    "        class_mode='categorical')\n",
    "\n",
    "test_datagen = ImageDataGenerator(rescale=1./255)\n",
    "\n",
    "test_generator = test_datagen.flow_from_directory(\n",
    "        'hard_handwriting_shape/test',\n",
    "        target_size=(24, 24),    \n",
    "        batch_size=3,\n",
    "        class_mode='categorical')"
   ]
  },
  {
   "cell_type": "markdown",
   "metadata": {
    "colab_type": "text",
    "id": "K88bSm6wpwsK"
   },
   "source": [
    "### 모델 구성하기"
   ]
  },
  {
   "cell_type": "code",
   "execution_count": 4,
   "metadata": {
    "colab": {
     "base_uri": "https://localhost:8080/",
     "height": 377
    },
    "colab_type": "code",
    "id": "G5TOCJzIpVfR",
    "outputId": "35def669-2606-46e4-efee-98f549cce104"
   },
   "outputs": [
    {
     "name": "stdout",
     "output_type": "stream",
     "text": [
      "Model: \"sequential_2\"\n",
      "_________________________________________________________________\n",
      "Layer (type)                 Output Shape              Param #   \n",
      "=================================================================\n",
      "conv2d_3 (Conv2D)            (None, 22, 22, 32)        896       \n",
      "_________________________________________________________________\n",
      "conv2d_4 (Conv2D)            (None, 20, 20, 64)        18496     \n",
      "_________________________________________________________________\n",
      "max_pooling2d_2 (MaxPooling2 (None, 10, 10, 64)        0         \n",
      "_________________________________________________________________\n",
      "flatten_2 (Flatten)          (None, 6400)              0         \n",
      "_________________________________________________________________\n",
      "dense_3 (Dense)              (None, 128)               819328    \n",
      "_________________________________________________________________\n",
      "dense_4 (Dense)              (None, 3)                 387       \n",
      "=================================================================\n",
      "Total params: 839,107\n",
      "Trainable params: 839,107\n",
      "Non-trainable params: 0\n",
      "_________________________________________________________________\n"
     ]
    }
   ],
   "source": [
    "model = Sequential()\n",
    "model.add(Conv2D(32, kernel_size=(3, 3),\n",
    "                 activation='relu', input_shape=(24,24,3)))\n",
    "model.add(Conv2D(64, (3, 3), activation='relu'))\n",
    "model.add(MaxPooling2D(pool_size=(2, 2)))\n",
    "model.add(Flatten())\n",
    "model.add(Dense(128, activation='relu'))\n",
    "model.add(Dense(3, activation='softmax'))\n",
    "model.summary()"
   ]
  },
  {
   "cell_type": "markdown",
   "metadata": {
    "colab_type": "text",
    "id": "wrjhuhJ2tEeA"
   },
   "source": [
    "### 모델 학습과정 설정하기"
   ]
  },
  {
   "cell_type": "code",
   "execution_count": 6,
   "metadata": {
    "colab": {},
    "colab_type": "code",
    "id": "hBUFfHV6sSRW"
   },
   "outputs": [],
   "source": [
    "model.compile(loss='categorical_crossentropy', optimizer='adam', metrics=['accuracy'])"
   ]
  },
  {
   "cell_type": "markdown",
   "metadata": {
    "colab_type": "text",
    "id": "sZ_WQ05itPr9"
   },
   "source": [
    "## 모델 학습시키기\n",
    "- 첫번째 인자 : 훈련데이터셋을 제공할 제네레이터를 지정. 본 예제에서는 앞서 생성한 train_generator으로 지정.\n",
    "- steps_per_epoch : 한 epoch에 사용한 스텝 수를 지정. 총 45개의 훈련 샘플이 있고 배치사이즈가 3이므로 15 스텝으로 지정.\n",
    "- epochs : 전체 훈련 데이터셋에 대해 학습 반복 횟수를 지정. 200번을 반복적으로 학습.\n",
    "- validation_data : 검증데이터셋을 제공할 제네레이터를 지정. 본 예제에서는 앞서 생성한 validation_generator으로 지정.\n",
    "- validation_steps : 한 epoch 종료 시 마다 검증할 때 사용되는 검증 스텝 수를 지정. 홍 15개의 검증 샘플이 있고 배치사이즈가 3이므로 5 스텝으로 지정."
   ]
  },
  {
   "cell_type": "code",
   "execution_count": 7,
   "metadata": {
    "colab": {
     "base_uri": "https://localhost:8080/",
     "height": 1000
    },
    "colab_type": "code",
    "id": "oMzc0kFdtLMY",
    "outputId": "93273fea-58c8-474a-8308-9a3fdeae55d4"
   },
   "outputs": [
    {
     "name": "stderr",
     "output_type": "stream",
     "text": [
      "W0904 15:54:34.127145 13240 deprecation.py:323] From C:\\ProgramData\\Anaconda3\\lib\\site-packages\\tensorflow\\python\\ops\\math_grad.py:1250: add_dispatch_support.<locals>.wrapper (from tensorflow.python.ops.array_ops) is deprecated and will be removed in a future version.\n",
      "Instructions for updating:\n",
      "Use tf.where in 2.0, which has the same broadcast rule as np.where\n",
      "W0904 15:54:34.185176 13240 deprecation_wrapper.py:119] From C:\\ProgramData\\Anaconda3\\lib\\site-packages\\keras\\backend\\tensorflow_backend.py:1033: The name tf.assign_add is deprecated. Please use tf.compat.v1.assign_add instead.\n",
      "\n"
     ]
    },
    {
     "name": "stdout",
     "output_type": "stream",
     "text": [
      "Epoch 1/200\n",
      "15/15 [==============================] - 3s 202ms/step - loss: 1.0455 - acc: 0.5778 - val_loss: 1.6502 - val_acc: 0.3333\n",
      "Epoch 2/200\n",
      "15/15 [==============================] - 0s 9ms/step - loss: 0.3071 - acc: 0.8889 - val_loss: 1.9359 - val_acc: 0.3333\n",
      "Epoch 3/200\n",
      "15/15 [==============================] - 0s 10ms/step - loss: 0.0396 - acc: 1.0000 - val_loss: 3.1860 - val_acc: 0.3333\n",
      "Epoch 4/200\n",
      "15/15 [==============================] - 0s 9ms/step - loss: 0.0048 - acc: 1.0000 - val_loss: 3.9082 - val_acc: 0.3333\n",
      "Epoch 5/200\n",
      "15/15 [==============================] - 0s 9ms/step - loss: 7.9161e-04 - acc: 1.0000 - val_loss: 4.2593 - val_acc: 0.3333\n",
      "Epoch 6/200\n",
      "15/15 [==============================] - 0s 9ms/step - loss: 4.5133e-04 - acc: 1.0000 - val_loss: 4.4351 - val_acc: 0.3333\n",
      "Epoch 7/200\n",
      "15/15 [==============================] - 0s 9ms/step - loss: 3.4566e-04 - acc: 1.0000 - val_loss: 4.5037 - val_acc: 0.3333\n",
      "Epoch 8/200\n",
      "15/15 [==============================] - 0s 10ms/step - loss: 2.9584e-04 - acc: 1.0000 - val_loss: 4.5677 - val_acc: 0.3333\n",
      "Epoch 9/200\n",
      "15/15 [==============================] - 0s 9ms/step - loss: 2.6341e-04 - acc: 1.0000 - val_loss: 4.6665 - val_acc: 0.3333\n",
      "Epoch 10/200\n",
      "15/15 [==============================] - 0s 9ms/step - loss: 2.3348e-04 - acc: 1.0000 - val_loss: 4.7238 - val_acc: 0.3333\n",
      "Epoch 11/200\n",
      "15/15 [==============================] - 0s 9ms/step - loss: 2.0714e-04 - acc: 1.0000 - val_loss: 4.8196 - val_acc: 0.3333\n",
      "Epoch 12/200\n",
      "15/15 [==============================] - 0s 9ms/step - loss: 1.7096e-04 - acc: 1.0000 - val_loss: 4.8602 - val_acc: 0.3333\n",
      "Epoch 13/200\n",
      "15/15 [==============================] - 0s 9ms/step - loss: 1.5318e-04 - acc: 1.0000 - val_loss: 4.9153 - val_acc: 0.3333\n",
      "Epoch 14/200\n",
      "15/15 [==============================] - 0s 9ms/step - loss: 1.4270e-04 - acc: 1.0000 - val_loss: 4.9577 - val_acc: 0.3333\n",
      "Epoch 15/200\n",
      "15/15 [==============================] - 0s 9ms/step - loss: 1.2319e-04 - acc: 1.0000 - val_loss: 5.0151 - val_acc: 0.3333\n",
      "Epoch 16/200\n",
      "15/15 [==============================] - 0s 9ms/step - loss: 1.1255e-04 - acc: 1.0000 - val_loss: 5.0492 - val_acc: 0.3333\n",
      "Epoch 17/200\n",
      "15/15 [==============================] - 0s 9ms/step - loss: 9.9657e-05 - acc: 1.0000 - val_loss: 5.1076 - val_acc: 0.3333\n",
      "Epoch 18/200\n",
      "15/15 [==============================] - 0s 9ms/step - loss: 8.9645e-05 - acc: 1.0000 - val_loss: 5.1371 - val_acc: 0.3333\n",
      "Epoch 19/200\n",
      "15/15 [==============================] - 0s 9ms/step - loss: 8.2438e-05 - acc: 1.0000 - val_loss: 5.1577 - val_acc: 0.3333\n",
      "Epoch 20/200\n",
      "15/15 [==============================] - 0s 10ms/step - loss: 7.6493e-05 - acc: 1.0000 - val_loss: 5.1979 - val_acc: 0.3333\n",
      "Epoch 21/200\n",
      "15/15 [==============================] - 0s 9ms/step - loss: 6.9803e-05 - acc: 1.0000 - val_loss: 5.2273 - val_acc: 0.3333\n",
      "Epoch 22/200\n",
      "15/15 [==============================] - 0s 9ms/step - loss: 6.4035e-05 - acc: 1.0000 - val_loss: 5.2599 - val_acc: 0.3333\n",
      "Epoch 23/200\n",
      "15/15 [==============================] - 0s 9ms/step - loss: 5.9072e-05 - acc: 1.0000 - val_loss: 5.2771 - val_acc: 0.3333\n",
      "Epoch 24/200\n",
      "15/15 [==============================] - 0s 9ms/step - loss: 5.5322e-05 - acc: 1.0000 - val_loss: 5.3054 - val_acc: 0.3333\n",
      "Epoch 25/200\n",
      "15/15 [==============================] - 0s 10ms/step - loss: 5.1078e-05 - acc: 1.0000 - val_loss: 5.3306 - val_acc: 0.3333\n",
      "Epoch 26/200\n",
      "15/15 [==============================] - 0s 9ms/step - loss: 4.7485e-05 - acc: 1.0000 - val_loss: 5.3581 - val_acc: 0.3333\n",
      "Epoch 27/200\n",
      "15/15 [==============================] - 0s 10ms/step - loss: 4.4548e-05 - acc: 1.0000 - val_loss: 5.3677 - val_acc: 0.3333\n",
      "Epoch 28/200\n",
      "15/15 [==============================] - 0s 9ms/step - loss: 4.2386e-05 - acc: 1.0000 - val_loss: 5.3624 - val_acc: 0.3333\n",
      "Epoch 29/200\n",
      "15/15 [==============================] - 0s 10ms/step - loss: 3.8993e-05 - acc: 1.0000 - val_loss: 5.3993 - val_acc: 0.3333\n",
      "Epoch 30/200\n",
      "15/15 [==============================] - 0s 10ms/step - loss: 3.6848e-05 - acc: 1.0000 - val_loss: 5.4271 - val_acc: 0.3333\n",
      "Epoch 31/200\n",
      "15/15 [==============================] - 0s 10ms/step - loss: 3.4573e-05 - acc: 1.0000 - val_loss: 5.4523 - val_acc: 0.3333\n",
      "Epoch 32/200\n",
      "15/15 [==============================] - 0s 9ms/step - loss: 3.2479e-05 - acc: 1.0000 - val_loss: 5.4686 - val_acc: 0.3333\n",
      "Epoch 33/200\n",
      "15/15 [==============================] - 0s 9ms/step - loss: 3.1286e-05 - acc: 1.0000 - val_loss: 5.4732 - val_acc: 0.3333\n",
      "Epoch 34/200\n",
      "15/15 [==============================] - 0s 10ms/step - loss: 2.8449e-05 - acc: 1.0000 - val_loss: 5.4905 - val_acc: 0.3333\n",
      "Epoch 35/200\n",
      "15/15 [==============================] - 0s 9ms/step - loss: 2.6909e-05 - acc: 1.0000 - val_loss: 5.5041 - val_acc: 0.3333\n",
      "Epoch 36/200\n",
      "15/15 [==============================] - 0s 9ms/step - loss: 2.5283e-05 - acc: 1.0000 - val_loss: 5.5202 - val_acc: 0.3333\n",
      "Epoch 37/200\n",
      "15/15 [==============================] - 0s 9ms/step - loss: 2.3861e-05 - acc: 1.0000 - val_loss: 5.5337 - val_acc: 0.3333\n",
      "Epoch 38/200\n",
      "15/15 [==============================] - 0s 9ms/step - loss: 2.2702e-05 - acc: 1.0000 - val_loss: 5.5506 - val_acc: 0.3333\n",
      "Epoch 39/200\n",
      "15/15 [==============================] - 0s 9ms/step - loss: 2.1405e-05 - acc: 1.0000 - val_loss: 5.5707 - val_acc: 0.3333\n",
      "Epoch 40/200\n",
      "15/15 [==============================] - 0s 10ms/step - loss: 2.0065e-05 - acc: 1.0000 - val_loss: 5.5785 - val_acc: 0.3333\n",
      "Epoch 41/200\n",
      "15/15 [==============================] - 0s 9ms/step - loss: 1.9240e-05 - acc: 1.0000 - val_loss: 5.5913 - val_acc: 0.3333\n",
      "Epoch 42/200\n",
      "15/15 [==============================] - 0s 9ms/step - loss: 1.8070e-05 - acc: 1.0000 - val_loss: 5.6079 - val_acc: 0.3333\n",
      "Epoch 43/200\n",
      "15/15 [==============================] - 0s 10ms/step - loss: 1.7253e-05 - acc: 1.0000 - val_loss: 5.6169 - val_acc: 0.3333\n",
      "Epoch 44/200\n",
      "15/15 [==============================] - 0s 9ms/step - loss: 1.6273e-05 - acc: 1.0000 - val_loss: 5.6285 - val_acc: 0.3333\n",
      "Epoch 45/200\n",
      "15/15 [==============================] - 0s 9ms/step - loss: 1.5438e-05 - acc: 1.0000 - val_loss: 5.6433 - val_acc: 0.3333\n",
      "Epoch 46/200\n",
      "15/15 [==============================] - 0s 9ms/step - loss: 1.4835e-05 - acc: 1.0000 - val_loss: 5.6536 - val_acc: 0.3333\n",
      "Epoch 47/200\n",
      "15/15 [==============================] - 0s 9ms/step - loss: 1.4112e-05 - acc: 1.0000 - val_loss: 5.6659 - val_acc: 0.3333\n",
      "Epoch 48/200\n",
      "15/15 [==============================] - 0s 9ms/step - loss: 1.3384e-05 - acc: 1.0000 - val_loss: 5.6727 - val_acc: 0.3333\n",
      "Epoch 49/200\n",
      "15/15 [==============================] - 0s 9ms/step - loss: 1.2851e-05 - acc: 1.0000 - val_loss: 5.6826 - val_acc: 0.3333\n",
      "Epoch 50/200\n",
      "15/15 [==============================] - 0s 10ms/step - loss: 1.2105e-05 - acc: 1.0000 - val_loss: 5.6921 - val_acc: 0.3333\n",
      "Epoch 51/200\n",
      "15/15 [==============================] - 0s 9ms/step - loss: 1.1501e-05 - acc: 1.0000 - val_loss: 5.7113 - val_acc: 0.3333\n",
      "Epoch 52/200\n",
      "15/15 [==============================] - 0s 9ms/step - loss: 1.1107e-05 - acc: 1.0000 - val_loss: 5.7274 - val_acc: 0.3333\n",
      "Epoch 53/200\n",
      "15/15 [==============================] - 0s 9ms/step - loss: 1.0593e-05 - acc: 1.0000 - val_loss: 5.7394 - val_acc: 0.3333\n",
      "Epoch 54/200\n",
      "15/15 [==============================] - 0s 9ms/step - loss: 9.9435e-06 - acc: 1.0000 - val_loss: 5.7468 - val_acc: 0.3333\n",
      "Epoch 55/200\n",
      "15/15 [==============================] - 0s 10ms/step - loss: 9.4680e-06 - acc: 1.0000 - val_loss: 5.7556 - val_acc: 0.3333\n",
      "Epoch 56/200\n",
      "15/15 [==============================] - 0s 9ms/step - loss: 9.0044e-06 - acc: 1.0000 - val_loss: 5.7710 - val_acc: 0.3333\n",
      "Epoch 57/200\n",
      "15/15 [==============================] - 0s 10ms/step - loss: 8.6216e-06 - acc: 1.0000 - val_loss: 5.7842 - val_acc: 0.3333\n",
      "Epoch 58/200\n",
      "15/15 [==============================] - 0s 9ms/step - loss: 8.1726e-06 - acc: 1.0000 - val_loss: 5.7974 - val_acc: 0.3333\n",
      "Epoch 59/200\n",
      "15/15 [==============================] - 0s 9ms/step - loss: 7.8480e-06 - acc: 1.0000 - val_loss: 5.8152 - val_acc: 0.3333\n",
      "Epoch 60/200\n",
      "15/15 [==============================] - 0s 9ms/step - loss: 7.3394e-06 - acc: 1.0000 - val_loss: 5.8258 - val_acc: 0.3333\n",
      "Epoch 61/200\n"
     ]
    },
    {
     "name": "stdout",
     "output_type": "stream",
     "text": [
      "15/15 [==============================] - 0s 9ms/step - loss: 6.8983e-06 - acc: 1.0000 - val_loss: 5.8408 - val_acc: 0.3333\n",
      "Epoch 62/200\n",
      "15/15 [==============================] - 0s 9ms/step - loss: 6.5301e-06 - acc: 1.0000 - val_loss: 5.8506 - val_acc: 0.3333\n",
      "Epoch 63/200\n",
      "15/15 [==============================] - 0s 9ms/step - loss: 6.1632e-06 - acc: 1.0000 - val_loss: 5.8665 - val_acc: 0.3333\n",
      "Epoch 64/200\n",
      "15/15 [==============================] - 0s 9ms/step - loss: 5.8572e-06 - acc: 1.0000 - val_loss: 5.8779 - val_acc: 0.3333\n",
      "Epoch 65/200\n",
      "15/15 [==============================] - 0s 9ms/step - loss: 5.4837e-06 - acc: 1.0000 - val_loss: 5.8871 - val_acc: 0.3333\n",
      "Epoch 66/200\n",
      "15/15 [==============================] - 0s 10ms/step - loss: 5.2333e-06 - acc: 1.0000 - val_loss: 5.9038 - val_acc: 0.3333\n",
      "Epoch 67/200\n",
      "15/15 [==============================] - 0s 10ms/step - loss: 4.9750e-06 - acc: 1.0000 - val_loss: 5.9168 - val_acc: 0.3333\n",
      "Epoch 68/200\n",
      "15/15 [==============================] - 0s 9ms/step - loss: 4.7088e-06 - acc: 1.0000 - val_loss: 5.9264 - val_acc: 0.3333\n",
      "Epoch 69/200\n",
      "15/15 [==============================] - 0s 9ms/step - loss: 4.4333e-06 - acc: 1.0000 - val_loss: 5.9365 - val_acc: 0.3333\n",
      "Epoch 70/200\n",
      "15/15 [==============================] - 0s 9ms/step - loss: 4.1988e-06 - acc: 1.0000 - val_loss: 5.9414 - val_acc: 0.3333\n",
      "Epoch 71/200\n",
      "15/15 [==============================] - 0s 9ms/step - loss: 3.9829e-06 - acc: 1.0000 - val_loss: 5.9525 - val_acc: 0.3333\n",
      "Epoch 72/200\n",
      "15/15 [==============================] - 0s 9ms/step - loss: 3.7750e-06 - acc: 1.0000 - val_loss: 5.9625 - val_acc: 0.3333\n",
      "Epoch 73/200\n",
      "15/15 [==============================] - 0s 9ms/step - loss: 3.5975e-06 - acc: 1.0000 - val_loss: 5.9756 - val_acc: 0.3333\n",
      "Epoch 74/200\n",
      "15/15 [==============================] - 0s 9ms/step - loss: 3.4041e-06 - acc: 1.0000 - val_loss: 5.9816 - val_acc: 0.3333\n",
      "Epoch 75/200\n",
      "15/15 [==============================] - 0s 9ms/step - loss: 3.2094e-06 - acc: 1.0000 - val_loss: 5.9864 - val_acc: 0.3333\n",
      "Epoch 76/200\n",
      "15/15 [==============================] - 0s 9ms/step - loss: 3.1312e-06 - acc: 1.0000 - val_loss: 5.9977 - val_acc: 0.3333\n",
      "Epoch 77/200\n",
      "15/15 [==============================] - 0s 9ms/step - loss: 2.8716e-06 - acc: 1.0000 - val_loss: 6.0062 - val_acc: 0.3333\n",
      "Epoch 78/200\n",
      "15/15 [==============================] - 0s 9ms/step - loss: 2.6994e-06 - acc: 1.0000 - val_loss: 6.0181 - val_acc: 0.3333\n",
      "Epoch 79/200\n",
      "15/15 [==============================] - 0s 9ms/step - loss: 2.5670e-06 - acc: 1.0000 - val_loss: 6.0288 - val_acc: 0.3333\n",
      "Epoch 80/200\n",
      "15/15 [==============================] - 0s 9ms/step - loss: 2.3802e-06 - acc: 1.0000 - val_loss: 6.0371 - val_acc: 0.3333\n",
      "Epoch 81/200\n",
      "15/15 [==============================] - 0s 9ms/step - loss: 2.2756e-06 - acc: 1.0000 - val_loss: 6.0447 - val_acc: 0.3333\n",
      "Epoch 82/200\n",
      "15/15 [==============================] - 0s 9ms/step - loss: 2.1458e-06 - acc: 1.0000 - val_loss: 6.0524 - val_acc: 0.3333\n",
      "Epoch 83/200\n",
      "15/15 [==============================] - 0s 10ms/step - loss: 2.0133e-06 - acc: 1.0000 - val_loss: 6.0622 - val_acc: 0.3333\n",
      "Epoch 84/200\n",
      "15/15 [==============================] - 0s 9ms/step - loss: 1.9034e-06 - acc: 1.0000 - val_loss: 6.0728 - val_acc: 0.3333\n",
      "Epoch 85/200\n",
      "15/15 [==============================] - 0s 10ms/step - loss: 1.8080e-06 - acc: 1.0000 - val_loss: 6.0823 - val_acc: 0.3333\n",
      "Epoch 86/200\n",
      "15/15 [==============================] - 0s 9ms/step - loss: 1.7020e-06 - acc: 1.0000 - val_loss: 6.0927 - val_acc: 0.3333\n",
      "Epoch 87/200\n",
      "15/15 [==============================] - 0s 9ms/step - loss: 1.6160e-06 - acc: 1.0000 - val_loss: 6.1030 - val_acc: 0.3333\n",
      "Epoch 88/200\n",
      "15/15 [==============================] - 0s 9ms/step - loss: 1.5378e-06 - acc: 1.0000 - val_loss: 6.1082 - val_acc: 0.3333\n",
      "Epoch 89/200\n",
      "15/15 [==============================] - 0s 9ms/step - loss: 1.4464e-06 - acc: 1.0000 - val_loss: 6.1244 - val_acc: 0.3333\n",
      "Epoch 90/200\n",
      "15/15 [==============================] - 0s 10ms/step - loss: 1.3815e-06 - acc: 1.0000 - val_loss: 6.1364 - val_acc: 0.3333\n",
      "Epoch 91/200\n",
      "15/15 [==============================] - 0s 9ms/step - loss: 1.3325e-06 - acc: 1.0000 - val_loss: 6.1482 - val_acc: 0.3333\n",
      "Epoch 92/200\n",
      "15/15 [==============================] - 0s 10ms/step - loss: 1.2676e-06 - acc: 1.0000 - val_loss: 6.1526 - val_acc: 0.3333\n",
      "Epoch 93/200\n",
      "15/15 [==============================] - 0s 9ms/step - loss: 1.2000e-06 - acc: 1.0000 - val_loss: 6.1665 - val_acc: 0.3333\n",
      "Epoch 94/200\n",
      "15/15 [==============================] - 0s 10ms/step - loss: 1.1351e-06 - acc: 1.0000 - val_loss: 6.1755 - val_acc: 0.3333\n",
      "Epoch 95/200\n",
      "15/15 [==============================] - 0s 9ms/step - loss: 1.1073e-06 - acc: 1.0000 - val_loss: 6.1808 - val_acc: 0.3333\n",
      "Epoch 96/200\n",
      "15/15 [==============================] - 0s 9ms/step - loss: 1.0305e-06 - acc: 1.0000 - val_loss: 6.1909 - val_acc: 0.3333\n",
      "Epoch 97/200\n",
      "15/15 [==============================] - 0s 9ms/step - loss: 9.9739e-07 - acc: 1.0000 - val_loss: 6.2026 - val_acc: 0.3333\n",
      "Epoch 98/200\n",
      "15/15 [==============================] - 0s 9ms/step - loss: 9.5500e-07 - acc: 1.0000 - val_loss: 6.2060 - val_acc: 0.3333\n",
      "Epoch 99/200\n",
      "15/15 [==============================] - 0s 9ms/step - loss: 9.1129e-07 - acc: 1.0000 - val_loss: 6.2139 - val_acc: 0.3333\n",
      "Epoch 100/200\n",
      "15/15 [==============================] - 0s 10ms/step - loss: 8.7420e-07 - acc: 1.0000 - val_loss: 6.2171 - val_acc: 0.3333\n",
      "Epoch 101/200\n",
      "15/15 [==============================] - 0s 9ms/step - loss: 8.7155e-07 - acc: 1.0000 - val_loss: 6.2270 - val_acc: 0.3333\n",
      "Epoch 102/200\n",
      "15/15 [==============================] - 0s 9ms/step - loss: 8.0533e-07 - acc: 1.0000 - val_loss: 6.2315 - val_acc: 0.3333\n",
      "Epoch 103/200\n",
      "15/15 [==============================] - 0s 9ms/step - loss: 7.8413e-07 - acc: 1.0000 - val_loss: 6.2367 - val_acc: 0.3333\n",
      "Epoch 104/200\n",
      "15/15 [==============================] - 0s 9ms/step - loss: 7.5367e-07 - acc: 1.0000 - val_loss: 6.2405 - val_acc: 0.3333\n",
      "Epoch 105/200\n",
      "15/15 [==============================] - 0s 9ms/step - loss: 7.2585e-07 - acc: 1.0000 - val_loss: 6.2454 - val_acc: 0.3333\n",
      "Epoch 106/200\n",
      "15/15 [==============================] - 0s 9ms/step - loss: 6.9804e-07 - acc: 1.0000 - val_loss: 6.2528 - val_acc: 0.3333\n",
      "Epoch 107/200\n",
      "15/15 [==============================] - 0s 9ms/step - loss: 6.7684e-07 - acc: 1.0000 - val_loss: 6.2560 - val_acc: 0.3333\n",
      "Epoch 108/200\n",
      "15/15 [==============================] - 0s 9ms/step - loss: 6.5168e-07 - acc: 1.0000 - val_loss: 6.2631 - val_acc: 0.3333\n",
      "Epoch 109/200\n",
      "15/15 [==============================] - 0s 10ms/step - loss: 6.3446e-07 - acc: 1.0000 - val_loss: 6.2678 - val_acc: 0.3333\n",
      "Epoch 110/200\n",
      "15/15 [==============================] - 0s 9ms/step - loss: 6.1724e-07 - acc: 1.0000 - val_loss: 6.2720 - val_acc: 0.3333\n",
      "Epoch 111/200\n",
      "15/15 [==============================] - 0s 10ms/step - loss: 5.9605e-07 - acc: 1.0000 - val_loss: 6.2790 - val_acc: 0.3333\n",
      "Epoch 112/200\n",
      "15/15 [==============================] - 0s 9ms/step - loss: 5.8148e-07 - acc: 1.0000 - val_loss: 6.2867 - val_acc: 0.3333\n",
      "Epoch 113/200\n",
      "15/15 [==============================] - 0s 9ms/step - loss: 5.6028e-07 - acc: 1.0000 - val_loss: 6.2882 - val_acc: 0.3333\n",
      "Epoch 114/200\n",
      "15/15 [==============================] - 0s 9ms/step - loss: 5.4439e-07 - acc: 1.0000 - val_loss: 6.2974 - val_acc: 0.3333\n",
      "Epoch 115/200\n",
      "15/15 [==============================] - 0s 9ms/step - loss: 5.2320e-07 - acc: 1.0000 - val_loss: 6.3019 - val_acc: 0.3333\n",
      "Epoch 116/200\n",
      "15/15 [==============================] - 0s 9ms/step - loss: 5.1392e-07 - acc: 1.0000 - val_loss: 6.3043 - val_acc: 0.3333\n",
      "Epoch 117/200\n",
      "15/15 [==============================] - 0s 9ms/step - loss: 4.9803e-07 - acc: 1.0000 - val_loss: 6.3106 - val_acc: 0.3333\n",
      "Epoch 118/200\n",
      "15/15 [==============================] - 0s 9ms/step - loss: 4.8478e-07 - acc: 1.0000 - val_loss: 6.3125 - val_acc: 0.3333\n",
      "Epoch 119/200\n",
      "15/15 [==============================] - 0s 9ms/step - loss: 4.7419e-07 - acc: 1.0000 - val_loss: 6.3202 - val_acc: 0.3333\n",
      "Epoch 120/200\n",
      "15/15 [==============================] - 0s 9ms/step - loss: 4.5564e-07 - acc: 1.0000 - val_loss: 6.3235 - val_acc: 0.3333\n",
      "Epoch 121/200\n"
     ]
    },
    {
     "name": "stdout",
     "output_type": "stream",
     "text": [
      "15/15 [==============================] - 0s 9ms/step - loss: 4.4505e-07 - acc: 1.0000 - val_loss: 6.3272 - val_acc: 0.3333\n",
      "Epoch 122/200\n",
      "15/15 [==============================] - 0s 9ms/step - loss: 4.3843e-07 - acc: 1.0000 - val_loss: 6.3306 - val_acc: 0.3333\n",
      "Epoch 123/200\n",
      "15/15 [==============================] - 0s 9ms/step - loss: 4.2121e-07 - acc: 1.0000 - val_loss: 6.3371 - val_acc: 0.3333\n",
      "Epoch 124/200\n",
      "15/15 [==============================] - 0s 9ms/step - loss: 4.1326e-07 - acc: 1.0000 - val_loss: 6.3423 - val_acc: 0.3333\n",
      "Epoch 125/200\n",
      "15/15 [==============================] - 0s 9ms/step - loss: 4.0531e-07 - acc: 1.0000 - val_loss: 6.3487 - val_acc: 0.3333\n",
      "Epoch 126/200\n",
      "15/15 [==============================] - 0s 9ms/step - loss: 3.9604e-07 - acc: 1.0000 - val_loss: 6.3525 - val_acc: 0.3333\n",
      "Epoch 127/200\n",
      "15/15 [==============================] - 0s 10ms/step - loss: 3.8677e-07 - acc: 1.0000 - val_loss: 6.3566 - val_acc: 0.3333\n",
      "Epoch 128/200\n",
      "15/15 [==============================] - 0s 9ms/step - loss: 3.7750e-07 - acc: 1.0000 - val_loss: 6.3629 - val_acc: 0.3333\n",
      "Epoch 129/200\n",
      "15/15 [==============================] - 0s 9ms/step - loss: 3.7352e-07 - acc: 1.0000 - val_loss: 6.3684 - val_acc: 0.3333\n",
      "Epoch 130/200\n",
      "15/15 [==============================] - 0s 10ms/step - loss: 3.6425e-07 - acc: 1.0000 - val_loss: 6.3715 - val_acc: 0.3333\n",
      "Epoch 131/200\n",
      "15/15 [==============================] - 0s 10ms/step - loss: 3.5763e-07 - acc: 1.0000 - val_loss: 6.3766 - val_acc: 0.3333\n",
      "Epoch 132/200\n",
      "15/15 [==============================] - 0s 10ms/step - loss: 3.4836e-07 - acc: 1.0000 - val_loss: 6.3778 - val_acc: 0.3333\n",
      "Epoch 133/200\n",
      "15/15 [==============================] - 0s 10ms/step - loss: 3.4041e-07 - acc: 1.0000 - val_loss: 6.3816 - val_acc: 0.3333\n",
      "Epoch 134/200\n",
      "15/15 [==============================] - 0s 10ms/step - loss: 3.3776e-07 - acc: 1.0000 - val_loss: 6.3884 - val_acc: 0.3333\n",
      "Epoch 135/200\n",
      "15/15 [==============================] - 0s 10ms/step - loss: 3.3246e-07 - acc: 1.0000 - val_loss: 6.3919 - val_acc: 0.3333\n",
      "Epoch 136/200\n",
      "15/15 [==============================] - 0s 10ms/step - loss: 3.2319e-07 - acc: 1.0000 - val_loss: 6.3952 - val_acc: 0.3333\n",
      "Epoch 137/200\n",
      "15/15 [==============================] - 0s 10ms/step - loss: 3.2054e-07 - acc: 1.0000 - val_loss: 6.3987 - val_acc: 0.3333\n",
      "Epoch 138/200\n",
      "15/15 [==============================] - 0s 10ms/step - loss: 3.1259e-07 - acc: 1.0000 - val_loss: 6.4044 - val_acc: 0.3333\n",
      "Epoch 139/200\n",
      "15/15 [==============================] - 0s 10ms/step - loss: 3.0597e-07 - acc: 1.0000 - val_loss: 6.4084 - val_acc: 0.3333\n",
      "Epoch 140/200\n",
      "15/15 [==============================] - 0s 10ms/step - loss: 3.0200e-07 - acc: 1.0000 - val_loss: 6.4124 - val_acc: 0.3333\n",
      "Epoch 141/200\n",
      "15/15 [==============================] - 0s 10ms/step - loss: 2.9802e-07 - acc: 1.0000 - val_loss: 6.4188 - val_acc: 0.3333\n",
      "Epoch 142/200\n",
      "15/15 [==============================] - 0s 10ms/step - loss: 2.9140e-07 - acc: 1.0000 - val_loss: 6.4210 - val_acc: 0.3333\n",
      "Epoch 143/200\n",
      "15/15 [==============================] - 0s 10ms/step - loss: 2.8345e-07 - acc: 1.0000 - val_loss: 6.4247 - val_acc: 0.3333\n",
      "Epoch 144/200\n",
      "15/15 [==============================] - 0s 10ms/step - loss: 2.8080e-07 - acc: 1.0000 - val_loss: 6.4284 - val_acc: 0.3333\n",
      "Epoch 145/200\n",
      "15/15 [==============================] - 0s 10ms/step - loss: 2.7948e-07 - acc: 1.0000 - val_loss: 6.4329 - val_acc: 0.3333\n",
      "Epoch 146/200\n",
      "15/15 [==============================] - 0s 10ms/step - loss: 2.7683e-07 - acc: 1.0000 - val_loss: 6.4352 - val_acc: 0.3333\n",
      "Epoch 147/200\n",
      "15/15 [==============================] - 0s 10ms/step - loss: 2.7286e-07 - acc: 1.0000 - val_loss: 6.4367 - val_acc: 0.3333\n",
      "Epoch 148/200\n",
      "15/15 [==============================] - 0s 9ms/step - loss: 2.6623e-07 - acc: 1.0000 - val_loss: 6.4427 - val_acc: 0.3333\n",
      "Epoch 149/200\n",
      "15/15 [==============================] - 0s 10ms/step - loss: 2.6359e-07 - acc: 1.0000 - val_loss: 6.4449 - val_acc: 0.3333\n",
      "Epoch 150/200\n",
      "15/15 [==============================] - 0s 10ms/step - loss: 2.5961e-07 - acc: 1.0000 - val_loss: 6.4492 - val_acc: 0.3333\n",
      "Epoch 151/200\n",
      "15/15 [==============================] - 0s 10ms/step - loss: 2.5564e-07 - acc: 1.0000 - val_loss: 6.4525 - val_acc: 0.3333\n",
      "Epoch 152/200\n",
      "15/15 [==============================] - 0s 10ms/step - loss: 2.5166e-07 - acc: 1.0000 - val_loss: 6.4590 - val_acc: 0.3333\n",
      "Epoch 153/200\n",
      "15/15 [==============================] - 0s 10ms/step - loss: 2.4769e-07 - acc: 1.0000 - val_loss: 6.4604 - val_acc: 0.3333\n",
      "Epoch 154/200\n",
      "15/15 [==============================] - 0s 10ms/step - loss: 2.4504e-07 - acc: 1.0000 - val_loss: 6.4640 - val_acc: 0.3333\n",
      "Epoch 155/200\n",
      "15/15 [==============================] - 0s 10ms/step - loss: 2.4107e-07 - acc: 1.0000 - val_loss: 6.4665 - val_acc: 0.3333\n",
      "Epoch 156/200\n",
      "15/15 [==============================] - 0s 10ms/step - loss: 2.4107e-07 - acc: 1.0000 - val_loss: 6.4725 - val_acc: 0.3333\n",
      "Epoch 157/200\n",
      "15/15 [==============================] - 0s 10ms/step - loss: 2.3577e-07 - acc: 1.0000 - val_loss: 6.4727 - val_acc: 0.3333\n",
      "Epoch 158/200\n",
      "15/15 [==============================] - 0s 10ms/step - loss: 2.3180e-07 - acc: 1.0000 - val_loss: 6.4754 - val_acc: 0.3333\n",
      "Epoch 159/200\n",
      "15/15 [==============================] - 0s 10ms/step - loss: 2.2782e-07 - acc: 1.0000 - val_loss: 6.4785 - val_acc: 0.3333\n",
      "Epoch 160/200\n",
      "15/15 [==============================] - 0s 10ms/step - loss: 2.2517e-07 - acc: 1.0000 - val_loss: 6.4853 - val_acc: 0.3333\n",
      "Epoch 161/200\n",
      "15/15 [==============================] - 0s 10ms/step - loss: 2.2120e-07 - acc: 1.0000 - val_loss: 6.4886 - val_acc: 0.3333\n",
      "Epoch 162/200\n",
      "15/15 [==============================] - 0s 10ms/step - loss: 2.2120e-07 - acc: 1.0000 - val_loss: 6.4923 - val_acc: 0.3333\n",
      "Epoch 163/200\n",
      "15/15 [==============================] - 0s 10ms/step - loss: 2.1590e-07 - acc: 1.0000 - val_loss: 6.4946 - val_acc: 0.3333\n",
      "Epoch 164/200\n",
      "15/15 [==============================] - 0s 10ms/step - loss: 2.1590e-07 - acc: 1.0000 - val_loss: 6.4968 - val_acc: 0.3333\n",
      "Epoch 165/200\n",
      "15/15 [==============================] - 0s 10ms/step - loss: 2.1325e-07 - acc: 1.0000 - val_loss: 6.5004 - val_acc: 0.3333\n",
      "Epoch 166/200\n",
      "15/15 [==============================] - 0s 10ms/step - loss: 2.1193e-07 - acc: 1.0000 - val_loss: 6.5030 - val_acc: 0.3333\n",
      "Epoch 167/200\n",
      "15/15 [==============================] - 0s 10ms/step - loss: 2.1060e-07 - acc: 1.0000 - val_loss: 6.5074 - val_acc: 0.3333\n",
      "Epoch 168/200\n",
      "15/15 [==============================] - 0s 10ms/step - loss: 2.0795e-07 - acc: 1.0000 - val_loss: 6.5091 - val_acc: 0.3333\n",
      "Epoch 169/200\n",
      "15/15 [==============================] - 0s 10ms/step - loss: 2.0530e-07 - acc: 1.0000 - val_loss: 6.5132 - val_acc: 0.3333\n",
      "Epoch 170/200\n",
      "15/15 [==============================] - 0s 10ms/step - loss: 2.0266e-07 - acc: 1.0000 - val_loss: 6.5159 - val_acc: 0.3333\n",
      "Epoch 171/200\n",
      "15/15 [==============================] - 0s 10ms/step - loss: 1.9868e-07 - acc: 1.0000 - val_loss: 6.5188 - val_acc: 0.3333\n",
      "Epoch 172/200\n",
      "15/15 [==============================] - 0s 10ms/step - loss: 1.9868e-07 - acc: 1.0000 - val_loss: 6.5242 - val_acc: 0.3333\n",
      "Epoch 173/200\n",
      "15/15 [==============================] - 0s 10ms/step - loss: 1.9603e-07 - acc: 1.0000 - val_loss: 6.5268 - val_acc: 0.3333\n",
      "Epoch 174/200\n",
      "15/15 [==============================] - 0s 10ms/step - loss: 1.9603e-07 - acc: 1.0000 - val_loss: 6.5317 - val_acc: 0.3333\n",
      "Epoch 175/200\n",
      "15/15 [==============================] - 0s 10ms/step - loss: 1.9338e-07 - acc: 1.0000 - val_loss: 6.5336 - val_acc: 0.3333\n",
      "Epoch 176/200\n",
      "15/15 [==============================] - 0s 10ms/step - loss: 1.9338e-07 - acc: 1.0000 - val_loss: 6.5350 - val_acc: 0.3333\n",
      "Epoch 177/200\n",
      "15/15 [==============================] - 0s 10ms/step - loss: 1.9073e-07 - acc: 1.0000 - val_loss: 6.5379 - val_acc: 0.3333\n",
      "Epoch 178/200\n",
      "15/15 [==============================] - 0s 10ms/step - loss: 1.8941e-07 - acc: 1.0000 - val_loss: 6.5407 - val_acc: 0.3333\n",
      "Epoch 179/200\n",
      "15/15 [==============================] - 0s 10ms/step - loss: 1.8809e-07 - acc: 1.0000 - val_loss: 6.5417 - val_acc: 0.3333\n",
      "Epoch 180/200\n"
     ]
    },
    {
     "name": "stdout",
     "output_type": "stream",
     "text": [
      "15/15 [==============================] - 0s 10ms/step - loss: 1.8279e-07 - acc: 1.0000 - val_loss: 6.5460 - val_acc: 0.3333\n",
      "Epoch 181/200\n",
      "15/15 [==============================] - 0s 9ms/step - loss: 1.8279e-07 - acc: 1.0000 - val_loss: 6.5480 - val_acc: 0.3333\n",
      "Epoch 182/200\n",
      "15/15 [==============================] - 0s 10ms/step - loss: 1.8146e-07 - acc: 1.0000 - val_loss: 6.5510 - val_acc: 0.3333\n",
      "Epoch 183/200\n",
      "15/15 [==============================] - 0s 9ms/step - loss: 1.8014e-07 - acc: 1.0000 - val_loss: 6.5555 - val_acc: 0.3333\n",
      "Epoch 184/200\n",
      "15/15 [==============================] - 0s 10ms/step - loss: 1.8014e-07 - acc: 1.0000 - val_loss: 6.5575 - val_acc: 0.2667\n",
      "Epoch 185/200\n",
      "15/15 [==============================] - 0s 10ms/step - loss: 1.7881e-07 - acc: 1.0000 - val_loss: 6.5610 - val_acc: 0.2667\n",
      "Epoch 186/200\n",
      "15/15 [==============================] - 0s 10ms/step - loss: 1.7881e-07 - acc: 1.0000 - val_loss: 6.5627 - val_acc: 0.2667\n",
      "Epoch 187/200\n",
      "15/15 [==============================] - 0s 10ms/step - loss: 1.7749e-07 - acc: 1.0000 - val_loss: 6.5649 - val_acc: 0.2667\n",
      "Epoch 188/200\n",
      "15/15 [==============================] - 0s 9ms/step - loss: 1.7352e-07 - acc: 1.0000 - val_loss: 6.5688 - val_acc: 0.2667\n",
      "Epoch 189/200\n",
      "15/15 [==============================] - 0s 9ms/step - loss: 1.7087e-07 - acc: 1.0000 - val_loss: 6.5714 - val_acc: 0.2667\n",
      "Epoch 190/200\n",
      "15/15 [==============================] - 0s 10ms/step - loss: 1.7087e-07 - acc: 1.0000 - val_loss: 6.5742 - val_acc: 0.2667\n",
      "Epoch 191/200\n",
      "15/15 [==============================] - 0s 10ms/step - loss: 1.6954e-07 - acc: 1.0000 - val_loss: 6.5775 - val_acc: 0.2667\n",
      "Epoch 192/200\n",
      "15/15 [==============================] - 0s 9ms/step - loss: 1.6822e-07 - acc: 1.0000 - val_loss: 6.5814 - val_acc: 0.2667\n",
      "Epoch 193/200\n",
      "15/15 [==============================] - 0s 10ms/step - loss: 1.6689e-07 - acc: 1.0000 - val_loss: 6.5839 - val_acc: 0.2667\n",
      "Epoch 194/200\n",
      "15/15 [==============================] - 0s 10ms/step - loss: 1.6689e-07 - acc: 1.0000 - val_loss: 6.5851 - val_acc: 0.2667\n",
      "Epoch 195/200\n",
      "15/15 [==============================] - 0s 10ms/step - loss: 1.6689e-07 - acc: 1.0000 - val_loss: 6.5874 - val_acc: 0.2667\n",
      "Epoch 196/200\n",
      "15/15 [==============================] - 0s 10ms/step - loss: 1.6557e-07 - acc: 1.0000 - val_loss: 6.5898 - val_acc: 0.2667\n",
      "Epoch 197/200\n",
      "15/15 [==============================] - 0s 9ms/step - loss: 1.6557e-07 - acc: 1.0000 - val_loss: 6.5939 - val_acc: 0.2667\n",
      "Epoch 198/200\n",
      "15/15 [==============================] - 0s 10ms/step - loss: 1.6292e-07 - acc: 1.0000 - val_loss: 6.5959 - val_acc: 0.2667\n",
      "Epoch 199/200\n",
      "15/15 [==============================] - 0s 10ms/step - loss: 1.6159e-07 - acc: 1.0000 - val_loss: 6.5982 - val_acc: 0.2667\n",
      "Epoch 200/200\n",
      "15/15 [==============================] - 0s 10ms/step - loss: 1.6292e-07 - acc: 1.0000 - val_loss: 6.6017 - val_acc: 0.2667\n"
     ]
    },
    {
     "data": {
      "text/plain": [
       "<keras.callbacks.History at 0x12e89a19948>"
      ]
     },
     "execution_count": 7,
     "metadata": {},
     "output_type": "execute_result"
    }
   ],
   "source": [
    "model.fit_generator(\n",
    "        train_generator,\n",
    "        steps_per_epoch=15,\n",
    "        epochs=200,\n",
    "        validation_data=test_generator,\n",
    "        validation_steps=5)"
   ]
  },
  {
   "cell_type": "markdown",
   "metadata": {
    "colab_type": "text",
    "id": "uT9NEiI-uy52"
   },
   "source": [
    "### 모델 평가하기"
   ]
  },
  {
   "cell_type": "code",
   "execution_count": 8,
   "metadata": {
    "colab": {
     "base_uri": "https://localhost:8080/",
     "height": 53
    },
    "colab_type": "code",
    "id": "XZ8jXxlIu1SE",
    "outputId": "d27cd618-d626-4874-d6fe-03cd36b7d393"
   },
   "outputs": [
    {
     "name": "stdout",
     "output_type": "stream",
     "text": [
      "-- Evaluate --\n",
      "acc: 26.67%\n"
     ]
    }
   ],
   "source": [
    "print(\"-- Evaluate --\")\n",
    "scores = model.evaluate_generator(test_generator, steps=5)\n",
    "print(\"%s: %.2f%%\" %(model.metrics_names[1], scores[1]*100))"
   ]
  },
  {
   "cell_type": "markdown",
   "metadata": {
    "colab_type": "text",
    "id": "QTlRD9Mqu9K6"
   },
   "source": [
    "### 모델 사용하기"
   ]
  },
  {
   "cell_type": "code",
   "execution_count": 9,
   "metadata": {
    "colab": {
     "base_uri": "https://localhost:8080/",
     "height": 323
    },
    "colab_type": "code",
    "id": "Wabhqvy-u48Q",
    "outputId": "abb1e734-766a-45dc-b25b-c9b2c8d38a8d"
   },
   "outputs": [
    {
     "name": "stdout",
     "output_type": "stream",
     "text": [
      "-- Predict --\n",
      "{'circle': 0, 'rectangle': 1, 'triangle': 2}\n",
      "[[0.000 0.000 1.000]\n",
      " [0.001 0.000 0.999]\n",
      " [0.515 0.000 0.485]\n",
      " [0.143 0.000 0.857]\n",
      " [0.000 0.000 1.000]\n",
      " [0.105 0.001 0.894]\n",
      " [0.000 0.002 0.998]\n",
      " [0.000 0.000 1.000]\n",
      " [0.000 0.000 1.000]\n",
      " [0.000 0.007 0.993]\n",
      " [0.004 0.000 0.996]\n",
      " [0.000 0.000 1.000]\n",
      " [0.932 0.001 0.067]\n",
      " [0.000 0.000 1.000]\n",
      " [0.000 0.005 0.995]]\n"
     ]
    }
   ],
   "source": [
    "print(\"-- Predict --\")\n",
    "output = model.predict_generator(test_generator, steps=5)\n",
    "np.set_printoptions(formatter={'float': lambda x: \"{0:0.3f}\".format(x)})\n",
    "print(test_generator.class_indices)\n",
    "print(output)"
   ]
  },
  {
   "cell_type": "code",
   "execution_count": 0,
   "metadata": {
    "colab": {},
    "colab_type": "code",
    "id": "jVItItOmvZOJ"
   },
   "outputs": [],
   "source": []
  }
 ],
 "metadata": {
  "colab": {
   "collapsed_sections": [],
   "name": "PolygonClassfication_02_HardTest.ipynb",
   "provenance": [],
   "version": "0.3.2"
  },
  "kernelspec": {
   "display_name": "Python 3",
   "language": "python",
   "name": "python3"
  },
  "language_info": {
   "codemirror_mode": {
    "name": "ipython",
    "version": 3
   },
   "file_extension": ".py",
   "mimetype": "text/x-python",
   "name": "python",
   "nbconvert_exporter": "python",
   "pygments_lexer": "ipython3",
   "version": "3.7.4"
  }
 },
 "nbformat": 4,
 "nbformat_minor": 1
}
