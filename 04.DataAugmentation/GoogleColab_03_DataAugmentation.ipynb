{
 "cells": [
  {
   "cell_type": "markdown",
   "metadata": {
    "colab_type": "text",
    "id": "3rG34xrNgE7I"
   },
   "source": [
    "# 원, 삼각형, 사각형 구분하기\n",
    "## 구글 코랩에서 작업\n",
    "## 3. Data Augmentation을 사용한 CNN 모델"
   ]
  },
  {
   "cell_type": "code",
   "execution_count": 0,
   "metadata": {
    "colab": {},
    "colab_type": "code",
    "id": "bwA2Lk7gilA1"
   },
   "outputs": [],
   "source": [
    "import numpy as np\n",
    "from keras.models import Sequential\n",
    "from keras.layers import Dense\n",
    "from keras.layers import Flatten\n",
    "from keras.layers.convolutional import Conv2D\n",
    "from keras.layers.convolutional import MaxPooling2D\n",
    "from keras.preprocessing.image import ImageDataGenerator\n",
    "\n",
    "# 랜덤시드 고정시키기\n",
    "np.random.seed(5)"
   ]
  },
  {
   "cell_type": "markdown",
   "metadata": {
    "colab_type": "text",
    "id": "SjsMBcR0pnzv"
   },
   "source": [
    "### 데이터 부풀리기(Augmentation)"
   ]
  },
  {
   "cell_type": "code",
   "execution_count": 0,
   "metadata": {
    "colab": {},
    "colab_type": "code",
    "id": "aXdBt1YT11ud"
   },
   "outputs": [],
   "source": [
    "from keras.preprocessing.image import ImageDataGenerator, array_to_img, img_to_array, load_img"
   ]
  },
  {
   "cell_type": "code",
   "execution_count": 0,
   "metadata": {
    "colab": {},
    "colab_type": "code",
    "id": "25auo8TE264v"
   },
   "outputs": [],
   "source": [
    "!mkdir preview"
   ]
  },
  {
   "cell_type": "code",
   "execution_count": null,
   "metadata": {},
   "outputs": [],
   "source": [
    "train_datagen = ImageDataGenerator(rescale=1./255, \n",
    "                                   rotation_range=15,\n",
    "                                   width_shift_range=0.1,\n",
    "                                   height_shift_range=0.1,\n",
    "                                   shear_range=0.5,\n",
    "                                   zoom_range=[0.8, 2.0],\n",
    "                                   horizontal_flip=True,\n",
    "                                   vertical_flip=True,\n",
    "                                   fill_mode='nearest')"
   ]
  },
  {
   "cell_type": "code",
   "execution_count": 0,
   "metadata": {
    "colab": {},
    "colab_type": "code",
    "id": "9Ffv4Qcfkxd0"
   },
   "outputs": [],
   "source": [
    "data_aug_gen = ImageDataGenerator(rescale=1./255, \n",
    "                                  rotation_range=15,\n",
    "                                  width_shift_range=0.1,\n",
    "                                  height_shift_range=0.1,\n",
    "                                  shear_range=0.5,\n",
    "                                  zoom_range=[0.8, 2.0],\n",
    "                                  horizontal_flip=True,\n",
    "                                  vertical_flip=True,\n",
    "                                  fill_mode='nearest')\n",
    "                                   \n",
    "img = load_img('hard_handwriting_shape/train/triangle/triangle001.png')\n",
    "x = img_to_array(img)\n",
    "x = x.reshape((1,) + x.shape)\n",
    "\n",
    "i = 0\n",
    "\n",
    "# 무한 for loop이니 주의!!!\n",
    "for batch in train_datagen.flow(x, batch_size=1, save_to_dir='preview', save_prefix='tri', save_format='png'):\n",
    "    i += 1\n",
    "    if i > 30: \n",
    "        break"
   ]
  },
  {
   "cell_type": "markdown",
   "metadata": {
    "colab_type": "text",
    "id": "2VFAvDns3n9d"
   },
   "source": [
    "### 데이터셋 생성하기"
   ]
  },
  {
   "cell_type": "code",
   "execution_count": 40,
   "metadata": {
    "colab": {
     "base_uri": "https://localhost:8080/",
     "height": 53
    },
    "colab_type": "code",
    "id": "g8ZZac3U3nWj",
    "outputId": "d6911fa9-f142-489d-aaac-c442e2a563b1"
   },
   "outputs": [
    {
     "name": "stdout",
     "output_type": "stream",
     "text": [
      "Found 45 images belonging to 3 classes.\n",
      "Found 15 images belonging to 3 classes.\n"
     ]
    }
   ],
   "source": [
    "train_generator = train_datagen.flow_from_directory(\n",
    "        'hard_handwriting_shape/train',\n",
    "        target_size=(24, 24),\n",
    "        batch_size=3,\n",
    "        class_mode='categorical')\n",
    "\n",
    "test_datagen = ImageDataGenerator(rescale=1./255)\n",
    "\n",
    "test_generator = test_datagen.flow_from_directory(\n",
    "        'hard_handwriting_shape/test',\n",
    "        target_size=(24, 24),    \n",
    "        batch_size=3,\n",
    "        class_mode='categorical')"
   ]
  },
  {
   "cell_type": "markdown",
   "metadata": {
    "colab_type": "text",
    "id": "K88bSm6wpwsK"
   },
   "source": [
    "### 모델 구성하기"
   ]
  },
  {
   "cell_type": "code",
   "execution_count": 41,
   "metadata": {
    "colab": {
     "base_uri": "https://localhost:8080/",
     "height": 377
    },
    "colab_type": "code",
    "id": "G5TOCJzIpVfR",
    "outputId": "50fcbc1c-f6b5-4923-9e24-0e29f5da5f38"
   },
   "outputs": [
    {
     "name": "stdout",
     "output_type": "stream",
     "text": [
      "Model: \"sequential_4\"\n",
      "_________________________________________________________________\n",
      "Layer (type)                 Output Shape              Param #   \n",
      "=================================================================\n",
      "conv2d_7 (Conv2D)            (None, 22, 22, 32)        896       \n",
      "_________________________________________________________________\n",
      "conv2d_8 (Conv2D)            (None, 20, 20, 64)        18496     \n",
      "_________________________________________________________________\n",
      "max_pooling2d_4 (MaxPooling2 (None, 10, 10, 64)        0         \n",
      "_________________________________________________________________\n",
      "flatten_4 (Flatten)          (None, 6400)              0         \n",
      "_________________________________________________________________\n",
      "dense_7 (Dense)              (None, 128)               819328    \n",
      "_________________________________________________________________\n",
      "dense_8 (Dense)              (None, 3)                 387       \n",
      "=================================================================\n",
      "Total params: 839,107\n",
      "Trainable params: 839,107\n",
      "Non-trainable params: 0\n",
      "_________________________________________________________________\n"
     ]
    }
   ],
   "source": [
    "model = Sequential()\n",
    "model.add(Conv2D(32, kernel_size=(3, 3),\n",
    "                 activation='relu', input_shape=(24,24,3)))\n",
    "model.add(Conv2D(64, (3, 3), activation='relu'))\n",
    "model.add(MaxPooling2D(pool_size=(2, 2)))\n",
    "model.add(Flatten())\n",
    "model.add(Dense(128, activation='relu'))\n",
    "model.add(Dense(3, activation='softmax'))\n",
    "model.summary()"
   ]
  },
  {
   "cell_type": "markdown",
   "metadata": {
    "colab_type": "text",
    "id": "-dSTofz2qE8y"
   },
   "source": [
    "### 모델 그래프로 보기"
   ]
  },
  {
   "cell_type": "code",
   "execution_count": 42,
   "metadata": {
    "colab": {
     "base_uri": "https://localhost:8080/",
     "height": 754
    },
    "colab_type": "code",
    "id": "-mtwCBkDqH72",
    "outputId": "ef160fb5-bb09-433c-e564-89c0645f7d6e"
   },
   "outputs": [
    {
     "data": {
      "image/png": "[encoded data removed]",
      "text/plain": [
       "<IPython.core.display.Image object>"
      ]
     },
     "execution_count": 42,
     "metadata": {
      "tags": []
     },
     "output_type": "execute_result"
    }
   ],
   "source": [
    "from keras.utils import plot_model\n",
    "plot_model(model, show_shapes=True)    # to_file='filename.png'"
   ]
  },
  {
   "cell_type": "markdown",
   "metadata": {
    "colab_type": "text",
    "id": "wrjhuhJ2tEeA"
   },
   "source": [
    "### 모델 학습과정 설정하기"
   ]
  },
  {
   "cell_type": "code",
   "execution_count": 0,
   "metadata": {
    "colab": {},
    "colab_type": "code",
    "id": "hBUFfHV6sSRW"
   },
   "outputs": [],
   "source": [
    "model.compile(loss='categorical_crossentropy', optimizer='adam', metrics=['accuracy'])"
   ]
  },
  {
   "cell_type": "markdown",
   "metadata": {
    "colab_type": "text",
    "id": "sZ_WQ05itPr9"
   },
   "source": [
    "### 모델 학습시키기\n",
    "- 첫번째 인자 : 훈련데이터셋을 제공할 제네레이터를 지정. 본 예제에서는 앞서 생성한 train_generator으로 지정.\n",
    "- steps_per_epoch : 한 epoch에 사용한 스텝 수를 지정. 총 45개의 훈련 샘플이 있고 배치사이즈가 3이므로 15 스텝으로 지정.\n",
    "- epochs : 전체 훈련 데이터셋에 대해 학습 반복 횟수를 지정. 100번을 반복적으로 학습.\n",
    "- validation_data : 검증데이터셋을 제공할 제네레이터를 지정. 본 예제에서는 앞서 생성한 validation_generator으로 지정.\n",
    "- validation_steps : 한 epoch 종료 시 마다 검증할 때 사용되는 검증 스텝 수를 지정. 홍 15개의 검증 샘플이 있고 배치사이즈가 3이므로 5 스텝으로 지정."
   ]
  },
  {
   "cell_type": "code",
   "execution_count": 44,
   "metadata": {
    "colab": {
     "base_uri": "https://localhost:8080/",
     "height": 1000
    },
    "colab_type": "code",
    "id": "oMzc0kFdtLMY",
    "outputId": "820a8ed5-d798-4b67-bac7-bb1b9384ab93"
   },
   "outputs": [
    {
     "name": "stdout",
     "output_type": "stream",
     "text": [
      "Epoch 1/200\n",
      "15/15 [==============================] - 1s 55ms/step - loss: 1.2607 - acc: 0.3778 - val_loss: 1.0624 - val_acc: 0.6000\n",
      "Epoch 2/200\n",
      "15/15 [==============================] - 0s 25ms/step - loss: 1.0128 - acc: 0.4889 - val_loss: 1.0663 - val_acc: 0.3333\n",
      "Epoch 3/200\n",
      "15/15 [==============================] - 0s 23ms/step - loss: 0.8514 - acc: 0.5778 - val_loss: 1.0753 - val_acc: 0.5333\n",
      "Epoch 4/200\n",
      "15/15 [==============================] - 0s 28ms/step - loss: 0.7107 - acc: 0.6889 - val_loss: 1.1228 - val_acc: 0.6000\n",
      "Epoch 5/200\n",
      "15/15 [==============================] - 0s 29ms/step - loss: 0.6534 - acc: 0.7333 - val_loss: 1.3058 - val_acc: 0.5333\n",
      "Epoch 6/200\n",
      "15/15 [==============================] - 0s 28ms/step - loss: 0.6461 - acc: 0.7556 - val_loss: 1.0201 - val_acc: 0.5333\n",
      "Epoch 7/200\n",
      "15/15 [==============================] - 0s 30ms/step - loss: 0.6437 - acc: 0.6889 - val_loss: 1.4227 - val_acc: 0.4667\n",
      "Epoch 8/200\n",
      "15/15 [==============================] - 0s 27ms/step - loss: 0.4134 - acc: 0.8889 - val_loss: 1.5376 - val_acc: 0.4667\n",
      "Epoch 9/200\n",
      "15/15 [==============================] - 0s 23ms/step - loss: 0.5134 - acc: 0.8222 - val_loss: 1.4089 - val_acc: 0.6667\n",
      "Epoch 10/200\n",
      "15/15 [==============================] - 0s 27ms/step - loss: 0.2574 - acc: 0.9556 - val_loss: 1.8620 - val_acc: 0.6000\n",
      "Epoch 11/200\n",
      "15/15 [==============================] - 0s 24ms/step - loss: 0.3266 - acc: 0.8667 - val_loss: 2.6599 - val_acc: 0.4667\n",
      "Epoch 12/200\n",
      "15/15 [==============================] - 0s 28ms/step - loss: 0.3462 - acc: 0.8667 - val_loss: 2.4746 - val_acc: 0.5333\n",
      "Epoch 13/200\n",
      "15/15 [==============================] - 0s 29ms/step - loss: 0.1747 - acc: 0.9556 - val_loss: 1.6922 - val_acc: 0.5333\n",
      "Epoch 14/200\n",
      "15/15 [==============================] - 0s 28ms/step - loss: 0.1961 - acc: 0.9333 - val_loss: 3.0702 - val_acc: 0.5333\n",
      "Epoch 15/200\n",
      "15/15 [==============================] - 0s 28ms/step - loss: 0.1380 - acc: 0.9556 - val_loss: 3.4350 - val_acc: 0.5333\n",
      "Epoch 16/200\n",
      "15/15 [==============================] - 0s 28ms/step - loss: 0.1990 - acc: 0.9333 - val_loss: 1.8573 - val_acc: 0.5333\n",
      "Epoch 17/200\n",
      "15/15 [==============================] - 0s 29ms/step - loss: 0.1479 - acc: 0.9556 - val_loss: 2.3429 - val_acc: 0.5333\n",
      "Epoch 18/200\n",
      "15/15 [==============================] - 0s 28ms/step - loss: 0.2179 - acc: 0.9556 - val_loss: 2.4966 - val_acc: 0.5333\n",
      "Epoch 19/200\n",
      "15/15 [==============================] - 0s 28ms/step - loss: 0.0977 - acc: 0.9778 - val_loss: 1.7213 - val_acc: 0.5333\n",
      "Epoch 20/200\n",
      "15/15 [==============================] - 0s 29ms/step - loss: 0.1688 - acc: 0.9333 - val_loss: 1.8060 - val_acc: 0.5333\n",
      "Epoch 21/200\n",
      "15/15 [==============================] - 0s 28ms/step - loss: 0.1591 - acc: 0.9333 - val_loss: 2.3648 - val_acc: 0.5333\n",
      "Epoch 22/200\n",
      "15/15 [==============================] - 0s 28ms/step - loss: 0.2854 - acc: 0.8667 - val_loss: 1.3412 - val_acc: 0.7333\n",
      "Epoch 23/200\n",
      "15/15 [==============================] - 0s 28ms/step - loss: 0.3102 - acc: 0.9111 - val_loss: 1.9097 - val_acc: 0.6667\n",
      "Epoch 24/200\n",
      "15/15 [==============================] - 0s 24ms/step - loss: 0.0942 - acc: 0.9778 - val_loss: 3.0432 - val_acc: 0.6000\n",
      "Epoch 25/200\n",
      "15/15 [==============================] - 0s 26ms/step - loss: 0.0540 - acc: 0.9556 - val_loss: 3.4689 - val_acc: 0.5333\n",
      "Epoch 26/200\n",
      "15/15 [==============================] - 0s 29ms/step - loss: 0.4900 - acc: 0.8667 - val_loss: 2.2299 - val_acc: 0.6000\n",
      "Epoch 27/200\n",
      "15/15 [==============================] - 0s 23ms/step - loss: 0.2638 - acc: 0.9556 - val_loss: 1.2470 - val_acc: 0.6667\n",
      "Epoch 28/200\n",
      "15/15 [==============================] - 0s 28ms/step - loss: 0.2627 - acc: 0.8667 - val_loss: 1.6173 - val_acc: 0.6000\n",
      "Epoch 29/200\n",
      "15/15 [==============================] - 0s 29ms/step - loss: 0.1110 - acc: 0.9556 - val_loss: 1.8313 - val_acc: 0.6000\n",
      "Epoch 30/200\n",
      "15/15 [==============================] - 0s 28ms/step - loss: 0.1732 - acc: 0.9333 - val_loss: 2.2616 - val_acc: 0.6000\n",
      "Epoch 31/200\n",
      "15/15 [==============================] - 0s 28ms/step - loss: 0.2457 - acc: 0.9111 - val_loss: 1.5762 - val_acc: 0.6667\n",
      "Epoch 32/200\n",
      "15/15 [==============================] - 0s 30ms/step - loss: 0.2686 - acc: 0.9333 - val_loss: 1.8217 - val_acc: 0.6000\n",
      "Epoch 33/200\n",
      "15/15 [==============================] - 0s 27ms/step - loss: 0.1598 - acc: 0.9556 - val_loss: 1.4446 - val_acc: 0.6667\n",
      "Epoch 34/200\n",
      "15/15 [==============================] - 0s 28ms/step - loss: 0.1141 - acc: 0.9778 - val_loss: 1.5364 - val_acc: 0.5333\n",
      "Epoch 35/200\n",
      "15/15 [==============================] - 0s 23ms/step - loss: 0.0575 - acc: 1.0000 - val_loss: 1.6046 - val_acc: 0.6667\n",
      "Epoch 36/200\n",
      "15/15 [==============================] - 0s 24ms/step - loss: 0.0359 - acc: 0.9778 - val_loss: 1.7055 - val_acc: 0.6667\n",
      "Epoch 37/200\n",
      "15/15 [==============================] - 0s 28ms/step - loss: 0.0610 - acc: 0.9778 - val_loss: 2.1165 - val_acc: 0.6000\n",
      "Epoch 38/200\n",
      "15/15 [==============================] - 0s 28ms/step - loss: 0.0235 - acc: 1.0000 - val_loss: 2.8257 - val_acc: 0.6000\n",
      "Epoch 39/200\n",
      "15/15 [==============================] - 0s 28ms/step - loss: 0.0234 - acc: 1.0000 - val_loss: 2.4173 - val_acc: 0.6000\n",
      "Epoch 40/200\n",
      "15/15 [==============================] - 0s 28ms/step - loss: 0.0519 - acc: 0.9778 - val_loss: 2.9580 - val_acc: 0.6000\n",
      "Epoch 41/200\n",
      "15/15 [==============================] - 0s 29ms/step - loss: 0.0458 - acc: 0.9778 - val_loss: 3.8903 - val_acc: 0.6000\n",
      "Epoch 42/200\n",
      "15/15 [==============================] - 0s 28ms/step - loss: 0.0467 - acc: 1.0000 - val_loss: 3.6188 - val_acc: 0.6000\n",
      "Epoch 43/200\n",
      "15/15 [==============================] - 0s 23ms/step - loss: 0.0061 - acc: 1.0000 - val_loss: 3.6228 - val_acc: 0.6000\n",
      "Epoch 44/200\n",
      "15/15 [==============================] - 0s 28ms/step - loss: 0.0834 - acc: 0.9333 - val_loss: 4.4898 - val_acc: 0.5333\n",
      "Epoch 45/200\n",
      "15/15 [==============================] - 0s 28ms/step - loss: 0.1183 - acc: 0.9556 - val_loss: 3.3134 - val_acc: 0.6000\n",
      "Epoch 46/200\n",
      "15/15 [==============================] - 0s 28ms/step - loss: 0.1389 - acc: 0.9556 - val_loss: 3.2680 - val_acc: 0.5333\n",
      "Epoch 47/200\n",
      "15/15 [==============================] - 0s 23ms/step - loss: 0.1198 - acc: 0.9333 - val_loss: 1.8490 - val_acc: 0.6667\n",
      "Epoch 48/200\n",
      "15/15 [==============================] - 0s 28ms/step - loss: 0.0470 - acc: 1.0000 - val_loss: 2.2668 - val_acc: 0.6000\n",
      "Epoch 49/200\n",
      "15/15 [==============================] - 0s 29ms/step - loss: 0.1060 - acc: 0.9556 - val_loss: 2.6922 - val_acc: 0.6000\n",
      "Epoch 50/200\n",
      "15/15 [==============================] - 0s 28ms/step - loss: 0.0111 - acc: 1.0000 - val_loss: 2.3105 - val_acc: 0.6000\n",
      "Epoch 51/200\n",
      "15/15 [==============================] - 0s 29ms/step - loss: 0.1119 - acc: 0.9111 - val_loss: 2.2743 - val_acc: 0.6667\n",
      "Epoch 52/200\n",
      "15/15 [==============================] - 0s 29ms/step - loss: 0.1290 - acc: 0.9556 - val_loss: 3.2743 - val_acc: 0.6000\n",
      "Epoch 53/200\n",
      "15/15 [==============================] - 0s 28ms/step - loss: 0.1386 - acc: 0.9333 - val_loss: 2.3304 - val_acc: 0.6000\n",
      "Epoch 54/200\n",
      "15/15 [==============================] - 0s 27ms/step - loss: 0.0291 - acc: 1.0000 - val_loss: 2.7637 - val_acc: 0.6000\n",
      "Epoch 55/200\n",
      "15/15 [==============================] - 0s 28ms/step - loss: 0.0718 - acc: 0.9778 - val_loss: 3.8924 - val_acc: 0.6000\n",
      "Epoch 56/200\n",
      "15/15 [==============================] - 0s 28ms/step - loss: 0.1502 - acc: 0.9778 - val_loss: 2.7282 - val_acc: 0.6000\n",
      "Epoch 57/200\n",
      "15/15 [==============================] - 0s 31ms/step - loss: 0.0513 - acc: 0.9778 - val_loss: 1.6635 - val_acc: 0.7333\n",
      "Epoch 58/200\n",
      "15/15 [==============================] - 0s 27ms/step - loss: 0.0312 - acc: 1.0000 - val_loss: 2.0573 - val_acc: 0.7333\n",
      "Epoch 59/200\n",
      "15/15 [==============================] - 0s 29ms/step - loss: 0.0369 - acc: 0.9778 - val_loss: 2.7099 - val_acc: 0.6667\n",
      "Epoch 60/200\n",
      "15/15 [==============================] - 0s 29ms/step - loss: 0.1399 - acc: 0.9778 - val_loss: 2.3891 - val_acc: 0.6000\n",
      "Epoch 61/200\n",
      "15/15 [==============================] - 0s 28ms/step - loss: 0.0383 - acc: 0.9778 - val_loss: 2.8045 - val_acc: 0.5333\n",
      "Epoch 62/200\n",
      "15/15 [==============================] - 0s 24ms/step - loss: 0.0345 - acc: 1.0000 - val_loss: 1.9691 - val_acc: 0.6667\n",
      "Epoch 63/200\n",
      "15/15 [==============================] - 0s 23ms/step - loss: 0.0917 - acc: 0.9556 - val_loss: 2.2429 - val_acc: 0.6667\n",
      "Epoch 64/200\n",
      "15/15 [==============================] - 0s 27ms/step - loss: 0.0486 - acc: 0.9778 - val_loss: 1.9712 - val_acc: 0.7333\n",
      "Epoch 65/200\n",
      "15/15 [==============================] - 0s 24ms/step - loss: 0.1601 - acc: 0.9556 - val_loss: 1.9447 - val_acc: 0.6667\n",
      "Epoch 66/200\n",
      "15/15 [==============================] - 0s 29ms/step - loss: 0.0301 - acc: 0.9778 - val_loss: 2.2399 - val_acc: 0.7333\n",
      "Epoch 67/200\n",
      "15/15 [==============================] - 0s 28ms/step - loss: 0.0048 - acc: 1.0000 - val_loss: 2.2367 - val_acc: 0.7333\n",
      "Epoch 68/200\n",
      "15/15 [==============================] - 0s 27ms/step - loss: 0.0865 - acc: 0.9556 - val_loss: 3.5262 - val_acc: 0.5333\n",
      "Epoch 69/200\n",
      "15/15 [==============================] - 0s 29ms/step - loss: 0.0503 - acc: 0.9778 - val_loss: 2.3820 - val_acc: 0.6000\n",
      "Epoch 70/200\n",
      "15/15 [==============================] - 0s 29ms/step - loss: 0.0325 - acc: 0.9778 - val_loss: 1.5047 - val_acc: 0.7333\n",
      "Epoch 71/200\n",
      "15/15 [==============================] - 0s 28ms/step - loss: 0.0444 - acc: 0.9778 - val_loss: 0.9458 - val_acc: 0.7333\n",
      "Epoch 72/200\n",
      "15/15 [==============================] - 0s 28ms/step - loss: 0.0976 - acc: 0.9778 - val_loss: 1.7722 - val_acc: 0.6667\n",
      "Epoch 73/200\n",
      "15/15 [==============================] - 0s 29ms/step - loss: 0.0221 - acc: 1.0000 - val_loss: 2.8336 - val_acc: 0.5333\n",
      "Epoch 74/200\n",
      "15/15 [==============================] - 0s 29ms/step - loss: 0.0105 - acc: 1.0000 - val_loss: 2.8584 - val_acc: 0.6000\n",
      "Epoch 75/200\n",
      "15/15 [==============================] - 0s 28ms/step - loss: 0.0437 - acc: 0.9778 - val_loss: 1.9035 - val_acc: 0.6667\n",
      "Epoch 76/200\n",
      "15/15 [==============================] - 0s 29ms/step - loss: 0.0047 - acc: 1.0000 - val_loss: 1.4608 - val_acc: 0.7333\n",
      "Epoch 77/200\n",
      "15/15 [==============================] - 0s 28ms/step - loss: 0.0731 - acc: 0.9778 - val_loss: 1.9366 - val_acc: 0.6667\n",
      "Epoch 78/200\n",
      "15/15 [==============================] - 0s 29ms/step - loss: 0.0254 - acc: 1.0000 - val_loss: 2.5989 - val_acc: 0.5333\n",
      "Epoch 79/200\n",
      "15/15 [==============================] - 0s 29ms/step - loss: 0.0741 - acc: 0.9556 - val_loss: 3.3285 - val_acc: 0.5333\n",
      "Epoch 80/200\n",
      "15/15 [==============================] - 0s 29ms/step - loss: 0.0665 - acc: 0.9556 - val_loss: 2.9305 - val_acc: 0.5333\n",
      "Epoch 81/200\n",
      "15/15 [==============================] - 0s 28ms/step - loss: 0.0068 - acc: 1.0000 - val_loss: 2.6240 - val_acc: 0.6000\n",
      "Epoch 82/200\n",
      "15/15 [==============================] - 0s 29ms/step - loss: 0.0721 - acc: 0.9778 - val_loss: 1.4177 - val_acc: 0.7333\n",
      "Epoch 83/200\n",
      "15/15 [==============================] - 0s 28ms/step - loss: 0.0847 - acc: 0.9556 - val_loss: 1.2780 - val_acc: 0.8000\n",
      "Epoch 84/200\n",
      "15/15 [==============================] - 0s 28ms/step - loss: 0.1103 - acc: 0.9778 - val_loss: 1.7052 - val_acc: 0.8000\n",
      "Epoch 85/200\n",
      "15/15 [==============================] - 0s 28ms/step - loss: 0.2374 - acc: 0.9333 - val_loss: 1.0092 - val_acc: 0.8000\n",
      "Epoch 86/200\n",
      "15/15 [==============================] - 0s 28ms/step - loss: 0.0419 - acc: 1.0000 - val_loss: 0.7899 - val_acc: 0.8667\n",
      "Epoch 87/200\n",
      "15/15 [==============================] - 0s 23ms/step - loss: 0.0349 - acc: 0.9778 - val_loss: 1.1367 - val_acc: 0.7333\n",
      "Epoch 88/200\n",
      "15/15 [==============================] - 0s 28ms/step - loss: 0.0384 - acc: 0.9778 - val_loss: 1.5250 - val_acc: 0.6667\n",
      "Epoch 89/200\n",
      "15/15 [==============================] - 0s 28ms/step - loss: 0.0833 - acc: 0.9556 - val_loss: 1.6216 - val_acc: 0.8000\n",
      "Epoch 90/200\n",
      "15/15 [==============================] - 0s 28ms/step - loss: 0.0083 - acc: 1.0000 - val_loss: 1.2989 - val_acc: 0.8667\n",
      "Epoch 91/200\n",
      "15/15 [==============================] - 0s 29ms/step - loss: 0.1743 - acc: 0.9556 - val_loss: 1.1364 - val_acc: 0.8667\n",
      "Epoch 92/200\n",
      "15/15 [==============================] - 0s 28ms/step - loss: 0.0836 - acc: 0.9333 - val_loss: 1.5561 - val_acc: 0.8000\n",
      "Epoch 93/200\n",
      "15/15 [==============================] - 0s 28ms/step - loss: 0.0247 - acc: 0.9778 - val_loss: 1.3452 - val_acc: 0.8000\n",
      "Epoch 94/200\n",
      "15/15 [==============================] - 0s 23ms/step - loss: 0.0256 - acc: 1.0000 - val_loss: 1.2448 - val_acc: 0.8667\n",
      "Epoch 95/200\n",
      "15/15 [==============================] - 0s 28ms/step - loss: 0.0625 - acc: 0.9778 - val_loss: 1.9806 - val_acc: 0.6000\n",
      "Epoch 96/200\n",
      "15/15 [==============================] - 0s 27ms/step - loss: 0.0014 - acc: 1.0000 - val_loss: 2.8819 - val_acc: 0.6000\n",
      "Epoch 97/200\n",
      "15/15 [==============================] - 0s 29ms/step - loss: 0.0202 - acc: 1.0000 - val_loss: 2.7208 - val_acc: 0.6000\n",
      "Epoch 98/200\n",
      "15/15 [==============================] - 0s 29ms/step - loss: 0.0534 - acc: 0.9556 - val_loss: 1.3205 - val_acc: 0.7333\n",
      "Epoch 99/200\n",
      "15/15 [==============================] - 0s 27ms/step - loss: 0.0719 - acc: 0.9778 - val_loss: 2.0400 - val_acc: 0.7333\n",
      "Epoch 100/200\n",
      "15/15 [==============================] - 0s 27ms/step - loss: 0.0174 - acc: 1.0000 - val_loss: 3.7684 - val_acc: 0.5333\n",
      "Epoch 101/200\n",
      "15/15 [==============================] - 0s 29ms/step - loss: 0.2726 - acc: 0.9556 - val_loss: 3.1151 - val_acc: 0.5333\n",
      "Epoch 102/200\n",
      "15/15 [==============================] - 0s 24ms/step - loss: 0.0363 - acc: 0.9778 - val_loss: 3.2283 - val_acc: 0.5333\n",
      "Epoch 103/200\n",
      "15/15 [==============================] - 0s 28ms/step - loss: 0.0158 - acc: 1.0000 - val_loss: 2.0717 - val_acc: 0.6000\n",
      "Epoch 104/200\n",
      "15/15 [==============================] - 0s 27ms/step - loss: 0.0301 - acc: 0.9778 - val_loss: 1.9356 - val_acc: 0.6667\n",
      "Epoch 105/200\n",
      "15/15 [==============================] - 0s 29ms/step - loss: 0.0274 - acc: 1.0000 - val_loss: 2.0489 - val_acc: 0.6667\n",
      "Epoch 106/200\n",
      "15/15 [==============================] - 0s 29ms/step - loss: 0.0856 - acc: 0.9556 - val_loss: 3.2236 - val_acc: 0.5333\n",
      "Epoch 107/200\n",
      "15/15 [==============================] - 0s 27ms/step - loss: 0.0744 - acc: 0.9556 - val_loss: 2.6020 - val_acc: 0.5333\n",
      "Epoch 108/200\n",
      "15/15 [==============================] - 0s 23ms/step - loss: 0.0847 - acc: 0.9556 - val_loss: 1.6598 - val_acc: 0.6000\n",
      "Epoch 109/200\n",
      "15/15 [==============================] - 0s 29ms/step - loss: 0.2497 - acc: 0.9111 - val_loss: 2.8935 - val_acc: 0.5333\n",
      "Epoch 110/200\n",
      "15/15 [==============================] - 0s 28ms/step - loss: 0.0211 - acc: 1.0000 - val_loss: 3.5346 - val_acc: 0.5333\n",
      "Epoch 111/200\n",
      "15/15 [==============================] - 0s 28ms/step - loss: 0.0123 - acc: 1.0000 - val_loss: 3.0141 - val_acc: 0.5333\n",
      "Epoch 112/200\n",
      "15/15 [==============================] - 0s 29ms/step - loss: 0.1095 - acc: 0.9778 - val_loss: 1.7254 - val_acc: 0.8000\n",
      "Epoch 113/200\n",
      "15/15 [==============================] - 0s 23ms/step - loss: 0.0495 - acc: 0.9778 - val_loss: 1.8665 - val_acc: 0.8000\n",
      "Epoch 114/200\n",
      "15/15 [==============================] - 0s 29ms/step - loss: 0.0824 - acc: 0.9778 - val_loss: 3.6537 - val_acc: 0.5333\n",
      "Epoch 115/200\n",
      "15/15 [==============================] - 0s 24ms/step - loss: 0.0661 - acc: 0.9556 - val_loss: 3.5684 - val_acc: 0.4667\n",
      "Epoch 116/200\n",
      "15/15 [==============================] - 0s 28ms/step - loss: 0.0452 - acc: 1.0000 - val_loss: 2.6210 - val_acc: 0.6000\n",
      "Epoch 117/200\n",
      "15/15 [==============================] - 0s 30ms/step - loss: 0.0055 - acc: 1.0000 - val_loss: 2.3727 - val_acc: 0.6000\n",
      "Epoch 118/200\n",
      "15/15 [==============================] - 0s 27ms/step - loss: 0.0079 - acc: 1.0000 - val_loss: 2.7333 - val_acc: 0.5333\n",
      "Epoch 119/200\n",
      "15/15 [==============================] - 0s 28ms/step - loss: 0.0084 - acc: 1.0000 - val_loss: 2.7941 - val_acc: 0.5333\n",
      "Epoch 120/200\n",
      "15/15 [==============================] - 0s 28ms/step - loss: 0.1573 - acc: 0.9556 - val_loss: 2.1474 - val_acc: 0.7333\n",
      "Epoch 121/200\n",
      "15/15 [==============================] - 0s 29ms/step - loss: 0.0062 - acc: 1.0000 - val_loss: 2.2109 - val_acc: 0.7333\n",
      "Epoch 122/200\n",
      "15/15 [==============================] - 0s 25ms/step - loss: 0.0156 - acc: 1.0000 - val_loss: 2.3439 - val_acc: 0.7333\n",
      "Epoch 123/200\n",
      "15/15 [==============================] - 0s 27ms/step - loss: 0.0016 - acc: 1.0000 - val_loss: 2.4528 - val_acc: 0.7333\n",
      "Epoch 124/200\n",
      "15/15 [==============================] - 0s 27ms/step - loss: 0.0027 - acc: 1.0000 - val_loss: 2.4966 - val_acc: 0.7333\n",
      "Epoch 125/200\n",
      "15/15 [==============================] - 0s 28ms/step - loss: 0.0047 - acc: 1.0000 - val_loss: 2.5598 - val_acc: 0.7333\n",
      "Epoch 126/200\n",
      "15/15 [==============================] - 0s 29ms/step - loss: 0.0024 - acc: 1.0000 - val_loss: 2.6216 - val_acc: 0.7333\n",
      "Epoch 127/200\n",
      "15/15 [==============================] - 0s 23ms/step - loss: 0.0190 - acc: 0.9778 - val_loss: 2.6901 - val_acc: 0.7333\n",
      "Epoch 128/200\n",
      "15/15 [==============================] - 0s 27ms/step - loss: 6.0296e-04 - acc: 1.0000 - val_loss: 2.6855 - val_acc: 0.7333\n",
      "Epoch 129/200\n",
      "15/15 [==============================] - 0s 29ms/step - loss: 0.0047 - acc: 1.0000 - val_loss: 2.8179 - val_acc: 0.7333\n",
      "Epoch 130/200\n",
      "15/15 [==============================] - 0s 28ms/step - loss: 4.8860e-04 - acc: 1.0000 - val_loss: 2.8754 - val_acc: 0.7333\n",
      "Epoch 131/200\n",
      "15/15 [==============================] - 0s 29ms/step - loss: 0.0099 - acc: 1.0000 - val_loss: 3.4674 - val_acc: 0.5333\n",
      "Epoch 132/200\n",
      "15/15 [==============================] - 0s 28ms/step - loss: 0.0057 - acc: 1.0000 - val_loss: 3.6479 - val_acc: 0.5333\n",
      "Epoch 133/200\n",
      "15/15 [==============================] - 0s 27ms/step - loss: 0.0068 - acc: 1.0000 - val_loss: 3.2135 - val_acc: 0.5333\n",
      "Epoch 134/200\n",
      "15/15 [==============================] - 0s 25ms/step - loss: 0.0016 - acc: 1.0000 - val_loss: 3.0280 - val_acc: 0.5333\n",
      "Epoch 135/200\n",
      "15/15 [==============================] - 0s 23ms/step - loss: 0.0105 - acc: 1.0000 - val_loss: 2.8791 - val_acc: 0.6000\n",
      "Epoch 136/200\n",
      "15/15 [==============================] - 0s 27ms/step - loss: 0.0012 - acc: 1.0000 - val_loss: 2.8622 - val_acc: 0.6000\n",
      "Epoch 137/200\n",
      "15/15 [==============================] - 0s 28ms/step - loss: 0.0037 - acc: 1.0000 - val_loss: 2.8279 - val_acc: 0.7333\n",
      "Epoch 138/200\n",
      "15/15 [==============================] - 0s 28ms/step - loss: 0.0031 - acc: 1.0000 - val_loss: 2.8035 - val_acc: 0.7333\n",
      "Epoch 139/200\n",
      "15/15 [==============================] - 0s 28ms/step - loss: 0.0030 - acc: 1.0000 - val_loss: 2.7035 - val_acc: 0.7333\n",
      "Epoch 140/200\n",
      "15/15 [==============================] - 0s 28ms/step - loss: 0.0577 - acc: 0.9778 - val_loss: 2.7422 - val_acc: 0.7333\n",
      "Epoch 141/200\n",
      "15/15 [==============================] - 0s 28ms/step - loss: 0.0372 - acc: 0.9778 - val_loss: 2.6950 - val_acc: 0.6000\n",
      "Epoch 142/200\n",
      "15/15 [==============================] - 0s 29ms/step - loss: 0.1541 - acc: 0.9333 - val_loss: 3.6762 - val_acc: 0.5333\n",
      "Epoch 143/200\n",
      "15/15 [==============================] - 0s 23ms/step - loss: 0.0014 - acc: 1.0000 - val_loss: 3.5561 - val_acc: 0.5333\n",
      "Epoch 144/200\n",
      "15/15 [==============================] - 0s 29ms/step - loss: 0.0655 - acc: 0.9556 - val_loss: 3.9753 - val_acc: 0.4667\n",
      "Epoch 145/200\n",
      "15/15 [==============================] - 0s 23ms/step - loss: 0.0150 - acc: 1.0000 - val_loss: 4.5691 - val_acc: 0.4667\n",
      "Epoch 146/200\n",
      "15/15 [==============================] - 0s 28ms/step - loss: 0.0418 - acc: 0.9778 - val_loss: 2.9412 - val_acc: 0.6667\n",
      "Epoch 147/200\n",
      "15/15 [==============================] - 0s 28ms/step - loss: 0.0177 - acc: 1.0000 - val_loss: 2.6727 - val_acc: 0.7333\n",
      "Epoch 148/200\n",
      "15/15 [==============================] - 0s 29ms/step - loss: 0.0120 - acc: 1.0000 - val_loss: 2.5910 - val_acc: 0.7333\n",
      "Epoch 149/200\n",
      "15/15 [==============================] - 0s 29ms/step - loss: 0.0019 - acc: 1.0000 - val_loss: 2.8429 - val_acc: 0.6667\n",
      "Epoch 150/200\n",
      "15/15 [==============================] - 0s 28ms/step - loss: 0.1446 - acc: 0.9556 - val_loss: 4.0129 - val_acc: 0.5333\n",
      "Epoch 151/200\n",
      "15/15 [==============================] - 0s 28ms/step - loss: 0.0313 - acc: 0.9778 - val_loss: 3.7891 - val_acc: 0.5333\n",
      "Epoch 152/200\n",
      "15/15 [==============================] - 0s 28ms/step - loss: 0.0073 - acc: 1.0000 - val_loss: 4.3020 - val_acc: 0.4667\n",
      "Epoch 153/200\n",
      "15/15 [==============================] - 0s 28ms/step - loss: 0.0085 - acc: 1.0000 - val_loss: 4.3329 - val_acc: 0.4667\n",
      "Epoch 154/200\n",
      "15/15 [==============================] - 0s 28ms/step - loss: 0.0433 - acc: 1.0000 - val_loss: 3.9827 - val_acc: 0.5333\n",
      "Epoch 155/200\n",
      "15/15 [==============================] - 0s 28ms/step - loss: 0.0036 - acc: 1.0000 - val_loss: 4.1188 - val_acc: 0.5333\n",
      "Epoch 156/200\n",
      "15/15 [==============================] - 0s 30ms/step - loss: 0.0502 - acc: 0.9778 - val_loss: 1.9685 - val_acc: 0.6667\n",
      "Epoch 157/200\n",
      "15/15 [==============================] - 0s 26ms/step - loss: 0.0045 - acc: 1.0000 - val_loss: 1.8357 - val_acc: 0.8000\n",
      "Epoch 158/200\n",
      "15/15 [==============================] - 0s 28ms/step - loss: 0.0918 - acc: 0.9778 - val_loss: 1.9896 - val_acc: 0.6000\n",
      "Epoch 159/200\n",
      "15/15 [==============================] - 0s 27ms/step - loss: 0.2537 - acc: 0.9556 - val_loss: 2.2550 - val_acc: 0.6000\n",
      "Epoch 160/200\n",
      "15/15 [==============================] - 0s 28ms/step - loss: 0.0493 - acc: 0.9778 - val_loss: 2.4807 - val_acc: 0.6667\n",
      "Epoch 161/200\n",
      "15/15 [==============================] - 0s 29ms/step - loss: 0.0924 - acc: 0.9556 - val_loss: 3.2262 - val_acc: 0.6000\n",
      "Epoch 162/200\n",
      "15/15 [==============================] - 0s 29ms/step - loss: 0.0760 - acc: 0.9778 - val_loss: 3.1599 - val_acc: 0.5333\n",
      "Epoch 163/200\n",
      "15/15 [==============================] - 0s 27ms/step - loss: 0.0757 - acc: 0.9778 - val_loss: 2.8173 - val_acc: 0.5333\n",
      "Epoch 164/200\n",
      "15/15 [==============================] - 0s 28ms/step - loss: 0.0035 - acc: 1.0000 - val_loss: 2.6615 - val_acc: 0.5333\n",
      "Epoch 165/200\n",
      "15/15 [==============================] - 0s 28ms/step - loss: 0.0323 - acc: 0.9778 - val_loss: 1.9294 - val_acc: 0.7333\n",
      "Epoch 166/200\n",
      "15/15 [==============================] - 0s 28ms/step - loss: 0.0570 - acc: 0.9778 - val_loss: 1.6334 - val_acc: 0.8000\n",
      "Epoch 167/200\n",
      "15/15 [==============================] - 0s 28ms/step - loss: 0.0055 - acc: 1.0000 - val_loss: 1.6377 - val_acc: 0.8000\n",
      "Epoch 168/200\n",
      "15/15 [==============================] - 0s 29ms/step - loss: 0.0036 - acc: 1.0000 - val_loss: 1.7663 - val_acc: 0.8000\n",
      "Epoch 169/200\n",
      "15/15 [==============================] - 0s 28ms/step - loss: 0.0208 - acc: 0.9778 - val_loss: 1.8378 - val_acc: 0.8000\n",
      "Epoch 170/200\n",
      "15/15 [==============================] - 0s 29ms/step - loss: 0.0919 - acc: 0.9778 - val_loss: 2.0462 - val_acc: 0.8000\n",
      "Epoch 171/200\n",
      "15/15 [==============================] - 0s 28ms/step - loss: 0.0704 - acc: 0.9778 - val_loss: 2.1599 - val_acc: 0.8000\n",
      "Epoch 172/200\n",
      "15/15 [==============================] - 0s 29ms/step - loss: 0.0343 - acc: 0.9778 - val_loss: 2.3337 - val_acc: 0.6000\n",
      "Epoch 173/200\n",
      "15/15 [==============================] - 0s 27ms/step - loss: 0.0046 - acc: 1.0000 - val_loss: 2.5667 - val_acc: 0.6000\n",
      "Epoch 174/200\n",
      "15/15 [==============================] - 0s 28ms/step - loss: 0.0770 - acc: 0.9778 - val_loss: 2.0474 - val_acc: 0.7333\n",
      "Epoch 175/200\n",
      "15/15 [==============================] - 0s 29ms/step - loss: 0.0145 - acc: 1.0000 - val_loss: 2.3121 - val_acc: 0.6667\n",
      "Epoch 176/200\n",
      "15/15 [==============================] - 0s 28ms/step - loss: 0.0020 - acc: 1.0000 - val_loss: 2.5156 - val_acc: 0.6000\n",
      "Epoch 177/200\n",
      "15/15 [==============================] - 0s 29ms/step - loss: 0.0309 - acc: 0.9778 - val_loss: 2.5325 - val_acc: 0.5333\n",
      "Epoch 178/200\n",
      "15/15 [==============================] - 0s 28ms/step - loss: 0.0052 - acc: 1.0000 - val_loss: 2.5463 - val_acc: 0.5333\n",
      "Epoch 179/200\n",
      "15/15 [==============================] - 0s 29ms/step - loss: 0.0300 - acc: 1.0000 - val_loss: 2.4757 - val_acc: 0.6667\n",
      "Epoch 180/200\n",
      "15/15 [==============================] - 0s 29ms/step - loss: 0.0028 - acc: 1.0000 - val_loss: 2.5323 - val_acc: 0.7333\n",
      "Epoch 181/200\n",
      "15/15 [==============================] - 0s 28ms/step - loss: 0.0013 - acc: 1.0000 - val_loss: 2.6086 - val_acc: 0.7333\n",
      "Epoch 182/200\n",
      "15/15 [==============================] - 0s 28ms/step - loss: 0.0043 - acc: 1.0000 - val_loss: 2.6408 - val_acc: 0.7333\n",
      "Epoch 183/200\n",
      "15/15 [==============================] - 0s 30ms/step - loss: 0.0012 - acc: 1.0000 - val_loss: 2.6360 - val_acc: 0.7333\n",
      "Epoch 184/200\n",
      "15/15 [==============================] - 0s 27ms/step - loss: 0.0011 - acc: 1.0000 - val_loss: 2.6487 - val_acc: 0.7333\n",
      "Epoch 185/200\n",
      "15/15 [==============================] - 0s 29ms/step - loss: 4.1511e-04 - acc: 1.0000 - val_loss: 2.6380 - val_acc: 0.7333\n",
      "Epoch 186/200\n",
      "15/15 [==============================] - 0s 28ms/step - loss: 9.3816e-04 - acc: 1.0000 - val_loss: 2.6342 - val_acc: 0.7333\n",
      "Epoch 187/200\n",
      "15/15 [==============================] - 0s 28ms/step - loss: 0.0068 - acc: 1.0000 - val_loss: 2.9465 - val_acc: 0.7333\n",
      "Epoch 188/200\n",
      "15/15 [==============================] - 0s 28ms/step - loss: 0.0890 - acc: 0.9778 - val_loss: 1.6987 - val_acc: 0.8000\n",
      "Epoch 189/200\n",
      "15/15 [==============================] - 0s 24ms/step - loss: 0.0239 - acc: 1.0000 - val_loss: 2.1548 - val_acc: 0.7333\n",
      "Epoch 190/200\n",
      "15/15 [==============================] - 0s 27ms/step - loss: 0.0419 - acc: 0.9778 - val_loss: 2.5914 - val_acc: 0.8000\n",
      "Epoch 191/200\n",
      "15/15 [==============================] - 0s 28ms/step - loss: 0.0047 - acc: 1.0000 - val_loss: 2.7092 - val_acc: 0.8000\n",
      "Epoch 192/200\n",
      "15/15 [==============================] - 0s 28ms/step - loss: 0.0161 - acc: 1.0000 - val_loss: 2.8333 - val_acc: 0.6667\n",
      "Epoch 193/200\n",
      "15/15 [==============================] - 0s 28ms/step - loss: 0.0219 - acc: 0.9778 - val_loss: 2.9145 - val_acc: 0.7333\n",
      "Epoch 194/200\n",
      "15/15 [==============================] - 0s 28ms/step - loss: 0.0937 - acc: 0.9556 - val_loss: 1.8584 - val_acc: 0.8000\n",
      "Epoch 195/200\n",
      "15/15 [==============================] - 0s 29ms/step - loss: 0.0412 - acc: 0.9556 - val_loss: 1.8514 - val_acc: 0.8000\n",
      "Epoch 196/200\n",
      "15/15 [==============================] - 0s 29ms/step - loss: 0.0497 - acc: 0.9778 - val_loss: 4.6722 - val_acc: 0.5333\n",
      "Epoch 197/200\n",
      "15/15 [==============================] - 0s 27ms/step - loss: 0.0029 - acc: 1.0000 - val_loss: 5.4677 - val_acc: 0.5333\n",
      "Epoch 198/200\n",
      "15/15 [==============================] - 0s 28ms/step - loss: 0.0341 - acc: 0.9778 - val_loss: 4.4941 - val_acc: 0.5333\n",
      "Epoch 199/200\n",
      "15/15 [==============================] - 0s 29ms/step - loss: 0.0273 - acc: 1.0000 - val_loss: 3.7395 - val_acc: 0.5333\n",
      "Epoch 200/200\n",
      "15/15 [==============================] - 0s 27ms/step - loss: 0.0025 - acc: 1.0000 - val_loss: 3.4183 - val_acc: 0.5333\n"
     ]
    },
    {
     "data": {
      "text/plain": [
       "<keras.callbacks.History at 0x7f0e6bedf1d0>"
      ]
     },
     "execution_count": 44,
     "metadata": {
      "tags": []
     },
     "output_type": "execute_result"
    }
   ],
   "source": [
    "model.fit_generator(\n",
    "        train_generator,\n",
    "        steps_per_epoch=15,\n",
    "        epochs=200,\n",
    "        validation_data=test_generator,\n",
    "        validation_steps=5)"
   ]
  },
  {
   "cell_type": "markdown",
   "metadata": {
    "colab_type": "text",
    "id": "uT9NEiI-uy52"
   },
   "source": [
    "### 모델 평가하기"
   ]
  },
  {
   "cell_type": "code",
   "execution_count": 45,
   "metadata": {
    "colab": {
     "base_uri": "https://localhost:8080/",
     "height": 53
    },
    "colab_type": "code",
    "id": "XZ8jXxlIu1SE",
    "outputId": "38f36f23-013e-4793-c638-26f0bedb5b6e"
   },
   "outputs": [
    {
     "name": "stdout",
     "output_type": "stream",
     "text": [
      "-- Evaluate --\n",
      "acc: 53.33%\n"
     ]
    }
   ],
   "source": [
    "print(\"-- Evaluate --\")\n",
    "scores = model.evaluate_generator(test_generator, steps=5)\n",
    "print(\"%s: %.2f%%\" %(model.metrics_names[1], scores[1]*100))"
   ]
  },
  {
   "cell_type": "markdown",
   "metadata": {
    "colab_type": "text",
    "id": "QTlRD9Mqu9K6"
   },
   "source": [
    "### 모델 사용하기"
   ]
  },
  {
   "cell_type": "code",
   "execution_count": 46,
   "metadata": {
    "colab": {
     "base_uri": "https://localhost:8080/",
     "height": 323
    },
    "colab_type": "code",
    "id": "Wabhqvy-u48Q",
    "outputId": "d6b6ad06-8b60-4998-8ffb-3468141da43c"
   },
   "outputs": [
    {
     "name": "stdout",
     "output_type": "stream",
     "text": [
      "-- Predict --\n",
      "{'circle': 0, 'rectangle': 1, 'triangle': 2}\n",
      "[[0.000 0.000 1.000]\n",
      " [0.000 0.266 0.734]\n",
      " [0.000 1.000 0.000]\n",
      " [1.000 0.000 0.000]\n",
      " [0.000 0.000 1.000]\n",
      " [0.000 0.492 0.508]\n",
      " [0.004 0.000 0.996]\n",
      " [0.000 0.074 0.926]\n",
      " [1.000 0.000 0.000]\n",
      " [0.000 0.000 1.000]\n",
      " [0.000 0.000 1.000]\n",
      " [0.000 0.000 1.000]\n",
      " [0.000 0.000 1.000]\n",
      " [0.000 0.000 1.000]\n",
      " [0.000 0.000 1.000]]\n"
     ]
    }
   ],
   "source": [
    "print(\"-- Predict --\")\n",
    "output = model.predict_generator(test_generator, steps=5)\n",
    "np.set_printoptions(formatter={'float': lambda x: \"{0:0.3f}\".format(x)})\n",
    "print(test_generator.class_indices)\n",
    "print(output)"
   ]
  },
  {
   "cell_type": "code",
   "execution_count": 0,
   "metadata": {
    "colab": {},
    "colab_type": "code",
    "id": "jVItItOmvZOJ"
   },
   "outputs": [],
   "source": []
  }
 ],
 "metadata": {
  "colab": {
   "collapsed_sections": [],
   "name": "PolygonClassfication_03_DataAugmentation.ipynb",
   "provenance": [],
   "version": "0.3.2"
  },
  "kernelspec": {
   "display_name": "Python 3",
   "language": "python",
   "name": "python3"
  },
  "language_info": {
   "codemirror_mode": {
    "name": "ipython",
    "version": 3
   },
   "file_extension": ".py",
   "mimetype": "text/x-python",
   "name": "python",
   "nbconvert_exporter": "python",
   "pygments_lexer": "ipython3",
   "version": "3.7.4"
  }
 },
 "nbformat": 4,
 "nbformat_minor": 1
}
