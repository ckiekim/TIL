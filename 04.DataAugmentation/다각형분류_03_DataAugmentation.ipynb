{
 "cells": [
  {
   "cell_type": "markdown",
   "metadata": {
    "colab_type": "text",
    "id": "3rG34xrNgE7I"
   },
   "source": [
    "# 원, 삼각형, 사각형 구분하기\n",
    "## Local에서 작업\n",
    "## 3. Data Augmentation을 사용한 CNN 모델"
   ]
  },
  {
   "cell_type": "code",
   "execution_count": 1,
   "metadata": {
    "colab": {},
    "colab_type": "code",
    "id": "bwA2Lk7gilA1"
   },
   "outputs": [
    {
     "name": "stderr",
     "output_type": "stream",
     "text": [
      "Using TensorFlow backend.\n"
     ]
    }
   ],
   "source": [
    "import numpy as np\n",
    "from keras.models import Sequential\n",
    "from keras.layers import Dense\n",
    "from keras.layers import Flatten\n",
    "from keras.layers.convolutional import Conv2D\n",
    "from keras.layers.convolutional import MaxPooling2D\n",
    "from keras.preprocessing.image import ImageDataGenerator\n",
    "\n",
    "# 랜덤시드 고정시키기\n",
    "np.random.seed(5)"
   ]
  },
  {
   "cell_type": "markdown",
   "metadata": {
    "colab_type": "text",
    "id": "SjsMBcR0pnzv"
   },
   "source": [
    "### 데이터 부풀리기(Augmentation)"
   ]
  },
  {
   "cell_type": "code",
   "execution_count": 2,
   "metadata": {
    "colab": {},
    "colab_type": "code",
    "id": "aXdBt1YT11ud"
   },
   "outputs": [],
   "source": [
    "from keras.preprocessing.image import ImageDataGenerator, array_to_img, img_to_array, load_img"
   ]
  },
  {
   "cell_type": "code",
   "execution_count": 3,
   "metadata": {},
   "outputs": [],
   "source": [
    "train_datagen = ImageDataGenerator(rescale=1./255, \n",
    "                                   rotation_range=15,\n",
    "                                   width_shift_range=0.1,\n",
    "                                   height_shift_range=0.1,\n",
    "                                   shear_range=0.5,\n",
    "                                   zoom_range=[0.8, 2.0],\n",
    "                                   horizontal_flip=True,\n",
    "                                   vertical_flip=True,\n",
    "                                   fill_mode='nearest')"
   ]
  },
  {
   "cell_type": "code",
   "execution_count": 4,
   "metadata": {
    "colab": {},
    "colab_type": "code",
    "id": "9Ffv4Qcfkxd0"
   },
   "outputs": [],
   "source": [
    "data_aug_gen = ImageDataGenerator(rescale=1./255, \n",
    "                                  rotation_range=15,\n",
    "                                  width_shift_range=0.1,\n",
    "                                  height_shift_range=0.1,\n",
    "                                  shear_range=0.5,\n",
    "                                  zoom_range=[0.8, 2.0],\n",
    "                                  horizontal_flip=True,\n",
    "                                  vertical_flip=True,\n",
    "                                  fill_mode='nearest')\n",
    "                                   \n",
    "img = load_img('hard_handwriting_shape/train/triangle/triangle001.png')\n",
    "x = img_to_array(img)\n",
    "x = x.reshape((1,) + x.shape)\n",
    "\n",
    "i = 0\n",
    "\n",
    "# 무한 for loop이니 주의!!!\n",
    "for batch in train_datagen.flow(x, batch_size=1, save_to_dir='preview', save_prefix='tri', save_format='png'):\n",
    "    i += 1\n",
    "    if i > 30: \n",
    "        break"
   ]
  },
  {
   "cell_type": "markdown",
   "metadata": {
    "colab_type": "text",
    "id": "2VFAvDns3n9d"
   },
   "source": [
    "### 데이터셋 생성하기"
   ]
  },
  {
   "cell_type": "code",
   "execution_count": 5,
   "metadata": {
    "colab": {
     "base_uri": "https://localhost:8080/",
     "height": 53
    },
    "colab_type": "code",
    "id": "g8ZZac3U3nWj",
    "outputId": "d6911fa9-f142-489d-aaac-c442e2a563b1"
   },
   "outputs": [
    {
     "name": "stdout",
     "output_type": "stream",
     "text": [
      "Found 45 images belonging to 3 classes.\n",
      "Found 15 images belonging to 3 classes.\n"
     ]
    }
   ],
   "source": [
    "train_generator = train_datagen.flow_from_directory(\n",
    "        'hard_handwriting_shape/train',\n",
    "        target_size=(24, 24),\n",
    "        batch_size=3,\n",
    "        class_mode='categorical')\n",
    "\n",
    "test_datagen = ImageDataGenerator(rescale=1./255)\n",
    "\n",
    "test_generator = test_datagen.flow_from_directory(\n",
    "        'hard_handwriting_shape/test',\n",
    "        target_size=(24, 24),    \n",
    "        batch_size=3,\n",
    "        class_mode='categorical')"
   ]
  },
  {
   "cell_type": "markdown",
   "metadata": {
    "colab_type": "text",
    "id": "K88bSm6wpwsK"
   },
   "source": [
    "### 모델 구성하기"
   ]
  },
  {
   "cell_type": "code",
   "execution_count": 7,
   "metadata": {
    "colab": {
     "base_uri": "https://localhost:8080/",
     "height": 377
    },
    "colab_type": "code",
    "id": "G5TOCJzIpVfR",
    "outputId": "50fcbc1c-f6b5-4923-9e24-0e29f5da5f38"
   },
   "outputs": [
    {
     "name": "stdout",
     "output_type": "stream",
     "text": [
      "Model: \"sequential_2\"\n",
      "_________________________________________________________________\n",
      "Layer (type)                 Output Shape              Param #   \n",
      "=================================================================\n",
      "conv2d_3 (Conv2D)            (None, 22, 22, 32)        896       \n",
      "_________________________________________________________________\n",
      "conv2d_4 (Conv2D)            (None, 20, 20, 64)        18496     \n",
      "_________________________________________________________________\n",
      "max_pooling2d_2 (MaxPooling2 (None, 10, 10, 64)        0         \n",
      "_________________________________________________________________\n",
      "flatten_2 (Flatten)          (None, 6400)              0         \n",
      "_________________________________________________________________\n",
      "dense_3 (Dense)              (None, 128)               819328    \n",
      "_________________________________________________________________\n",
      "dense_4 (Dense)              (None, 3)                 387       \n",
      "=================================================================\n",
      "Total params: 839,107\n",
      "Trainable params: 839,107\n",
      "Non-trainable params: 0\n",
      "_________________________________________________________________\n"
     ]
    }
   ],
   "source": [
    "model = Sequential()\n",
    "model.add(Conv2D(32, kernel_size=(3, 3),\n",
    "                 activation='relu', input_shape=(24,24,3)))\n",
    "model.add(Conv2D(64, (3, 3), activation='relu'))\n",
    "model.add(MaxPooling2D(pool_size=(2, 2)))\n",
    "model.add(Flatten())\n",
    "model.add(Dense(128, activation='relu'))\n",
    "model.add(Dense(3, activation='softmax'))\n",
    "model.summary()"
   ]
  },
  {
   "cell_type": "markdown",
   "metadata": {
    "colab_type": "text",
    "id": "wrjhuhJ2tEeA"
   },
   "source": [
    "### 모델 학습과정 설정하기"
   ]
  },
  {
   "cell_type": "code",
   "execution_count": 9,
   "metadata": {
    "colab": {},
    "colab_type": "code",
    "id": "hBUFfHV6sSRW"
   },
   "outputs": [],
   "source": [
    "model.compile(loss='categorical_crossentropy', optimizer='adam', metrics=['accuracy'])"
   ]
  },
  {
   "cell_type": "markdown",
   "metadata": {
    "colab_type": "text",
    "id": "sZ_WQ05itPr9"
   },
   "source": [
    "### 모델 학습시키기\n",
    "- 첫번째 인자 : 훈련데이터셋을 제공할 제네레이터를 지정. 본 예제에서는 앞서 생성한 train_generator으로 지정.\n",
    "- steps_per_epoch : 한 epoch에 사용한 스텝 수를 지정. 총 45개의 훈련 샘플이 있고 배치사이즈가 3이므로 15 스텝으로 지정.\n",
    "- epochs : 전체 훈련 데이터셋에 대해 학습 반복 횟수를 지정. 200번을 반복적으로 학습.\n",
    "- validation_data : 검증데이터셋을 제공할 제네레이터를 지정. 본 예제에서는 앞서 생성한 validation_generator으로 지정.\n",
    "- validation_steps : 한 epoch 종료 시 마다 검증할 때 사용되는 검증 스텝 수를 지정. 홍 15개의 검증 샘플이 있고 배치사이즈가 3이므로 5 스텝으로 지정."
   ]
  },
  {
   "cell_type": "code",
   "execution_count": 10,
   "metadata": {
    "colab": {
     "base_uri": "https://localhost:8080/",
     "height": 1000
    },
    "colab_type": "code",
    "id": "oMzc0kFdtLMY",
    "outputId": "820a8ed5-d798-4b67-bac7-bb1b9384ab93"
   },
   "outputs": [
    {
     "name": "stderr",
     "output_type": "stream",
     "text": [
      "W0904 16:11:49.583984 15844 deprecation.py:323] From C:\\ProgramData\\Anaconda3\\lib\\site-packages\\tensorflow\\python\\ops\\math_grad.py:1250: add_dispatch_support.<locals>.wrapper (from tensorflow.python.ops.array_ops) is deprecated and will be removed in a future version.\n",
      "Instructions for updating:\n",
      "Use tf.where in 2.0, which has the same broadcast rule as np.where\n",
      "W0904 16:11:49.646978 15844 deprecation_wrapper.py:119] From C:\\ProgramData\\Anaconda3\\lib\\site-packages\\keras\\backend\\tensorflow_backend.py:1033: The name tf.assign_add is deprecated. Please use tf.compat.v1.assign_add instead.\n",
      "\n"
     ]
    },
    {
     "name": "stdout",
     "output_type": "stream",
     "text": [
      "Epoch 1/200\n",
      "15/15 [==============================] - 4s 235ms/step - loss: 1.3395 - acc: 0.2889 - val_loss: 1.0965 - val_acc: 0.3333\n",
      "Epoch 2/200\n",
      "15/15 [==============================] - 0s 10ms/step - loss: 1.1022 - acc: 0.3333 - val_loss: 1.0937 - val_acc: 0.4667\n",
      "Epoch 3/200\n",
      "15/15 [==============================] - 0s 10ms/step - loss: 1.0320 - acc: 0.5333 - val_loss: 1.0896 - val_acc: 0.4000\n",
      "Epoch 4/200\n",
      "15/15 [==============================] - 0s 10ms/step - loss: 0.8799 - acc: 0.5778 - val_loss: 1.1911 - val_acc: 0.3333\n",
      "Epoch 5/200\n",
      "15/15 [==============================] - 0s 10ms/step - loss: 0.7633 - acc: 0.5556 - val_loss: 1.2141 - val_acc: 0.4667\n",
      "Epoch 6/200\n",
      "15/15 [==============================] - 0s 10ms/step - loss: 0.7208 - acc: 0.6222 - val_loss: 2.1196 - val_acc: 0.3333\n",
      "Epoch 7/200\n",
      "15/15 [==============================] - 0s 11ms/step - loss: 0.6817 - acc: 0.6444 - val_loss: 1.1300 - val_acc: 0.4000\n",
      "Epoch 8/200\n",
      "15/15 [==============================] - 0s 16ms/step - loss: 0.6922 - acc: 0.6222 - val_loss: 1.0941 - val_acc: 0.6667\n",
      "Epoch 9/200\n",
      "15/15 [==============================] - 0s 11ms/step - loss: 0.5335 - acc: 0.8222 - val_loss: 2.5265 - val_acc: 0.4000\n",
      "Epoch 10/200\n",
      "15/15 [==============================] - 0s 11ms/step - loss: 0.3857 - acc: 0.8667 - val_loss: 1.2961 - val_acc: 0.6667\n",
      "Epoch 11/200\n",
      "15/15 [==============================] - 0s 11ms/step - loss: 0.3282 - acc: 0.8444 - val_loss: 2.6872 - val_acc: 0.4667\n",
      "Epoch 12/200\n",
      "15/15 [==============================] - 0s 11ms/step - loss: 0.3405 - acc: 0.8000 - val_loss: 1.5558 - val_acc: 0.6667\n",
      "Epoch 13/200\n",
      "15/15 [==============================] - 0s 12ms/step - loss: 0.3276 - acc: 0.9111 - val_loss: 2.3754 - val_acc: 0.5333\n",
      "Epoch 14/200\n",
      "15/15 [==============================] - 0s 15ms/step - loss: 0.5040 - acc: 0.7778 - val_loss: 1.4138 - val_acc: 0.6667\n",
      "Epoch 15/200\n",
      "15/15 [==============================] - 0s 11ms/step - loss: 0.3559 - acc: 0.8889 - val_loss: 1.4606 - val_acc: 0.6000\n",
      "Epoch 16/200\n",
      "15/15 [==============================] - 0s 11ms/step - loss: 0.1726 - acc: 0.9778 - val_loss: 2.1518 - val_acc: 0.6000\n",
      "Epoch 17/200\n",
      "15/15 [==============================] - 0s 11ms/step - loss: 0.0866 - acc: 0.9556 - val_loss: 2.5083 - val_acc: 0.5333\n",
      "Epoch 18/200\n",
      "15/15 [==============================] - 0s 17ms/step - loss: 0.1744 - acc: 0.9333 - val_loss: 2.3874 - val_acc: 0.5333\n",
      "Epoch 19/200\n",
      "15/15 [==============================] - 0s 11ms/step - loss: 0.2820 - acc: 0.8667 - val_loss: 1.7760 - val_acc: 0.6000\n",
      "Epoch 20/200\n",
      "15/15 [==============================] - 0s 11ms/step - loss: 0.2298 - acc: 0.8889 - val_loss: 1.5852 - val_acc: 0.6667\n",
      "Epoch 21/200\n",
      "15/15 [==============================] - 0s 11ms/step - loss: 0.0895 - acc: 1.0000 - val_loss: 1.8583 - val_acc: 0.7333\n",
      "Epoch 22/200\n",
      "15/15 [==============================] - 0s 11ms/step - loss: 0.1936 - acc: 0.9556 - val_loss: 2.5384 - val_acc: 0.6000\n",
      "Epoch 23/200\n",
      "15/15 [==============================] - 0s 12ms/step - loss: 0.1002 - acc: 0.9556 - val_loss: 1.7838 - val_acc: 0.7333\n",
      "Epoch 24/200\n",
      "15/15 [==============================] - 0s 16ms/step - loss: 0.0927 - acc: 0.9778 - val_loss: 2.0382 - val_acc: 0.6667\n",
      "Epoch 25/200\n",
      "15/15 [==============================] - 0s 16ms/step - loss: 0.1081 - acc: 0.9556 - val_loss: 2.4854 - val_acc: 0.6000\n",
      "Epoch 26/200\n",
      "15/15 [==============================] - 0s 11ms/step - loss: 0.1679 - acc: 0.9556 - val_loss: 2.0236 - val_acc: 0.6667\n",
      "Epoch 27/200\n",
      "15/15 [==============================] - 0s 11ms/step - loss: 0.0687 - acc: 0.9778 - val_loss: 2.7806 - val_acc: 0.4667\n",
      "Epoch 28/200\n",
      "15/15 [==============================] - 0s 16ms/step - loss: 0.1102 - acc: 0.9556 - val_loss: 2.3328 - val_acc: 0.5333\n",
      "Epoch 29/200\n",
      "15/15 [==============================] - 0s 11ms/step - loss: 0.0734 - acc: 0.9556 - val_loss: 2.8818 - val_acc: 0.6000\n",
      "Epoch 30/200\n",
      "15/15 [==============================] - 0s 12ms/step - loss: 0.0979 - acc: 0.9556 - val_loss: 2.1968 - val_acc: 0.6000\n",
      "Epoch 31/200\n",
      "15/15 [==============================] - 0s 22ms/step - loss: 0.1032 - acc: 0.9778 - val_loss: 2.8515 - val_acc: 0.6000\n",
      "Epoch 32/200\n",
      "15/15 [==============================] - 0s 13ms/step - loss: 0.0542 - acc: 0.9778 - val_loss: 2.9798 - val_acc: 0.6000\n",
      "Epoch 33/200\n",
      "15/15 [==============================] - 0s 12ms/step - loss: 0.0615 - acc: 0.9778 - val_loss: 2.0406 - val_acc: 0.6667\n",
      "Epoch 34/200\n",
      "15/15 [==============================] - 0s 15ms/step - loss: 0.1858 - acc: 0.8889 - val_loss: 3.2180 - val_acc: 0.5333\n",
      "Epoch 35/200\n",
      "15/15 [==============================] - 0s 11ms/step - loss: 0.0357 - acc: 1.0000 - val_loss: 1.6574 - val_acc: 0.6667\n",
      "Epoch 36/200\n",
      "15/15 [==============================] - 0s 11ms/step - loss: 0.1018 - acc: 0.9778 - val_loss: 3.2355 - val_acc: 0.5333\n",
      "Epoch 37/200\n",
      "15/15 [==============================] - 0s 17ms/step - loss: 0.0677 - acc: 0.9778 - val_loss: 3.8946 - val_acc: 0.5333\n",
      "Epoch 38/200\n",
      "15/15 [==============================] - 0s 17ms/step - loss: 0.0494 - acc: 0.9778 - val_loss: 2.5113 - val_acc: 0.6667\n",
      "Epoch 39/200\n",
      "15/15 [==============================] - 0s 11ms/step - loss: 0.0201 - acc: 1.0000 - val_loss: 2.7987 - val_acc: 0.6667\n",
      "Epoch 40/200\n",
      "15/15 [==============================] - 0s 27ms/step - loss: 0.1225 - acc: 0.9778 - val_loss: 3.0892 - val_acc: 0.6667\n",
      "Epoch 41/200\n",
      "15/15 [==============================] - 0s 17ms/step - loss: 0.0238 - acc: 1.0000 - val_loss: 3.1086 - val_acc: 0.6667\n",
      "Epoch 42/200\n",
      "15/15 [==============================] - 0s 13ms/step - loss: 0.0679 - acc: 0.9778 - val_loss: 2.1185 - val_acc: 0.6667\n",
      "Epoch 43/200\n",
      "15/15 [==============================] - 0s 11ms/step - loss: 0.0851 - acc: 0.9778 - val_loss: 2.0541 - val_acc: 0.6667\n",
      "Epoch 44/200\n",
      "15/15 [==============================] - 0s 15ms/step - loss: 0.0769 - acc: 0.9556 - val_loss: 3.5558 - val_acc: 0.6667\n",
      "Epoch 45/200\n",
      "15/15 [==============================] - 0s 21ms/step - loss: 0.0511 - acc: 0.9778 - val_loss: 1.7782 - val_acc: 0.6667\n",
      "Epoch 46/200\n",
      "15/15 [==============================] - 0s 11ms/step - loss: 0.0266 - acc: 1.0000 - val_loss: 1.7008 - val_acc: 0.6667\n",
      "Epoch 47/200\n",
      "15/15 [==============================] - 0s 11ms/step - loss: 0.0998 - acc: 0.9556 - val_loss: 2.5051 - val_acc: 0.6000\n",
      "Epoch 48/200\n",
      "15/15 [==============================] - 0s 17ms/step - loss: 0.0517 - acc: 0.9778 - val_loss: 4.9608 - val_acc: 0.5333\n",
      "Epoch 49/200\n",
      "15/15 [==============================] - 0s 16ms/step - loss: 0.1554 - acc: 0.9111 - val_loss: 2.0570 - val_acc: 0.7333\n",
      "Epoch 50/200\n",
      "15/15 [==============================] - 0s 17ms/step - loss: 0.0478 - acc: 0.9778 - val_loss: 2.0124 - val_acc: 0.7333\n",
      "Epoch 51/200\n",
      "15/15 [==============================] - 0s 16ms/step - loss: 0.1567 - acc: 0.9556 - val_loss: 1.3635 - val_acc: 0.8000\n",
      "Epoch 52/200\n",
      "15/15 [==============================] - 0s 11ms/step - loss: 0.3072 - acc: 0.9778 - val_loss: 1.4170 - val_acc: 0.7333\n",
      "Epoch 53/200\n",
      "15/15 [==============================] - 0s 27ms/step - loss: 0.0301 - acc: 1.0000 - val_loss: 1.5258 - val_acc: 0.7333\n",
      "Epoch 54/200\n",
      "15/15 [==============================] - 0s 17ms/step - loss: 0.0718 - acc: 0.9778 - val_loss: 1.9932 - val_acc: 0.6667\n",
      "Epoch 55/200\n",
      "15/15 [==============================] - 0s 13ms/step - loss: 0.1425 - acc: 0.9778 - val_loss: 2.1957 - val_acc: 0.6000\n",
      "Epoch 56/200\n",
      "15/15 [==============================] - 0s 16ms/step - loss: 0.0267 - acc: 1.0000 - val_loss: 1.8386 - val_acc: 0.6667\n",
      "Epoch 57/200\n",
      "15/15 [==============================] - 0s 16ms/step - loss: 0.0161 - acc: 1.0000 - val_loss: 1.6924 - val_acc: 0.7333\n",
      "Epoch 58/200\n",
      "15/15 [==============================] - 0s 11ms/step - loss: 0.0301 - acc: 0.9778 - val_loss: 2.4944 - val_acc: 0.6667\n",
      "Epoch 59/200\n",
      "15/15 [==============================] - 0s 16ms/step - loss: 0.1266 - acc: 0.9778 - val_loss: 2.1310 - val_acc: 0.6667\n",
      "Epoch 60/200\n",
      "15/15 [==============================] - 0s 11ms/step - loss: 0.0409 - acc: 0.9778 - val_loss: 2.9785 - val_acc: 0.6000\n",
      "Epoch 61/200\n",
      "15/15 [==============================] - 0s 17ms/step - loss: 0.0306 - acc: 0.9778 - val_loss: 2.2373 - val_acc: 0.6000\n",
      "Epoch 62/200\n"
     ]
    },
    {
     "name": "stdout",
     "output_type": "stream",
     "text": [
      "15/15 [==============================] - 0s 16ms/step - loss: 0.0144 - acc: 1.0000 - val_loss: 1.5577 - val_acc: 0.8000\n",
      "Epoch 63/200\n",
      "15/15 [==============================] - 0s 16ms/step - loss: 0.1651 - acc: 0.9556 - val_loss: 1.2973 - val_acc: 0.8000\n",
      "Epoch 64/200\n",
      "15/15 [==============================] - 0s 11ms/step - loss: 0.0354 - acc: 1.0000 - val_loss: 2.3191 - val_acc: 0.6000\n",
      "Epoch 65/200\n",
      "15/15 [==============================] - 0s 11ms/step - loss: 0.0807 - acc: 0.9556 - val_loss: 1.5716 - val_acc: 0.7333\n",
      "Epoch 66/200\n",
      "15/15 [==============================] - 0s 11ms/step - loss: 0.0902 - acc: 0.9778 - val_loss: 1.2142 - val_acc: 0.8000\n",
      "Epoch 67/200\n",
      "15/15 [==============================] - 0s 18ms/step - loss: 0.1635 - acc: 0.9333 - val_loss: 1.3618 - val_acc: 0.8000\n",
      "Epoch 68/200\n",
      "15/15 [==============================] - 0s 11ms/step - loss: 0.0482 - acc: 0.9778 - val_loss: 1.1162 - val_acc: 0.8000\n",
      "Epoch 69/200\n",
      "15/15 [==============================] - 0s 11ms/step - loss: 0.0770 - acc: 0.9778 - val_loss: 1.9347 - val_acc: 0.6667\n",
      "Epoch 70/200\n",
      "15/15 [==============================] - 0s 11ms/step - loss: 0.0436 - acc: 0.9778 - val_loss: 1.8383 - val_acc: 0.6667\n",
      "Epoch 71/200\n",
      "15/15 [==============================] - 0s 11ms/step - loss: 0.0302 - acc: 1.0000 - val_loss: 1.7118 - val_acc: 0.6667\n",
      "Epoch 72/200\n",
      "15/15 [==============================] - 0s 11ms/step - loss: 0.0064 - acc: 1.0000 - val_loss: 1.7085 - val_acc: 0.7333\n",
      "Epoch 73/200\n",
      "15/15 [==============================] - 0s 11ms/step - loss: 0.1267 - acc: 0.9778 - val_loss: 1.9139 - val_acc: 0.6667\n",
      "Epoch 74/200\n",
      "15/15 [==============================] - 0s 16ms/step - loss: 0.0836 - acc: 0.9778 - val_loss: 2.2347 - val_acc: 0.6667\n",
      "Epoch 75/200\n",
      "15/15 [==============================] - 0s 11ms/step - loss: 0.0251 - acc: 1.0000 - val_loss: 1.9732 - val_acc: 0.6667\n",
      "Epoch 76/200\n",
      "15/15 [==============================] - 0s 11ms/step - loss: 0.2670 - acc: 0.9556 - val_loss: 2.0378 - val_acc: 0.6000\n",
      "Epoch 77/200\n",
      "15/15 [==============================] - 0s 11ms/step - loss: 0.0084 - acc: 1.0000 - val_loss: 2.0501 - val_acc: 0.6000\n",
      "Epoch 78/200\n",
      "15/15 [==============================] - 0s 11ms/step - loss: 0.0073 - acc: 1.0000 - val_loss: 2.1766 - val_acc: 0.6000\n",
      "Epoch 79/200\n",
      "15/15 [==============================] - 0s 11ms/step - loss: 0.0401 - acc: 1.0000 - val_loss: 1.7631 - val_acc: 0.7333\n",
      "Epoch 80/200\n",
      "15/15 [==============================] - 0s 11ms/step - loss: 0.0159 - acc: 1.0000 - val_loss: 1.7694 - val_acc: 0.7333\n",
      "Epoch 81/200\n",
      "15/15 [==============================] - 0s 11ms/step - loss: 0.0157 - acc: 1.0000 - val_loss: 1.9587 - val_acc: 0.6667\n",
      "Epoch 82/200\n",
      "15/15 [==============================] - 0s 11ms/step - loss: 0.0241 - acc: 0.9778 - val_loss: 2.1256 - val_acc: 0.6667\n",
      "Epoch 83/200\n",
      "15/15 [==============================] - 0s 11ms/step - loss: 0.0154 - acc: 1.0000 - val_loss: 2.3335 - val_acc: 0.6667\n",
      "Epoch 84/200\n",
      "15/15 [==============================] - 0s 16ms/step - loss: 0.1551 - acc: 0.9556 - val_loss: 1.4375 - val_acc: 0.8000\n",
      "Epoch 85/200\n",
      "15/15 [==============================] - 0s 11ms/step - loss: 0.0657 - acc: 0.9778 - val_loss: 1.9988 - val_acc: 0.8000\n",
      "Epoch 86/200\n",
      "15/15 [==============================] - 0s 12ms/step - loss: 0.0674 - acc: 0.9556 - val_loss: 1.9011 - val_acc: 0.7333\n",
      "Epoch 87/200\n",
      "15/15 [==============================] - 0s 17ms/step - loss: 0.0916 - acc: 0.9778 - val_loss: 2.1012 - val_acc: 0.7333\n",
      "Epoch 88/200\n",
      "15/15 [==============================] - 0s 16ms/step - loss: 0.0176 - acc: 1.0000 - val_loss: 2.1863 - val_acc: 0.7333\n",
      "Epoch 89/200\n",
      "15/15 [==============================] - 0s 16ms/step - loss: 0.0167 - acc: 1.0000 - val_loss: 2.3072 - val_acc: 0.7333\n",
      "Epoch 90/200\n",
      "15/15 [==============================] - 0s 11ms/step - loss: 0.0014 - acc: 1.0000 - val_loss: 2.3169 - val_acc: 0.7333\n",
      "Epoch 91/200\n",
      "15/15 [==============================] - 0s 11ms/step - loss: 0.0861 - acc: 0.9556 - val_loss: 3.0027 - val_acc: 0.6667\n",
      "Epoch 92/200\n",
      "15/15 [==============================] - 0s 11ms/step - loss: 0.0167 - acc: 1.0000 - val_loss: 2.4354 - val_acc: 0.7333\n",
      "Epoch 93/200\n",
      "15/15 [==============================] - 0s 11ms/step - loss: 0.0234 - acc: 1.0000 - val_loss: 2.4975 - val_acc: 0.6667\n",
      "Epoch 94/200\n",
      "15/15 [==============================] - 0s 11ms/step - loss: 0.0596 - acc: 0.9778 - val_loss: 2.1161 - val_acc: 0.8000\n",
      "Epoch 95/200\n",
      "15/15 [==============================] - 0s 16ms/step - loss: 0.0718 - acc: 0.9778 - val_loss: 3.3418 - val_acc: 0.6000\n",
      "Epoch 96/200\n",
      "15/15 [==============================] - 0s 11ms/step - loss: 0.0300 - acc: 1.0000 - val_loss: 3.8721 - val_acc: 0.5333\n",
      "Epoch 97/200\n",
      "15/15 [==============================] - 0s 17ms/step - loss: 0.0342 - acc: 0.9778 - val_loss: 3.3063 - val_acc: 0.6000\n",
      "Epoch 98/200\n",
      "15/15 [==============================] - 0s 16ms/step - loss: 0.0256 - acc: 1.0000 - val_loss: 3.1878 - val_acc: 0.6000\n",
      "Epoch 99/200\n",
      "15/15 [==============================] - 0s 11ms/step - loss: 0.0066 - acc: 1.0000 - val_loss: 3.0115 - val_acc: 0.6000\n",
      "Epoch 100/200\n",
      "15/15 [==============================] - 0s 11ms/step - loss: 0.0022 - acc: 1.0000 - val_loss: 2.8343 - val_acc: 0.6000\n",
      "Epoch 101/200\n",
      "15/15 [==============================] - 0s 16ms/step - loss: 0.2972 - acc: 0.9556 - val_loss: 3.2229 - val_acc: 0.6000\n",
      "Epoch 102/200\n",
      "15/15 [==============================] - 0s 11ms/step - loss: 0.0090 - acc: 1.0000 - val_loss: 3.0958 - val_acc: 0.6000\n",
      "Epoch 103/200\n",
      "15/15 [==============================] - 0s 16ms/step - loss: 0.0284 - acc: 1.0000 - val_loss: 2.6632 - val_acc: 0.7333\n",
      "Epoch 104/200\n",
      "15/15 [==============================] - 0s 11ms/step - loss: 0.0330 - acc: 1.0000 - val_loss: 2.8155 - val_acc: 0.7333\n",
      "Epoch 105/200\n",
      "15/15 [==============================] - 0s 11ms/step - loss: 0.1743 - acc: 0.9333 - val_loss: 2.1669 - val_acc: 0.7333\n",
      "Epoch 106/200\n",
      "15/15 [==============================] - 0s 11ms/step - loss: 0.0796 - acc: 0.9556 - val_loss: 2.3614 - val_acc: 0.7333\n",
      "Epoch 107/200\n",
      "15/15 [==============================] - 0s 16ms/step - loss: 0.0544 - acc: 0.9778 - val_loss: 3.2871 - val_acc: 0.5333\n",
      "Epoch 108/200\n",
      "15/15 [==============================] - 0s 11ms/step - loss: 0.0102 - acc: 1.0000 - val_loss: 3.4212 - val_acc: 0.5333\n",
      "Epoch 109/200\n",
      "15/15 [==============================] - 0s 16ms/step - loss: 0.0246 - acc: 1.0000 - val_loss: 2.4687 - val_acc: 0.8000\n",
      "Epoch 110/200\n",
      "15/15 [==============================] - 0s 11ms/step - loss: 0.1158 - acc: 0.9556 - val_loss: 4.6618 - val_acc: 0.5333\n",
      "Epoch 111/200\n",
      "15/15 [==============================] - 0s 16ms/step - loss: 0.0394 - acc: 0.9778 - val_loss: 3.2096 - val_acc: 0.7333\n",
      "Epoch 112/200\n",
      "15/15 [==============================] - 0s 11ms/step - loss: 0.2045 - acc: 0.9556 - val_loss: 2.5711 - val_acc: 0.8000\n",
      "Epoch 113/200\n",
      "15/15 [==============================] - 0s 11ms/step - loss: 0.0505 - acc: 0.9778 - val_loss: 2.6137 - val_acc: 0.8000\n",
      "Epoch 114/200\n",
      "15/15 [==============================] - 0s 22ms/step - loss: 0.0216 - acc: 1.0000 - val_loss: 2.6249 - val_acc: 0.8000\n",
      "Epoch 115/200\n",
      "15/15 [==============================] - 0s 22ms/step - loss: 0.0465 - acc: 0.9778 - val_loss: 2.7072 - val_acc: 0.8000\n",
      "Epoch 116/200\n",
      "15/15 [==============================] - 0s 22ms/step - loss: 0.0638 - acc: 0.9778 - val_loss: 2.5495 - val_acc: 0.7333\n",
      "Epoch 117/200\n",
      "15/15 [==============================] - 0s 22ms/step - loss: 0.0104 - acc: 1.0000 - val_loss: 2.5984 - val_acc: 0.7333\n",
      "Epoch 118/200\n",
      "15/15 [==============================] - 0s 22ms/step - loss: 0.1018 - acc: 0.9778 - val_loss: 2.4494 - val_acc: 0.7333\n",
      "Epoch 119/200\n",
      "15/15 [==============================] - 0s 22ms/step - loss: 0.0314 - acc: 0.9778 - val_loss: 2.3568 - val_acc: 0.7333\n",
      "Epoch 120/200\n",
      "15/15 [==============================] - 0s 22ms/step - loss: 0.0249 - acc: 0.9778 - val_loss: 2.3495 - val_acc: 0.7333\n",
      "Epoch 121/200\n",
      "15/15 [==============================] - 0s 21ms/step - loss: 0.0521 - acc: 0.9778 - val_loss: 2.4685 - val_acc: 0.8000\n",
      "Epoch 122/200\n",
      "15/15 [==============================] - 0s 22ms/step - loss: 0.0166 - acc: 1.0000 - val_loss: 2.6178 - val_acc: 0.7333\n",
      "Epoch 123/200\n"
     ]
    },
    {
     "name": "stdout",
     "output_type": "stream",
     "text": [
      "15/15 [==============================] - 0s 22ms/step - loss: 0.1265 - acc: 0.9778 - val_loss: 2.0829 - val_acc: 0.8000\n",
      "Epoch 124/200\n",
      "15/15 [==============================] - 0s 22ms/step - loss: 0.0717 - acc: 0.9778 - val_loss: 2.2506 - val_acc: 0.8000\n",
      "Epoch 125/200\n",
      "15/15 [==============================] - 0s 21ms/step - loss: 0.1945 - acc: 0.9778 - val_loss: 2.9698 - val_acc: 0.6000\n",
      "Epoch 126/200\n",
      "15/15 [==============================] - 0s 21ms/step - loss: 0.0192 - acc: 1.0000 - val_loss: 2.7403 - val_acc: 0.6000\n",
      "Epoch 127/200\n",
      "15/15 [==============================] - 0s 21ms/step - loss: 0.0047 - acc: 1.0000 - val_loss: 2.7174 - val_acc: 0.6000\n",
      "Epoch 128/200\n",
      "15/15 [==============================] - 0s 21ms/step - loss: 0.0286 - acc: 0.9778 - val_loss: 1.8983 - val_acc: 0.7333\n",
      "Epoch 129/200\n",
      "15/15 [==============================] - 0s 21ms/step - loss: 0.1580 - acc: 0.9333 - val_loss: 2.2314 - val_acc: 0.7333\n",
      "Epoch 130/200\n",
      "15/15 [==============================] - 0s 21ms/step - loss: 0.0204 - acc: 1.0000 - val_loss: 2.6548 - val_acc: 0.6667\n",
      "Epoch 131/200\n",
      "15/15 [==============================] - 0s 21ms/step - loss: 0.0267 - acc: 1.0000 - val_loss: 2.5017 - val_acc: 0.6667\n",
      "Epoch 132/200\n",
      "15/15 [==============================] - 0s 21ms/step - loss: 0.0076 - acc: 1.0000 - val_loss: 2.4330 - val_acc: 0.7333\n",
      "Epoch 133/200\n",
      "15/15 [==============================] - 0s 21ms/step - loss: 0.0377 - acc: 0.9778 - val_loss: 2.2544 - val_acc: 0.7333\n",
      "Epoch 134/200\n",
      "15/15 [==============================] - ETA: 0s - loss: 0.0490 - acc: 0.974 - 0s 21ms/step - loss: 0.0425 - acc: 0.9778 - val_loss: 2.6775 - val_acc: 0.6667\n",
      "Epoch 135/200\n",
      "15/15 [==============================] - 0s 21ms/step - loss: 0.0134 - acc: 1.0000 - val_loss: 2.7625 - val_acc: 0.6667\n",
      "Epoch 136/200\n",
      "15/15 [==============================] - 0s 21ms/step - loss: 0.0433 - acc: 0.9778 - val_loss: 2.4450 - val_acc: 0.7333\n",
      "Epoch 137/200\n",
      "15/15 [==============================] - 0s 21ms/step - loss: 0.0944 - acc: 0.9556 - val_loss: 1.9041 - val_acc: 0.7333\n",
      "Epoch 138/200\n",
      "15/15 [==============================] - 0s 22ms/step - loss: 0.0332 - acc: 0.9778 - val_loss: 1.7343 - val_acc: 0.7333\n",
      "Epoch 139/200\n",
      "15/15 [==============================] - 0s 21ms/step - loss: 0.0078 - acc: 1.0000 - val_loss: 1.9038 - val_acc: 0.8000\n",
      "Epoch 140/200\n",
      "15/15 [==============================] - 0s 21ms/step - loss: 0.1181 - acc: 0.9333 - val_loss: 2.0376 - val_acc: 0.8000\n",
      "Epoch 141/200\n",
      "15/15 [==============================] - 0s 21ms/step - loss: 0.0619 - acc: 0.9778 - val_loss: 3.3798 - val_acc: 0.6000\n",
      "Epoch 142/200\n",
      "15/15 [==============================] - 0s 21ms/step - loss: 0.1670 - acc: 0.9778 - val_loss: 2.0312 - val_acc: 0.7333\n",
      "Epoch 143/200\n",
      "15/15 [==============================] - 0s 22ms/step - loss: 0.0047 - acc: 1.0000 - val_loss: 2.0120 - val_acc: 0.8000\n",
      "Epoch 144/200\n",
      "15/15 [==============================] - ETA: 0s - loss: 0.0232 - acc: 0.974 - 0s 22ms/step - loss: 0.0227 - acc: 0.9778 - val_loss: 2.0828 - val_acc: 0.7333\n",
      "Epoch 145/200\n",
      "15/15 [==============================] - 0s 22ms/step - loss: 0.0116 - acc: 1.0000 - val_loss: 2.1376 - val_acc: 0.7333\n",
      "Epoch 146/200\n",
      "15/15 [==============================] - 0s 21ms/step - loss: 0.0068 - acc: 1.0000 - val_loss: 2.1341 - val_acc: 0.7333\n",
      "Epoch 147/200\n",
      "15/15 [==============================] - 0s 21ms/step - loss: 0.0033 - acc: 1.0000 - val_loss: 2.1200 - val_acc: 0.7333\n",
      "Epoch 148/200\n",
      "15/15 [==============================] - 0s 21ms/step - loss: 0.0492 - acc: 0.9778 - val_loss: 2.2491 - val_acc: 0.8000\n",
      "Epoch 149/200\n",
      "15/15 [==============================] - 0s 22ms/step - loss: 0.0153 - acc: 1.0000 - val_loss: 2.4299 - val_acc: 0.7333\n",
      "Epoch 150/200\n",
      "15/15 [==============================] - 0s 21ms/step - loss: 0.0127 - acc: 1.0000 - val_loss: 2.4129 - val_acc: 0.7333\n",
      "Epoch 151/200\n",
      "15/15 [==============================] - 0s 22ms/step - loss: 0.0026 - acc: 1.0000 - val_loss: 2.3443 - val_acc: 0.7333\n",
      "Epoch 152/200\n",
      "15/15 [==============================] - 0s 22ms/step - loss: 0.0291 - acc: 0.9778 - val_loss: 2.0298 - val_acc: 0.7333\n",
      "Epoch 153/200\n",
      "15/15 [==============================] - 0s 21ms/step - loss: 0.0119 - acc: 1.0000 - val_loss: 1.6855 - val_acc: 0.8000\n",
      "Epoch 154/200\n",
      "15/15 [==============================] - 0s 21ms/step - loss: 0.0144 - acc: 1.0000 - val_loss: 1.7528 - val_acc: 0.8000\n",
      "Epoch 155/200\n",
      "15/15 [==============================] - 0s 22ms/step - loss: 0.0237 - acc: 1.0000 - val_loss: 2.3203 - val_acc: 0.7333\n",
      "Epoch 156/200\n",
      "15/15 [==============================] - 0s 22ms/step - loss: 0.0096 - acc: 1.0000 - val_loss: 2.5229 - val_acc: 0.7333\n",
      "Epoch 157/200\n",
      "15/15 [==============================] - 0s 26ms/step - loss: 0.0554 - acc: 0.9778 - val_loss: 2.1999 - val_acc: 0.8000\n",
      "Epoch 158/200\n",
      "15/15 [==============================] - 0s 22ms/step - loss: 0.1045 - acc: 0.9778 - val_loss: 2.0526 - val_acc: 0.7333\n",
      "Epoch 159/200\n",
      "15/15 [==============================] - 0s 26ms/step - loss: 0.0068 - acc: 1.0000 - val_loss: 2.1941 - val_acc: 0.6667\n",
      "Epoch 160/200\n",
      "15/15 [==============================] - 0s 27ms/step - loss: 0.0295 - acc: 1.0000 - val_loss: 2.0210 - val_acc: 0.8000\n",
      "Epoch 161/200\n",
      "15/15 [==============================] - 0s 26ms/step - loss: 0.0410 - acc: 0.9778 - val_loss: 1.5376 - val_acc: 0.8000\n",
      "Epoch 162/200\n",
      "15/15 [==============================] - 0s 26ms/step - loss: 0.0255 - acc: 1.0000 - val_loss: 1.5648 - val_acc: 0.8000\n",
      "Epoch 163/200\n",
      "15/15 [==============================] - 0s 26ms/step - loss: 0.0045 - acc: 1.0000 - val_loss: 1.7006 - val_acc: 0.8000\n",
      "Epoch 164/200\n",
      "15/15 [==============================] - 0s 27ms/step - loss: 5.6414e-04 - acc: 1.0000 - val_loss: 1.7715 - val_acc: 0.8000\n",
      "Epoch 165/200\n",
      "15/15 [==============================] - 0s 26ms/step - loss: 0.0749 - acc: 0.9556 - val_loss: 1.7602 - val_acc: 0.8000\n",
      "Epoch 166/200\n",
      "15/15 [==============================] - 0s 26ms/step - loss: 0.0039 - acc: 1.0000 - val_loss: 1.8369 - val_acc: 0.8000\n",
      "Epoch 167/200\n",
      "15/15 [==============================] - 0s 26ms/step - loss: 0.0095 - acc: 1.0000 - val_loss: 1.9515 - val_acc: 0.8000\n",
      "Epoch 168/200\n",
      "15/15 [==============================] - 0s 26ms/step - loss: 0.0372 - acc: 0.9778 - val_loss: 2.8245 - val_acc: 0.6667\n",
      "Epoch 169/200\n",
      "15/15 [==============================] - 0s 27ms/step - loss: 0.0219 - acc: 0.9778 - val_loss: 3.0506 - val_acc: 0.6667\n",
      "Epoch 170/200\n",
      "15/15 [==============================] - 0s 27ms/step - loss: 4.6464e-04 - acc: 1.0000 - val_loss: 3.1033 - val_acc: 0.6667\n",
      "Epoch 171/200\n",
      "15/15 [==============================] - 0s 26ms/step - loss: 0.0018 - acc: 1.0000 - val_loss: 3.1118 - val_acc: 0.6667\n",
      "Epoch 172/200\n",
      "15/15 [==============================] - 0s 27ms/step - loss: 0.0101 - acc: 1.0000 - val_loss: 3.1454 - val_acc: 0.6667\n",
      "Epoch 173/200\n",
      "15/15 [==============================] - 0s 26ms/step - loss: 0.0136 - acc: 1.0000 - val_loss: 2.9618 - val_acc: 0.7333\n",
      "Epoch 174/200\n",
      "15/15 [==============================] - 0s 26ms/step - loss: 0.0282 - acc: 0.9778 - val_loss: 1.9472 - val_acc: 0.8000\n",
      "Epoch 175/200\n",
      "15/15 [==============================] - 0s 26ms/step - loss: 7.6514e-04 - acc: 1.0000 - val_loss: 1.7522 - val_acc: 0.8667\n",
      "Epoch 176/200\n",
      "15/15 [==============================] - 0s 26ms/step - loss: 0.0018 - acc: 1.0000 - val_loss: 1.7374 - val_acc: 0.8667\n",
      "Epoch 177/200\n",
      "15/15 [==============================] - 0s 27ms/step - loss: 0.0116 - acc: 1.0000 - val_loss: 2.6221 - val_acc: 0.8000\n",
      "Epoch 178/200\n",
      "15/15 [==============================] - 0s 26ms/step - loss: 0.1310 - acc: 0.9556 - val_loss: 2.4858 - val_acc: 0.6667\n",
      "Epoch 179/200\n",
      "15/15 [==============================] - 0s 26ms/step - loss: 0.0547 - acc: 0.9778 - val_loss: 2.2590 - val_acc: 0.8000\n",
      "Epoch 180/200\n",
      "15/15 [==============================] - 0s 26ms/step - loss: 0.0155 - acc: 1.0000 - val_loss: 1.7747 - val_acc: 0.8000\n",
      "Epoch 181/200\n",
      "15/15 [==============================] - 0s 26ms/step - loss: 0.0978 - acc: 0.9778 - val_loss: 1.9489 - val_acc: 0.8000\n",
      "Epoch 182/200\n",
      "15/15 [==============================] - 0s 26ms/step - loss: 0.0454 - acc: 0.9778 - val_loss: 2.0164 - val_acc: 0.8000\n",
      "Epoch 183/200\n"
     ]
    },
    {
     "name": "stdout",
     "output_type": "stream",
     "text": [
      "15/15 [==============================] - 0s 26ms/step - loss: 0.0389 - acc: 0.9778 - val_loss: 2.4536 - val_acc: 0.6667\n",
      "Epoch 184/200\n",
      "15/15 [==============================] - 0s 26ms/step - loss: 0.0074 - acc: 1.0000 - val_loss: 3.0709 - val_acc: 0.6667\n",
      "Epoch 185/200\n",
      "15/15 [==============================] - 0s 21ms/step - loss: 0.0260 - acc: 1.0000 - val_loss: 2.6954 - val_acc: 0.6667\n",
      "Epoch 186/200\n",
      "15/15 [==============================] - 0s 21ms/step - loss: 0.0053 - acc: 1.0000 - val_loss: 2.4650 - val_acc: 0.7333\n",
      "Epoch 187/200\n",
      "15/15 [==============================] - 0s 21ms/step - loss: 0.0037 - acc: 1.0000 - val_loss: 2.4481 - val_acc: 0.8000\n",
      "Epoch 188/200\n",
      "15/15 [==============================] - 0s 21ms/step - loss: 0.0049 - acc: 1.0000 - val_loss: 2.4635 - val_acc: 0.8000\n",
      "Epoch 189/200\n",
      "15/15 [==============================] - 0s 21ms/step - loss: 0.0019 - acc: 1.0000 - val_loss: 2.4578 - val_acc: 0.8000\n",
      "Epoch 190/200\n",
      "15/15 [==============================] - 0s 21ms/step - loss: 0.0011 - acc: 1.0000 - val_loss: 2.4466 - val_acc: 0.8000\n",
      "Epoch 191/200\n",
      "15/15 [==============================] - 0s 21ms/step - loss: 0.0161 - acc: 1.0000 - val_loss: 2.3687 - val_acc: 0.8000\n",
      "Epoch 192/200\n",
      "15/15 [==============================] - 0s 21ms/step - loss: 0.0204 - acc: 1.0000 - val_loss: 2.1563 - val_acc: 0.8667\n",
      "Epoch 193/200\n",
      "15/15 [==============================] - 0s 21ms/step - loss: 0.0275 - acc: 0.9778 - val_loss: 2.1010 - val_acc: 0.8667\n",
      "Epoch 194/200\n",
      "15/15 [==============================] - 0s 21ms/step - loss: 0.0128 - acc: 1.0000 - val_loss: 2.1221 - val_acc: 0.8000\n",
      "Epoch 195/200\n",
      "15/15 [==============================] - 0s 21ms/step - loss: 0.0994 - acc: 0.9556 - val_loss: 2.6651 - val_acc: 0.6000\n",
      "Epoch 196/200\n",
      "15/15 [==============================] - 0s 21ms/step - loss: 0.0281 - acc: 0.9778 - val_loss: 3.3987 - val_acc: 0.6000\n",
      "Epoch 197/200\n",
      "15/15 [==============================] - 0s 21ms/step - loss: 0.0040 - acc: 1.0000 - val_loss: 3.2290 - val_acc: 0.6000\n",
      "Epoch 198/200\n",
      "15/15 [==============================] - 0s 21ms/step - loss: 0.0014 - acc: 1.0000 - val_loss: 2.9501 - val_acc: 0.6667\n",
      "Epoch 199/200\n",
      "15/15 [==============================] - 0s 21ms/step - loss: 0.0072 - acc: 1.0000 - val_loss: 2.8244 - val_acc: 0.6667\n",
      "Epoch 200/200\n",
      "15/15 [==============================] - 0s 21ms/step - loss: 0.0028 - acc: 1.0000 - val_loss: 2.7035 - val_acc: 0.6667\n"
     ]
    },
    {
     "data": {
      "text/plain": [
       "<keras.callbacks.History at 0x1fc86f2b408>"
      ]
     },
     "execution_count": 10,
     "metadata": {},
     "output_type": "execute_result"
    }
   ],
   "source": [
    "model.fit_generator(\n",
    "        train_generator,\n",
    "        steps_per_epoch=15,\n",
    "        epochs=200,\n",
    "        validation_data=test_generator,\n",
    "        validation_steps=5)"
   ]
  },
  {
   "cell_type": "markdown",
   "metadata": {
    "colab_type": "text",
    "id": "uT9NEiI-uy52"
   },
   "source": [
    "### 모델 평가하기"
   ]
  },
  {
   "cell_type": "code",
   "execution_count": 11,
   "metadata": {
    "colab": {
     "base_uri": "https://localhost:8080/",
     "height": 53
    },
    "colab_type": "code",
    "id": "XZ8jXxlIu1SE",
    "outputId": "38f36f23-013e-4793-c638-26f0bedb5b6e"
   },
   "outputs": [
    {
     "name": "stdout",
     "output_type": "stream",
     "text": [
      "-- Evaluate --\n",
      "acc: 66.67%\n"
     ]
    }
   ],
   "source": [
    "print(\"-- Evaluate --\")\n",
    "scores = model.evaluate_generator(test_generator, steps=5)\n",
    "print(\"%s: %.2f%%\" %(model.metrics_names[1], scores[1]*100))"
   ]
  },
  {
   "cell_type": "markdown",
   "metadata": {
    "colab_type": "text",
    "id": "QTlRD9Mqu9K6"
   },
   "source": [
    "### 모델 사용하기"
   ]
  },
  {
   "cell_type": "code",
   "execution_count": 12,
   "metadata": {
    "colab": {
     "base_uri": "https://localhost:8080/",
     "height": 323
    },
    "colab_type": "code",
    "id": "Wabhqvy-u48Q",
    "outputId": "d6b6ad06-8b60-4998-8ffb-3468141da43c"
   },
   "outputs": [
    {
     "name": "stdout",
     "output_type": "stream",
     "text": [
      "-- Predict --\n",
      "{'circle': 0, 'rectangle': 1, 'triangle': 2}\n",
      "[[0.000 0.000 1.000]\n",
      " [0.042 0.003 0.955]\n",
      " [0.000 0.000 1.000]\n",
      " [0.000 0.998 0.002]\n",
      " [0.000 0.000 1.000]\n",
      " [0.000 0.000 1.000]\n",
      " [0.000 0.762 0.238]\n",
      " [1.000 0.000 0.000]\n",
      " [0.000 0.000 1.000]\n",
      " [0.007 0.336 0.657]\n",
      " [0.000 0.000 1.000]\n",
      " [0.000 0.000 1.000]\n",
      " [0.950 0.000 0.050]\n",
      " [1.000 0.000 0.000]\n",
      " [0.000 0.024 0.976]]\n"
     ]
    }
   ],
   "source": [
    "print(\"-- Predict --\")\n",
    "output = model.predict_generator(test_generator, steps=5)\n",
    "np.set_printoptions(formatter={'float': lambda x: \"{0:0.3f}\".format(x)})\n",
    "print(test_generator.class_indices)\n",
    "print(output)"
   ]
  },
  {
   "cell_type": "code",
   "execution_count": 0,
   "metadata": {
    "colab": {},
    "colab_type": "code",
    "id": "jVItItOmvZOJ"
   },
   "outputs": [],
   "source": []
  }
 ],
 "metadata": {
  "colab": {
   "collapsed_sections": [],
   "name": "PolygonClassfication_03_DataAugmentation.ipynb",
   "provenance": [],
   "version": "0.3.2"
  },
  "kernelspec": {
   "display_name": "Python 3",
   "language": "python",
   "name": "python3"
  },
  "language_info": {
   "codemirror_mode": {
    "name": "ipython",
    "version": 3
   },
   "file_extension": ".py",
   "mimetype": "text/x-python",
   "name": "python",
   "nbconvert_exporter": "python",
   "pygments_lexer": "ipython3",
   "version": "3.7.4"
  }
 },
 "nbformat": 4,
 "nbformat_minor": 1
}
