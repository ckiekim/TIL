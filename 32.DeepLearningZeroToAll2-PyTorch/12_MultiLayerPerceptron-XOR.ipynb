{
 "cells": [
  {
   "cell_type": "markdown",
   "metadata": {},
   "source": [
    "# Multi Layer Perceptron - XOR"
   ]
  },
  {
   "cell_type": "code",
   "execution_count": 1,
   "metadata": {},
   "outputs": [],
   "source": [
    "import torch\n",
    "import torch.nn as nn\n",
    "import torch.optim as optim"
   ]
  },
  {
   "cell_type": "code",
   "execution_count": 2,
   "metadata": {},
   "outputs": [],
   "source": [
    "device = 'cuda' if torch.cuda.is_available() else 'cpu'\n",
    "\n",
    "# for reproducibility\n",
    "torch.manual_seed(777)\n",
    "if device == 'cuda':\n",
    "    torch.cuda.manual_seed_all(777)"
   ]
  },
  {
   "cell_type": "code",
   "execution_count": 3,
   "metadata": {},
   "outputs": [],
   "source": [
    "X = torch.FloatTensor([[0,0], [0,1], [1,0], [1,1]]).to(device)\n",
    "Y = torch.FloatTensor([[0], [1], [1], [0]]).to(device) "
   ]
  },
  {
   "cell_type": "code",
   "execution_count": 4,
   "metadata": {},
   "outputs": [],
   "source": [
    "# nn layers\n",
    "L1 = nn.Linear(2, 2, bias=True)\n",
    "L2 = nn.Linear(2, 1, bias=True)\n",
    "sigmoid = nn.Sigmoid()"
   ]
  },
  {
   "cell_type": "code",
   "execution_count": 5,
   "metadata": {},
   "outputs": [],
   "source": [
    "# model\n",
    "model = nn.Sequential(L1, sigmoid, L2, sigmoid).to(device)"
   ]
  },
  {
   "cell_type": "code",
   "execution_count": 6,
   "metadata": {},
   "outputs": [],
   "source": [
    "# define cost/loss & optimizer\n",
    "criterion = nn.BCELoss().to(device)\n",
    "optimizer = optim.SGD(model.parameters(), lr=0.5)  # modified learning rate from 0.1 to 1 "
   ]
  },
  {
   "cell_type": "code",
   "execution_count": 7,
   "metadata": {},
   "outputs": [
    {
     "name": "stdout",
     "output_type": "stream",
     "text": [
      "0 0.7434073090553284\n",
      "100 0.6931694149971008\n",
      "200 0.6931649446487427\n",
      "300 0.693161129951477\n",
      "400 0.6931576728820801\n",
      "500 0.6931544542312622\n",
      "600 0.6931515336036682\n",
      "700 0.6931487917900085\n",
      "800 0.6931461095809937\n",
      "900 0.6931434869766235\n",
      "1000 0.6931408047676086\n",
      "1100 0.6931381225585938\n",
      "1200 0.6931353807449341\n",
      "1300 0.6931324005126953\n",
      "1400 0.6931291222572327\n",
      "1500 0.6931256055831909\n",
      "1600 0.6931215524673462\n",
      "1700 0.6931170225143433\n",
      "1800 0.6931118965148926\n",
      "1900 0.693105936050415\n",
      "2000 0.6930989623069763\n",
      "2100 0.693090558052063\n",
      "2200 0.6930807828903198\n",
      "2300 0.6930689811706543\n",
      "2400 0.6930546760559082\n",
      "2500 0.6930371522903442\n",
      "2600 0.6930156946182251\n",
      "2700 0.6929888725280762\n",
      "2800 0.6929552555084229\n",
      "2900 0.6929124593734741\n",
      "3000 0.692857027053833\n",
      "3100 0.6927844285964966\n",
      "3200 0.6926871538162231\n",
      "3300 0.6925531625747681\n",
      "3400 0.6923632025718689\n",
      "3500 0.6920833587646484\n",
      "3600 0.6916517019271851\n",
      "3700 0.6909487247467041\n",
      "3800 0.6897282600402832\n",
      "3900 0.6874508857727051\n",
      "4000 0.6828740239143372\n",
      "4100 0.673099935054779\n",
      "4200 0.6513264179229736\n",
      "4300 0.5880497694015503\n",
      "4400 0.3916133940219879\n",
      "4500 0.20894183218479156\n",
      "4600 0.1252928376197815\n",
      "4700 0.08543826639652252\n",
      "4800 0.06349071860313416\n",
      "4900 0.04997127503156662\n",
      "5000 0.04094082489609718\n",
      "5100 0.0345381423830986\n",
      "5200 0.029788624495267868\n",
      "5300 0.026139091700315475\n",
      "5400 0.023254873231053352\n",
      "5500 0.020922698080539703\n",
      "5600 0.019000902771949768\n",
      "5700 0.01739172637462616\n",
      "5800 0.016025910153985023\n",
      "5900 0.014853043481707573\n",
      "6000 0.013835497200489044\n",
      "6100 0.01294484082609415\n",
      "6200 0.012159052304923534\n",
      "6300 0.011460836976766586\n",
      "6400 0.010836638510227203\n",
      "6500 0.010275300592184067\n",
      "6600 0.009767984971404076\n",
      "6700 0.00930735282599926\n",
      "6800 0.0088872779160738\n",
      "6900 0.008502684533596039\n",
      "7000 0.008149337954819202\n",
      "7100 0.007823612540960312\n",
      "7200 0.0075224325992167\n",
      "7300 0.007243132218718529\n",
      "7400 0.006983454804867506\n",
      "7500 0.006741390563547611\n",
      "7600 0.006515274755656719\n",
      "7700 0.006303580477833748\n",
      "7800 0.006104965694248676\n",
      "7900 0.005918251350522041\n",
      "8000 0.005742455832660198\n",
      "8100 0.00557661522179842\n",
      "8200 0.005419928580522537\n",
      "8300 0.005271673668175936\n",
      "8400 0.005131201818585396\n",
      "8500 0.004997879732400179\n",
      "8600 0.004871211480349302\n",
      "8700 0.004750744439661503\n",
      "8800 0.004635937511920929\n",
      "8900 0.004526534117758274\n",
      "9000 0.004422083031386137\n",
      "9100 0.004322298802435398\n",
      "9200 0.004226804710924625\n",
      "9300 0.004135391674935818\n",
      "9400 0.004047802649438381\n",
      "9500 0.003963797818869352\n",
      "9600 0.0038831669371575117\n",
      "9700 0.003805743996053934\n",
      "9800 0.0037312444765120745\n",
      "9900 0.003659607609733939\n",
      "10000 0.0035905789118260145\n"
     ]
    }
   ],
   "source": [
    "for step in range(10001):\n",
    "    optimizer.zero_grad()\n",
    "    hypothesis = model(X)\n",
    "\n",
    "    # cost/loss function\n",
    "    cost = criterion(hypothesis, Y)\n",
    "    cost.backward()\n",
    "    optimizer.step()\n",
    "\n",
    "    if step % 100 == 0:\n",
    "        print(step, cost.item())"
   ]
  },
  {
   "cell_type": "code",
   "execution_count": 8,
   "metadata": {},
   "outputs": [
    {
     "name": "stdout",
     "output_type": "stream",
     "text": [
      "Hypothesis:  [[0.00306219]\n",
      " [0.9967794 ]\n",
      " [0.9967795 ]\n",
      " [0.00482952]]\n",
      "\n",
      "Correct:  [[0.]\n",
      " [1.]\n",
      " [1.]\n",
      " [0.]]\n",
      "\n",
      "Accuracy:  1.0\n"
     ]
    }
   ],
   "source": [
    "# Accuracy computation\n",
    "# True if hypothesis>0.5 else False\n",
    "with torch.no_grad():\n",
    "    hypothesis = model(X)\n",
    "    predicted = (hypothesis > 0.5).float()\n",
    "    accuracy = (predicted == Y).float().mean()\n",
    "    print('Hypothesis: ', hypothesis.detach().cpu().numpy())\n",
    "    print('\\nCorrect: ', predicted.detach().cpu().numpy()) \n",
    "    print('\\nAccuracy: ', accuracy.item())"
   ]
  },
  {
   "cell_type": "code",
   "execution_count": null,
   "metadata": {},
   "outputs": [],
   "source": []
  }
 ],
 "metadata": {
  "kernelspec": {
   "display_name": "Python 3.7.7 64-bit ('vsc': conda)",
   "language": "python",
   "name": "python37764bitvscconda48cd1de58dbf4dbc9fea30418971662f"
  },
  "language_info": {
   "codemirror_mode": {
    "name": "ipython",
    "version": 3
   },
   "file_extension": ".py",
   "mimetype": "text/x-python",
   "name": "python",
   "nbconvert_exporter": "python",
   "pygments_lexer": "ipython3",
   "version": "3.7.7"
  }
 },
 "nbformat": 4,
 "nbformat_minor": 4
}
