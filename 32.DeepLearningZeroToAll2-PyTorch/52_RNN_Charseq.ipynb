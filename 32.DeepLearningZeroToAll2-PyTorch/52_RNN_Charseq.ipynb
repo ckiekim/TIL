{
 "cells": [
  {
   "cell_type": "markdown",
   "metadata": {},
   "source": [
    "# RNN - Character Sequence"
   ]
  },
  {
   "cell_type": "code",
   "execution_count": 1,
   "metadata": {},
   "outputs": [],
   "source": [
    "import torch\n",
    "import torch.optim as optim\n",
    "import numpy as np"
   ]
  },
  {
   "cell_type": "code",
   "execution_count": 2,
   "metadata": {},
   "outputs": [
    {
     "data": {
      "text/plain": [
       "<torch._C.Generator at 0x2635c933730>"
      ]
     },
     "execution_count": 2,
     "metadata": {},
     "output_type": "execute_result"
    }
   ],
   "source": [
    "# Random seed to make results deterministic and reproducible\n",
    "torch.manual_seed(0) "
   ]
  },
  {
   "cell_type": "code",
   "execution_count": 3,
   "metadata": {},
   "outputs": [],
   "source": [
    "sample = \" if you want you\""
   ]
  },
  {
   "cell_type": "code",
   "execution_count": 4,
   "metadata": {},
   "outputs": [
    {
     "name": "stdout",
     "output_type": "stream",
     "text": [
      "{'o': 0, 'w': 1, 'u': 2, 'f': 3, 'y': 4, 't': 5, 'n': 6, 'i': 7, 'a': 8, ' ': 9}\n"
     ]
    }
   ],
   "source": [
    "# make dictionary\n",
    "char_set = list(set(sample))\n",
    "char_dic = {c: i for i, c in enumerate(char_set)}\n",
    "print(char_dic) "
   ]
  },
  {
   "cell_type": "code",
   "execution_count": 5,
   "metadata": {},
   "outputs": [],
   "source": [
    "# hyper parameters\n",
    "dic_size = len(char_dic)\n",
    "hidden_size = len(char_dic)\n",
    "learning_rate = 0.1"
   ]
  },
  {
   "cell_type": "code",
   "execution_count": 6,
   "metadata": {},
   "outputs": [
    {
     "name": "stdout",
     "output_type": "stream",
     "text": [
      "[9, 7, 3, 9, 4, 0, 2, 9, 1, 8, 6, 5, 9, 4, 0, 2]\n",
      "[[9, 7, 3, 9, 4, 0, 2, 9, 1, 8, 6, 5, 9, 4, 0]]\n",
      "[array([[0., 0., 0., 0., 0., 0., 0., 0., 0., 1.],\n",
      "       [0., 0., 0., 0., 0., 0., 0., 1., 0., 0.],\n",
      "       [0., 0., 0., 1., 0., 0., 0., 0., 0., 0.],\n",
      "       [0., 0., 0., 0., 0., 0., 0., 0., 0., 1.],\n",
      "       [0., 0., 0., 0., 1., 0., 0., 0., 0., 0.],\n",
      "       [1., 0., 0., 0., 0., 0., 0., 0., 0., 0.],\n",
      "       [0., 0., 1., 0., 0., 0., 0., 0., 0., 0.],\n",
      "       [0., 0., 0., 0., 0., 0., 0., 0., 0., 1.],\n",
      "       [0., 1., 0., 0., 0., 0., 0., 0., 0., 0.],\n",
      "       [0., 0., 0., 0., 0., 0., 0., 0., 1., 0.],\n",
      "       [0., 0., 0., 0., 0., 0., 1., 0., 0., 0.],\n",
      "       [0., 0., 0., 0., 0., 1., 0., 0., 0., 0.],\n",
      "       [0., 0., 0., 0., 0., 0., 0., 0., 0., 1.],\n",
      "       [0., 0., 0., 0., 1., 0., 0., 0., 0., 0.],\n",
      "       [1., 0., 0., 0., 0., 0., 0., 0., 0., 0.]])]\n",
      "[[7, 3, 9, 4, 0, 2, 9, 1, 8, 6, 5, 9, 4, 0, 2]]\n"
     ]
    }
   ],
   "source": [
    "# data setting\n",
    "sample_idx = [char_dic[c] for c in sample]\n",
    "x_data = [sample_idx[:-1]]  # 마지막 글자를 뺀 나머지\n",
    "x_one_hot = [np.eye(dic_size)[x] for x in x_data]\n",
    "y_data = [sample_idx[1:]]  # 첫 글자를 뺀 나머지\n",
    "print(sample_idx)\n",
    "print(x_data)\n",
    "print(x_one_hot)\n",
    "print(y_data) "
   ]
  },
  {
   "cell_type": "code",
   "execution_count": 7,
   "metadata": {},
   "outputs": [],
   "source": [
    "# transform as torch tensor variable\n",
    "X = torch.FloatTensor(x_one_hot)\n",
    "Y = torch.LongTensor(y_data) "
   ]
  },
  {
   "cell_type": "code",
   "execution_count": 8,
   "metadata": {},
   "outputs": [],
   "source": [
    "# declare RNN\n",
    "rnn = torch.nn.RNN(dic_size, hidden_size, batch_first=True) "
   ]
  },
  {
   "cell_type": "code",
   "execution_count": 9,
   "metadata": {},
   "outputs": [],
   "source": [
    "# loss & optimizer setting\n",
    "criterion = torch.nn.CrossEntropyLoss()\n",
    "optimizer = optim.Adam(rnn.parameters(), learning_rate) "
   ]
  },
  {
   "cell_type": "code",
   "execution_count": 10,
   "metadata": {},
   "outputs": [
    {
     "name": "stdout",
     "output_type": "stream",
     "text": [
      "0 loss: 2.3267877101898193  prediction: [[8 0 7 0 5 5 8 6 5 8 5 8 0 5 5]]  true Y: [[7, 3, 9, 4, 0, 2, 9, 1, 8, 6, 5, 9, 4, 0, 2]]  prediction str: aoiottantataott\n",
      "1 loss: 2.024956464767456  prediction: [[1 0 9 0 0 0 9 0 0 0 1 0 0 0 0]]  true Y: [[7, 3, 9, 4, 0, 2, 9, 1, 8, 6, 5, 9, 4, 0, 2]]  prediction str: wo ooo ooowoooo\n",
      "2 loss: 1.816588044166565  prediction: [[1 0 9 4 0 0 9 1 0 4 0 9 4 0 0]]  true Y: [[7, 3, 9, 4, 0, 2, 9, 1, 8, 6, 5, 9, 4, 0, 2]]  prediction str: wo yoo woyo yoo\n",
      "3 loss: 1.6573519706726074  prediction: [[4 1 9 4 0 2 9 1 9 4 5 9 4 0 2]]  true Y: [[7, 3, 9, 4, 0, 2, 9, 1, 8, 6, 5, 9, 4, 0, 2]]  prediction str: yw you w yt you\n",
      "4 loss: 1.5243717432022095  prediction: [[4 1 9 4 0 2 9 1 9 4 5 9 4 0 2]]  true Y: [[7, 3, 9, 4, 0, 2, 9, 1, 8, 6, 5, 9, 4, 0, 2]]  prediction str: yw you w yt you\n",
      "5 loss: 1.4089809656143188  prediction: [[4 3 9 4 0 2 4 1 2 4 5 9 4 0 2]]  true Y: [[7, 3, 9, 4, 0, 2, 9, 1, 8, 6, 5, 9, 4, 0, 2]]  prediction str: yf youywuyt you\n",
      "6 loss: 1.3157283067703247  prediction: [[4 3 9 4 0 2 4 1 2 4 5 9 4 0 2]]  true Y: [[7, 3, 9, 4, 0, 2, 9, 1, 8, 6, 5, 9, 4, 0, 2]]  prediction str: yf youywuyt you\n",
      "7 loss: 1.2351356744766235  prediction: [[7 3 9 4 0 2 9 1 2 6 0 2 4 0 2]]  true Y: [[7, 3, 9, 4, 0, 2, 9, 1, 8, 6, 5, 9, 4, 0, 2]]  prediction str: if you wunouyou\n",
      "8 loss: 1.1598014831542969  prediction: [[7 3 9 4 0 2 9 1 2 6 0 2 4 0 2]]  true Y: [[7, 3, 9, 4, 0, 2, 9, 1, 8, 6, 5, 9, 4, 0, 2]]  prediction str: if you wunouyou\n",
      "9 loss: 1.10697340965271  prediction: [[7 3 9 4 0 2 9 1 2 6 0 2 4 0 2]]  true Y: [[7, 3, 9, 4, 0, 2, 9, 1, 8, 6, 5, 9, 4, 0, 2]]  prediction str: if you wunouyou\n",
      "10 loss: 1.0771914720535278  prediction: [[7 3 9 4 0 2 9 1 2 6 0 2 4 0 2]]  true Y: [[7, 3, 9, 4, 0, 2, 9, 1, 8, 6, 5, 9, 4, 0, 2]]  prediction str: if you wunouyou\n",
      "11 loss: 1.046801209449768  prediction: [[7 3 9 4 0 2 9 1 2 6 0 2 4 0 2]]  true Y: [[7, 3, 9, 4, 0, 2, 9, 1, 8, 6, 5, 9, 4, 0, 2]]  prediction str: if you wunouyou\n",
      "12 loss: 1.0223026275634766  prediction: [[7 3 9 4 0 2 9 1 2 6 5 2 4 0 2]]  true Y: [[7, 3, 9, 4, 0, 2, 9, 1, 8, 6, 5, 9, 4, 0, 2]]  prediction str: if you wuntuyou\n",
      "13 loss: 1.0102883577346802  prediction: [[7 3 9 4 0 2 9 1 2 6 5 2 4 0 2]]  true Y: [[7, 3, 9, 4, 0, 2, 9, 1, 8, 6, 5, 9, 4, 0, 2]]  prediction str: if you wuntuyou\n",
      "14 loss: 0.998984158039093  prediction: [[7 3 9 4 0 2 9 1 2 6 5 2 4 0 2]]  true Y: [[7, 3, 9, 4, 0, 2, 9, 1, 8, 6, 5, 9, 4, 0, 2]]  prediction str: if you wuntuyou\n",
      "15 loss: 0.9831768274307251  prediction: [[7 3 9 4 0 2 9 1 8 6 5 2 4 0 2]]  true Y: [[7, 3, 9, 4, 0, 2, 9, 1, 8, 6, 5, 9, 4, 0, 2]]  prediction str: if you wantuyou\n",
      "16 loss: 0.9801486730575562  prediction: [[7 3 9 4 0 2 9 1 8 6 5 2 4 0 2]]  true Y: [[7, 3, 9, 4, 0, 2, 9, 1, 8, 6, 5, 9, 4, 0, 2]]  prediction str: if you wantuyou\n",
      "17 loss: 0.9604929089546204  prediction: [[7 3 9 4 0 2 9 1 8 6 5 2 4 0 2]]  true Y: [[7, 3, 9, 4, 0, 2, 9, 1, 8, 6, 5, 9, 4, 0, 2]]  prediction str: if you wantuyou\n",
      "18 loss: 0.9517518877983093  prediction: [[7 3 9 4 0 2 9 1 8 6 5 2 4 0 2]]  true Y: [[7, 3, 9, 4, 0, 2, 9, 1, 8, 6, 5, 9, 4, 0, 2]]  prediction str: if you wantuyou\n",
      "19 loss: 0.9396811127662659  prediction: [[7 3 9 4 0 2 9 1 8 6 5 2 4 0 2]]  true Y: [[7, 3, 9, 4, 0, 2, 9, 1, 8, 6, 5, 9, 4, 0, 2]]  prediction str: if you wantuyou\n",
      "20 loss: 0.9255119562149048  prediction: [[7 3 9 4 0 2 9 1 8 6 5 2 4 0 2]]  true Y: [[7, 3, 9, 4, 0, 2, 9, 1, 8, 6, 5, 9, 4, 0, 2]]  prediction str: if you wantuyou\n",
      "21 loss: 0.9169347286224365  prediction: [[7 3 9 4 0 2 9 1 8 6 5 2 4 0 2]]  true Y: [[7, 3, 9, 4, 0, 2, 9, 1, 8, 6, 5, 9, 4, 0, 2]]  prediction str: if you wantuyou\n",
      "22 loss: 0.9083912968635559  prediction: [[7 3 9 4 0 2 9 1 8 6 5 9 4 0 2]]  true Y: [[7, 3, 9, 4, 0, 2, 9, 1, 8, 6, 5, 9, 4, 0, 2]]  prediction str: if you want you\n",
      "23 loss: 0.8985927104949951  prediction: [[7 3 9 4 0 2 9 1 8 6 5 9 4 0 2]]  true Y: [[7, 3, 9, 4, 0, 2, 9, 1, 8, 6, 5, 9, 4, 0, 2]]  prediction str: if you want you\n",
      "24 loss: 0.8918706774711609  prediction: [[7 3 9 4 0 2 9 1 8 6 5 9 4 0 2]]  true Y: [[7, 3, 9, 4, 0, 2, 9, 1, 8, 6, 5, 9, 4, 0, 2]]  prediction str: if you want you\n",
      "25 loss: 0.8867420554161072  prediction: [[7 3 9 4 0 2 9 1 8 6 5 9 4 0 2]]  true Y: [[7, 3, 9, 4, 0, 2, 9, 1, 8, 6, 5, 9, 4, 0, 2]]  prediction str: if you want you\n",
      "26 loss: 0.8826504349708557  prediction: [[7 3 9 4 0 2 9 1 8 6 5 9 4 0 2]]  true Y: [[7, 3, 9, 4, 0, 2, 9, 1, 8, 6, 5, 9, 4, 0, 2]]  prediction str: if you want you\n",
      "27 loss: 0.8774225115776062  prediction: [[7 3 9 4 0 2 9 1 8 6 5 9 4 0 2]]  true Y: [[7, 3, 9, 4, 0, 2, 9, 1, 8, 6, 5, 9, 4, 0, 2]]  prediction str: if you want you\n",
      "28 loss: 0.8732448220252991  prediction: [[7 3 9 4 0 2 9 1 8 6 5 9 4 0 2]]  true Y: [[7, 3, 9, 4, 0, 2, 9, 1, 8, 6, 5, 9, 4, 0, 2]]  prediction str: if you want you\n",
      "29 loss: 0.8693374395370483  prediction: [[7 3 9 4 0 2 9 1 8 6 5 9 4 0 2]]  true Y: [[7, 3, 9, 4, 0, 2, 9, 1, 8, 6, 5, 9, 4, 0, 2]]  prediction str: if you want you\n",
      "30 loss: 0.8655300140380859  prediction: [[7 3 9 4 0 2 9 1 8 6 5 9 4 0 2]]  true Y: [[7, 3, 9, 4, 0, 2, 9, 1, 8, 6, 5, 9, 4, 0, 2]]  prediction str: if you want you\n",
      "31 loss: 0.8618561029434204  prediction: [[7 3 9 4 0 2 9 1 8 6 5 9 4 0 2]]  true Y: [[7, 3, 9, 4, 0, 2, 9, 1, 8, 6, 5, 9, 4, 0, 2]]  prediction str: if you want you\n",
      "32 loss: 0.8577519655227661  prediction: [[7 3 9 4 0 2 9 1 8 6 5 9 4 0 2]]  true Y: [[7, 3, 9, 4, 0, 2, 9, 1, 8, 6, 5, 9, 4, 0, 2]]  prediction str: if you want you\n",
      "33 loss: 0.8546478152275085  prediction: [[7 3 9 4 0 2 9 1 8 6 5 9 4 0 2]]  true Y: [[7, 3, 9, 4, 0, 2, 9, 1, 8, 6, 5, 9, 4, 0, 2]]  prediction str: if you want you\n",
      "34 loss: 0.8513965606689453  prediction: [[7 3 9 4 0 2 9 1 8 6 5 9 4 0 2]]  true Y: [[7, 3, 9, 4, 0, 2, 9, 1, 8, 6, 5, 9, 4, 0, 2]]  prediction str: if you want you\n",
      "35 loss: 0.847249448299408  prediction: [[7 3 9 4 0 2 9 1 8 6 5 9 4 0 2]]  true Y: [[7, 3, 9, 4, 0, 2, 9, 1, 8, 6, 5, 9, 4, 0, 2]]  prediction str: if you want you\n",
      "36 loss: 0.8417646288871765  prediction: [[7 3 9 4 0 2 9 1 8 6 5 9 4 0 2]]  true Y: [[7, 3, 9, 4, 0, 2, 9, 1, 8, 6, 5, 9, 4, 0, 2]]  prediction str: if you want you\n",
      "37 loss: 0.8358734250068665  prediction: [[7 3 9 4 0 2 9 1 8 6 5 9 4 0 2]]  true Y: [[7, 3, 9, 4, 0, 2, 9, 1, 8, 6, 5, 9, 4, 0, 2]]  prediction str: if you want you\n",
      "38 loss: 0.8316747546195984  prediction: [[7 3 9 4 0 2 9 1 8 6 5 9 4 0 2]]  true Y: [[7, 3, 9, 4, 0, 2, 9, 1, 8, 6, 5, 9, 4, 0, 2]]  prediction str: if you want you\n",
      "39 loss: 0.8297950029373169  prediction: [[7 3 9 4 0 2 9 1 8 6 5 9 4 0 2]]  true Y: [[7, 3, 9, 4, 0, 2, 9, 1, 8, 6, 5, 9, 4, 0, 2]]  prediction str: if you want you\n",
      "40 loss: 0.8284074068069458  prediction: [[7 3 9 4 0 2 9 1 8 6 5 9 4 0 2]]  true Y: [[7, 3, 9, 4, 0, 2, 9, 1, 8, 6, 5, 9, 4, 0, 2]]  prediction str: if you want you\n",
      "41 loss: 0.8267478346824646  prediction: [[7 3 9 4 0 2 9 1 8 6 5 9 4 0 2]]  true Y: [[7, 3, 9, 4, 0, 2, 9, 1, 8, 6, 5, 9, 4, 0, 2]]  prediction str: if you want you\n",
      "42 loss: 0.8252810835838318  prediction: [[7 3 9 4 0 2 9 1 8 6 5 9 4 0 2]]  true Y: [[7, 3, 9, 4, 0, 2, 9, 1, 8, 6, 5, 9, 4, 0, 2]]  prediction str: if you want you\n",
      "43 loss: 0.8242092132568359  prediction: [[7 3 9 4 0 2 9 1 8 6 5 9 4 0 2]]  true Y: [[7, 3, 9, 4, 0, 2, 9, 1, 8, 6, 5, 9, 4, 0, 2]]  prediction str: if you want you\n",
      "44 loss: 0.8233517408370972  prediction: [[7 3 9 4 0 2 9 1 8 6 5 9 4 0 2]]  true Y: [[7, 3, 9, 4, 0, 2, 9, 1, 8, 6, 5, 9, 4, 0, 2]]  prediction str: if you want you\n",
      "45 loss: 0.8225685954093933  prediction: [[7 3 9 4 0 2 9 1 8 6 5 9 4 0 2]]  true Y: [[7, 3, 9, 4, 0, 2, 9, 1, 8, 6, 5, 9, 4, 0, 2]]  prediction str: if you want you\n",
      "46 loss: 0.8216403722763062  prediction: [[7 3 9 4 0 2 9 1 8 6 5 9 4 0 2]]  true Y: [[7, 3, 9, 4, 0, 2, 9, 1, 8, 6, 5, 9, 4, 0, 2]]  prediction str: if you want you\n",
      "47 loss: 0.8206264972686768  prediction: [[7 3 9 4 0 2 9 1 8 6 5 9 4 0 2]]  true Y: [[7, 3, 9, 4, 0, 2, 9, 1, 8, 6, 5, 9, 4, 0, 2]]  prediction str: if you want you\n",
      "48 loss: 0.819723904132843  prediction: [[7 3 9 4 0 2 9 1 8 6 5 9 4 0 2]]  true Y: [[7, 3, 9, 4, 0, 2, 9, 1, 8, 6, 5, 9, 4, 0, 2]]  prediction str: if you want you\n",
      "49 loss: 0.8189456462860107  prediction: [[7 3 9 4 0 2 9 1 8 6 5 9 4 0 2]]  true Y: [[7, 3, 9, 4, 0, 2, 9, 1, 8, 6, 5, 9, 4, 0, 2]]  prediction str: if you want you\n"
     ]
    }
   ],
   "source": [
    "# start training\n",
    "for i in range(50):\n",
    "    optimizer.zero_grad()\n",
    "    outputs, _status = rnn(X)\n",
    "    loss = criterion(outputs.view(-1, dic_size), Y.view(-1))\n",
    "    loss.backward()\n",
    "    optimizer.step()\n",
    "\n",
    "    result = outputs.data.numpy().argmax(axis=2)\n",
    "    result_str = ''.join([char_set[c] for c in np.squeeze(result)])\n",
    "    print(i, \"loss:\", loss.item(), \" prediction:\", result, \n",
    "          \" true Y:\", y_data, \" prediction str:\", result_str)"
   ]
  },
  {
   "cell_type": "code",
   "execution_count": null,
   "metadata": {},
   "outputs": [],
   "source": []
  }
 ],
 "metadata": {
  "kernelspec": {
   "display_name": "Python 3.7.7 64-bit ('vsc': conda)",
   "language": "python",
   "name": "python37764bitvscconda48cd1de58dbf4dbc9fea30418971662f"
  },
  "language_info": {
   "codemirror_mode": {
    "name": "ipython",
    "version": 3
   },
   "file_extension": ".py",
   "mimetype": "text/x-python",
   "name": "python",
   "nbconvert_exporter": "python",
   "pygments_lexer": "ipython3",
   "version": "3.7.7"
  }
 },
 "nbformat": 4,
 "nbformat_minor": 4
}
