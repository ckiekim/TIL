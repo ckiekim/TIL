{
 "cells": [
  {
   "cell_type": "markdown",
   "metadata": {},
   "source": [
    "# RNN - Long Sequence"
   ]
  },
  {
   "cell_type": "code",
   "execution_count": 1,
   "metadata": {},
   "outputs": [],
   "source": [
    "import torch\n",
    "import numpy as np"
   ]
  },
  {
   "cell_type": "code",
   "execution_count": 2,
   "metadata": {},
   "outputs": [
    {
     "data": {
      "text/plain": [
       "<torch._C.Generator at 0x12f4c074710>"
      ]
     },
     "execution_count": 2,
     "metadata": {},
     "output_type": "execute_result"
    }
   ],
   "source": [
    "# Random seed to make results deterministic and reproducible\n",
    "torch.manual_seed(0) "
   ]
  },
  {
   "cell_type": "code",
   "execution_count": 3,
   "metadata": {},
   "outputs": [],
   "source": [
    "sentence = (\"if you want to build a ship, don't drum up people together to \"\n",
    "            \"collect wood and don't assign them tasks and work, but rather \"\n",
    "            \"teach them to long for the endless immensity of the sea.\") "
   ]
  },
  {
   "cell_type": "code",
   "execution_count": 4,
   "metadata": {},
   "outputs": [
    {
     "name": "stdout",
     "output_type": "stream",
     "text": [
      "{'t': 0, 'g': 1, '.': 2, 'i': 3, 'u': 4, 'w': 5, 'c': 6, 'e': 7, 'd': 8, \"'\": 9, 'p': 10, 'f': 11, 'o': 12, 'a': 13, 'n': 14, 'b': 15, 'l': 16, 'k': 17, 'm': 18, 'r': 19, 'h': 20, 'y': 21, ' ': 22, 's': 23, ',': 24}\n"
     ]
    }
   ],
   "source": [
    "# make dictionary\n",
    "char_set = list(set(sentence))\n",
    "char_dic = {c: i for i, c in enumerate(char_set)}\n",
    "print(char_dic) "
   ]
  },
  {
   "cell_type": "code",
   "execution_count": 5,
   "metadata": {},
   "outputs": [],
   "source": [
    "# hyper parameters\n",
    "dic_size = len(char_dic)\n",
    "hidden_size = len(char_dic)\n",
    "sequence_length = 10  # Any arbitrary number\n",
    "learning_rate = 0.1"
   ]
  },
  {
   "cell_type": "code",
   "execution_count": 6,
   "metadata": {},
   "outputs": [
    {
     "name": "stdout",
     "output_type": "stream",
     "text": [
      "0 if you wan -> f you want\n",
      "1 f you want ->  you want \n",
      "2  you want  -> you want t\n",
      "3 you want t -> ou want to\n",
      "4 ou want to -> u want to \n",
      "5 u want to  ->  want to b\n",
      "6  want to b -> want to bu\n",
      "7 want to bu -> ant to bui\n",
      "8 ant to bui -> nt to buil\n",
      "9 nt to buil -> t to build\n",
      "10 t to build ->  to build \n",
      "11  to build  -> to build a\n",
      "12 to build a -> o build a \n",
      "13 o build a  ->  build a s\n",
      "14  build a s -> build a sh\n",
      "15 build a sh -> uild a shi\n",
      "16 uild a shi -> ild a ship\n",
      "17 ild a ship -> ld a ship,\n",
      "18 ld a ship, -> d a ship, \n",
      "19 d a ship,  ->  a ship, d\n",
      "20  a ship, d -> a ship, do\n",
      "21 a ship, do ->  ship, don\n",
      "22  ship, don -> ship, don'\n",
      "23 ship, don' -> hip, don't\n",
      "24 hip, don't -> ip, don't \n",
      "25 ip, don't  -> p, don't d\n",
      "26 p, don't d -> , don't dr\n",
      "27 , don't dr ->  don't dru\n",
      "28  don't dru -> don't drum\n",
      "29 don't drum -> on't drum \n",
      "30 on't drum  -> n't drum u\n",
      "31 n't drum u -> 't drum up\n",
      "32 't drum up -> t drum up \n",
      "33 t drum up  ->  drum up p\n",
      "34  drum up p -> drum up pe\n",
      "35 drum up pe -> rum up peo\n",
      "36 rum up peo -> um up peop\n",
      "37 um up peop -> m up peopl\n",
      "38 m up peopl ->  up people\n",
      "39  up people -> up people \n",
      "40 up people  -> p people t\n",
      "41 p people t ->  people to\n",
      "42  people to -> people tog\n",
      "43 people tog -> eople toge\n",
      "44 eople toge -> ople toget\n",
      "45 ople toget -> ple togeth\n",
      "46 ple togeth -> le togethe\n",
      "47 le togethe -> e together\n",
      "48 e together ->  together \n",
      "49  together  -> together t\n",
      "50 together t -> ogether to\n",
      "51 ogether to -> gether to \n",
      "52 gether to  -> ether to c\n",
      "53 ether to c -> ther to co\n",
      "54 ther to co -> her to col\n",
      "55 her to col -> er to coll\n",
      "56 er to coll -> r to colle\n",
      "57 r to colle ->  to collec\n",
      "58  to collec -> to collect\n",
      "59 to collect -> o collect \n",
      "60 o collect  ->  collect w\n",
      "61  collect w -> collect wo\n",
      "62 collect wo -> ollect woo\n",
      "63 ollect woo -> llect wood\n",
      "64 llect wood -> lect wood \n",
      "65 lect wood  -> ect wood a\n",
      "66 ect wood a -> ct wood an\n",
      "67 ct wood an -> t wood and\n",
      "68 t wood and ->  wood and \n",
      "69  wood and  -> wood and d\n",
      "70 wood and d -> ood and do\n",
      "71 ood and do -> od and don\n",
      "72 od and don -> d and don'\n",
      "73 d and don' ->  and don't\n",
      "74  and don't -> and don't \n",
      "75 and don't  -> nd don't a\n",
      "76 nd don't a -> d don't as\n",
      "77 d don't as ->  don't ass\n",
      "78  don't ass -> don't assi\n",
      "79 don't assi -> on't assig\n",
      "80 on't assig -> n't assign\n",
      "81 n't assign -> 't assign \n",
      "82 't assign  -> t assign t\n",
      "83 t assign t ->  assign th\n",
      "84  assign th -> assign the\n",
      "85 assign the -> ssign them\n",
      "86 ssign them -> sign them \n",
      "87 sign them  -> ign them t\n",
      "88 ign them t -> gn them ta\n",
      "89 gn them ta -> n them tas\n",
      "90 n them tas ->  them task\n",
      "91  them task -> them tasks\n",
      "92 them tasks -> hem tasks \n",
      "93 hem tasks  -> em tasks a\n",
      "94 em tasks a -> m tasks an\n",
      "95 m tasks an ->  tasks and\n",
      "96  tasks and -> tasks and \n",
      "97 tasks and  -> asks and w\n",
      "98 asks and w -> sks and wo\n",
      "99 sks and wo -> ks and wor\n",
      "100 ks and wor -> s and work\n",
      "101 s and work ->  and work,\n",
      "102  and work, -> and work, \n",
      "103 and work,  -> nd work, b\n",
      "104 nd work, b -> d work, bu\n",
      "105 d work, bu ->  work, but\n",
      "106  work, but -> work, but \n",
      "107 work, but  -> ork, but r\n",
      "108 ork, but r -> rk, but ra\n",
      "109 rk, but ra -> k, but rat\n",
      "110 k, but rat -> , but rath\n",
      "111 , but rath ->  but rathe\n",
      "112  but rathe -> but rather\n",
      "113 but rather -> ut rather \n",
      "114 ut rather  -> t rather t\n",
      "115 t rather t ->  rather te\n",
      "116  rather te -> rather tea\n",
      "117 rather tea -> ather teac\n",
      "118 ather teac -> ther teach\n",
      "119 ther teach -> her teach \n",
      "120 her teach  -> er teach t\n",
      "121 er teach t -> r teach th\n",
      "122 r teach th ->  teach the\n",
      "123  teach the -> teach them\n",
      "124 teach them -> each them \n",
      "125 each them  -> ach them t\n",
      "126 ach them t -> ch them to\n",
      "127 ch them to -> h them to \n",
      "128 h them to  ->  them to l\n",
      "129  them to l -> them to lo\n",
      "130 them to lo -> hem to lon\n",
      "131 hem to lon -> em to long\n",
      "132 em to long -> m to long \n",
      "133 m to long  ->  to long f\n",
      "134  to long f -> to long fo\n",
      "135 to long fo -> o long for\n",
      "136 o long for ->  long for \n",
      "137  long for  -> long for t\n",
      "138 long for t -> ong for th\n",
      "139 ong for th -> ng for the\n",
      "140 ng for the -> g for the \n",
      "141 g for the  ->  for the e\n",
      "142  for the e -> for the en\n",
      "143 for the en -> or the end\n",
      "144 or the end -> r the endl\n",
      "145 r the endl ->  the endle\n",
      "146  the endle -> the endles\n",
      "147 the endles -> he endless\n",
      "148 he endless -> e endless \n",
      "149 e endless  ->  endless i\n",
      "150  endless i -> endless im\n",
      "151 endless im -> ndless imm\n",
      "152 ndless imm -> dless imme\n",
      "153 dless imme -> less immen\n",
      "154 less immen -> ess immens\n",
      "155 ess immens -> ss immensi\n",
      "156 ss immensi -> s immensit\n",
      "157 s immensit ->  immensity\n",
      "158  immensity -> immensity \n",
      "159 immensity  -> mmensity o\n",
      "160 mmensity o -> mensity of\n",
      "161 mensity of -> ensity of \n",
      "162 ensity of  -> nsity of t\n",
      "163 nsity of t -> sity of th\n",
      "164 sity of th -> ity of the\n",
      "165 ity of the -> ty of the \n",
      "166 ty of the  -> y of the s\n",
      "167 y of the s ->  of the se\n",
      "168  of the se -> of the sea\n",
      "169 of the sea -> f the sea.\n"
     ]
    }
   ],
   "source": [
    "# data setting\n",
    "x_data = []\n",
    "y_data = []\n",
    "\n",
    "for i in range(0, len(sentence) - sequence_length):\n",
    "    x_str = sentence[i:i + sequence_length]\n",
    "    y_str = sentence[i + 1: i + sequence_length + 1]\n",
    "    print(i, x_str, '->', y_str)\n",
    "\n",
    "    x_data.append([char_dic[c] for c in x_str])  # x str to index\n",
    "    y_data.append([char_dic[c] for c in y_str])  # y str to index\n",
    "\n",
    "x_one_hot = [np.eye(dic_size)[x] for x in x_data]"
   ]
  },
  {
   "cell_type": "code",
   "execution_count": 7,
   "metadata": {},
   "outputs": [],
   "source": [
    "# transform as torch tensor variable\n",
    "X = torch.FloatTensor(x_one_hot)\n",
    "Y = torch.LongTensor(y_data) "
   ]
  },
  {
   "cell_type": "code",
   "execution_count": 8,
   "metadata": {},
   "outputs": [
    {
     "data": {
      "text/plain": [
       "Net(\n",
       "  (rnn): RNN(25, 25, num_layers=2, batch_first=True)\n",
       "  (fc): Linear(in_features=25, out_features=25, bias=True)\n",
       ")"
      ]
     },
     "execution_count": 8,
     "metadata": {},
     "output_type": "execute_result"
    }
   ],
   "source": [
    "# declare RNN + FC\n",
    "class Net(torch.nn.Module):\n",
    "    def __init__(self, input_dim, hidden_dim, layers):\n",
    "        super(Net, self).__init__()\n",
    "        self.rnn = torch.nn.RNN(input_dim, hidden_dim, num_layers=layers, batch_first=True)\n",
    "        self.fc = torch.nn.Linear(hidden_dim, hidden_dim, bias=True)\n",
    "\n",
    "    def forward(self, x):\n",
    "        x, _status = self.rnn(x)\n",
    "        x = self.fc(x)\n",
    "        return x\n",
    "\n",
    "net = Net(dic_size, hidden_size, 2)\n",
    "net"
   ]
  },
  {
   "cell_type": "code",
   "execution_count": 9,
   "metadata": {},
   "outputs": [],
   "source": [
    "# loss & optimizer setting\n",
    "criterion = torch.nn.CrossEntropyLoss()\n",
    "optimizer = torch.optim.Adam(net.parameters(), learning_rate) "
   ]
  },
  {
   "cell_type": "code",
   "execution_count": 10,
   "metadata": {},
   "outputs": [
    {
     "name": "stdout",
     "output_type": "stream",
     "text": [
      "0 - eaaoaaaoaaaeaeaoaaoeeaaaeaaeaaaaeaeaoaaoaaaaoaaoooaoaeoeooeaoeoaooeoaooaaaoaaaeaaaeaeaaaeoaeaeoaoaaaooeaaeeoamooeoaaooaaeooeaoooooaooaoaeaoeaoeaoeeaeooooaoooaaaeeoameaeoaaoaeooaoa\n",
      "1 -                                                                                                                                                                                    \n",
      "2 - u,.o u.e uuu,uuuuuuuuuuuuuuuu,uuuuuuuuu,uuuuuuuuuuuuuuuuuuuuuuuuuuuuuuuuuuuuuuuuuuu,uuuuu,uuu,uuuuuuuuuuuuuuuuu,uuuuu,uuu,uuu,uuu,uuuuuuuuuuuuuuuuuuuuuuuuuuuuu,uuuuuuuuuuuuuuuuuuu\n",
      "3 -    hef   hhhhhhe  hhhhhe hhhhehh hhhhhhh hhhh hhhhhhhhhhhhhhhhhhhhhhhhhhhh  hhhhhhhh  hhh hhhe   hhhhhhhhhh   hh hhehhhhhh hhhh hhhhhh  hhhhh hhhheh  hhh hhhhhhhhhh  hhhhh   hhhhh\n",
      "4 -        a        a                                       n                a                                                                         a               a               \n",
      "5 -  ttttt  n..t'net a.et gt mc .tt  ael.t   ,.uue,kl.tttt tttte e,e.e.tgete  ti. t   gt ,. i t t t a aeg t gta   a ae.t u,mgt atgea ae.tfa ael,..gtt t  m.teattt gt  at  a t..tua.kgta\n",
      "6 -  getttee teeeee eem t e  ee e e e e  t eeeee eeeeegg eett eeeeme e   eeee e e t e tee   e tee e ee  e e t eee t eeeee et t ee  t ee e eeeeee  e e te eee  ee  e   e  ee ee ee ee e \n",
      "7 -  g                                                                                                                                                                                 \n",
      "8 -                                                                                                                                                                                    \n",
      "9 -  t       t  o   t t t t       n t    t t    o  t t      t t   o t  t to   t t t t t         o n t     t t t   t t t    o t t     t  o to    t t t t  o    t t t   o   o t     o    \n",
      "10 -  t  t  o t tont t t t t t t t t t t  t t  t t tt t t tt t t  tt t  t t  n t t t t t t     t o t t tt  t t t n t t t t t  t t ttt t  t t t t t t t t  tttt t t t   tt  t t  t  t t  \n",
      "11 -  tt t t  thth t t t t t     t t t t  t t  t tn t th  tt t th th t  t t    t t t t t t     t t h t   t t t t t t t t t tt t th tt th t t  tt t t t t  t tt t t t   tt  t t  t  t  t \n",
      "12 -  mo m r  thth t t h t t     t   t t  t te mete t th  to t th eh    t to   t t t r t       t h h to  t t t t   t t mh   o m th  t t  m to rm t t   mo te t t   t   t   o m  to mo r \n",
      "13 -  r  r do doto to  r t t eet d r d d tm t  t r tt do ea  d do eo t  d to   d t t r det e  r eo d to rt t d do  d d ttt r  r t  et do m to  o t d r to r  t r   d e    ld m  to mt   \n",
      "14 -  r  t do toto lo lr d t e t t r d t tt to t e  t do  a  r do to    d to l d d d d d t d ld to d th st d d do ld dottt    g to st do m to lo d d r do r  d d s d e  t ld do t  t    \n",
      "15 -  t  e to toto lo lt t t e t t n t t  t to t et t do  t    to to l lt to l t t t g t t s lt to t thest t t to ld tot t eo t toeit do t th lo t t d to to tlt g t l tt tt to th sto  \n",
      "16 - ett n to t toetot t t t eet t n t t eo th toettt toeethin to wo l lo to i t t t n t tos it to m th nt t t tonit tot t th m to nt to t th lont t n to mo t in  t i tt to to th et l \n",
      "17 - eet n oo t th tot t t t n t t n t t ee th toettm tonnthin to wone it tonn t t t n t tnn im to m th nt t t tonit tot t th m to no to m th iont t n to m nt tnnit i tt to to th mt in\n",
      "18 - ent t to t th tot m t t n m t n t t nm th moetto to etoen t   on  et to n t d t n t t n nm to m th nt t t tonet tot t th m t  no toem thewont t n th m et tns t n et tm t  th mt e \n",
      "19 - ert d to d to ,ot m t t enm t nlm t nm toem eoeo to eeoem th  o e et to e t d t n t t n mm to m to oa t d tonet tot m th m th eo to m thewon' d s to m od  ns t n e  lm a  th ma en\n",
      "20 - ira r do d do woelm aot imm tonlt t  m toem eoet dheetoem to lo l et do i t d t slt ton em do m to ra t d to ld tot m to m to mo to m toeko g d d to mand e s t r t  io a  toema t \n",
      "21 - ira r to d to loeim aop elm toeetoto t t  m eoet theetoem toelo llet to eet deto lm toneem toem to ra tosetoeet t t p them to ko toem toelo d t r toemtod e s toeee iio r  toert t \n",
      "22 - ira r wort to loelm t t iet t rlt toet to m ro l thsethem theloellet to i t d tosgt tosllm them thert t d torlt tot t them th cs toem theloel t s thertoilt s t r e iih r  thert t \n",
      "23 - lks n wont toscoels toa imt ton t tont to pon l ethsgthem thslo glks tosg t d tos t tossls ther thsst tod tongt tot t ther th ks toer tosloeg ton thertss i sstom m ity r  thert t \n",
      "24 - lnaoa tont toscoelp t aoimm ton t aont to ponel  toeethec to loe lct tong and ton t aoo cn toem toekt tod ton t tot t toem toeco toem toecon  ton toema d s t toneeaito po toera t \n",
      "25 - lnaoa to a to loelo t a imm ton t tonm to poo lt the them toecoelent tonk a d ton t ann mn them toekt tod ton t tom t toem toeca toem toecon' too themtoa m s tonepaito po thema t \n",
      "26 - inaod tont toeboilt t t imm ton t aodm to p od t thi them to loillct tond tnd ton t anssen them toskt tnd ton t tnt t them to ct toem toelond ton themtoilens tonee ity po themtnt \n",
      "27 - lnaod aont toiboilt tnt imn ton't aodm to p a  , thi them to loillct tond and ton't ansiin them thska tnd ton , tot t them th cs toem to lond wod themtnilens ton p ity yo thertnt \n",
      "28 - lnson sont woeboils a t ic, ton't aoem to p od p theether to loelent wond and won't ansdln ther toscs and wool, tut pathem to cs woem to lond aod themtndlenssaon e ity oo uhertnss\n",
      "29 - lrsoo sont toeloils a t il, ton't aoem to p o le theether to loelect wond tnd ton't ansdln ther tosct tnd tool, tut uather to cs toer to lom' wod themtodlensston paity oo thertns \n",
      "30 - lrson wont toeloilt s t il, tor't toem to p omle the them to lo lect tond tnd ton't tnsiln toer toscs tnd ton , tut t them to co toem toelom' wod themtod lct tomepaity yo thertnt \n",
      "31 - p son wont to boilt s t ie, ton t toep to peomle thgethem to lo lect wond tnd ton t tnsiln them tosks and ton , tut t them to cs toem to lon' wod themtnd ess aomepaity oo themtnts\n",
      "32 - p son sont wheboilt a a ip, bon t aood pn p omle thgethem to lo lect aond and ton't snnign them tosks and tonk, tut pathem to ch them to lon' won themtnd ens aomepaity oo themtnss\n",
      "33 - p son cost theboilt a a ip, bon't aoep to peomle thgethem to lo lect aond and ton't ansign them tosca and tonk, tut eathem to ch them to lon' aon themtndlensianmepaity oo themtnsi\n",
      "34 - p aon dost toeboilt t ahip, don't aoem to peonle thgether to lo lect wond and ton't ansiin them tosca and donk, tut eathem to ch them to lon' won themtndlensianmetaity oo themensi\n",
      "35 - p soo wost toeboilt e ahip, don't aoam epepeomle together to lo lect wond and don't ansiin them toska and donk, tut tathem toacs them to lon'lwon themendlensianmetaity oo themenss\n",
      "36 - p aon wosd toeboilt t ship, don't aoam te peomle together to lo lect wond wnd don't ansign them tosks and donk, tut tathem toacs them th lon' won themendlens anmetsity of themensl\n",
      "37 - p eor eosd toeboilt a ship, don't aoum ee peomle together to lo lect wond wnd don't ansign them tosks and donk, tut tathem toach them to lon' wor themendless ammetsity oe themenss\n",
      "38 - p eoo wont toeboilt s ahip, don't aoum ep peomle together to lo lect aond and don't ansign them tosks and donk, tut aathem toach them to lon' won themendless ammetsity oe themenss\n",
      "39 - p eoo wont to built s ship, don't aoum ep people together to lollect word and don't ansign them thsks and donk, tut aathem toach them th lon' fon themendless ammensity of themenss\n",
      "40 - p eoo wont to builn a ship, don't aoum ep ceople together to collect word and don't ansign them tosks and donk, tut aathem toach them to lon' for themendless dmmensity of themenss\n",
      "41 - p ero wont to builn a ship, don't aoum ep people together to lollect wood and don't ansign them tosks and donk, tut uathem toach them to lon' for themendless ammemsity of theme ss\n",
      "42 - p ero wont to build a ship, don't aoum ep people together to collect wood and don't ansign them tosks and donk, tut uathem toach them to lon' for themendlens ammemsity of theme ss\n",
      "43 - p eou wont to build a ship, don't aoum ep people together to collect wood and don't ansign them thsks and donk, but eathem toach them th lon' for themendlens ammensity of themeess\n",
      "44 - p eou wont to build a ship, don't aoum ep people together to collect wood and don't ansign them tosks and dork, but eathem toach them to lon' for themendlens ammensity of themeets\n",
      "45 - p eou wont to build a ship, don't arum ep people together to collect word and don't ansign them tosks and donk, but uathem toach them to lon' fon themendlens immensity of theme s \n",
      "46 - p eou wont to build a ship, don't arum ep people together to collect wood and don't ansign them tosks and work, but eathem toach them to long for themendlens wmmensity of themees \n",
      "47 - p eor want to build a ship, don't arum ep people together to collect wood and don't ansign them tosks and wook, but rathem toach them to cong for themendlens ammensity of themeesc\n",
      "48 - p eou want to build a ship, don't arum ep poople together to collect wood and don't ansign them thsks and dook, but rathem toacs them th cong for themendlens immensity of theme as\n",
      "49 - p eou want to build a ship, don't arum ep people together to lollect wood and don't ansign them tosks and dook, but uatoem toacs them to cong for themendless immensity of themeeas\n"
     ]
    },
    {
     "name": "stdout",
     "output_type": "stream",
     "text": [
      "50 - f eou want to build a ship, don't arum rp people together to collect wood and don't ansign them tosks and dork, but rathem toacs them to long for themendless dmmensity of themeea \n",
      "51 - f eou want to build a ship, don't arum rp people together to lollect word and don't ansign them tosks ind dork, but rathem toacs them to long for themendless immensity of themeea \n",
      "52 - f eou want to build a ship, don't arum up people together to collect word and don't ansign them thsks and dork, but rather toacs them th long for themendless immensity of themeeac\n",
      "53 - f eou want to build a ship, don't arum up people together to collect wood and don't ansign them tosks and dork, but rather toach them to cong for themendless immensity of themeeac\n",
      "54 - f eou want to build a ship, don't arum up people together to collect wood and don't ansign them tosks and work, but rather toach them to cong for themendless immensity of themeeac\n",
      "55 - f eou want to build a ship, don't arum up people together to collect wood and won't assign them thsks and work, but rather toach them th long for themendless immensity of themeeac\n",
      "56 - f eou want to build a ship, don't arum up people together to collect wood and don't assign them tosks and dork, but rather toach them to long for themsndless immensity of themseac\n",
      "57 - f eou want to build a ship, don't arum up people together to collect wood and don't assign them taskskand dork, but rather toach them ta long for therendless immensity of themeeac\n",
      "58 - f eou want to build a ship, don't arum up people together to collect wood and don't assign them tasks and dork, but rather toach them ta long for themendless immensity of themeeae\n",
      "59 - f eou want to build a ship, don't arum up people together to collect wood and don't assign them tosks and work, but rather toach them to cong for themendless immensity of themseac\n",
      "60 - f eou want to build a ship, don't arum up people together to collect wood and don't assign them tasks and dork, but rather toach them ta long for themsndless immensity of themseac\n",
      "61 - t eou want to build a ship, don't arum up people together to collect wood and don't assign them tosks and work, but rather toach them to long for themendless immensity of themeeac\n",
      "62 - t eou want to build a ship, don't arum up people together to collect wood and don't assign them tosks and work, but rather toach them to long for themsndless immensity of themsea \n",
      "63 - t eou want to build a ship, don't arum up people together to lollect wood and don't assign them tosks and work, but rather toach them to long for themendless immensity of themseac\n",
      "64 - t eou want to build a ship, don't arum up people together to collect wood and don't assign them tosks and work, but rather toach them to long for themendless immensity of themseac\n",
      "65 - t eou want to build a ship, don't arum up people together to collect wood and don't assign the  tosks and work, but rather toach the  to long for the endless immensity of the sea \n",
      "66 - l eou want to build a ship, don't arum up people together to collect wood and don't assign the  tosks and work, but rather toach the  to long for the endless immensity of the sea \n",
      "67 - l eou want to build a ship, don't arum up people together to collect wood and don't assign them tosks and work, but rather toach them to long for themendless immensity of the sea \n",
      "68 - l eou want to build a ship, don't arum up people together to collect wood and don't assign them tosks and work, but rather toach them to long for themendless immensity of themsea \n",
      "69 - t eou want to build a ship, don't arum up people together to collect wood and don't assign them tasks and work, but rather toach them ta long for themendless immensity of themseac\n",
      "70 - t eou want to build a ship, don't arum up people together to collect wood and don't assign them tosks and work, but rather toach them to long for themendless immensity of themseac\n",
      "71 - t eou want to build a ship, don't arum up people together to collect wood and don't assign them tosks and work, but rather toach them to long for themendless immensity of themseac\n",
      "72 - t eou want to build a ship, don't arum up people together to collect wood and don't assign them tasks and work, but rather toach them ta long for themendless immensity of themseac\n",
      "73 - t eou want to build a ship, don't arum up people together to collect wood and don't assign them tosks and work, but rather toach them to long for themendless immensity of themseac\n",
      "74 - t eou want to build a ship, don't arum up people together to collect wood and don't assign them tasks and work, but rather toach them ta long for themendless immensity of themseac\n",
      "75 - t eou want to build a ship, don't arum up people together to collect wood and don't assign them tosks and work, but rather toach them to long for themendless immensity of themseac\n",
      "76 - t eou want to build a ship, don't arum up people together to collect wood and don't assign them tasks and work, but rather toach them ta long for themendless immensity of themseac\n",
      "77 - p you want to build a ship, don't arum up people together to collect wood and don't assign the  tosks and work, but rather toach them to long for themendless immensity of themseac\n",
      "78 - f you want to build a ship, don't arum up people together to collect wood and don't assign them tosks and work, but rather toach them to long for themendless immensity of themseac\n",
      "79 - p you want to build a ship, don't arum up people together to collect wood and don't assign them tosks and work, but rather toach them to long for themendless immensity of themseac\n",
      "80 - f you want to build a ship, don't arum up people together to collect wood and don't assign them tosks and work, but rather toach them to long for themendless immensity of themseac\n",
      "81 - p you want to build a ship, don't arum up people together to collect wood and don't assign them tasks and work, but rather toach them to long for themendless immensity of themsea \n",
      "82 - f you want to build a ship, don't drum up people together to collect wood and don't dssign them tasks and work, but rather toach them to long for themendless immensity of themsea \n",
      "83 - f you want to build a ship, don't drum up people together to collect wood and don't dssign the  tasks and work, but rather toach them to long for the endless immensity of the seac\n",
      "84 - p you want to build a ship, don't drum up people together to collect wood and don't assign them tosks and work, but rather toach them to long for themendless immensity of the seac\n",
      "85 - p you want to build a ship, don't drum up people together to collect wood and don't dssign the  tasks and work, but rather toach them ta long for the endless immensity of the sea \n",
      "86 - p you want to build a ship, don't drum up people together to collect wood and don't assign the  tosks and work, but rather toach them to long for the endless immensity of the seac\n",
      "87 - f you want to cuild a ship, don't drum up people together to collect wood and don't assign them tosks and work, but rather toach them to long for themendless immensity of the seac\n",
      "88 - f you want to build a ship, don't arum up people together to collect wood and won't assign the  tosks and work, but rather toach them to long for the endless immensity of the seas\n",
      "89 - g you want to build a ship, don't arum up people together to collect wood and won't assign the  tosks and work, but rather toach them to long for the endless immensity of the seac\n",
      "90 - p you want to build a ship, don't drum up people together to collect wood and won't dssign them tosks and work, but rather toach them to long for the endless immensity of the sea \n",
      "91 - f you want to build a ship, don't drum up people together to collect wood and won't dssign them tosks and work, but rather toach them to long for the endless immensity of the seac\n",
      "92 - g you want to build a ship, don't drum up people together to collect wood and don't dssign them tosks and work, but rather toach them to long for the endless immensity of the seac\n",
      "93 - g you want to build a ship, don't drum up people together to collect wood and don't dssign them tasks and work, but rather toach them ta long for the endless immensity of the seac\n",
      "94 - m you want to build a ship, don't arum up people together to collect wood and don't assign them tasks and work, but rather toach them ta long for the endless immensity of the sea \n",
      "95 - m you want to build a ship, don't arum up people together to collect wood and don't assign them tasks and work, but rather toach them ta long for the endless immensity of the sea \n"
     ]
    },
    {
     "name": "stdout",
     "output_type": "stream",
     "text": [
      "96 - l you want to build a ship, don't arum up people together to collect wood and don't assign them tasks and work, but rather toach them ta long for the endless immensity of the seac\n",
      "97 - t you want to build a ship, don't arum up people together to collect wood and don't assign them tasks and work, but rather toach them to long for the endless immensity of the seac\n",
      "98 - p you want to build a ship, don't arum up people together to collect wood and don't assign them tasks and work, but rather toach them to long for the endless immensity of the sea \n",
      "99 - p you want to build a ship, don't arum up people together to collect wood and don't assign them tasks and work, but rather toach them to long for the endless immensity of the sea \n"
     ]
    }
   ],
   "source": [
    "# start training\n",
    "for i in range(100):\n",
    "    optimizer.zero_grad()\n",
    "    outputs = net(X)\n",
    "    loss = criterion(outputs.view(-1, dic_size), Y.view(-1))\n",
    "    loss.backward()\n",
    "    optimizer.step()\n",
    "\n",
    "    results = outputs.argmax(dim=2)\n",
    "    predict_str = \"\"\n",
    "    for j, result in enumerate(results):\n",
    "        # print(i, j, ''.join([char_set[t] for t in result]), loss.item())\n",
    "        if j == 0:\n",
    "            predict_str += ''.join([char_set[t] for t in result])\n",
    "        else:\n",
    "            predict_str += char_set[result[-1]]\n",
    "\n",
    "    print(i, '-', predict_str) "
   ]
  },
  {
   "cell_type": "code",
   "execution_count": 11,
   "metadata": {},
   "outputs": [
    {
     "data": {
      "text/plain": [
       "\"if you want to build a ship, don't drum up people together to collect wood and don't assign them tasks and work, but rather teach them to long for the endless immensity of the sea.\""
      ]
     },
     "execution_count": 11,
     "metadata": {},
     "output_type": "execute_result"
    }
   ],
   "source": [
    "sentence"
   ]
  },
  {
   "cell_type": "code",
   "execution_count": null,
   "metadata": {},
   "outputs": [],
   "source": []
  }
 ],
 "metadata": {
  "kernelspec": {
   "display_name": "Python 3.7.7 64-bit ('vsc': conda)",
   "language": "python",
   "name": "python37764bitvscconda48cd1de58dbf4dbc9fea30418971662f"
  },
  "language_info": {
   "codemirror_mode": {
    "name": "ipython",
    "version": 3
   },
   "file_extension": ".py",
   "mimetype": "text/x-python",
   "name": "python",
   "nbconvert_exporter": "python",
   "pygments_lexer": "ipython3",
   "version": "3.7.7"
  }
 },
 "nbformat": 4,
 "nbformat_minor": 4
}
