{
  "nbformat": 4,
  "nbformat_minor": 0,
  "metadata": {
    "colab": {
      "name": "12_파이토치(PyTorch)_한번에_끝내기(Part_2).ipynb",
      "provenance": [],
      "collapsed_sections": []
    },
    "kernelspec": {
      "name": "python3",
      "display_name": "Python 3"
    }
  },
  "cells": [
    {
      "cell_type": "markdown",
      "source": [
        "![image.png](data:image/png;base64,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)"
      ],
      "metadata": {
        "id": "hy01I2WDtPN8"
      }
    },
    {
      "cell_type": "code",
      "metadata": {
        "id": "CmKIvnx0s8G6",
        "colab": {
          "base_uri": "https://localhost:8080/",
          "height": 35
        },
        "outputId": "b2dcc73f-1fbe-421c-844c-61ea6c4d46d7"
      },
      "source": [
        "import torch\n",
        "torch.__version__"
      ],
      "execution_count": 1,
      "outputs": [
        {
          "output_type": "execute_result",
          "data": {
            "text/plain": [
              "'1.11.0+cu113'"
            ],
            "application/vnd.google.colaboratory.intrinsic+json": {
              "type": "string"
            }
          },
          "metadata": {},
          "execution_count": 1
        }
      ]
    },
    {
      "cell_type": "code",
      "metadata": {
        "id": "8tEtWHAsmZMy"
      },
      "source": [
        "import torch.nn as nn\n",
        "import torch.nn.functional as F"
      ],
      "execution_count": 79,
      "outputs": []
    },
    {
      "cell_type": "markdown",
      "source": [
        "## 선형 회귀 모델(Linear Regression Model)"
      ],
      "metadata": {
        "id": "jlwMEoMKqbDU"
      }
    },
    {
      "cell_type": "markdown",
      "source": [
        "### 데이터 생성"
      ],
      "metadata": {
        "id": "tSDZeiFgrLES"
      }
    },
    {
      "cell_type": "code",
      "source": [
        ""
      ],
      "metadata": {
        "id": "rvuFRjTIq0iC"
      },
      "execution_count": null,
      "outputs": []
    },
    {
      "cell_type": "markdown",
      "source": [
        "### 모델 정의 및 파라미터"
      ],
      "metadata": {
        "id": "v0Q-E-46rVA0"
      }
    },
    {
      "cell_type": "code",
      "source": [
        ""
      ],
      "metadata": {
        "id": "TOcdA-yVrOF2"
      },
      "execution_count": null,
      "outputs": []
    },
    {
      "cell_type": "code",
      "source": [
        ""
      ],
      "metadata": {
        "id": "mWU343lurnRV"
      },
      "execution_count": null,
      "outputs": []
    },
    {
      "cell_type": "code",
      "source": [
        ""
      ],
      "metadata": {
        "id": "ZlD0py05rwo3"
      },
      "execution_count": null,
      "outputs": []
    },
    {
      "cell_type": "markdown",
      "source": [
        "### 손실 함수 및 옵티마이저"
      ],
      "metadata": {
        "id": "EifY0L0XshIJ"
      }
    },
    {
      "cell_type": "code",
      "source": [
        ""
      ],
      "metadata": {
        "id": "w5BQZIlWsFMa"
      },
      "execution_count": null,
      "outputs": []
    },
    {
      "cell_type": "markdown",
      "source": [
        "### 모델 학습"
      ],
      "metadata": {
        "id": "xQLuvH2Yspje"
      }
    },
    {
      "cell_type": "code",
      "source": [
        ""
      ],
      "metadata": {
        "id": "ZpW3zOxfsq5l"
      },
      "execution_count": null,
      "outputs": []
    },
    {
      "cell_type": "code",
      "source": [
        ""
      ],
      "metadata": {
        "id": "cnC7rQuSs9RC"
      },
      "execution_count": null,
      "outputs": []
    },
    {
      "cell_type": "code",
      "source": [
        ""
      ],
      "metadata": {
        "id": "ktewuhRPtQyi"
      },
      "execution_count": null,
      "outputs": []
    },
    {
      "cell_type": "markdown",
      "source": [
        "## FashionMNIST 분류 모델"
      ],
      "metadata": {
        "id": "2FKKOgbozBEt"
      }
    },
    {
      "cell_type": "markdown",
      "metadata": {
        "id": "02LdHlTTSz5L"
      },
      "source": [
        "GPU 설정"
      ]
    },
    {
      "cell_type": "code",
      "metadata": {
        "id": "HlPZI5wfDQhv"
      },
      "source": [
        ""
      ],
      "execution_count": null,
      "outputs": []
    },
    {
      "cell_type": "markdown",
      "source": [
        "### 데이터 로드"
      ],
      "metadata": {
        "id": "bmVbeAgY0CYI"
      }
    },
    {
      "cell_type": "code",
      "source": [
        ""
      ],
      "metadata": {
        "id": "vYP9dGrWzDqd"
      },
      "execution_count": null,
      "outputs": []
    },
    {
      "cell_type": "code",
      "source": [
        ""
      ],
      "metadata": {
        "id": "VpVsTevTWE5i"
      },
      "execution_count": null,
      "outputs": []
    },
    {
      "cell_type": "code",
      "source": [
        ""
      ],
      "metadata": {
        "id": "Dz-CJf0x0nne"
      },
      "execution_count": null,
      "outputs": []
    },
    {
      "cell_type": "code",
      "source": [
        ""
      ],
      "metadata": {
        "id": "iy6D1Rg_07fD"
      },
      "execution_count": null,
      "outputs": []
    },
    {
      "cell_type": "code",
      "source": [
        ""
      ],
      "metadata": {
        "id": "_u5_UEAH09SB"
      },
      "execution_count": null,
      "outputs": []
    },
    {
      "cell_type": "markdown",
      "source": [
        "### 모델 정의 및 파라미터"
      ],
      "metadata": {
        "id": "a1RU2q1d5JJx"
      }
    },
    {
      "cell_type": "code",
      "source": [
        ""
      ],
      "metadata": {
        "id": "vxafwtVv2sQS"
      },
      "execution_count": null,
      "outputs": []
    },
    {
      "cell_type": "code",
      "source": [
        ""
      ],
      "metadata": {
        "id": "RtpvuDyg5Vib"
      },
      "execution_count": null,
      "outputs": []
    },
    {
      "cell_type": "code",
      "source": [
        ""
      ],
      "metadata": {
        "id": "_Nz0RPgG5Yat"
      },
      "execution_count": null,
      "outputs": []
    },
    {
      "cell_type": "markdown",
      "metadata": {
        "id": "hFAKDY87FRuu"
      },
      "source": [
        "### 손실함수와 옵티마이저"
      ]
    },
    {
      "cell_type": "code",
      "metadata": {
        "id": "XHGAenL0Fu7R"
      },
      "source": [
        ""
      ],
      "execution_count": null,
      "outputs": []
    },
    {
      "cell_type": "markdown",
      "metadata": {
        "id": "NV5_xdUsGB1x"
      },
      "source": [
        "### 모델 학습"
      ]
    },
    {
      "cell_type": "markdown",
      "metadata": {
        "id": "rBIYk0aTGEPW"
      },
      "source": [
        "배치수 확인"
      ]
    },
    {
      "cell_type": "code",
      "metadata": {
        "id": "qax43PdgDQBk"
      },
      "source": [
        ""
      ],
      "execution_count": null,
      "outputs": []
    },
    {
      "cell_type": "code",
      "metadata": {
        "id": "NzwisgcADQOD"
      },
      "source": [
        ""
      ],
      "execution_count": null,
      "outputs": []
    },
    {
      "cell_type": "markdown",
      "metadata": {
        "id": "tumNqvreIMUC"
      },
      "source": [
        "### 모델의 저장 및 로드\n",
        "\n",
        "- `torch.save`: `net.state_dict()`를 저장\n",
        "- `torch.load`: `load_state_dict`로 모델을 로드"
      ]
    },
    {
      "cell_type": "code",
      "metadata": {
        "id": "lxj4a7oHDQRR"
      },
      "source": [
        ""
      ],
      "execution_count": null,
      "outputs": []
    },
    {
      "cell_type": "code",
      "metadata": {
        "id": "9GqVJlGzDQTe"
      },
      "source": [
        ""
      ],
      "execution_count": null,
      "outputs": []
    },
    {
      "cell_type": "code",
      "metadata": {
        "id": "15cyBDq0DQV2"
      },
      "source": [
        ""
      ],
      "execution_count": null,
      "outputs": []
    },
    {
      "cell_type": "markdown",
      "metadata": {
        "id": "5IecfHZiI09W"
      },
      "source": [
        "### 모델 테스트"
      ]
    },
    {
      "cell_type": "code",
      "source": [
        ""
      ],
      "metadata": {
        "id": "9OmM9p4J6pu8"
      },
      "execution_count": null,
      "outputs": []
    },
    {
      "cell_type": "code",
      "metadata": {
        "id": "QewXif2NDQYZ"
      },
      "source": [
        ""
      ],
      "execution_count": null,
      "outputs": []
    },
    {
      "cell_type": "code",
      "metadata": {
        "id": "9yaMMa8VDQdI"
      },
      "source": [
        ""
      ],
      "execution_count": null,
      "outputs": []
    },
    {
      "cell_type": "code",
      "metadata": {
        "id": "qOQWilyPOja5"
      },
      "source": [
        ""
      ],
      "execution_count": null,
      "outputs": []
    },
    {
      "cell_type": "code",
      "metadata": {
        "id": "T1qsc9TUDQfk"
      },
      "source": [
        ""
      ],
      "execution_count": null,
      "outputs": []
    }
  ]
}