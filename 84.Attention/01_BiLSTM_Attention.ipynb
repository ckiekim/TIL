{
  "nbformat": 4,
  "nbformat_minor": 0,
  "metadata": {
    "colab": {
      "name": "01.BiLSTM_Attention.ipynb",
      "provenance": [],
      "collapsed_sections": []
    },
    "kernelspec": {
      "name": "python3",
      "display_name": "Python 3"
    },
    "language_info": {
      "name": "python"
    },
    "accelerator": "GPU"
  },
  "cells": [
    {
      "cell_type": "markdown",
      "source": [
        "# BiLSTM with Attention mechanism"
      ],
      "metadata": {
        "id": "iqyFSZpcNzh3"
      }
    },
    {
      "cell_type": "markdown",
      "source": [
        "### 1. IMDB 리뷰 데이터 전처리하기"
      ],
      "metadata": {
        "id": "x9Zmr0zROCbE"
      }
    },
    {
      "cell_type": "code",
      "execution_count": 1,
      "metadata": {
        "id": "g2WagKcUFGf4"
      },
      "outputs": [],
      "source": [
        "from tensorflow.keras.datasets import imdb\n",
        "from tensorflow.keras.utils import to_categorical\n",
        "from tensorflow.keras.preprocessing.sequence import pad_sequences"
      ]
    },
    {
      "cell_type": "code",
      "source": [
        "vocab_size = 10000\n",
        "(X_train, y_train), (X_test, y_test) = imdb.load_data(num_words = vocab_size)"
      ],
      "metadata": {
        "colab": {
          "base_uri": "https://localhost:8080/"
        },
        "id": "g5IP7vzMOAEG",
        "outputId": "718d3ada-182d-4eb1-93fd-72c7f9609f58"
      },
      "execution_count": 2,
      "outputs": [
        {
          "output_type": "stream",
          "name": "stdout",
          "text": [
            "Downloading data from https://storage.googleapis.com/tensorflow/tf-keras-datasets/imdb.npz\n",
            "17465344/17464789 [==============================] - 0s 0us/step\n",
            "17473536/17464789 [==============================] - 0s 0us/step\n"
          ]
        }
      ]
    },
    {
      "cell_type": "code",
      "source": [
        "print(f'리뷰의 최대 길이 : {max(len(l) for l in X_train):,d}')\n",
        "print(f'리뷰의 평균 길이 : {sum(map(len, X_train))/len(X_train):.2f}')"
      ],
      "metadata": {
        "colab": {
          "base_uri": "https://localhost:8080/"
        },
        "id": "Lj_bEEi6Oqgt",
        "outputId": "8c20e73b-fb8d-47ed-887b-3f83fd66483d"
      },
      "execution_count": 3,
      "outputs": [
        {
          "output_type": "stream",
          "name": "stdout",
          "text": [
            "리뷰의 최대 길이 : 2,494\n",
            "리뷰의 평균 길이 : 238.71\n"
          ]
        }
      ]
    },
    {
      "cell_type": "code",
      "source": [
        "max_len = 500\n",
        "X_train = pad_sequences(X_train, maxlen=max_len)\n",
        "X_test = pad_sequences(X_test, maxlen=max_len)"
      ],
      "metadata": {
        "id": "h5g36nx3PFBp"
      },
      "execution_count": 4,
      "outputs": []
    },
    {
      "cell_type": "markdown",
      "source": [
        "### 2. 바다나우 어텐션(Bahdanau Attention)"
      ],
      "metadata": {
        "id": "hYA4oPnzPaL6"
      }
    },
    {
      "cell_type": "code",
      "source": [
        "import tensorflow as tf\n",
        "from tensorflow.keras.models import Model\n",
        "from tensorflow.keras.layers import Dense"
      ],
      "metadata": {
        "id": "j1YEznJfPWzN"
      },
      "execution_count": 5,
      "outputs": []
    },
    {
      "cell_type": "code",
      "source": [
        "class BahdanauAttention(Model):\n",
        "    def __init__(self, units):\n",
        "        super(BahdanauAttention, self).__init__()\n",
        "        self.W1 = Dense(units)\n",
        "        self.W2 = Dense(units)\n",
        "        self.V = Dense(1)\n",
        "\n",
        "    def call(self, values, query): # 단, key와 value는 같음\n",
        "        # query shape == (batch_size, hidden size)\n",
        "        # hidden_with_time_axis shape == (batch_size, 1, hidden size)\n",
        "        # score 계산을 위해 뒤에서 할 덧셈을 위해서 차원을 변경해줍니다.\n",
        "        hidden_with_time_axis = tf.expand_dims(query, 1)\n",
        "\n",
        "        # score shape == (batch_size, max_length, 1)\n",
        "        # we get 1 at the last axis because we are applying score to self.V\n",
        "        # the shape of the tensor before applying self.V is (batch_size, max_length, units)\n",
        "        score = self.V(tf.nn.tanh(self.W1(values) + self.W2(hidden_with_time_axis)))\n",
        "\n",
        "        # attention_weights shape == (batch_size, max_length, 1)\n",
        "        attention_weights = tf.nn.softmax(score, axis=1)\n",
        "\n",
        "        # context_vector shape after sum == (batch_size, hidden_size)\n",
        "        context_vector = attention_weights * values\n",
        "        context_vector = tf.reduce_sum(context_vector, axis=1)\n",
        "\n",
        "        return context_vector, attention_weights"
      ],
      "metadata": {
        "id": "mn0TGgdNP0AO"
      },
      "execution_count": 6,
      "outputs": []
    },
    {
      "cell_type": "markdown",
      "source": [
        "### 3. 양방향 LSTM + 어텐션 메커니즘(BiLSTM with Attention Mechanism)"
      ],
      "metadata": {
        "id": "k4xegHZEQr_k"
      }
    },
    {
      "cell_type": "code",
      "source": [
        "from tensorflow.keras.layers import Input, Embedding, Bidirectional, LSTM, Concatenate, Dropout"
      ],
      "metadata": {
        "id": "tWEN0SFDQmok"
      },
      "execution_count": 7,
      "outputs": []
    },
    {
      "cell_type": "markdown",
      "source": [
        "- 모델 설계"
      ],
      "metadata": {
        "id": "QGFjZ-agRdto"
      }
    },
    {
      "cell_type": "code",
      "source": [
        "sequence_input = Input(shape=(max_len,), dtype='int32')\n",
        "embedded_sequences = Embedding(vocab_size, 128, input_length=max_len, mask_zero=True)(sequence_input)"
      ],
      "metadata": {
        "id": "bF8_am_ARHYW"
      },
      "execution_count": 8,
      "outputs": []
    },
    {
      "cell_type": "code",
      "source": [
        "# 양방향 LSTM의 첫번째 층\n",
        "lstm = Bidirectional(LSTM(64, dropout=0.5, return_sequences=True))(embedded_sequences)"
      ],
      "metadata": {
        "id": "iMkv6eFQSTjL"
      },
      "execution_count": 9,
      "outputs": []
    },
    {
      "cell_type": "code",
      "source": [
        "# 양방향 LSTM의 두번째 층\n",
        "# 순방향 LSTM의 은닉 상태와 셀 상태를 forward_h, forward_c에 저장\n",
        "# 역방향 LSTM의 은닉 상태와 셀 상태를 backward_h, backward_c에 저장\n",
        "lstm, forward_h, forward_c, backward_h, backward_c = \\\n",
        "    Bidirectional(LSTM(64, dropout=0.5, return_sequences=True, return_state=True))(lstm)"
      ],
      "metadata": {
        "id": "AYI3ZlioSoeW"
      },
      "execution_count": 10,
      "outputs": []
    },
    {
      "cell_type": "code",
      "source": [
        "print(lstm.shape, forward_h.shape, forward_c.shape, backward_h.shape, backward_c.shape)"
      ],
      "metadata": {
        "colab": {
          "base_uri": "https://localhost:8080/"
        },
        "id": "jpyVuoCeS7AK",
        "outputId": "981b7f11-cdb6-4b8f-e854-a2f39234fed7"
      },
      "execution_count": 11,
      "outputs": [
        {
          "output_type": "stream",
          "name": "stdout",
          "text": [
            "(None, 500, 128) (None, 64) (None, 64) (None, 64) (None, 64)\n"
          ]
        }
      ]
    },
    {
      "cell_type": "code",
      "source": [
        "# 양방향 LSTM의 은닉 상태와 셀 상태를 사용하기 위해 두 방향의 LSTM의 상태들을 연결(concatenate)\n",
        "state_h = Concatenate()([forward_h, backward_h])    # 은닉 상태\n",
        "state_c = Concatenate()([forward_c, backward_c])    # 셀 상태"
      ],
      "metadata": {
        "id": "Zm0hABFbTD2n"
      },
      "execution_count": 12,
      "outputs": []
    },
    {
      "cell_type": "code",
      "source": [
        "attention = BahdanauAttention(64)   # 가중치 크기 정의\n",
        "context_vector, attention_weights = attention(lstm, state_h)"
      ],
      "metadata": {
        "id": "cv8aiaL6Tmen"
      },
      "execution_count": 13,
      "outputs": []
    },
    {
      "cell_type": "code",
      "source": [
        "dense1 = Dense(20, activation=\"relu\")(context_vector)\n",
        "dropout = Dropout(0.5)(dense1)\n",
        "output = Dense(1, activation=\"sigmoid\")(dropout)\n",
        "model = Model(inputs=sequence_input, outputs=output)\n",
        "model.summary()"
      ],
      "metadata": {
        "colab": {
          "base_uri": "https://localhost:8080/"
        },
        "id": "X9IfXAvIT1sd",
        "outputId": "c7a84c83-dcb3-47a3-f57f-eeeab2ca7ba1"
      },
      "execution_count": 14,
      "outputs": [
        {
          "output_type": "stream",
          "name": "stdout",
          "text": [
            "Model: \"model\"\n",
            "__________________________________________________________________________________________________\n",
            " Layer (type)                   Output Shape         Param #     Connected to                     \n",
            "==================================================================================================\n",
            " input_1 (InputLayer)           [(None, 500)]        0           []                               \n",
            "                                                                                                  \n",
            " embedding (Embedding)          (None, 500, 128)     1280000     ['input_1[0][0]']                \n",
            "                                                                                                  \n",
            " bidirectional (Bidirectional)  (None, 500, 128)     98816       ['embedding[0][0]']              \n",
            "                                                                                                  \n",
            " bidirectional_1 (Bidirectional  [(None, 500, 128),  98816       ['bidirectional[0][0]']          \n",
            " )                               (None, 64),                                                      \n",
            "                                 (None, 64),                                                      \n",
            "                                 (None, 64),                                                      \n",
            "                                 (None, 64)]                                                      \n",
            "                                                                                                  \n",
            " concatenate (Concatenate)      (None, 128)          0           ['bidirectional_1[0][1]',        \n",
            "                                                                  'bidirectional_1[0][3]']        \n",
            "                                                                                                  \n",
            " bahdanau_attention (BahdanauAt  ((None, 128),       16577       ['bidirectional_1[0][0]',        \n",
            " tention)                        (None, 500, 1))                  'concatenate[0][0]']            \n",
            "                                                                                                  \n",
            " dense_3 (Dense)                (None, 20)           2580        ['bahdanau_attention[0][0]']     \n",
            "                                                                                                  \n",
            " dropout (Dropout)              (None, 20)           0           ['dense_3[0][0]']                \n",
            "                                                                                                  \n",
            " dense_4 (Dense)                (None, 1)            21          ['dropout[0][0]']                \n",
            "                                                                                                  \n",
            "==================================================================================================\n",
            "Total params: 1,496,810\n",
            "Trainable params: 1,496,810\n",
            "Non-trainable params: 0\n",
            "__________________________________________________________________________________________________\n"
          ]
        }
      ]
    },
    {
      "cell_type": "code",
      "source": [
        "model.compile(loss='binary_crossentropy', optimizer='adam', metrics=['accuracy'])"
      ],
      "metadata": {
        "id": "Unh89T6PUAxD"
      },
      "execution_count": 15,
      "outputs": []
    },
    {
      "cell_type": "code",
      "source": [
        "history = model.fit(X_train, y_train, epochs=3, batch_size=256, \n",
        "                    validation_data=(X_test, y_test), verbose=1)"
      ],
      "metadata": {
        "colab": {
          "base_uri": "https://localhost:8080/"
        },
        "id": "Wu9-RNNAUJEr",
        "outputId": "7268b64a-9d73-4ca8-dac9-e832ab0c1b83"
      },
      "execution_count": 16,
      "outputs": [
        {
          "output_type": "stream",
          "name": "stdout",
          "text": [
            "Epoch 1/3\n",
            "98/98 [==============================] - 536s 5s/step - loss: 0.4716 - accuracy: 0.7711 - val_loss: 0.2891 - val_accuracy: 0.8814\n",
            "Epoch 2/3\n",
            "98/98 [==============================] - 498s 5s/step - loss: 0.2460 - accuracy: 0.9136 - val_loss: 0.3017 - val_accuracy: 0.8760\n",
            "Epoch 3/3\n",
            "98/98 [==============================] - 492s 5s/step - loss: 0.1871 - accuracy: 0.9375 - val_loss: 0.3249 - val_accuracy: 0.8788\n"
          ]
        }
      ]
    },
    {
      "cell_type": "code",
      "source": [
        "# 정확도\n",
        "model.evaluate(X_test, y_test)[1]"
      ],
      "metadata": {
        "colab": {
          "base_uri": "https://localhost:8080/"
        },
        "id": "pt573jDhUUp0",
        "outputId": "c3d4f17b-b19f-4089-cfb0-560febca9348"
      },
      "execution_count": 17,
      "outputs": [
        {
          "output_type": "stream",
          "name": "stdout",
          "text": [
            "782/782 [==============================] - 344s 440ms/step - loss: 0.3249 - accuracy: 0.8788\n"
          ]
        },
        {
          "output_type": "execute_result",
          "data": {
            "text/plain": [
              "0.8787999749183655"
            ]
          },
          "metadata": {},
          "execution_count": 17
        }
      ]
    },
    {
      "cell_type": "code",
      "source": [
        ""
      ],
      "metadata": {
        "id": "QUVM-AmynNPW"
      },
      "execution_count": 17,
      "outputs": []
    }
  ]
}