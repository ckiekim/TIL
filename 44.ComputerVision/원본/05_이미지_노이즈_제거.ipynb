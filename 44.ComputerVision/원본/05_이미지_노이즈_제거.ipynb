{
  "nbformat": 4,
  "nbformat_minor": 0,
  "metadata": {
    "colab": {
      "name": "_이미지 노이즈 제거.ipynb",
      "provenance": [],
      "collapsed_sections": [],
      "machine_shape": "hm"
    },
    "kernelspec": {
      "name": "python3",
      "display_name": "Python 3"
    },
    "accelerator": "GPU"
  },
  "cells": [
    {
      "cell_type": "markdown",
      "metadata": {
        "id": "XNypxnOFJdQ-"
      },
      "source": [
        "## 이미지 노이즈 제거\n"
      ]
    },
    {
      "cell_type": "code",
      "metadata": {
        "id": "LR64XANMKGPj"
      },
      "source": [
        ""
      ],
      "execution_count": null,
      "outputs": []
    },
    {
      "cell_type": "markdown",
      "metadata": {
        "id": "jfrD4KrnJpAY"
      },
      "source": [
        "### 데이터 로드"
      ]
    },
    {
      "cell_type": "code",
      "metadata": {
        "id": "vrvcP8RvJILo"
      },
      "source": [
        ""
      ],
      "execution_count": null,
      "outputs": []
    },
    {
      "cell_type": "markdown",
      "metadata": {
        "id": "WiF_YvFNJqVm"
      },
      "source": [
        "### 데이터 전처리"
      ]
    },
    {
      "cell_type": "code",
      "metadata": {
        "id": "_z99rtQbJIKR"
      },
      "source": [
        ""
      ],
      "execution_count": null,
      "outputs": []
    },
    {
      "cell_type": "markdown",
      "metadata": {
        "id": "prVsXNE_JuYT"
      },
      "source": [
        "### 임의의 노이즈 추가"
      ]
    },
    {
      "cell_type": "code",
      "metadata": {
        "id": "eENWmFwRJIGa"
      },
      "source": [
        ""
      ],
      "execution_count": null,
      "outputs": []
    },
    {
      "cell_type": "markdown",
      "metadata": {
        "id": "fOLvqTMpJxHH"
      },
      "source": [
        "### 노이즈가 추가된 이미지 확인"
      ]
    },
    {
      "cell_type": "code",
      "metadata": {
        "id": "uiWwSZyBJH9j"
      },
      "source": [
        ""
      ],
      "execution_count": null,
      "outputs": []
    },
    {
      "cell_type": "markdown",
      "metadata": {
        "id": "bPqKiqMgJ2mV"
      },
      "source": [
        "### 모델 정의"
      ]
    },
    {
      "cell_type": "code",
      "metadata": {
        "id": "P7-ftGtFJ0Tu"
      },
      "source": [
        ""
      ],
      "execution_count": null,
      "outputs": []
    },
    {
      "cell_type": "markdown",
      "metadata": {
        "id": "2LBClnNHKCZk"
      },
      "source": [
        "### 모델 생성 및 컴파일"
      ]
    },
    {
      "cell_type": "code",
      "metadata": {
        "id": "lRKIfw2iJ1Ig"
      },
      "source": [
        ""
      ],
      "execution_count": null,
      "outputs": []
    },
    {
      "cell_type": "markdown",
      "metadata": {
        "id": "DNbOvvRAKVXl"
      },
      "source": [
        "### 모델 학습"
      ]
    },
    {
      "cell_type": "code",
      "metadata": {
        "id": "JP19z6ODJ1QM"
      },
      "source": [
        ""
      ],
      "execution_count": null,
      "outputs": []
    },
    {
      "cell_type": "markdown",
      "metadata": {
        "id": "utmOhVZJKaAH"
      },
      "source": [
        "### 인코더 요약"
      ]
    },
    {
      "cell_type": "code",
      "metadata": {
        "id": "8PRnvn6kJ1PB"
      },
      "source": [
        ""
      ],
      "execution_count": null,
      "outputs": []
    },
    {
      "cell_type": "markdown",
      "metadata": {
        "id": "CdEO9TQPKdVl"
      },
      "source": [
        "### 디코더 요약"
      ]
    },
    {
      "cell_type": "code",
      "metadata": {
        "id": "b7dj1LMlKbPh"
      },
      "source": [
        ""
      ],
      "execution_count": null,
      "outputs": []
    },
    {
      "cell_type": "markdown",
      "metadata": {
        "id": "UAujJdJQKgNV"
      },
      "source": [
        "### 노이즈가 있는 이미지와 없는 이미지 시각화"
      ]
    },
    {
      "cell_type": "code",
      "metadata": {
        "id": "sKqlYtwaKbRw"
      },
      "source": [
        ""
      ],
      "execution_count": null,
      "outputs": []
    },
    {
      "cell_type": "code",
      "metadata": {
        "id": "ynhPr_0PKbTy"
      },
      "source": [
        ""
      ],
      "execution_count": null,
      "outputs": []
    }
  ]
}