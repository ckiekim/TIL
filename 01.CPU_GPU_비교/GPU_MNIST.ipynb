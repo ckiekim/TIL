{
 "cells": [
  {
   "cell_type": "markdown",
   "metadata": {},
   "source": [
    "## GPU 드라이버 설치 (삼성 노트북 Always9 950XBE)\n",
    "- NVIDIA MX150 Device Driver Update\n",
    "- CUDA 10.1 설치\n",
    "- CUDNN 7.6.3 for CUDA 10.1 다운로드\n",
    "\n",
    "## Tensorflow-gpu 설치\n",
    "- conda update conda\n",
    "- conda update anaconda\n",
    "- conda update python\n",
    "- conda update --all\n",
    "- conda info --envs\n",
    "- conda create --name tf1.14-gpu\n",
    "- conda activate tf1.14-gpu\n",
    "- pip install tensorflow-gpu"
   ]
  },
  {
   "cell_type": "code",
   "execution_count": 1,
   "metadata": {},
   "outputs": [
    {
     "name": "stderr",
     "output_type": "stream",
     "text": [
      "Using TensorFlow backend.\n"
     ]
    }
   ],
   "source": [
    "from keras.datasets import mnist\n",
    "from keras.utils import np_utils\n",
    "from keras.models import Sequential\n",
    "from keras.layers import Dense, Dropout, Flatten, Conv2D, MaxPooling2D\n",
    "from keras.callbacks import ModelCheckpoint, EarlyStopping\n",
    "\n",
    "import matplotlib.pyplot as plt\n",
    "import numpy as np\n",
    "import os\n",
    "import tensorflow as tf\n",
    "%matplotlib inline"
   ]
  },
  {
   "cell_type": "code",
   "execution_count": 2,
   "metadata": {},
   "outputs": [],
   "source": [
    "# seed 값 설정\n",
    "seed = 0\n",
    "np.random.seed(seed)\n",
    "tf.set_random_seed(seed)"
   ]
  },
  {
   "cell_type": "code",
   "execution_count": 3,
   "metadata": {},
   "outputs": [],
   "source": [
    "# 데이터 불러오기\n",
    "(X_train, Y_train), (X_test, Y_test) = mnist.load_data()\n",
    "X_train = X_train.reshape(X_train.shape[0],784).astype('float32') / 255\n",
    "X_test = X_test.reshape(X_test.shape[0], 784).astype('float32') / 255\n",
    "Y_train = np_utils.to_categorical(Y_train)\n",
    "Y_test = np_utils.to_categorical(Y_test)"
   ]
  },
  {
   "cell_type": "code",
   "execution_count": 4,
   "metadata": {},
   "outputs": [],
   "source": [
    "# 모델 최적화 설정\n",
    "MODEL_DIR = './model/'\n",
    "if not os.path.exists(MODEL_DIR):\n",
    "    os.mkdir(MODEL_DIR)"
   ]
  },
  {
   "cell_type": "code",
   "execution_count": 5,
   "metadata": {},
   "outputs": [],
   "source": [
    "modelpath=\"./model/{epoch:02d}-{val_loss:.4f}.hdf5\"\n",
    "checkpointer = ModelCheckpoint(filepath=modelpath, monitor='val_loss', \n",
    "                               verbose=1, save_best_only=True)\n",
    "early_stopping_callback = EarlyStopping(monitor='val_loss', patience=10)"
   ]
  },
  {
   "cell_type": "code",
   "execution_count": 7,
   "metadata": {},
   "outputs": [
    {
     "name": "stderr",
     "output_type": "stream",
     "text": [
      "WARNING: Logging before flag parsing goes to stderr.\n",
      "W0830 15:03:06.406251  4016 deprecation_wrapper.py:119] From C:\\ProgramData\\Anaconda3\\lib\\site-packages\\keras\\backend\\tensorflow_backend.py:66: The name tf.get_default_graph is deprecated. Please use tf.compat.v1.get_default_graph instead.\n",
      "\n",
      "W0830 15:03:06.407739  4016 deprecation_wrapper.py:119] From C:\\ProgramData\\Anaconda3\\lib\\site-packages\\keras\\backend\\tensorflow_backend.py:541: The name tf.placeholder is deprecated. Please use tf.compat.v1.placeholder instead.\n",
      "\n",
      "W0830 15:03:06.409723  4016 deprecation_wrapper.py:119] From C:\\ProgramData\\Anaconda3\\lib\\site-packages\\keras\\backend\\tensorflow_backend.py:4432: The name tf.random_uniform is deprecated. Please use tf.random.uniform instead.\n",
      "\n"
     ]
    },
    {
     "name": "stdout",
     "output_type": "stream",
     "text": [
      "Model: \"sequential_1\"\n",
      "_________________________________________________________________\n",
      "Layer (type)                 Output Shape              Param #   \n",
      "=================================================================\n",
      "dense_1 (Dense)              (None, 512)               401920    \n",
      "_________________________________________________________________\n",
      "dense_2 (Dense)              (None, 256)               131328    \n",
      "_________________________________________________________________\n",
      "dense_3 (Dense)              (None, 128)               32896     \n",
      "_________________________________________________________________\n",
      "dense_4 (Dense)              (None, 32)                4128      \n",
      "_________________________________________________________________\n",
      "dense_5 (Dense)              (None, 10)                330       \n",
      "=================================================================\n",
      "Total params: 570,602\n",
      "Trainable params: 570,602\n",
      "Non-trainable params: 0\n",
      "_________________________________________________________________\n"
     ]
    }
   ],
   "source": [
    "model = Sequential()\n",
    "model.add(Dense(512, input_dim=28*28, activation='relu'))\n",
    "model.add(Dense(256, activation='relu'))\n",
    "model.add(Dense(128, activation='relu'))\n",
    "model.add(Dense(32, activation='relu'))\n",
    "model.add(Dense(10, activation='softmax'))\n",
    "model.summary()"
   ]
  },
  {
   "cell_type": "code",
   "execution_count": 8,
   "metadata": {},
   "outputs": [
    {
     "name": "stderr",
     "output_type": "stream",
     "text": [
      "W0830 15:03:12.639337  4016 deprecation_wrapper.py:119] From C:\\ProgramData\\Anaconda3\\lib\\site-packages\\keras\\optimizers.py:793: The name tf.train.Optimizer is deprecated. Please use tf.compat.v1.train.Optimizer instead.\n",
      "\n",
      "W0830 15:03:12.662191  4016 deprecation_wrapper.py:119] From C:\\ProgramData\\Anaconda3\\lib\\site-packages\\keras\\backend\\tensorflow_backend.py:3576: The name tf.log is deprecated. Please use tf.math.log instead.\n",
      "\n"
     ]
    }
   ],
   "source": [
    "model.compile(loss='categorical_crossentropy',\n",
    "          optimizer='rmsprop', metrics=['accuracy'])"
   ]
  },
  {
   "cell_type": "code",
   "execution_count": 9,
   "metadata": {},
   "outputs": [
    {
     "name": "stderr",
     "output_type": "stream",
     "text": [
      "W0830 15:03:17.017225  4016 deprecation.py:323] From C:\\ProgramData\\Anaconda3\\lib\\site-packages\\tensorflow\\python\\ops\\math_grad.py:1250: add_dispatch_support.<locals>.wrapper (from tensorflow.python.ops.array_ops) is deprecated and will be removed in a future version.\n",
      "Instructions for updating:\n",
      "Use tf.where in 2.0, which has the same broadcast rule as np.where\n",
      "W0830 15:03:17.105548  4016 deprecation_wrapper.py:119] From C:\\ProgramData\\Anaconda3\\lib\\site-packages\\keras\\backend\\tensorflow_backend.py:1033: The name tf.assign_add is deprecated. Please use tf.compat.v1.assign_add instead.\n",
      "\n"
     ]
    },
    {
     "name": "stdout",
     "output_type": "stream",
     "text": [
      "Train on 60000 samples, validate on 10000 samples\n",
      "Epoch 1/30\n",
      "60000/60000 [==============================] - 4s 59us/step - loss: 0.3285 - acc: 0.8983 - val_loss: 0.1205 - val_acc: 0.9606\n",
      "\n",
      "Epoch 00001: val_loss improved from inf to 0.12054, saving model to ./model/01-0.1205.hdf5\n",
      "Epoch 2/30\n",
      "60000/60000 [==============================] - 2s 30us/step - loss: 0.1051 - acc: 0.9687 - val_loss: 0.0894 - val_acc: 0.9738\n",
      "\n",
      "Epoch 00002: val_loss improved from 0.12054 to 0.08942, saving model to ./model/02-0.0894.hdf5\n",
      "Epoch 3/30\n",
      "60000/60000 [==============================] - 2s 31us/step - loss: 0.0674 - acc: 0.9797 - val_loss: 0.0904 - val_acc: 0.9707\n",
      "\n",
      "Epoch 00003: val_loss did not improve from 0.08942\n",
      "Epoch 4/30\n",
      "60000/60000 [==============================] - 2s 31us/step - loss: 0.0492 - acc: 0.9852 - val_loss: 0.0809 - val_acc: 0.9779\n",
      "\n",
      "Epoch 00004: val_loss improved from 0.08942 to 0.08094, saving model to ./model/04-0.0809.hdf5\n",
      "Epoch 5/30\n",
      "60000/60000 [==============================] - 2s 31us/step - loss: 0.0356 - acc: 0.9893 - val_loss: 0.0913 - val_acc: 0.9753\n",
      "\n",
      "Epoch 00005: val_loss did not improve from 0.08094\n",
      "Epoch 6/30\n",
      "60000/60000 [==============================] - 2s 31us/step - loss: 0.0278 - acc: 0.9914 - val_loss: 0.0692 - val_acc: 0.9828\n",
      "\n",
      "Epoch 00006: val_loss improved from 0.08094 to 0.06918, saving model to ./model/06-0.0692.hdf5\n",
      "Epoch 7/30\n",
      "60000/60000 [==============================] - 2s 31us/step - loss: 0.0241 - acc: 0.9929 - val_loss: 0.0970 - val_acc: 0.9774\n",
      "\n",
      "Epoch 00007: val_loss did not improve from 0.06918\n",
      "Epoch 8/30\n",
      "60000/60000 [==============================] - 2s 31us/step - loss: 0.0192 - acc: 0.9942 - val_loss: 0.0976 - val_acc: 0.9792\n",
      "\n",
      "Epoch 00008: val_loss did not improve from 0.06918\n",
      "Epoch 9/30\n",
      "60000/60000 [==============================] - 2s 31us/step - loss: 0.0169 - acc: 0.9948 - val_loss: 0.0872 - val_acc: 0.9805\n",
      "\n",
      "Epoch 00009: val_loss did not improve from 0.06918\n",
      "Epoch 10/30\n",
      "60000/60000 [==============================] - 2s 31us/step - loss: 0.0134 - acc: 0.9959 - val_loss: 0.1044 - val_acc: 0.9798\n",
      "\n",
      "Epoch 00010: val_loss did not improve from 0.06918\n",
      "Epoch 11/30\n",
      "60000/60000 [==============================] - 2s 31us/step - loss: 0.0121 - acc: 0.9963 - val_loss: 0.0986 - val_acc: 0.9813\n",
      "\n",
      "Epoch 00011: val_loss did not improve from 0.06918\n",
      "Epoch 12/30\n",
      "60000/60000 [==============================] - 2s 31us/step - loss: 0.0110 - acc: 0.9965 - val_loss: 0.0963 - val_acc: 0.9813\n",
      "\n",
      "Epoch 00012: val_loss did not improve from 0.06918\n",
      "Epoch 13/30\n",
      "60000/60000 [==============================] - 2s 32us/step - loss: 0.0113 - acc: 0.9966 - val_loss: 0.1213 - val_acc: 0.9776\n",
      "\n",
      "Epoch 00013: val_loss did not improve from 0.06918\n",
      "Epoch 14/30\n",
      "60000/60000 [==============================] - 2s 33us/step - loss: 0.0089 - acc: 0.9971 - val_loss: 0.1054 - val_acc: 0.9812\n",
      "\n",
      "Epoch 00014: val_loss did not improve from 0.06918\n",
      "Epoch 15/30\n",
      "60000/60000 [==============================] - 2s 32us/step - loss: 0.0081 - acc: 0.9978 - val_loss: 0.1580 - val_acc: 0.9751\n",
      "\n",
      "Epoch 00015: val_loss did not improve from 0.06918\n",
      "Epoch 16/30\n",
      "60000/60000 [==============================] - 2s 33us/step - loss: 0.0081 - acc: 0.9979 - val_loss: 0.1262 - val_acc: 0.9798\n",
      "\n",
      "Epoch 00016: val_loss did not improve from 0.06918\n"
     ]
    }
   ],
   "source": [
    "history = model.fit(X_train, Y_train, validation_data=(X_test, Y_test), \n",
    "                    epochs=30, batch_size=200, verbose=1,\n",
    "                    callbacks=[early_stopping_callback, checkpointer])"
   ]
  },
  {
   "cell_type": "code",
   "execution_count": 10,
   "metadata": {},
   "outputs": [
    {
     "name": "stdout",
     "output_type": "stream",
     "text": [
      "10000/10000 [==============================] - 0s 36us/step\n",
      "\n",
      " Test Accuracy: 0.9798\n"
     ]
    }
   ],
   "source": [
    "# 테스트 정확도 출력 \n",
    "print(\"\\n Test Accuracy: %.4f\" % (model.evaluate(X_test, Y_test)[1]))"
   ]
  },
  {
   "cell_type": "code",
   "execution_count": 11,
   "metadata": {},
   "outputs": [],
   "source": [
    "# 테스트셋의 오차\n",
    "y_vloss = history.history['val_loss']\n",
    "\n",
    "# 학습셋의 오차\n",
    "y_loss = history.history['loss']"
   ]
  },
  {
   "cell_type": "code",
   "execution_count": 12,
   "metadata": {},
   "outputs": [
    {
     "data": {
      "image/png": "[encoded data removed]",
      "text/plain": [
       "<Figure size 432x288 with 1 Axes>"
      ]
     },
     "metadata": {
      "needs_background": "light"
     },
     "output_type": "display_data"
    }
   ],
   "source": [
    "# 그래프로 표현\n",
    "x_len = np.arange(1, len(y_loss)+1)\n",
    "plt.plot(x_len, y_vloss, marker='.', c=\"red\", label='Testset_loss')\n",
    "plt.plot(x_len, y_loss, marker='.', c=\"blue\", label='Trainset_loss')\n",
    "\n",
    "# 그래프에 그리드를 주고 레이블을 표시\n",
    "plt.legend(loc='upper right')\n",
    "# plt.axis([0, 20, 0, 0.35])\n",
    "plt.grid()\n",
    "plt.xlabel('epoch')\n",
    "plt.ylabel('loss')\n",
    "plt.show()"
   ]
  },
  {
   "cell_type": "markdown",
   "metadata": {},
   "source": [
    "#### 결론: Best Model은 Epoch 6, 정확도는97.98%"
   ]
  },
  {
   "cell_type": "code",
   "execution_count": null,
   "metadata": {},
   "outputs": [],
   "source": []
  }
 ],
 "metadata": {
  "kernelspec": {
   "display_name": "Python 3",
   "language": "python",
   "name": "python3"
  },
  "language_info": {
   "codemirror_mode": {
    "name": "ipython",
    "version": 3
   },
   "file_extension": ".py",
   "mimetype": "text/x-python",
   "name": "python",
   "nbconvert_exporter": "python",
   "pygments_lexer": "ipython3",
   "version": "3.7.4"
  }
 },
 "nbformat": 4,
 "nbformat_minor": 2
}
