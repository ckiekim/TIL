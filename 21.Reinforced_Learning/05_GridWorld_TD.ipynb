{
 "cells": [
  {
   "cell_type": "markdown",
   "metadata": {},
   "source": [
    "# Grid World"
   ]
  },
  {
   "cell_type": "code",
   "execution_count": 1,
   "metadata": {},
   "outputs": [],
   "source": [
    "import random\n",
    "class GridWorld():\n",
    "    def __init__(self):\n",
    "        self.x = 0\n",
    "        self.y = 0\n",
    "        self.history = []\n",
    "    def move_right(self):\n",
    "        self.y += 1\n",
    "        if self.y > 3:\n",
    "            self.y = 3\n",
    "    def move_left(self):\n",
    "        self.y -= 1\n",
    "        if self.y < 3:\n",
    "            self.y = 0\n",
    "    def move_up(self):\n",
    "        self.x -= 1\n",
    "        if self.x < 0:\n",
    "            self.x = 0\n",
    "    def move_down(self):\n",
    "        self.x += 1\n",
    "        if self.x > 3:\n",
    "            self.x = 3\n",
    "    def move_random(self):\n",
    "        coin = random.randint(0,3)\n",
    "        if coin == 0:\n",
    "            self.move_right()\n",
    "        elif coin == 1:\n",
    "            self.move_left()\n",
    "        elif coin == 2:\n",
    "            self.move_up()\n",
    "        else:\n",
    "            self.move_down()\n",
    "        self.history.append((self.x, self.y))\n",
    "    def move_random_until_end(self):\n",
    "        while True:\n",
    "            self.move_random()\n",
    "            if self.x == 3 and self.y == 3:\n",
    "                history = self.history\n",
    "                self.initialize()\n",
    "                return history\n",
    "    def initialize(self):\n",
    "        self.x = 0\n",
    "        self.y = 0\n",
    "        self.history = [] \n",
    "    "
   ]
  },
  {
   "cell_type": "code",
   "execution_count": 6,
   "metadata": {},
   "outputs": [],
   "source": [
    "import time\n",
    "def time_decorator(name):\n",
    "    def callf(func):\n",
    "        def inner(*args, **kwargs):\n",
    "            print(\"%s 시작\" % name)\n",
    "            start_time = time.time()\n",
    "            func(*args, **kwargs) \n",
    "            print(\"%s 종료 (%.2f 초) \" % (name, time.time() - start_time))\n",
    "        return inner\n",
    "    return callf"
   ]
  },
  {
   "cell_type": "markdown",
   "metadata": {},
   "source": [
    "### TD 학습"
   ]
  },
  {
   "cell_type": "code",
   "execution_count": 7,
   "metadata": {},
   "outputs": [],
   "source": [
    "@time_decorator('Temporal Difference')\n",
    "def td(epoch):\n",
    "    data = [[0,0,0,0],[0,0,0,0],[0,0,0,0],[0,0,0,0]]\n",
    "    env = GridWorld()\n",
    "\n",
    "    for k in range(epoch):\n",
    "        history = env.move_random_until_end()\n",
    "\n",
    "        for i in range(len(history)-1):\n",
    "            x, y = history[i]\n",
    "            next_x, next_y = history[i+1]\n",
    "            data[x][y] = 0.99 * data[x][y] + 0.01*(-1+data[next_x][next_y])\n",
    "\n",
    "    for row in data:\n",
    "        print(row) "
   ]
  },
  {
   "cell_type": "code",
   "execution_count": 8,
   "metadata": {},
   "outputs": [
    {
     "name": "stdout",
     "output_type": "stream",
     "text": [
      "Temporal Difference 시작\n",
      "[-1.278299931081753, -0.723642793061266, -0.4031883338602708, -0.2189899481610096]\n",
      "[-1.2226282972987337, -0.6927342111741059, -0.4502543284572337, -0.38375554094353326]\n",
      "[-1.0017195303759021, -0.5164207364696601, -0.27258814773196577, -0.23300758282366174]\n",
      "[-0.7402241320123716, -0.39452801724322395, -0.15643043105213786, 0]\n",
      "Temporal Difference 종료 (0.00 초) \n"
     ]
    }
   ],
   "source": [
    "td(10) "
   ]
  },
  {
   "cell_type": "code",
   "execution_count": 9,
   "metadata": {},
   "outputs": [
    {
     "name": "stdout",
     "output_type": "stream",
     "text": [
      "Temporal Difference 시작\n",
      "[-8.304878342290518, -6.326046438436961, -4.74714811070739, -4.0661921058927915]\n",
      "[-8.067886920528325, -6.157749156775696, -4.685910161689774, -3.6161176637572376]\n",
      "[-7.81303406953011, -5.915297185611064, -3.76954107715549, -2.638750588447999]\n",
      "[-7.61280734317132, -6.196411808683549, -3.5301266494101835, 0]\n",
      "Temporal Difference 종료 (0.02 초) \n"
     ]
    }
   ],
   "source": [
    "td(100) "
   ]
  },
  {
   "cell_type": "code",
   "execution_count": 10,
   "metadata": {},
   "outputs": [
    {
     "name": "stdout",
     "output_type": "stream",
     "text": [
      "Temporal Difference 시작\n",
      "[-44.01828737584449, -42.39711123236794, -40.76578844716182, -39.745325891121155]\n",
      "[-42.42006496980797, -40.356499518372964, -37.58856121847317, -36.38539204731576]\n",
      "[-39.66208420069018, -36.7663428062073, -32.140574932883105, -25.57837813279025]\n",
      "[-37.30837131798545, -32.34333353993001, -20.779589356815922, 0]\n",
      "Temporal Difference 종료 (0.14 초) \n"
     ]
    }
   ],
   "source": [
    "td(1000) "
   ]
  },
  {
   "cell_type": "code",
   "execution_count": 11,
   "metadata": {},
   "outputs": [
    {
     "name": "stdout",
     "output_type": "stream",
     "text": [
      "Temporal Difference 시작\n",
      "[-84.79371520470384, -83.55519187231855, -82.4654738825615, -81.45083334176209]\n",
      "[-82.29620902813333, -79.55698665589776, -76.37894662534136, -73.40455243300943]\n",
      "[-76.6725924206358, -72.44736303230569, -63.04936523511688, -51.546610084121426]\n",
      "[-74.10018387458258, -66.34636285049643, -44.665143410144935, 0]\n",
      "Temporal Difference 종료 (1.47 초) \n"
     ]
    }
   ],
   "source": [
    "td(10000) "
   ]
  },
  {
   "cell_type": "code",
   "execution_count": 12,
   "metadata": {},
   "outputs": [
    {
     "name": "stdout",
     "output_type": "stream",
     "text": [
      "Temporal Difference 시작\n",
      "[-82.29473542425558, -81.14696402296512, -80.14792928960514, -79.12977586771818]\n",
      "[-79.56449787576742, -77.23943172039583, -74.15284982284567, -70.34750736350084]\n",
      "[-75.23899923445373, -69.62528737297698, -60.66648165000186, -48.694444221480644]\n",
      "[-71.08176487060904, -64.03780679498566, -47.02611262214809, 0]\n",
      "Temporal Difference 종료 (14.09 초) \n"
     ]
    }
   ],
   "source": [
    "td(100000) "
   ]
  },
  {
   "cell_type": "code",
   "execution_count": null,
   "metadata": {},
   "outputs": [],
   "source": []
  }
 ],
 "metadata": {
  "kernelspec": {
   "display_name": "Python 3.7.7 64-bit ('vsc': conda)",
   "language": "python",
   "name": "python37764bitvscconda48cd1de58dbf4dbc9fea30418971662f"
  },
  "language_info": {
   "codemirror_mode": {
    "name": "ipython",
    "version": 3
   },
   "file_extension": ".py",
   "mimetype": "text/x-python",
   "name": "python",
   "nbconvert_exporter": "python",
   "pygments_lexer": "ipython3",
   "version": "3.7.7"
  }
 },
 "nbformat": 4,
 "nbformat_minor": 4
}
