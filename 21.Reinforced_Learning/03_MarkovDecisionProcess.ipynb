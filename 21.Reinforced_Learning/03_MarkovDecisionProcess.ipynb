{
 "cells": [
  {
   "cell_type": "markdown",
   "metadata": {},
   "source": [
    "# Markov Decision Process"
   ]
  },
  {
   "cell_type": "markdown",
   "metadata": {},
   "source": [
    "### State\n",
    "|  |  |  |  |\n",
    "|:---:|:---:|:---:|:---:|\n",
    "| 0  | 1 | 2 |**3**|\n",
    "| 4  | W | 5 |<span style=\"color:red\">6</span>|\n",
    "| 7  | 8 | 9 | 10|\n",
    "\n",
    "- 3이 최종 목적지\n",
    "- 6은 가서는 안되는 자리"
   ]
  },
  {
   "cell_type": "code",
   "execution_count": 1,
   "metadata": {},
   "outputs": [],
   "source": [
    "import numpy as np\n",
    "states = [0,1,2,3,4,5,6,7,8,9,10] \n",
    "N_STATES = len(states)"
   ]
  },
  {
   "cell_type": "markdown",
   "metadata": {},
   "source": [
    "### Action\n",
    "- 0: left\n",
    "- 1: right\n",
    "- 2: up\n",
    "- 3: down"
   ]
  },
  {
   "cell_type": "code",
   "execution_count": 2,
   "metadata": {},
   "outputs": [],
   "source": [
    "actions = [0, 1, 2, 3]  # left, right, up, down\n",
    "N_ACTIONS = len(actions) "
   ]
  },
  {
   "cell_type": "markdown",
   "metadata": {},
   "source": [
    "### Transition Probability\n",
    "- You move according to your action with 80% probability.\n",
    "- Your move may have a left and rigth one click error with 10% probability each.\n",
    "- If there is a barrier against your move, your move bounds back."
   ]
  },
  {
   "cell_type": "code",
   "execution_count": 3,
   "metadata": {},
   "outputs": [],
   "source": [
    "P = np.empty((N_STATES, N_ACTIONS, N_STATES))\n",
    "\n",
    "#                0   1   2   3   4   5   6   7   8   9  10\n",
    "P[ 0, 0, :] = [ .9,  0,  0,  0, .1,  0,  0,  0,  0,  0,  0 ]\n",
    "P[ 0, 1, :] = [ .1, .8,  0,  0, .1,  0,  0,  0,  0,  0,  0 ]\n",
    "P[ 0, 2, :] = [ .9, .1,  0,  0,  0,  0,  0,  0,  0,  0,  0 ]\n",
    "P[ 0, 3, :] = [ .1, .1,  0,  0, .8,  0,  0,  0,  0,  0,  0 ]\n",
    "\n",
    "P[ 1, 0, :] = [ .8, .2,  0,  0,  0,  0,  0,  0,  0,  0,  0 ] \n",
    "P[ 1, 1, :] = [  0, .2, .8,  0,  0,  0,  0,  0,  0,  0,  0 ]\n",
    "P[ 1, 2, :] = [ .1, .8, .1,  0,  0,  0,  0,  0,  0,  0,  0 ]\n",
    "P[ 1, 3, :] = [ .1, .8, .1,  0,  0,  0,  0,  0,  0,  0,  0 ]\n",
    "\n",
    "P[ 2, 0, :] = [  0, .8, .1,  0,  0, .1,  0,  0,  0,  0,  0 ]\n",
    "P[ 2, 1, :] = [  0,  0, .1, .8,  0, .1,  0,  0,  0,  0,  0 ]\n",
    "P[ 2, 2, :] = [  0, .1, .8, .1,  0,  0,  0,  0,  0,  0,  0 ]\n",
    "P[ 2, 3, :] = [  0, .1,  0, .1,  0, .8,  0,  0,  0,  0,  0 ]\n",
    "\n",
    "P[ 3, 0, :] = [  0,  0,  0,  1,  0,  0,  0,  0,  0,  0,  0 ]\n",
    "P[ 3, 1, :] = [  0,  0,  0,  1,  0,  0,  0,  0,  0,  0,  0 ]\n",
    "P[ 3, 2, :] = [  0,  0,  0,  1,  0,  0,  0,  0,  0,  0,  0 ]\n",
    "P[ 3, 3, :] = [  0,  0,  0,  1,  0,  0,  0,  0,  0,  0,  0 ]\n",
    "\n",
    "#                0   1   2   3   4   5   6   7   8   9  10\n",
    "P[ 4, 0, :] = [ .1,  0,  0,  0, .8,  0,  0, .1,  0,  0,  0 ]\n",
    "P[ 4, 1, :] = [ .1,  0,  0,  0, .8,  0,  0, .1,  0,  0,  0 ]\n",
    "P[ 4, 2, :] = [ .8,  0,  0,  0, .2,  0,  0,  0,  0,  0,  0 ]\n",
    "P[ 4, 3, :] = [  0,  0,  0,  0, .2,  0,  0, .8,  0,  0,  0 ]\n",
    "\n",
    "P[ 5, 0, :] = [  0,  0, .1,  0,  0, .8,  0,  0,  0, .1,  0 ]\n",
    "P[ 5, 1, :] = [  0,  0, .1,  0,  0,  0, .8,  0,  0, .1,  0 ]\n",
    "P[ 5, 2, :] = [  0,  0, .8,  0,  0, .1, .1,  0,  0,  0,  0 ]\n",
    "P[ 5, 3, :] = [  0,  0,  0,  0,  0, .1, .1,  0,  0, .8,  0 ]\n",
    "\n",
    "P[ 6, 0, :] = [  0,  0,  0,  0,  0,  0,  1,  0,  0,  0,  0 ]\n",
    "P[ 6, 1, :] = [  0,  0,  0,  0,  0,  0,  1,  0,  0,  0,  0 ]\n",
    "P[ 6, 2, :] = [  0,  0,  0,  0,  0,  0,  1,  0,  0,  0,  0 ]\n",
    "P[ 6, 3, :] = [  0,  0,  0,  0,  0,  0,  1,  0,  0,  0,  0 ]\n",
    "\n",
    "#                0   1   2   3   4   5   6   7   8   9  10\n",
    "P[ 7, 0, :] = [  0,  0,  0,  0, .1,  0,  0, .9,  0,  0,  0 ]\n",
    "P[ 7, 1, :] = [  0,  0,  0,  0, .1,  0,  0, .1, .8,  0,  0 ]\n",
    "P[ 7, 2, :] = [  0,  0,  0,  0, .8,  0,  0, .1, .1,  0,  0 ]\n",
    "P[ 7, 3, :] = [  0,  0,  0,  0,  0,  0,  0, .9, .1,  0,  0 ]\n",
    "\n",
    "P[ 8, 0, :] = [  0,  0,  0,  0,  0,  0,  0, .8, .2,  0,  0 ]\n",
    "P[ 8, 1, :] = [  0,  0,  0,  0,  0,  0,  0,  0, .2, .8,  0 ]\n",
    "P[ 8, 2, :] = [  0,  0,  0,  0,  0,  0,  0, .1, .8, .1,  0 ]\n",
    "P[ 8, 3, :] = [  0,  0,  0,  0, .0,  0,  0, .1, .8, .1,  0 ]\n",
    "\n",
    "P[ 9, 0, :] = [  0,  0,  0,  0,  0, .1,  0,  0, .8, .1,  0 ]\n",
    "P[ 9, 1, :] = [  0,  0,  0,  0,  0, .1,  0,  0,  0, .1, .8 ]\n",
    "P[ 9, 2, :] = [  0,  0,  0,  0,  0, .8,  0,  0, .1,  0, .1 ]\n",
    "P[ 9, 3, :] = [  0,  0,  0,  0,  0,  0,  0,  0, .1, .8, .1 ]\n",
    "\n",
    "P[10, 0, :] = [  0,  0,  0,  0,  0,  0, .1,  0,  0, .8, .1 ]\n",
    "P[10, 1, :] = [  0,  0,  0,  0,  0,  0, .1,  0,  0,  0, .9 ]\n",
    "P[10, 2, :] = [  0,  0,  0,  0,  0,  0, .8,  0,  0, .1, .1 ]\n",
    "P[10, 3, :] = [  0,  0,  0,  0,  0,  0,  0,  0,  0, .1, .9 ]"
   ]
  },
  {
   "cell_type": "markdown",
   "metadata": {},
   "source": [
    "### Reward\n",
    "\n",
    "- -0.02 for each action (battery consumption)\n",
    "- If you reach the state 3, you win and get the final reward 1 at the end step.\n",
    "- If you reach the state 6, you lose and get the final reward -1 at the end step."
   ]
  },
  {
   "cell_type": "code",
   "execution_count": 4,
   "metadata": {},
   "outputs": [],
   "source": [
    "if True:   # 정상 동작 (배터리가 충분) \n",
    "    R = -0.02 * np.ones((N_STATES, N_ACTIONS))\n",
    "else:      # 비정상 동작 (배터리가 부족) \n",
    "    R = -0.5 * np.ones((N_STATES, N_ACTIONS))\n",
    "R[3, :] = 1\n",
    "R[6, :] = -1"
   ]
  },
  {
   "cell_type": "markdown",
   "metadata": {},
   "source": [
    "### Discount factor"
   ]
  },
  {
   "cell_type": "code",
   "execution_count": 5,
   "metadata": {},
   "outputs": [],
   "source": [
    "gamma = 0.99"
   ]
  },
  {
   "cell_type": "markdown",
   "metadata": {},
   "source": [
    "### Policy\n",
    "- When you are at state s, there are many actions you can choose.\n",
    "- Policy describes how you choose your action."
   ]
  },
  {
   "cell_type": "markdown",
   "metadata": {},
   "source": [
    "### Bad policy"
   ]
  },
  {
   "cell_type": "code",
   "execution_count": 6,
   "metadata": {},
   "outputs": [],
   "source": [
    "policy = np.empty((N_STATES, N_ACTIONS)) \n",
    "policy[0, :] = [0,1,0,0]  # ->\n",
    "policy[1, :] = [0,1,0,0]  # ->\n",
    "policy[2, :] = [0,1,0,0]  # ->\n",
    "policy[3, :] = [0,1,0,0]  # 1\n",
    "policy[4, :] = [0,0,0,1]  # v (down) \n",
    "policy[5, :] = [0,1,0,0]  # ->\n",
    "policy[6, :] = [0,1,0,0]  # -1\n",
    "policy[7, :] = [0,1,0,0]  # ->\n",
    "policy[8, :] = [0,1,0,0]  # ->\n",
    "policy[9, :] = [0,0,1,0]  # ^ (up) \n",
    "policy[10,:] = [0,0,1,0]  # ^ (up) "
   ]
  },
  {
   "cell_type": "markdown",
   "metadata": {},
   "source": [
    "### Random policy"
   ]
  },
  {
   "cell_type": "code",
   "execution_count": 7,
   "metadata": {},
   "outputs": [],
   "source": [
    "policy = 0.25 * np.ones((N_STATES, N_ACTIONS)) "
   ]
  },
  {
   "cell_type": "markdown",
   "metadata": {},
   "source": [
    "### Optimal policy\n",
    "|  |  |  |  |\n",
    "|:---:|:---:|:---:|:---:|\n",
    "| -> | -> | -> |**1**|\n",
    "| ^  | W | ^ |<span style=\"color:red\">-1</span>|\n",
    "| ^  | <- | <- | <- |"
   ]
  },
  {
   "cell_type": "code",
   "execution_count": 8,
   "metadata": {},
   "outputs": [],
   "source": [
    "policy = np.empty((N_STATES, N_ACTIONS)) \n",
    "policy[0, :] = [0,1,0,0]  # ->\n",
    "policy[1, :] = [0,1,0,0]  # ->\n",
    "policy[2, :] = [0,1,0,0]  # ->\n",
    "policy[3, :] = [0,1,0,0]  # 1\n",
    "policy[4, :] = [0,0,1,0]  # ^ (up) \n",
    "policy[5, :] = [0,0,1,0]  # ^ (up) \n",
    "policy[6, :] = [0,0,1,0]  # -1\n",
    "policy[7, :] = [0,0,1,0]  # ^ (up) \n",
    "policy[8, :] = [1,0,0,0]  # <-\n",
    "policy[9, :] = [1,0,0,0]  # <-\n",
    "policy[10,:] = [1,0,0,0]  # <- "
   ]
  },
  {
   "cell_type": "code",
   "execution_count": 9,
   "metadata": {},
   "outputs": [],
   "source": [
    "# Policy\n",
    "if 0:  # bad policy\n",
    "    policy = np.empty((N_STATES, N_ACTIONS)) \n",
    "    policy[0, :] = [0,1,0,0]  # ->\n",
    "    policy[1, :] = [0,1,0,0]  # ->\n",
    "    policy[2, :] = [0,1,0,0]  # ->\n",
    "    policy[3, :] = [0,1,0,0]  # 1\n",
    "    policy[4, :] = [0,0,0,1]  # v (down) \n",
    "    policy[5, :] = [0,1,0,0]  # ->\n",
    "    policy[6, :] = [0,1,0,0]  # -1\n",
    "    policy[7, :] = [0,1,0,0]  # ->\n",
    "    policy[8, :] = [0,1,0,0]  # ->\n",
    "    policy[9, :] = [0,0,1,0]  # ^ (up) \n",
    "    policy[10,:] = [0,0,1,0]  # ^ (up) \n",
    "elif 0:  # random policy\n",
    "    policy = 0.25 * np.ones((N_STATES, N_ACTIONS)) \n",
    "elif 0:  # optimal policy\n",
    "    policy = np.empty((N_STATES, N_ACTIONS)) \n",
    "    policy[0, :] = [0,1,0,0]  # ->\n",
    "    policy[1, :] = [0,1,0,0]  # ->\n",
    "    policy[2, :] = [0,1,0,0]  # ->\n",
    "    policy[3, :] = [0,1,0,0]  # 1\n",
    "    policy[4, :] = [0,0,1,0]  # ^ (up) \n",
    "    policy[5, :] = [0,0,1,0]  # ^ (up) \n",
    "    policy[6, :] = [0,0,1,0]  # -1\n",
    "    policy[7, :] = [0,0,1,0]  # ^ (up) \n",
    "    policy[8, :] = [1,0,0,0]  # <-\n",
    "    policy[9, :] = [1,0,0,0]  # <-\n",
    "    policy[10,:] = [1,0,0,0]  # <- \n",
    "elif 1:  # optimal policy + noise\n",
    "         # optimal policy with probability 1/(1+ep) \n",
    "         # random policy with probability ep/(1+ep) \n",
    "    ep = .1\n",
    "    policy = np.empty((N_STATES, N_ACTIONS)) \n",
    "    policy[0, :] = [0,1,0,0]  # ->\n",
    "    policy[1, :] = [0,1,0,0]  # ->\n",
    "    policy[2, :] = [0,1,0,0]  # ->\n",
    "    policy[3, :] = [0,1,0,0]  # 1\n",
    "    policy[4, :] = [0,0,1,0]  # ^ (up) \n",
    "    policy[5, :] = [0,0,1,0]  # ^ (up) \n",
    "    policy[6, :] = [0,0,1,0]  # -1\n",
    "    policy[7, :] = [0,0,1,0]  # ^ (up) \n",
    "    policy[8, :] = [1,0,0,0]  # <-\n",
    "    policy[9, :] = [1,0,0,0]  # <-\n",
    "    policy[10,:] = [1,0,0,0]  # <- \n",
    "    policy = policy + (ep/4)*np.ones((N_STATES, N_ACTIONS))\n",
    "    policy = policy / np.sum(policy, axis=1).reshape((N_STATES, 1)) "
   ]
  },
  {
   "cell_type": "code",
   "execution_count": 10,
   "metadata": {},
   "outputs": [
    {
     "name": "stdout",
     "output_type": "stream",
     "text": [
      "[[0.02272727 0.93181818 0.02272727 0.02272727]\n",
      " [0.02272727 0.93181818 0.02272727 0.02272727]\n",
      " [0.02272727 0.93181818 0.02272727 0.02272727]\n",
      " [0.02272727 0.93181818 0.02272727 0.02272727]\n",
      " [0.02272727 0.02272727 0.93181818 0.02272727]\n",
      " [0.02272727 0.02272727 0.93181818 0.02272727]\n",
      " [0.02272727 0.02272727 0.93181818 0.02272727]\n",
      " [0.02272727 0.02272727 0.93181818 0.02272727]\n",
      " [0.93181818 0.02272727 0.02272727 0.02272727]\n",
      " [0.93181818 0.02272727 0.02272727 0.02272727]\n",
      " [0.93181818 0.02272727 0.02272727 0.02272727]]\n"
     ]
    }
   ],
   "source": [
    "print(policy) "
   ]
  },
  {
   "cell_type": "markdown",
   "metadata": {},
   "source": [
    "### Generate random samples from discrete distribution - np.random.choice"
   ]
  },
  {
   "cell_type": "code",
   "execution_count": 11,
   "metadata": {},
   "outputs": [
    {
     "data": {
      "image/png": "[encoded data removed]",
      "text/plain": [
       "<Figure size 432x288 with 1 Axes>"
      ]
     },
     "metadata": {
      "needs_background": "light"
     },
     "output_type": "display_data"
    }
   ],
   "source": [
    "import numpy as np\n",
    "import matplotlib.pyplot as plt\n",
    "%matplotlib inline\n",
    "\n",
    "x = [-3, -1, 1, 2, 5]\n",
    "pmf = [0.1, 0.1, 0.1, 0.5, 0.2] \n",
    "x_sample = np.random.choice(x, p=pmf, size=(1000,))\n",
    "\n",
    "plt.hist(x_sample)\n",
    "plt.show() "
   ]
  },
  {
   "cell_type": "markdown",
   "metadata": {},
   "source": [
    "#### Simulation of MDP\n",
    "- src: 4, a: 2, dst: 0, r: -0.02, done: 0, info: prob 0.932\n",
    "- src: 0, a: 1, dst: 1, r: -0.02, done: 0, info: prob 0.932\n",
    "- src: 1, a: 1, dst: 2, r: -0.02, done: 0, info: prob 0.932\n",
    "- src: 2, a: 1, dst: 3, r: -0.02, done: 1, info: prob 0.932\n",
    "- final reward 1 obtained and win the game!\n",
    "                        "
   ]
  },
  {
   "cell_type": "markdown",
   "metadata": {},
   "source": [
    "### MDP Simulation"
   ]
  },
  {
   "cell_type": "code",
   "execution_count": 12,
   "metadata": {},
   "outputs": [
    {
     "name": "stdout",
     "output_type": "stream",
     "text": [
      "src:  4, a: 2, dst:  0, p: 0.8, r: -0.02, done: 0, info: prob 0.932\n",
      "src:  0, a: 1, dst:  4, p: 0.1, r: -0.02, done: 0, info: prob 0.932\n",
      "src:  4, a: 2, dst:  0, p: 0.8, r: -0.02, done: 0, info: prob 0.932\n",
      "src:  0, a: 1, dst:  1, p: 0.8, r: -0.02, done: 0, info: prob 0.932\n",
      "src:  1, a: 1, dst:  2, p: 0.8, r: -0.02, done: 0, info: prob 0.932\n",
      "src:  2, a: 1, dst:  3, p: 0.8, r: -0.02, done: 1, info: prob 0.932\n",
      "final reward 1 obtained and win the game!\n",
      "src:  2, a: 1, dst:  5, p: 0.1, r: -0.02, done: 0, info: prob 0.932\n",
      "src:  5, a: 2, dst:  2, p: 0.8, r: -0.02, done: 0, info: prob 0.932\n",
      "src:  2, a: 1, dst:  3, p: 0.8, r: -0.02, done: 1, info: prob 0.932\n",
      "final reward 1 obtained and win the game!\n",
      "src:  7, a: 2, dst:  7, p: 0.1, r: -0.02, done: 0, info: prob 0.932\n",
      "src:  7, a: 2, dst:  4, p: 0.8, r: -0.02, done: 0, info: prob 0.932\n",
      "src:  4, a: 2, dst:  0, p: 0.8, r: -0.02, done: 0, info: prob 0.932\n",
      "src:  0, a: 2, dst:  0, p: 0.9, r: -0.02, done: 0, info: prob 0.023\n",
      "src:  0, a: 1, dst:  1, p: 0.8, r: -0.02, done: 0, info: prob 0.932\n",
      "src:  1, a: 3, dst:  1, p: 0.8, r: -0.02, done: 0, info: prob 0.023\n",
      "src:  1, a: 1, dst:  2, p: 0.8, r: -0.02, done: 0, info: prob 0.932\n",
      "src:  2, a: 1, dst:  5, p: 0.1, r: -0.02, done: 0, info: prob 0.932\n",
      "src:  5, a: 2, dst:  2, p: 0.8, r: -0.02, done: 0, info: prob 0.932\n",
      "src:  2, a: 1, dst:  3, p: 0.8, r: -0.02, done: 1, info: prob 0.932\n",
      "final reward 1 obtained and win the game!\n"
     ]
    }
   ],
   "source": [
    "epoch = 3\n",
    "np.random.seed(6) \n",
    "msg = \"src: {:2}, a: {}, dst: {:2}, p: {:.1f}, r: {:5.2f}, done: {:1}, info: prob {:.3f}\"\n",
    "#msg = \"src: {:2}, a: {}, dst: {:2}, r: {:5.2f}, done: {:1}, info: prob {:.3f}\"\n",
    "for _ in range(epoch):\n",
    "    done = False\n",
    "    src = np.random.choice([0,1,2,4,5,7,8,9,10])\n",
    "    while not done:\n",
    "        a = np.random.choice(actions, p=policy[src,:])\n",
    "        prob = policy[src, a]\n",
    "        dst = np.random.choice(states, p=P[src, a, :])\n",
    "        p = P[src, a, dst]\n",
    "        if (dst == 3):\n",
    "            done = True\n",
    "            msg_print = msg.format(src, a, dst, p, R[src, a], done, prob)\n",
    "            print(msg_print)\n",
    "            print(\"final reward 1 obtained and win the game!\")\n",
    "        elif (dst == 6):\n",
    "            done = True\n",
    "            msg_print = msg.format(src, a, dst, p, R[src, a], done, prob)\n",
    "            print(msg_print)\n",
    "            print(\"final reward -1 obtained and lose the game!\")\n",
    "        else:\n",
    "            done = False\n",
    "            msg_print = msg.format(src, a, dst, p, R[src, a], done, prob)\n",
    "            print(msg_print)\n",
    "            src = dst"
   ]
  },
  {
   "cell_type": "markdown",
   "metadata": {},
   "source": [
    "### Success rate of optimal policy"
   ]
  },
  {
   "cell_type": "code",
   "execution_count": 13,
   "metadata": {},
   "outputs": [],
   "source": [
    "epoch = 1000\n",
    "simulation_history = [] \n",
    "for _ in range(epoch):\n",
    "    done = False\n",
    "    src = np.random.choice([0,1,2,4,5,7,8,9,10])\n",
    "    while not done:\n",
    "        a = np.random.choice(actions, p=policy[src,:])\n",
    "        dst = np.random.choice(states, p=P[src, a, :])\n",
    "        if (dst == 3):\n",
    "            done = True\n",
    "            simulation_history.append(1.)\n",
    "        elif (dst == 6):\n",
    "            done = True\n",
    "            simulation_history.append(0.)\n",
    "        else:\n",
    "            src = dst"
   ]
  },
  {
   "cell_type": "code",
   "execution_count": 14,
   "metadata": {},
   "outputs": [
    {
     "data": {
      "image/png": "[encoded data removed]",
      "text/plain": [
       "<Figure size 432x288 with 1 Axes>"
      ]
     },
     "metadata": {
      "needs_background": "light"
     },
     "output_type": "display_data"
    },
    {
     "name": "stdout",
     "output_type": "stream",
     "text": [
      "Success rate: 0.9390\n"
     ]
    }
   ],
   "source": [
    "history = np.cumsum(simulation_history) / (np.arange(epoch)+1)\n",
    "\n",
    "plt.plot(history)\n",
    "plt.show()\n",
    "\n",
    "print(\"Success rate: {:.4f}\".format(history[-1])) "
   ]
  },
  {
   "cell_type": "code",
   "execution_count": null,
   "metadata": {},
   "outputs": [],
   "source": []
  }
 ],
 "metadata": {
  "kernelspec": {
   "display_name": "Python 3",
   "language": "python",
   "name": "python3"
  },
  "language_info": {
   "codemirror_mode": {
    "name": "ipython",
    "version": 3
   },
   "file_extension": ".py",
   "mimetype": "text/x-python",
   "name": "python",
   "nbconvert_exporter": "python",
   "pygments_lexer": "ipython3",
   "version": "3.7.7"
  }
 },
 "nbformat": 4,
 "nbformat_minor": 2
}
