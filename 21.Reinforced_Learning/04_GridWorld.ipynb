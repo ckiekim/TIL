{
 "cells": [
  {
   "cell_type": "markdown",
   "metadata": {},
   "source": [
    "# Grid World"
   ]
  },
  {
   "cell_type": "code",
   "execution_count": 1,
   "metadata": {},
   "outputs": [],
   "source": [
    "import random\n",
    "class GridWorld():\n",
    "    def __init__(self):\n",
    "        self.x = 0\n",
    "        self.y = 0\n",
    "        self.history = []\n",
    "    def move_right(self):\n",
    "        self.y += 1\n",
    "        if self.y > 3:\n",
    "            self.y = 3\n",
    "    def move_left(self):\n",
    "        self.y -= 1\n",
    "        if self.y < 3:\n",
    "            self.y = 0\n",
    "    def move_up(self):\n",
    "        self.x -= 1\n",
    "        if self.x < 0:\n",
    "            self.x = 0\n",
    "    def move_down(self):\n",
    "        self.x += 1\n",
    "        if self.x > 3:\n",
    "            self.x = 3\n",
    "    def move_random(self):\n",
    "        coin = random.randint(0,3)\n",
    "        if coin == 0:\n",
    "            self.move_right()\n",
    "        elif coin == 1:\n",
    "            self.move_left()\n",
    "        elif coin == 2:\n",
    "            self.move_up()\n",
    "        else:\n",
    "            self.move_down()\n",
    "        self.history.append((self.x, self.y))\n",
    "    def move_random_until_end(self):\n",
    "        while True:\n",
    "            self.move_random()\n",
    "            if self.x == 3 and self.y == 3:\n",
    "                history = self.history\n",
    "                self.initialize()\n",
    "                return history\n",
    "    def initialize(self):\n",
    "        self.x = 0\n",
    "        self.y = 0\n",
    "        self.history = [] \n",
    "    "
   ]
  },
  {
   "cell_type": "markdown",
   "metadata": {},
   "source": [
    "### MC 학습"
   ]
  },
  {
   "cell_type": "code",
   "execution_count": 6,
   "metadata": {},
   "outputs": [],
   "source": [
    "def mc(epoch):\n",
    "    data = [[0,0,0,0],[0,0,0,0],[0,0,0,0],[0,0,0,0]]\n",
    "    env = GridWorld()\n",
    "\n",
    "    for k in range(epoch):\n",
    "        history = env.move_random_until_end()\n",
    "        cum_reward = 0\n",
    "\n",
    "        for position in history[:: -1]:\n",
    "            x, y = position\n",
    "            data[x][y] = 0.999 * data[x][y] + 0.001*cum_reward\n",
    "            cum_reward -= 1\n",
    "\n",
    "    for row in data:\n",
    "        print(row) "
   ]
  },
  {
   "cell_type": "code",
   "execution_count": 7,
   "metadata": {},
   "outputs": [
    {
     "name": "stdout",
     "output_type": "stream",
     "text": [
      "[-3.180489495518045, -2.1094813425484187, -0.634799712574573, -0.908977261531239]\n",
      "[-1.7861186467377412, -1.1087894848457924, -0.41810578197335563, -0.3812440226457193]\n",
      "[-1.3163643088417447, -1.0852757170233251, -0.7954408802700144, -0.3611333654953222]\n",
      "[-1.026655100129356, -0.4694924073534112, -0.48055147575923984, 0.0]\n"
     ]
    }
   ],
   "source": [
    "mc(10) "
   ]
  },
  {
   "cell_type": "code",
   "execution_count": 8,
   "metadata": {},
   "outputs": [
    {
     "name": "stdout",
     "output_type": "stream",
     "text": [
      "[-58.78277502211313, -43.818671860842606, -21.944221065165767, -16.628874173477115]\n",
      "[-51.503999722148095, -35.453872566405806, -21.13123995081097, -16.77943236097958]\n",
      "[-48.96395908139986, -30.21072306168496, -16.087210714580053, -10.912905355378156]\n",
      "[-40.43646924117536, -20.99726273085165, -9.949664817948342, 0.0]\n"
     ]
    }
   ],
   "source": [
    "mc(100) "
   ]
  },
  {
   "cell_type": "code",
   "execution_count": 9,
   "metadata": {},
   "outputs": [
    {
     "name": "stdout",
     "output_type": "stream",
     "text": [
      "[-73.33140687623512, -79.60253817173944, -75.44841919006451, -72.02679210977625]\n",
      "[-69.75425656251095, -74.13409765635281, -69.700258702821, -66.83460736694096]\n",
      "[-71.03649715136723, -70.59774892758104, -56.85035104350176, -43.28220708873245]\n",
      "[-65.9284782237396, -61.844837480988865, -39.42537866897883, 0.0]\n"
     ]
    }
   ],
   "source": [
    "mc(1000) "
   ]
  },
  {
   "cell_type": "code",
   "execution_count": 10,
   "metadata": {},
   "outputs": [
    {
     "name": "stdout",
     "output_type": "stream",
     "text": [
      "[-98.5874834292754, -89.18263460497995, -89.58962837347296, -86.35434053839414]\n",
      "[-102.01649457283008, -91.6398186319383, -84.72768752422489, -81.7532569618428]\n",
      "[-86.92082149350937, -81.84452923108557, -72.52708895398732, -55.781624551243425]\n",
      "[-83.53281942440799, -73.88143585120055, -50.11218907207112, 0.0]\n"
     ]
    }
   ],
   "source": [
    "mc(10000) "
   ]
  },
  {
   "cell_type": "code",
   "execution_count": 11,
   "metadata": {},
   "outputs": [
    {
     "name": "stdout",
     "output_type": "stream",
     "text": [
      "[-74.27919654835131, -72.29054661075484, -74.99360299083243, -75.89660324473105]\n",
      "[-71.61754102218936, -71.3574461626839, -73.05041269182219, -67.18493794619344]\n",
      "[-72.14968270852872, -65.48030380036705, -63.1825028710294, -50.74705537808053]\n",
      "[-69.61899130520017, -58.265593050642046, -45.3660175730477, 0.0]\n"
     ]
    }
   ],
   "source": [
    "mc(100000) "
   ]
  },
  {
   "cell_type": "code",
   "execution_count": 12,
   "metadata": {},
   "outputs": [
    {
     "name": "stdout",
     "output_type": "stream",
     "text": [
      "[-80.1590356476291, -83.00868670061766, -82.9994585025374, -83.26032986283562]\n",
      "[-77.36250649273437, -80.48656773607308, -77.82618200452197, -74.38172656875194]\n",
      "[-79.43802253110104, -74.40557283032423, -67.0692378491793, -51.53658779815169]\n",
      "[-77.53028850214085, -66.33009102702431, -50.21843659492691, 0.0]\n"
     ]
    }
   ],
   "source": [
    "mc(1000000) "
   ]
  },
  {
   "cell_type": "code",
   "execution_count": null,
   "metadata": {},
   "outputs": [],
   "source": []
  }
 ],
 "metadata": {
  "kernelspec": {
   "display_name": "Python 3.7.7 64-bit ('vsc': conda)",
   "language": "python",
   "name": "python37764bitvscconda48cd1de58dbf4dbc9fea30418971662f"
  },
  "language_info": {
   "codemirror_mode": {
    "name": "ipython",
    "version": 3
   },
   "file_extension": ".py",
   "mimetype": "text/x-python",
   "name": "python",
   "nbconvert_exporter": "python",
   "pygments_lexer": "ipython3",
   "version": "3.7.7"
  }
 },
 "nbformat": 4,
 "nbformat_minor": 4
}
