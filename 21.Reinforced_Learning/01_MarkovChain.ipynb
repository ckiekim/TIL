{
 "cells": [
  {
   "cell_type": "markdown",
   "metadata": {},
   "source": [
    "# Markov Chain\n",
    "### State"
   ]
  },
  {
   "cell_type": "code",
   "execution_count": 1,
   "metadata": {},
   "outputs": [],
   "source": [
    "import numpy as np\n",
    "states = [0,1,2,3]\n",
    "N_STATES = len(states) "
   ]
  },
  {
   "cell_type": "markdown",
   "metadata": {},
   "source": [
    "### Transition probability"
   ]
  },
  {
   "cell_type": "code",
   "execution_count": 2,
   "metadata": {},
   "outputs": [
    {
     "name": "stdout",
     "output_type": "stream",
     "text": [
      "[[0.7 0.3 0.  0. ]\n",
      " [0.3 0.4 0.3 0. ]\n",
      " [0.  0.3 0.4 0.3]\n",
      " [0.  0.  0.3 0.7]]\n"
     ]
    }
   ],
   "source": [
    "P = np.empty((N_STATES, N_STATES))\n",
    "l = 0.3\n",
    "r = 0.3\n",
    "s = 1-l-r\n",
    "\n",
    "P[0, :] = [s+l, r, 0, 0]\n",
    "P[1, :] = [l, s, r, 0]\n",
    "P[2, :] = [0, l, s, r]\n",
    "P[3, :] = [0, 0, l, s+r]\n",
    "print(P) "
   ]
  },
  {
   "cell_type": "markdown",
   "metadata": {},
   "source": [
    "### Initial State"
   ]
  },
  {
   "cell_type": "code",
   "execution_count": 3,
   "metadata": {},
   "outputs": [
    {
     "name": "stdout",
     "output_type": "stream",
     "text": [
      "2\n"
     ]
    }
   ],
   "source": [
    "np.random.seed(3)\n",
    "state = np.random.choice(states)\n",
    "print(state) "
   ]
  },
  {
   "cell_type": "markdown",
   "metadata": {},
   "source": [
    "### Simulation"
   ]
  },
  {
   "cell_type": "code",
   "execution_count": 4,
   "metadata": {},
   "outputs": [
    {
     "name": "stdout",
     "output_type": "stream",
     "text": [
      "state:  2, next_state:  2, transition_prob: 0.4\n",
      "state:  2, next_state:  3, transition_prob: 0.3\n",
      "state:  3, next_state:  2, transition_prob: 0.3\n",
      "state:  2, next_state:  2, transition_prob: 0.4\n",
      "state:  2, next_state:  1, transition_prob: 0.3\n"
     ]
    }
   ],
   "source": [
    "np.random.seed(1)\n",
    "num_steps = 5\n",
    "msg = \"state: {:2}, next_state: {:2}, transition_prob: {:.1f}\"\n",
    "state_history = []\n",
    "state_history.append(state) \n",
    "for _ in range(num_steps):\n",
    "    next_state = np.random.choice(states, p=P[state, :])\n",
    "    prob = P[state, next_state]\n",
    "    print(msg.format(state, next_state, prob))\n",
    "    state = next_state\n",
    "    state_history.append(state)"
   ]
  },
  {
   "cell_type": "markdown",
   "metadata": {},
   "source": [
    "### Plot"
   ]
  },
  {
   "cell_type": "code",
   "execution_count": 5,
   "metadata": {},
   "outputs": [
    {
     "data": {
      "image/png": "[encoded data removed]",
      "text/plain": [
       "<Figure size 432x288 with 1 Axes>"
      ]
     },
     "metadata": {
      "needs_background": "light"
     },
     "output_type": "display_data"
    }
   ],
   "source": [
    "%matplotlib inline\n",
    "import matplotlib.pyplot as plt\n",
    "#plt.style.use(['dark_background'])  # 배경이 어두울 때 tick이 안보이는 문제 해결\n",
    "\n",
    "fig, ax = plt.subplots()\n",
    "ax.plot(state_history, 'ro--')\n",
    "ax.set_ylim([-0.1, 3.1])\n",
    "ax.set_yticks([0,1,2,3])\n",
    "plt.show()"
   ]
  },
  {
   "cell_type": "code",
   "execution_count": null,
   "metadata": {},
   "outputs": [],
   "source": []
  }
 ],
 "metadata": {
  "kernelspec": {
   "display_name": "Python 3",
   "language": "python",
   "name": "python3"
  },
  "language_info": {
   "codemirror_mode": {
    "name": "ipython",
    "version": 3
   },
   "file_extension": ".py",
   "mimetype": "text/x-python",
   "name": "python",
   "nbconvert_exporter": "python",
   "pygments_lexer": "ipython3",
   "version": "3.7.4"
  }
 },
 "nbformat": 4,
 "nbformat_minor": 2
}
