{
  "nbformat": 4,
  "nbformat_minor": 0,
  "metadata": {
    "colab": {
      "name": "01_BreastCancer.ipynb",
      "provenance": [],
      "collapsed_sections": []
    },
    "kernelspec": {
      "name": "python3",
      "display_name": "Python 3"
    },
    "language_info": {
      "name": "python"
    }
  },
  "cells": [
    {
      "cell_type": "markdown",
      "metadata": {
        "id": "9scIUTliT3uo"
      },
      "source": [
        "# XGBoost"
      ]
    },
    {
      "cell_type": "code",
      "metadata": {
        "id": "ew_6KgiMUGm9"
      },
      "source": [
        "from sklearn.datasets import load_breast_cancer\n",
        "from sklearn.model_selection import train_test_split\n",
        "from sklearn.metrics import accuracy_score"
      ],
      "execution_count": 2,
      "outputs": []
    },
    {
      "cell_type": "code",
      "metadata": {
        "colab": {
          "base_uri": "https://localhost:8080/"
        },
        "id": "-HlP4jB0Uh8q",
        "outputId": "00897af6-cce2-493a-eb80-8f104cb3388f"
      },
      "source": [
        "cancer = load_breast_cancer()\n",
        "X_train, X_test, y_train, y_test = train_test_split(\n",
        "    cancer.data, cancer.target, stratify=cancer.target, test_size=0.2, random_state=2021\n",
        ")\n",
        "X_train.shape, X_test.shape, y_train.shape, y_test.shape"
      ],
      "execution_count": 3,
      "outputs": [
        {
          "output_type": "execute_result",
          "data": {
            "text/plain": [
              "((455, 30), (114, 30), (455,), (114,))"
            ]
          },
          "metadata": {},
          "execution_count": 3
        }
      ]
    },
    {
      "cell_type": "markdown",
      "metadata": {
        "id": "Hgcne-SvYsTJ"
      },
      "source": [
        "## Random Forest"
      ]
    },
    {
      "cell_type": "code",
      "metadata": {
        "id": "zeGozvJgVieK"
      },
      "source": [
        "from sklearn.ensemble import RandomForestClassifier\n",
        "rfc = RandomForestClassifier()\n",
        "rfc.fit(X_train, y_train)\n",
        "rfc_pred = rfc.predict(X_test)"
      ],
      "execution_count": 4,
      "outputs": []
    },
    {
      "cell_type": "code",
      "metadata": {
        "colab": {
          "base_uri": "https://localhost:8080/"
        },
        "id": "787bI3OEWQPi",
        "outputId": "05d155c9-3adb-4262-9acd-f4d61c358750"
      },
      "source": [
        "accuracy_score(y_test, rfc_pred)"
      ],
      "execution_count": 5,
      "outputs": [
        {
          "output_type": "execute_result",
          "data": {
            "text/plain": [
              "0.9736842105263158"
            ]
          },
          "metadata": {},
          "execution_count": 5
        }
      ]
    },
    {
      "cell_type": "code",
      "metadata": {
        "colab": {
          "base_uri": "https://localhost:8080/"
        },
        "id": "lTUIjn9PXD24",
        "outputId": "0560dc0f-cf55-4ccf-9dca-0ba805b4b350"
      },
      "source": [
        "rfc.get_params()"
      ],
      "execution_count": 9,
      "outputs": [
        {
          "output_type": "execute_result",
          "data": {
            "text/plain": [
              "{'bootstrap': True,\n",
              " 'ccp_alpha': 0.0,\n",
              " 'class_weight': None,\n",
              " 'criterion': 'gini',\n",
              " 'max_depth': None,\n",
              " 'max_features': 'auto',\n",
              " 'max_leaf_nodes': None,\n",
              " 'max_samples': None,\n",
              " 'min_impurity_decrease': 0.0,\n",
              " 'min_impurity_split': None,\n",
              " 'min_samples_leaf': 1,\n",
              " 'min_samples_split': 2,\n",
              " 'min_weight_fraction_leaf': 0.0,\n",
              " 'n_estimators': 100,\n",
              " 'n_jobs': None,\n",
              " 'oob_score': False,\n",
              " 'random_state': None,\n",
              " 'verbose': 0,\n",
              " 'warm_start': False}"
            ]
          },
          "metadata": {},
          "execution_count": 9
        }
      ]
    },
    {
      "cell_type": "code",
      "metadata": {
        "colab": {
          "base_uri": "https://localhost:8080/"
        },
        "id": "B-Q4FLK6X1GM",
        "outputId": "cb4d1197-40c3-46a7-a241-56a936dd5cef"
      },
      "source": [
        "rfc = RandomForestClassifier(n_estimators=500, max_depth=4)\n",
        "rfc.fit(X_train, y_train)\n",
        "rfc_pred = rfc.predict(X_test)\n",
        "accuracy_score(y_test, rfc_pred)"
      ],
      "execution_count": 11,
      "outputs": [
        {
          "output_type": "execute_result",
          "data": {
            "text/plain": [
              "0.9736842105263158"
            ]
          },
          "metadata": {},
          "execution_count": 11
        }
      ]
    },
    {
      "cell_type": "markdown",
      "metadata": {
        "id": "BnghOgxCYxMk"
      },
      "source": [
        "## XGBoost"
      ]
    },
    {
      "cell_type": "code",
      "metadata": {
        "id": "VvVmzRYHT2mO"
      },
      "source": [
        "from xgboost import XGBClassifier, plot_importance"
      ],
      "execution_count": 1,
      "outputs": []
    },
    {
      "cell_type": "code",
      "metadata": {
        "colab": {
          "base_uri": "https://localhost:8080/"
        },
        "id": "_qoIWekCWctQ",
        "outputId": "151232e8-056c-4ca7-af2f-c4d8b36238f6"
      },
      "source": [
        "xgb = XGBClassifier()\n",
        "xgb.fit(X_train, y_train)\n",
        "xgb_pred = xgb.predict(X_test)\n",
        "accuracy_score(y_test, xgb_pred)"
      ],
      "execution_count": 6,
      "outputs": [
        {
          "output_type": "execute_result",
          "data": {
            "text/plain": [
              "0.9912280701754386"
            ]
          },
          "metadata": {},
          "execution_count": 6
        }
      ]
    },
    {
      "cell_type": "code",
      "metadata": {
        "colab": {
          "base_uri": "https://localhost:8080/"
        },
        "id": "9lltc6txWw2I",
        "outputId": "27c3de3c-e337-4407-9fb1-21d106112ed6"
      },
      "source": [
        "xgb.get_params()"
      ],
      "execution_count": 8,
      "outputs": [
        {
          "output_type": "execute_result",
          "data": {
            "text/plain": [
              "{'base_score': 0.5,\n",
              " 'booster': 'gbtree',\n",
              " 'colsample_bylevel': 1,\n",
              " 'colsample_bynode': 1,\n",
              " 'colsample_bytree': 1,\n",
              " 'gamma': 0,\n",
              " 'learning_rate': 0.1,\n",
              " 'max_delta_step': 0,\n",
              " 'max_depth': 3,\n",
              " 'min_child_weight': 1,\n",
              " 'missing': None,\n",
              " 'n_estimators': 100,\n",
              " 'n_jobs': 1,\n",
              " 'nthread': None,\n",
              " 'objective': 'binary:logistic',\n",
              " 'random_state': 0,\n",
              " 'reg_alpha': 0,\n",
              " 'reg_lambda': 1,\n",
              " 'scale_pos_weight': 1,\n",
              " 'seed': None,\n",
              " 'silent': None,\n",
              " 'subsample': 1,\n",
              " 'verbosity': 1}"
            ]
          },
          "metadata": {},
          "execution_count": 8
        }
      ]
    },
    {
      "cell_type": "code",
      "metadata": {
        "colab": {
          "base_uri": "https://localhost:8080/"
        },
        "id": "pmpj-NKtXa9F",
        "outputId": "6dcc220c-5b9b-40e3-c8e2-25ae595e9c23"
      },
      "source": [
        "xgb = XGBClassifier(n_estimators=500, learning_rate=0.1, max_depth=4)\n",
        "xgb.fit(X_train, y_train)\n",
        "xgb_pred = xgb.predict(X_test)\n",
        "accuracy_score(y_test, xgb_pred)"
      ],
      "execution_count": 10,
      "outputs": [
        {
          "output_type": "execute_result",
          "data": {
            "text/plain": [
              "1.0"
            ]
          },
          "metadata": {},
          "execution_count": 10
        }
      ]
    },
    {
      "cell_type": "markdown",
      "metadata": {
        "id": "D-JnNN8vY2ok"
      },
      "source": [
        "### Early Stopping"
      ]
    },
    {
      "cell_type": "code",
      "metadata": {
        "colab": {
          "base_uri": "https://localhost:8080/"
        },
        "id": "qdu5v2G9XKlD",
        "outputId": "f06bcfb0-099e-4347-bb41-511027e77e7c"
      },
      "source": [
        "xgb = XGBClassifier(n_estimators=400, learning_rate=0.1, max_depth=3)\n",
        "evals = [(X_test, y_test)]\n",
        "xgb.fit(X_train, y_train, early_stopping_rounds=100, eval_metric='logloss', eval_set=evals, verbose=1)"
      ],
      "execution_count": 12,
      "outputs": [
        {
          "output_type": "stream",
          "name": "stdout",
          "text": [
            "[0]\tvalidation_0-logloss:0.616287\n",
            "Will train until validation_0-logloss hasn't improved in 100 rounds.\n",
            "[1]\tvalidation_0-logloss:0.552531\n",
            "[2]\tvalidation_0-logloss:0.501124\n",
            "[3]\tvalidation_0-logloss:0.456354\n",
            "[4]\tvalidation_0-logloss:0.418732\n",
            "[5]\tvalidation_0-logloss:0.384026\n",
            "[6]\tvalidation_0-logloss:0.351816\n",
            "[7]\tvalidation_0-logloss:0.326893\n",
            "[8]\tvalidation_0-logloss:0.302045\n",
            "[9]\tvalidation_0-logloss:0.281723\n",
            "[10]\tvalidation_0-logloss:0.262412\n",
            "[11]\tvalidation_0-logloss:0.247358\n",
            "[12]\tvalidation_0-logloss:0.233282\n",
            "[13]\tvalidation_0-logloss:0.218648\n",
            "[14]\tvalidation_0-logloss:0.202336\n",
            "[15]\tvalidation_0-logloss:0.190999\n",
            "[16]\tvalidation_0-logloss:0.181319\n",
            "[17]\tvalidation_0-logloss:0.171201\n",
            "[18]\tvalidation_0-logloss:0.161166\n",
            "[19]\tvalidation_0-logloss:0.154174\n",
            "[20]\tvalidation_0-logloss:0.145404\n",
            "[21]\tvalidation_0-logloss:0.139487\n",
            "[22]\tvalidation_0-logloss:0.1329\n",
            "[23]\tvalidation_0-logloss:0.125716\n",
            "[24]\tvalidation_0-logloss:0.120839\n",
            "[25]\tvalidation_0-logloss:0.115783\n",
            "[26]\tvalidation_0-logloss:0.110618\n",
            "[27]\tvalidation_0-logloss:0.105501\n",
            "[28]\tvalidation_0-logloss:0.101636\n",
            "[29]\tvalidation_0-logloss:0.096595\n",
            "[30]\tvalidation_0-logloss:0.093598\n",
            "[31]\tvalidation_0-logloss:0.089279\n",
            "[32]\tvalidation_0-logloss:0.085785\n",
            "[33]\tvalidation_0-logloss:0.081549\n",
            "[34]\tvalidation_0-logloss:0.078994\n",
            "[35]\tvalidation_0-logloss:0.076521\n",
            "[36]\tvalidation_0-logloss:0.07359\n",
            "[37]\tvalidation_0-logloss:0.070619\n",
            "[38]\tvalidation_0-logloss:0.069128\n",
            "[39]\tvalidation_0-logloss:0.067382\n",
            "[40]\tvalidation_0-logloss:0.065822\n",
            "[41]\tvalidation_0-logloss:0.063768\n",
            "[42]\tvalidation_0-logloss:0.062025\n",
            "[43]\tvalidation_0-logloss:0.061865\n",
            "[44]\tvalidation_0-logloss:0.059984\n",
            "[45]\tvalidation_0-logloss:0.05856\n",
            "[46]\tvalidation_0-logloss:0.057607\n",
            "[47]\tvalidation_0-logloss:0.05693\n",
            "[48]\tvalidation_0-logloss:0.056172\n",
            "[49]\tvalidation_0-logloss:0.054467\n",
            "[50]\tvalidation_0-logloss:0.053639\n",
            "[51]\tvalidation_0-logloss:0.052313\n",
            "[52]\tvalidation_0-logloss:0.052103\n",
            "[53]\tvalidation_0-logloss:0.051428\n",
            "[54]\tvalidation_0-logloss:0.050587\n",
            "[55]\tvalidation_0-logloss:0.049728\n",
            "[56]\tvalidation_0-logloss:0.048489\n",
            "[57]\tvalidation_0-logloss:0.047752\n",
            "[58]\tvalidation_0-logloss:0.04759\n",
            "[59]\tvalidation_0-logloss:0.04693\n",
            "[60]\tvalidation_0-logloss:0.046001\n",
            "[61]\tvalidation_0-logloss:0.045045\n",
            "[62]\tvalidation_0-logloss:0.044884\n",
            "[63]\tvalidation_0-logloss:0.044176\n",
            "[64]\tvalidation_0-logloss:0.043904\n",
            "[65]\tvalidation_0-logloss:0.043386\n",
            "[66]\tvalidation_0-logloss:0.043177\n",
            "[67]\tvalidation_0-logloss:0.042461\n",
            "[68]\tvalidation_0-logloss:0.042556\n",
            "[69]\tvalidation_0-logloss:0.042659\n",
            "[70]\tvalidation_0-logloss:0.042269\n",
            "[71]\tvalidation_0-logloss:0.041851\n",
            "[72]\tvalidation_0-logloss:0.041914\n",
            "[73]\tvalidation_0-logloss:0.04085\n",
            "[74]\tvalidation_0-logloss:0.040705\n",
            "[75]\tvalidation_0-logloss:0.040771\n",
            "[76]\tvalidation_0-logloss:0.040411\n",
            "[77]\tvalidation_0-logloss:0.039337\n",
            "[78]\tvalidation_0-logloss:0.039253\n",
            "[79]\tvalidation_0-logloss:0.039119\n",
            "[80]\tvalidation_0-logloss:0.039269\n",
            "[81]\tvalidation_0-logloss:0.038937\n",
            "[82]\tvalidation_0-logloss:0.038085\n",
            "[83]\tvalidation_0-logloss:0.037237\n",
            "[84]\tvalidation_0-logloss:0.037332\n",
            "[85]\tvalidation_0-logloss:0.037112\n",
            "[86]\tvalidation_0-logloss:0.037008\n",
            "[87]\tvalidation_0-logloss:0.036254\n",
            "[88]\tvalidation_0-logloss:0.036375\n",
            "[89]\tvalidation_0-logloss:0.036287\n",
            "[90]\tvalidation_0-logloss:0.036235\n",
            "[91]\tvalidation_0-logloss:0.036363\n",
            "[92]\tvalidation_0-logloss:0.036362\n",
            "[93]\tvalidation_0-logloss:0.036363\n",
            "[94]\tvalidation_0-logloss:0.036004\n",
            "[95]\tvalidation_0-logloss:0.035714\n",
            "[96]\tvalidation_0-logloss:0.035664\n",
            "[97]\tvalidation_0-logloss:0.035541\n",
            "[98]\tvalidation_0-logloss:0.034965\n",
            "[99]\tvalidation_0-logloss:0.035161\n",
            "[100]\tvalidation_0-logloss:0.035067\n",
            "[101]\tvalidation_0-logloss:0.034831\n",
            "[102]\tvalidation_0-logloss:0.0343\n",
            "[103]\tvalidation_0-logloss:0.034281\n",
            "[104]\tvalidation_0-logloss:0.034028\n",
            "[105]\tvalidation_0-logloss:0.034201\n",
            "[106]\tvalidation_0-logloss:0.034036\n",
            "[107]\tvalidation_0-logloss:0.033692\n",
            "[108]\tvalidation_0-logloss:0.033783\n",
            "[109]\tvalidation_0-logloss:0.033894\n",
            "[110]\tvalidation_0-logloss:0.033686\n",
            "[111]\tvalidation_0-logloss:0.033564\n",
            "[112]\tvalidation_0-logloss:0.033664\n",
            "[113]\tvalidation_0-logloss:0.033727\n",
            "[114]\tvalidation_0-logloss:0.033498\n",
            "[115]\tvalidation_0-logloss:0.033255\n",
            "[116]\tvalidation_0-logloss:0.033134\n",
            "[117]\tvalidation_0-logloss:0.032702\n",
            "[118]\tvalidation_0-logloss:0.032695\n",
            "[119]\tvalidation_0-logloss:0.032791\n",
            "[120]\tvalidation_0-logloss:0.032658\n",
            "[121]\tvalidation_0-logloss:0.032443\n",
            "[122]\tvalidation_0-logloss:0.032219\n",
            "[123]\tvalidation_0-logloss:0.031676\n",
            "[124]\tvalidation_0-logloss:0.03177\n",
            "[125]\tvalidation_0-logloss:0.031717\n",
            "[126]\tvalidation_0-logloss:0.031483\n",
            "[127]\tvalidation_0-logloss:0.031481\n",
            "[128]\tvalidation_0-logloss:0.03158\n",
            "[129]\tvalidation_0-logloss:0.031391\n",
            "[130]\tvalidation_0-logloss:0.031332\n",
            "[131]\tvalidation_0-logloss:0.030934\n",
            "[132]\tvalidation_0-logloss:0.030442\n",
            "[133]\tvalidation_0-logloss:0.030541\n",
            "[134]\tvalidation_0-logloss:0.030512\n",
            "[135]\tvalidation_0-logloss:0.030281\n",
            "[136]\tvalidation_0-logloss:0.030114\n",
            "[137]\tvalidation_0-logloss:0.029835\n",
            "[138]\tvalidation_0-logloss:0.029476\n",
            "[139]\tvalidation_0-logloss:0.029193\n",
            "[140]\tvalidation_0-logloss:0.029194\n",
            "[141]\tvalidation_0-logloss:0.028986\n",
            "[142]\tvalidation_0-logloss:0.028814\n",
            "[143]\tvalidation_0-logloss:0.028839\n",
            "[144]\tvalidation_0-logloss:0.028779\n",
            "[145]\tvalidation_0-logloss:0.028865\n",
            "[146]\tvalidation_0-logloss:0.028836\n",
            "[147]\tvalidation_0-logloss:0.028846\n",
            "[148]\tvalidation_0-logloss:0.02874\n",
            "[149]\tvalidation_0-logloss:0.028575\n",
            "[150]\tvalidation_0-logloss:0.028426\n",
            "[151]\tvalidation_0-logloss:0.028288\n",
            "[152]\tvalidation_0-logloss:0.028031\n",
            "[153]\tvalidation_0-logloss:0.027838\n",
            "[154]\tvalidation_0-logloss:0.02807\n",
            "[155]\tvalidation_0-logloss:0.027899\n",
            "[156]\tvalidation_0-logloss:0.027754\n",
            "[157]\tvalidation_0-logloss:0.027655\n",
            "[158]\tvalidation_0-logloss:0.027663\n",
            "[159]\tvalidation_0-logloss:0.027585\n",
            "[160]\tvalidation_0-logloss:0.027569\n",
            "[161]\tvalidation_0-logloss:0.027329\n",
            "[162]\tvalidation_0-logloss:0.027194\n",
            "[163]\tvalidation_0-logloss:0.0271\n",
            "[164]\tvalidation_0-logloss:0.027108\n",
            "[165]\tvalidation_0-logloss:0.026977\n",
            "[166]\tvalidation_0-logloss:0.026749\n",
            "[167]\tvalidation_0-logloss:0.026691\n",
            "[168]\tvalidation_0-logloss:0.026568\n",
            "[169]\tvalidation_0-logloss:0.026479\n",
            "[170]\tvalidation_0-logloss:0.026483\n",
            "[171]\tvalidation_0-logloss:0.026416\n",
            "[172]\tvalidation_0-logloss:0.026203\n",
            "[173]\tvalidation_0-logloss:0.02609\n",
            "[174]\tvalidation_0-logloss:0.026006\n",
            "[175]\tvalidation_0-logloss:0.025823\n",
            "[176]\tvalidation_0-logloss:0.025775\n",
            "[177]\tvalidation_0-logloss:0.025932\n",
            "[178]\tvalidation_0-logloss:0.025854\n",
            "[179]\tvalidation_0-logloss:0.025903\n",
            "[180]\tvalidation_0-logloss:0.025731\n",
            "[181]\tvalidation_0-logloss:0.025887\n",
            "[182]\tvalidation_0-logloss:0.025842\n",
            "[183]\tvalidation_0-logloss:0.025759\n",
            "[184]\tvalidation_0-logloss:0.025717\n",
            "[185]\tvalidation_0-logloss:0.025901\n",
            "[186]\tvalidation_0-logloss:0.025824\n",
            "[187]\tvalidation_0-logloss:0.025804\n",
            "[188]\tvalidation_0-logloss:0.025984\n",
            "[189]\tvalidation_0-logloss:0.025935\n",
            "[190]\tvalidation_0-logloss:0.025992\n",
            "[191]\tvalidation_0-logloss:0.025918\n",
            "[192]\tvalidation_0-logloss:0.026025\n",
            "[193]\tvalidation_0-logloss:0.025997\n",
            "[194]\tvalidation_0-logloss:0.025956\n",
            "[195]\tvalidation_0-logloss:0.026014\n",
            "[196]\tvalidation_0-logloss:0.025942\n",
            "[197]\tvalidation_0-logloss:0.026047\n",
            "[198]\tvalidation_0-logloss:0.02603\n",
            "[199]\tvalidation_0-logloss:0.025968\n",
            "[200]\tvalidation_0-logloss:0.026023\n",
            "[201]\tvalidation_0-logloss:0.025998\n",
            "[202]\tvalidation_0-logloss:0.025928\n",
            "[203]\tvalidation_0-logloss:0.025892\n",
            "[204]\tvalidation_0-logloss:0.025932\n",
            "[205]\tvalidation_0-logloss:0.025888\n",
            "[206]\tvalidation_0-logloss:0.025824\n",
            "[207]\tvalidation_0-logloss:0.025807\n",
            "[208]\tvalidation_0-logloss:0.025735\n",
            "[209]\tvalidation_0-logloss:0.025837\n",
            "[210]\tvalidation_0-logloss:0.025801\n",
            "[211]\tvalidation_0-logloss:0.025843\n",
            "[212]\tvalidation_0-logloss:0.025781\n",
            "[213]\tvalidation_0-logloss:0.025714\n",
            "[214]\tvalidation_0-logloss:0.025754\n",
            "[215]\tvalidation_0-logloss:0.025582\n",
            "[216]\tvalidation_0-logloss:0.02555\n",
            "[217]\tvalidation_0-logloss:0.025518\n",
            "[218]\tvalidation_0-logloss:0.025561\n",
            "[219]\tvalidation_0-logloss:0.025591\n",
            "[220]\tvalidation_0-logloss:0.025595\n",
            "[221]\tvalidation_0-logloss:0.025555\n",
            "[222]\tvalidation_0-logloss:0.025592\n",
            "[223]\tvalidation_0-logloss:0.025561\n",
            "[224]\tvalidation_0-logloss:0.025395\n",
            "[225]\tvalidation_0-logloss:0.025329\n",
            "[226]\tvalidation_0-logloss:0.025367\n",
            "[227]\tvalidation_0-logloss:0.02533\n",
            "[228]\tvalidation_0-logloss:0.025273\n",
            "[229]\tvalidation_0-logloss:0.025243\n",
            "[230]\tvalidation_0-logloss:0.025247\n",
            "[231]\tvalidation_0-logloss:0.025216\n",
            "[232]\tvalidation_0-logloss:0.025152\n",
            "[233]\tvalidation_0-logloss:0.025194\n",
            "[234]\tvalidation_0-logloss:0.025128\n",
            "[235]\tvalidation_0-logloss:0.025094\n",
            "[236]\tvalidation_0-logloss:0.025131\n",
            "[237]\tvalidation_0-logloss:0.025102\n",
            "[238]\tvalidation_0-logloss:0.024944\n",
            "[239]\tvalidation_0-logloss:0.024948\n",
            "[240]\tvalidation_0-logloss:0.02491\n",
            "[241]\tvalidation_0-logloss:0.024946\n",
            "[242]\tvalidation_0-logloss:0.024792\n",
            "[243]\tvalidation_0-logloss:0.024765\n",
            "[244]\tvalidation_0-logloss:0.024768\n",
            "[245]\tvalidation_0-logloss:0.024709\n",
            "[246]\tvalidation_0-logloss:0.024657\n",
            "[247]\tvalidation_0-logloss:0.024684\n",
            "[248]\tvalidation_0-logloss:0.024573\n",
            "[249]\tvalidation_0-logloss:0.024612\n",
            "[250]\tvalidation_0-logloss:0.024578\n",
            "[251]\tvalidation_0-logloss:0.02453\n",
            "[252]\tvalidation_0-logloss:0.024566\n",
            "[253]\tvalidation_0-logloss:0.024538\n",
            "[254]\tvalidation_0-logloss:0.024511\n",
            "[255]\tvalidation_0-logloss:0.02455\n",
            "[256]\tvalidation_0-logloss:0.024402\n",
            "[257]\tvalidation_0-logloss:0.024344\n",
            "[258]\tvalidation_0-logloss:0.024289\n",
            "[259]\tvalidation_0-logloss:0.024144\n",
            "[260]\tvalidation_0-logloss:0.024181\n",
            "[261]\tvalidation_0-logloss:0.024143\n",
            "[262]\tvalidation_0-logloss:0.024168\n",
            "[263]\tvalidation_0-logloss:0.024122\n",
            "[264]\tvalidation_0-logloss:0.024126\n",
            "[265]\tvalidation_0-logloss:0.024068\n",
            "[266]\tvalidation_0-logloss:0.024013\n",
            "[267]\tvalidation_0-logloss:0.024039\n",
            "[268]\tvalidation_0-logloss:0.024063\n",
            "[269]\tvalidation_0-logloss:0.024099\n",
            "[270]\tvalidation_0-logloss:0.024067\n",
            "[271]\tvalidation_0-logloss:0.024105\n",
            "[272]\tvalidation_0-logloss:0.024061\n",
            "[273]\tvalidation_0-logloss:0.024033\n",
            "[274]\tvalidation_0-logloss:0.02406\n",
            "[275]\tvalidation_0-logloss:0.024129\n",
            "[276]\tvalidation_0-logloss:0.024086\n",
            "[277]\tvalidation_0-logloss:0.024032\n",
            "[278]\tvalidation_0-logloss:0.023929\n",
            "[279]\tvalidation_0-logloss:0.023967\n",
            "[280]\tvalidation_0-logloss:0.023831\n",
            "[281]\tvalidation_0-logloss:0.02378\n",
            "[282]\tvalidation_0-logloss:0.023702\n",
            "[283]\tvalidation_0-logloss:0.023646\n",
            "[284]\tvalidation_0-logloss:0.023596\n",
            "[285]\tvalidation_0-logloss:0.023556\n",
            "[286]\tvalidation_0-logloss:0.023525\n",
            "[287]\tvalidation_0-logloss:0.023488\n",
            "[288]\tvalidation_0-logloss:0.023525\n",
            "[289]\tvalidation_0-logloss:0.023498\n",
            "[290]\tvalidation_0-logloss:0.023368\n",
            "[291]\tvalidation_0-logloss:0.023434\n",
            "[292]\tvalidation_0-logloss:0.02341\n",
            "[293]\tvalidation_0-logloss:0.023372\n",
            "[294]\tvalidation_0-logloss:0.02334\n",
            "[295]\tvalidation_0-logloss:0.02338\n",
            "[296]\tvalidation_0-logloss:0.023351\n",
            "[297]\tvalidation_0-logloss:0.02337\n",
            "[298]\tvalidation_0-logloss:0.023324\n",
            "[299]\tvalidation_0-logloss:0.02325\n",
            "[300]\tvalidation_0-logloss:0.023213\n",
            "[301]\tvalidation_0-logloss:0.02325\n",
            "[302]\tvalidation_0-logloss:0.023222\n",
            "[303]\tvalidation_0-logloss:0.023198\n",
            "[304]\tvalidation_0-logloss:0.023168\n",
            "[305]\tvalidation_0-logloss:0.023207\n",
            "[306]\tvalidation_0-logloss:0.023079\n",
            "[307]\tvalidation_0-logloss:0.023143\n",
            "[308]\tvalidation_0-logloss:0.023142\n",
            "[309]\tvalidation_0-logloss:0.02311\n",
            "[310]\tvalidation_0-logloss:0.023146\n",
            "[311]\tvalidation_0-logloss:0.023101\n",
            "[312]\tvalidation_0-logloss:0.023077\n",
            "[313]\tvalidation_0-logloss:0.023017\n",
            "[314]\tvalidation_0-logloss:0.022973\n",
            "[315]\tvalidation_0-logloss:0.022852\n",
            "[316]\tvalidation_0-logloss:0.022915\n",
            "[317]\tvalidation_0-logloss:0.022888\n",
            "[318]\tvalidation_0-logloss:0.022856\n",
            "[319]\tvalidation_0-logloss:0.022896\n",
            "[320]\tvalidation_0-logloss:0.022869\n",
            "[321]\tvalidation_0-logloss:0.02284\n",
            "[322]\tvalidation_0-logloss:0.022809\n",
            "[323]\tvalidation_0-logloss:0.022872\n",
            "[324]\tvalidation_0-logloss:0.022813\n",
            "[325]\tvalidation_0-logloss:0.02285\n",
            "[326]\tvalidation_0-logloss:0.022826\n",
            "[327]\tvalidation_0-logloss:0.022802\n",
            "[328]\tvalidation_0-logloss:0.022763\n",
            "[329]\tvalidation_0-logloss:0.022704\n",
            "[330]\tvalidation_0-logloss:0.022764\n",
            "[331]\tvalidation_0-logloss:0.022734\n",
            "[332]\tvalidation_0-logloss:0.022705\n",
            "[333]\tvalidation_0-logloss:0.022745\n",
            "[334]\tvalidation_0-logloss:0.022676\n",
            "[335]\tvalidation_0-logloss:0.022653\n",
            "[336]\tvalidation_0-logloss:0.022624\n",
            "[337]\tvalidation_0-logloss:0.022685\n",
            "[338]\tvalidation_0-logloss:0.022627\n",
            "[339]\tvalidation_0-logloss:0.02259\n",
            "[340]\tvalidation_0-logloss:0.022534\n",
            "[341]\tvalidation_0-logloss:0.022572\n",
            "[342]\tvalidation_0-logloss:0.022543\n",
            "[343]\tvalidation_0-logloss:0.02252\n",
            "[344]\tvalidation_0-logloss:0.022498\n",
            "[345]\tvalidation_0-logloss:0.022539\n",
            "[346]\tvalidation_0-logloss:0.022543\n",
            "[347]\tvalidation_0-logloss:0.022601\n",
            "[348]\tvalidation_0-logloss:0.022485\n",
            "[349]\tvalidation_0-logloss:0.022458\n",
            "[350]\tvalidation_0-logloss:0.022429\n",
            "[351]\tvalidation_0-logloss:0.022467\n",
            "[352]\tvalidation_0-logloss:0.022471\n",
            "[353]\tvalidation_0-logloss:0.022433\n",
            "[354]\tvalidation_0-logloss:0.022491\n",
            "[355]\tvalidation_0-logloss:0.022437\n",
            "[356]\tvalidation_0-logloss:0.022415\n",
            "[357]\tvalidation_0-logloss:0.02238\n",
            "[358]\tvalidation_0-logloss:0.02236\n",
            "[359]\tvalidation_0-logloss:0.022307\n",
            "[360]\tvalidation_0-logloss:0.022348\n",
            "[361]\tvalidation_0-logloss:0.022318\n",
            "[362]\tvalidation_0-logloss:0.022324\n",
            "[363]\tvalidation_0-logloss:0.02238\n",
            "[364]\tvalidation_0-logloss:0.022352\n",
            "[365]\tvalidation_0-logloss:0.022358\n",
            "[366]\tvalidation_0-logloss:0.022414\n",
            "[367]\tvalidation_0-logloss:0.022395\n",
            "[368]\tvalidation_0-logloss:0.022342\n",
            "[369]\tvalidation_0-logloss:0.02235\n",
            "[370]\tvalidation_0-logloss:0.022391\n",
            "[371]\tvalidation_0-logloss:0.022282\n",
            "[372]\tvalidation_0-logloss:0.022252\n",
            "[373]\tvalidation_0-logloss:0.022231\n",
            "[374]\tvalidation_0-logloss:0.022199\n",
            "[375]\tvalidation_0-logloss:0.022148\n",
            "[376]\tvalidation_0-logloss:0.02213\n",
            "[377]\tvalidation_0-logloss:0.022171\n",
            "[378]\tvalidation_0-logloss:0.022178\n",
            "[379]\tvalidation_0-logloss:0.022232\n",
            "[380]\tvalidation_0-logloss:0.022203\n",
            "[381]\tvalidation_0-logloss:0.022141\n",
            "[382]\tvalidation_0-logloss:0.022148\n",
            "[383]\tvalidation_0-logloss:0.022201\n",
            "[384]\tvalidation_0-logloss:0.022151\n",
            "[385]\tvalidation_0-logloss:0.022134\n",
            "[386]\tvalidation_0-logloss:0.022175\n",
            "[387]\tvalidation_0-logloss:0.022183\n",
            "[388]\tvalidation_0-logloss:0.022237\n",
            "[389]\tvalidation_0-logloss:0.022188\n",
            "[390]\tvalidation_0-logloss:0.022158\n",
            "[391]\tvalidation_0-logloss:0.022175\n",
            "[392]\tvalidation_0-logloss:0.02216\n",
            "[393]\tvalidation_0-logloss:0.022168\n",
            "[394]\tvalidation_0-logloss:0.022139\n",
            "[395]\tvalidation_0-logloss:0.02218\n",
            "[396]\tvalidation_0-logloss:0.022159\n",
            "[397]\tvalidation_0-logloss:0.022112\n",
            "[398]\tvalidation_0-logloss:0.022164\n",
            "[399]\tvalidation_0-logloss:0.02215\n"
          ]
        },
        {
          "output_type": "execute_result",
          "data": {
            "text/plain": [
              "XGBClassifier(base_score=0.5, booster='gbtree', colsample_bylevel=1,\n",
              "              colsample_bynode=1, colsample_bytree=1, gamma=0,\n",
              "              learning_rate=0.1, max_delta_step=0, max_depth=3,\n",
              "              min_child_weight=1, missing=None, n_estimators=400, n_jobs=1,\n",
              "              nthread=None, objective='binary:logistic', random_state=0,\n",
              "              reg_alpha=0, reg_lambda=1, scale_pos_weight=1, seed=None,\n",
              "              silent=None, subsample=1, verbosity=1)"
            ]
          },
          "metadata": {},
          "execution_count": 12
        }
      ]
    },
    {
      "cell_type": "code",
      "metadata": {
        "colab": {
          "base_uri": "https://localhost:8080/"
        },
        "id": "bpf8ONIUZJ_K",
        "outputId": "4b89bd72-1c77-4de2-bcc0-0cb3841b14b2"
      },
      "source": [
        "xgb_pred = xgb.predict(X_test)\n",
        "accuracy_score(y_test, xgb_pred)"
      ],
      "execution_count": 13,
      "outputs": [
        {
          "output_type": "execute_result",
          "data": {
            "text/plain": [
              "1.0"
            ]
          },
          "metadata": {},
          "execution_count": 13
        }
      ]
    },
    {
      "cell_type": "markdown",
      "metadata": {
        "id": "e4ktyNGXZjau"
      },
      "source": [
        "### Feature Importance"
      ]
    },
    {
      "cell_type": "code",
      "metadata": {
        "colab": {
          "base_uri": "https://localhost:8080/",
          "height": 730
        },
        "id": "UizkMY1GZn2w",
        "outputId": "afaf57d9-bbfe-41ea-8c8b-f09386eabc8c"
      },
      "source": [
        "import matplotlib.pyplot as plt\n",
        "fig, ax = plt.subplots(figsize=(10,12))\n",
        "plot_importance(xgb, ax=ax);"
      ],
      "execution_count": 16,
      "outputs": [
        {
          "output_type": "display_data",
          "data": {
            "image/png": "[encoded data removed]",
            "text/plain": [
              "<Figure size 720x864 with 1 Axes>"
            ]
          },
          "metadata": {
            "needs_background": "light"
          }
        }
      ]
    },
    {
      "cell_type": "markdown",
      "metadata": {
        "id": "tPMiv_ntbwGg"
      },
      "source": [
        "### Plot Model"
      ]
    },
    {
      "cell_type": "code",
      "metadata": {
        "colab": {
          "base_uri": "https://localhost:8080/",
          "height": 427
        },
        "id": "iVGiljpWZ5V-",
        "outputId": "4bbd30db-4685-41c8-c821-a8e79275c8c4"
      },
      "source": [
        "import graphviz\n",
        "from xgboost import to_graphviz\n",
        "dot_data = to_graphviz(xgb)\n",
        "graph = graphviz.Source(dot_data)\n",
        "graph"
      ],
      "execution_count": 18,
      "outputs": [
        {
          "output_type": "execute_result",
          "data": {
            "text/plain": [
              "<graphviz.files.Source at 0x7f496f549ad0>"
            ],
            "image/svg+xml": "<?xml version=\"1.0\" encoding=\"UTF-8\" standalone=\"no\"?>\n<!DOCTYPE svg PUBLIC \"-//W3C//DTD SVG 1.1//EN\"\n \"http://www.w3.org/Graphics/SVG/1.1/DTD/svg11.dtd\">\n<!-- Generated by graphviz version 2.40.1 (20161225.0304)\n -->\n<!-- Title: %3 Pages: 1 -->\n<svg width=\"905pt\" height=\"305pt\"\n viewBox=\"0.00 0.00 904.59 305.00\" xmlns=\"http://www.w3.org/2000/svg\" xmlns:xlink=\"http://www.w3.org/1999/xlink\">\n<g id=\"graph0\" class=\"graph\" transform=\"scale(1 1) rotate(0) translate(4 301)\">\n<title>%3</title>\n<polygon fill=\"#ffffff\" stroke=\"transparent\" points=\"-4,4 -4,-301 900.5859,-301 900.5859,4 -4,4\"/>\n<!-- 0 -->\n<g id=\"node1\" class=\"node\">\n<title>0</title>\n<ellipse fill=\"none\" stroke=\"#000000\" cx=\"543.5928\" cy=\"-279\" rx=\"74.9875\" ry=\"18\"/>\n<text text-anchor=\"middle\" x=\"543.5928\" y=\"-275.3\" font-family=\"Times,serif\" font-size=\"14.00\" fill=\"#000000\">f22&lt;114.650002</text>\n</g>\n<!-- 1 -->\n<g id=\"node2\" class=\"node\">\n<title>1</title>\n<ellipse fill=\"none\" stroke=\"#000000\" cx=\"452.5928\" cy=\"-192\" rx=\"79.8859\" ry=\"18\"/>\n<text text-anchor=\"middle\" x=\"452.5928\" y=\"-188.3\" font-family=\"Times,serif\" font-size=\"14.00\" fill=\"#000000\">f27&lt;0.145599991</text>\n</g>\n<!-- 0&#45;&gt;1 -->\n<g id=\"edge1\" class=\"edge\">\n<title>0&#45;&gt;1</title>\n<path fill=\"none\" stroke=\"#0000ff\" d=\"M525.1776,-261.3943C511.7331,-248.5407 493.328,-230.9446 478.4157,-216.6878\"/>\n<polygon fill=\"#0000ff\" stroke=\"#0000ff\" points=\"480.6275,-213.9602 470.9807,-209.5796 475.7902,-219.0199 480.6275,-213.9602\"/>\n<text text-anchor=\"middle\" x=\"539.0928\" y=\"-231.8\" font-family=\"Times,serif\" font-size=\"14.00\" fill=\"#000000\">yes, missing</text>\n</g>\n<!-- 2 -->\n<g id=\"node3\" class=\"node\">\n<title>2</title>\n<ellipse fill=\"none\" stroke=\"#000000\" cx=\"634.5928\" cy=\"-192\" rx=\"79.8859\" ry=\"18\"/>\n<text text-anchor=\"middle\" x=\"634.5928\" y=\"-188.3\" font-family=\"Times,serif\" font-size=\"14.00\" fill=\"#000000\">f6&lt;0.0567900017</text>\n</g>\n<!-- 0&#45;&gt;2 -->\n<g id=\"edge2\" class=\"edge\">\n<title>0&#45;&gt;2</title>\n<path fill=\"none\" stroke=\"#ff0000\" d=\"M562.0081,-261.3943C575.4526,-248.5407 593.8577,-230.9446 608.77,-216.6878\"/>\n<polygon fill=\"#ff0000\" stroke=\"#ff0000\" points=\"611.3955,-219.0199 616.205,-209.5796 606.5582,-213.9602 611.3955,-219.0199\"/>\n<text text-anchor=\"middle\" x=\"602.5928\" y=\"-231.8\" font-family=\"Times,serif\" font-size=\"14.00\" fill=\"#000000\">no</text>\n</g>\n<!-- 3 -->\n<g id=\"node4\" class=\"node\">\n<title>3</title>\n<ellipse fill=\"none\" stroke=\"#000000\" cx=\"264.5928\" cy=\"-105\" rx=\"75.2868\" ry=\"18\"/>\n<text text-anchor=\"middle\" x=\"264.5928\" y=\"-101.3\" font-family=\"Times,serif\" font-size=\"14.00\" fill=\"#000000\">f20&lt;16.5400009</text>\n</g>\n<!-- 1&#45;&gt;3 -->\n<g id=\"edge3\" class=\"edge\">\n<title>1&#45;&gt;3</title>\n<path fill=\"none\" stroke=\"#0000ff\" d=\"M417.2315,-175.636C386.4462,-161.3896 341.6898,-140.6778 308.5954,-125.3629\"/>\n<polygon fill=\"#0000ff\" stroke=\"#0000ff\" points=\"309.7058,-122.0202 299.1605,-120.9967 306.7659,-128.3729 309.7058,-122.0202\"/>\n<text text-anchor=\"middle\" x=\"406.0928\" y=\"-144.8\" font-family=\"Times,serif\" font-size=\"14.00\" fill=\"#000000\">yes, missing</text>\n</g>\n<!-- 4 -->\n<g id=\"node5\" class=\"node\">\n<title>4</title>\n<ellipse fill=\"none\" stroke=\"#000000\" cx=\"452.5928\" cy=\"-105\" rx=\"75.2868\" ry=\"18\"/>\n<text text-anchor=\"middle\" x=\"452.5928\" y=\"-101.3\" font-family=\"Times,serif\" font-size=\"14.00\" fill=\"#000000\">f21&lt;24.7849998</text>\n</g>\n<!-- 1&#45;&gt;4 -->\n<g id=\"edge4\" class=\"edge\">\n<title>1&#45;&gt;4</title>\n<path fill=\"none\" stroke=\"#ff0000\" d=\"M452.5928,-173.9735C452.5928,-162.1918 452.5928,-146.5607 452.5928,-133.1581\"/>\n<polygon fill=\"#ff0000\" stroke=\"#ff0000\" points=\"456.0929,-133.0033 452.5928,-123.0034 449.0929,-133.0034 456.0929,-133.0033\"/>\n<text text-anchor=\"middle\" x=\"460.5928\" y=\"-144.8\" font-family=\"Times,serif\" font-size=\"14.00\" fill=\"#000000\">no</text>\n</g>\n<!-- 5 -->\n<g id=\"node10\" class=\"node\">\n<title>5</title>\n<ellipse fill=\"none\" stroke=\"#000000\" cx=\"634.5928\" cy=\"-105\" rx=\"88.2844\" ry=\"18\"/>\n<text text-anchor=\"middle\" x=\"634.5928\" y=\"-101.3\" font-family=\"Times,serif\" font-size=\"14.00\" fill=\"#000000\">leaf=&#45;0.0181818195</text>\n</g>\n<!-- 2&#45;&gt;5 -->\n<g id=\"edge9\" class=\"edge\">\n<title>2&#45;&gt;5</title>\n<path fill=\"none\" stroke=\"#0000ff\" d=\"M634.5928,-173.9735C634.5928,-162.1918 634.5928,-146.5607 634.5928,-133.1581\"/>\n<polygon fill=\"#0000ff\" stroke=\"#0000ff\" points=\"638.0929,-133.0033 634.5928,-123.0034 631.0929,-133.0034 638.0929,-133.0033\"/>\n<text text-anchor=\"middle\" x=\"670.0928\" y=\"-144.8\" font-family=\"Times,serif\" font-size=\"14.00\" fill=\"#000000\">yes, missing</text>\n</g>\n<!-- 6 -->\n<g id=\"node11\" class=\"node\">\n<title>6</title>\n<ellipse fill=\"none\" stroke=\"#000000\" cx=\"818.5928\" cy=\"-105\" rx=\"77.9862\" ry=\"18\"/>\n<text text-anchor=\"middle\" x=\"818.5928\" y=\"-101.3\" font-family=\"Times,serif\" font-size=\"14.00\" fill=\"#000000\">leaf=&#45;0.19411765</text>\n</g>\n<!-- 2&#45;&gt;6 -->\n<g id=\"edge10\" class=\"edge\">\n<title>2&#45;&gt;6</title>\n<path fill=\"none\" stroke=\"#ff0000\" d=\"M669.2018,-175.636C699.1426,-161.4792 742.5858,-140.9381 774.914,-125.6525\"/>\n<polygon fill=\"#ff0000\" stroke=\"#ff0000\" points=\"776.5948,-128.7294 784.139,-121.2907 773.6026,-122.4011 776.5948,-128.7294\"/>\n<text text-anchor=\"middle\" x=\"745.5928\" y=\"-144.8\" font-family=\"Times,serif\" font-size=\"14.00\" fill=\"#000000\">no</text>\n</g>\n<!-- 7 -->\n<g id=\"node6\" class=\"node\">\n<title>7</title>\n<ellipse fill=\"none\" stroke=\"#000000\" cx=\"80.5928\" cy=\"-18\" rx=\"80.6858\" ry=\"18\"/>\n<text text-anchor=\"middle\" x=\"80.5928\" y=\"-14.3\" font-family=\"Times,serif\" font-size=\"14.00\" fill=\"#000000\">leaf=0.186956525</text>\n</g>\n<!-- 3&#45;&gt;7 -->\n<g id=\"edge5\" class=\"edge\">\n<title>3&#45;&gt;7</title>\n<path fill=\"none\" stroke=\"#0000ff\" d=\"M230.4151,-88.8399C200.5243,-74.7067 156.9388,-54.0984 124.4763,-38.7492\"/>\n<polygon fill=\"#0000ff\" stroke=\"#0000ff\" points=\"125.7485,-35.4793 115.212,-34.3688 122.7563,-41.8075 125.7485,-35.4793\"/>\n<text text-anchor=\"middle\" x=\"220.0928\" y=\"-57.8\" font-family=\"Times,serif\" font-size=\"14.00\" fill=\"#000000\">yes, missing</text>\n</g>\n<!-- 8 -->\n<g id=\"node7\" class=\"node\">\n<title>8</title>\n<ellipse fill=\"none\" stroke=\"#000000\" cx=\"264.5928\" cy=\"-18\" rx=\"85.2851\" ry=\"18\"/>\n<text text-anchor=\"middle\" x=\"264.5928\" y=\"-14.3\" font-family=\"Times,serif\" font-size=\"14.00\" fill=\"#000000\">leaf=0.0285714306</text>\n</g>\n<!-- 3&#45;&gt;8 -->\n<g id=\"edge6\" class=\"edge\">\n<title>3&#45;&gt;8</title>\n<path fill=\"none\" stroke=\"#ff0000\" d=\"M264.5928,-86.9735C264.5928,-75.1918 264.5928,-59.5607 264.5928,-46.1581\"/>\n<polygon fill=\"#ff0000\" stroke=\"#ff0000\" points=\"268.0929,-46.0033 264.5928,-36.0034 261.0929,-46.0034 268.0929,-46.0033\"/>\n<text text-anchor=\"middle\" x=\"272.5928\" y=\"-57.8\" font-family=\"Times,serif\" font-size=\"14.00\" fill=\"#000000\">no</text>\n</g>\n<!-- 9 -->\n<g id=\"node8\" class=\"node\">\n<title>9</title>\n<ellipse fill=\"none\" stroke=\"#000000\" cx=\"452.5928\" cy=\"-18\" rx=\"85.2851\" ry=\"18\"/>\n<text text-anchor=\"middle\" x=\"452.5928\" y=\"-14.3\" font-family=\"Times,serif\" font-size=\"14.00\" fill=\"#000000\">leaf=0.0909090936</text>\n</g>\n<!-- 4&#45;&gt;9 -->\n<g id=\"edge7\" class=\"edge\">\n<title>4&#45;&gt;9</title>\n<path fill=\"none\" stroke=\"#0000ff\" d=\"M452.5928,-86.9735C452.5928,-75.1918 452.5928,-59.5607 452.5928,-46.1581\"/>\n<polygon fill=\"#0000ff\" stroke=\"#0000ff\" points=\"456.0929,-46.0033 452.5928,-36.0034 449.0929,-46.0034 456.0929,-46.0033\"/>\n<text text-anchor=\"middle\" x=\"488.0928\" y=\"-57.8\" font-family=\"Times,serif\" font-size=\"14.00\" fill=\"#000000\">yes, missing</text>\n</g>\n<!-- 10 -->\n<g id=\"node9\" class=\"node\">\n<title>10</title>\n<ellipse fill=\"none\" stroke=\"#000000\" cx=\"638.5928\" cy=\"-18\" rx=\"83.3857\" ry=\"18\"/>\n<text text-anchor=\"middle\" x=\"638.5928\" y=\"-14.3\" font-family=\"Times,serif\" font-size=\"14.00\" fill=\"#000000\">leaf=&#45;0.150000006</text>\n</g>\n<!-- 4&#45;&gt;10 -->\n<g id=\"edge8\" class=\"edge\">\n<title>4&#45;&gt;10</title>\n<path fill=\"none\" stroke=\"#ff0000\" d=\"M487.1421,-88.8399C517.3578,-74.7067 561.417,-54.0984 594.2324,-38.7492\"/>\n<polygon fill=\"#ff0000\" stroke=\"#ff0000\" points=\"596.0222,-41.7761 603.5974,-34.3688 593.0564,-35.4354 596.0222,-41.7761\"/>\n<text text-anchor=\"middle\" x=\"565.5928\" y=\"-57.8\" font-family=\"Times,serif\" font-size=\"14.00\" fill=\"#000000\">no</text>\n</g>\n</g>\n</svg>\n"
          },
          "metadata": {},
          "execution_count": 18
        }
      ]
    },
    {
      "cell_type": "code",
      "metadata": {
        "id": "br_Ox6bhbZvw"
      },
      "source": [
        ""
      ],
      "execution_count": null,
      "outputs": []
    }
  ]
}