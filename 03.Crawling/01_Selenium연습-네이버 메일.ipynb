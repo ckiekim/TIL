{
 "cells": [
  {
   "cell_type": "markdown",
   "metadata": {},
   "source": [
    "### Selenium 별도 설치 필요\n",
    "- pip install selenium"
   ]
  },
  {
   "cell_type": "code",
   "execution_count": 1,
   "metadata": {},
   "outputs": [],
   "source": [
    "from selenium import webdriver"
   ]
  },
  {
   "cell_type": "markdown",
   "metadata": {},
   "source": [
    "### Chrome Driver 설치 필요\n",
    "- 구글에서 chromedriver 검색 후 다운로드"
   ]
  },
  {
   "cell_type": "code",
   "execution_count": 2,
   "metadata": {},
   "outputs": [],
   "source": [
    "driver = webdriver.Chrome('d:/Development/ChromeDriver/chromedriver')\n",
    "driver.get('http://naver.com')"
   ]
  },
  {
   "cell_type": "code",
   "execution_count": 4,
   "metadata": {},
   "outputs": [],
   "source": [
    "driver.get('https://nid.naver.com/nidlogin.login')\n",
    "elem_login = driver.find_element_by_id('id')\n",
    "elem_login.clear()\n",
    "elem_login.send_keys('ckiekim')"
   ]
  },
  {
   "cell_type": "code",
   "execution_count": 5,
   "metadata": {},
   "outputs": [],
   "source": [
    "elem_pass = driver.find_element_by_id('pw')\n",
    "elem_pass.clear()\n",
    "elem_pass.send_keys('****')"
   ]
  },
  {
   "cell_type": "code",
   "execution_count": 7,
   "metadata": {},
   "outputs": [],
   "source": [
    "xpath ='//*[@id=\"frmNIDLogin\"]/fieldset/input'\n",
    "driver.find_element_by_xpath(xpath).click()"
   ]
  },
  {
   "cell_type": "code",
   "execution_count": 8,
   "metadata": {},
   "outputs": [],
   "source": [
    "# Completely Automated Public Turing test to tell Computers and Humans Apart\n",
    "elem_captcha = driver.find_element_by_id('chptcha')\n",
    "elem_captcha.clear()\n",
    "elem_captcha.send_keys('****')"
   ]
  },
  {
   "cell_type": "code",
   "execution_count": 9,
   "metadata": {},
   "outputs": [],
   "source": [
    "elem_pass = driver.find_element_by_id('pw')\n",
    "elem_pass.clear()\n",
    "elem_pass.send_keys('****')"
   ]
  },
  {
   "cell_type": "code",
   "execution_count": 10,
   "metadata": {},
   "outputs": [],
   "source": [
    "xpath ='//*[@id=\"frmNIDLogin\"]/fieldset/input'\n",
    "driver.find_element_by_xpath(xpath).click()"
   ]
  },
  {
   "cell_type": "code",
   "execution_count": 18,
   "metadata": {},
   "outputs": [],
   "source": [
    "from bs4 import BeautifulSoup\n",
    "driver.get('https://mail.naver.com/')\n",
    "html = driver.page_source\n",
    "soup = BeautifulSoup(html, 'html.parser')"
   ]
  },
  {
   "cell_type": "code",
   "execution_count": 27,
   "metadata": {},
   "outputs": [
    {
     "data": {
      "text/plain": [
       "[<div class=\"name _ccr(lst.from)\"><span class=\"blind\">보낸 이:</span><a class=\"_c1(myContextMenu|showSenderContextLayer|list|76887) _stopDefault\" href=\"#\" title='\"DBGuide\" &lt;newsletter@dbguide.net&gt;'>DBGuide</a></div>,\n",
       " <div class=\"name _ccr(lst.from)\"><span class=\"blind\">보낸 이:</span><a class=\"_c1(myContextMenu|showSenderContextLayer|list|76865) _stopDefault\" href=\"#\" title='\"이젠대전캠퍼스\" &lt;ezenart@naver.com&gt;'>이젠대전캠퍼스</a></div>,\n",
       " <div class=\"name _ccr(lst.from)\"><span class=\"blind\">보낸 이:</span><a class=\"_c1(myContextMenu|showSenderContextLayer|list|76854) _stopDefault\" href=\"#\" title='\"GitHub\" &lt;noreply@github.com&gt;'>GitHub</a></div>,\n",
       " <div class=\"name _ccr(lst.from)\"><span class=\"blind\">보낸 이:</span><a class=\"_c1(myContextMenu|showSenderContextLayer|list|76840) _stopDefault\" href=\"#\" title='\"쿠팡\" &lt;noreply@e.coupang.com&gt;'>쿠팡</a></div>,\n",
       " <div class=\"name _ccr(lst.from)\"><span class=\"blind\">보낸 이:</span><a class=\"_c1(myContextMenu|showSenderContextLayer|list|76813) _stopDefault\" href=\"#\" title='\"IoT Korea Exhibition 2019\" &lt;iot2019@kfairs.com&gt;'>IoT Korea Exhibition 2..</a></div>,\n",
       " <div class=\"name _ccr(lst.from)\"><span class=\"blind\">보낸 이:</span><a class=\"_c1(myContextMenu|showSenderContextLayer|list|76811) _stopDefault\" href=\"#\" title='\"NVIDIA Developer\" &lt;noreply@nvidiadeveloper.com&gt;'>NVIDIA Developer</a></div>,\n",
       " <div class=\"name _ccr(lst.from)\"><span class=\"blind\">보낸 이:</span><a class=\"_c1(myContextMenu|showSenderContextLayer|list|76810) _stopDefault\" href=\"#\" title='\"NVIDIA Accounts\" &lt;noreply@account-nvidia.com&gt;'>NVIDIA Accounts</a></div>,\n",
       " <div class=\"name _ccr(lst.from)\"><span class=\"blind\">보낸 이:</span><a class=\"_c1(myContextMenu|showSenderContextLayer|list|76795) _stopDefault\" href=\"#\" title='\"Microsoft 계정 팀\" &lt;account-security-noreply@accountprotection.microsoft.com&gt;'>Microsoft 계정 팀</a></div>,\n",
       " <div class=\"name _ccr(lst.from)\"><span class=\"blind\">보낸 이:</span><a class=\"_c1(myContextMenu|showSenderContextLayer|list|76785) _stopDefault\" href=\"#\" title='\"shlee\" &lt;shlee@kpc.or.kr&gt;'>shlee</a></div>,\n",
       " <div class=\"name _ccr(lst.from)\"><span class=\"blind\">보낸 이:</span><a class=\"_c1(myContextMenu|showSenderContextLayer|list|76780) _stopDefault\" href=\"#\" title='\"정보통신기획평가원\" &lt;noreply@iitp.kr&gt;'>정보통신기획평가원</a></div>,\n",
       " <div class=\"name _ccr(lst.from)\"><span class=\"blind\">보낸 이:</span><a class=\"_c1(myContextMenu|showSenderContextLayer|list|76775) _stopDefault\" href=\"#\" title='\"GitHub\" &lt;noreply@github.com&gt;'>GitHub</a></div>,\n",
       " <div class=\"name _ccr(lst.from)\"><span class=\"blind\">보낸 이:</span><a class=\"_c1(myContextMenu|showSenderContextLayer|list|76769) _stopDefault\" href=\"#\" title='\"조성준\" &lt;office2010@nate.com&gt;'>조성준</a></div>,\n",
       " <div class=\"name _ccr(lst.from)\"><span class=\"blind\">보낸 이:</span><a class=\"_c1(myContextMenu|showSenderContextLayer|list|76694) _stopDefault\" href=\"#\" title=\"&lt;oracle-acct_ww@oracle.com&gt;\">oracle-acct_ww@o..</a></div>,\n",
       " <div class=\"name _ccr(lst.from)\"><span class=\"blind\">보낸 이:</span><a class=\"_c1(myContextMenu|showSenderContextLayer|list|76692) _stopDefault\" href=\"#\" title='\"네이버\" &lt;help@help.naver.com&gt;'>네이버</a></div>,\n",
       " <div class=\"name _ccr(lst.from)\"><span class=\"blind\">보낸 이:</span><a class=\"_c1(myContextMenu|showSenderContextLayer|list|76690) _stopDefault\" href=\"#\" title='\"Google\" &lt;no-reply@accounts.google.com&gt;'>Google</a></div>,\n",
       " <div class=\"name _ccr(lst.from)\"><span class=\"blind\">보낸 이:</span><a class=\"_c1(myContextMenu|showSenderContextLayer|list|76685) _stopDefault\" href=\"#\" title='\"정보통신기획평가원\" &lt;sjw@megaresearch.co.kr&gt;'>정보통신기획평가원</a></div>,\n",
       " <div class=\"name _ccr(lst.from)\"><span class=\"blind\">보낸 이:</span><a class=\"_c1(myContextMenu|showSenderContextLayer|list|76614) _stopDefault\" href=\"#\" title='\"정보통신기획평가원\" &lt;noreply@iitp.kr&gt;'>정보통신기획평가원</a></div>,\n",
       " <div class=\"name _ccr(lst.from)\"><span class=\"blind\">보낸 이:</span><a class=\"_c1(myContextMenu|showSenderContextLayer|list|76556) _stopDefault\" href=\"#\" title=\"&lt;account@hyundai.com&gt;\">account@hyundai.c..</a></div>,\n",
       " <div class=\"name _ccr(lst.from)\"><span class=\"blind\">보낸 이:</span><a class=\"_c1(myContextMenu|showSenderContextLayer|list|76514) _stopDefault\" href=\"#\" title='\"정보통신기획평가원\" &lt;noreply@iitp.kr&gt;'>정보통신기획평가원</a></div>,\n",
       " <div class=\"name _ccr(lst.from)\"><span class=\"blind\">보낸 이:</span><a class=\"_c1(myContextMenu|showSenderContextLayer|list|76484) _stopDefault\" href=\"#\" title='\"롯데시네마\" &lt;WebMaster@lottecinema.co.kr&gt;'>롯데시네마</a></div>]"
      ]
     },
     "execution_count": 27,
     "metadata": {},
     "output_type": "execute_result"
    }
   ],
   "source": [
    "raw_list = soup.find_all(class_ = 'name _ccr(lst.from)')\n",
    "raw_list"
   ]
  },
  {
   "cell_type": "code",
   "execution_count": 28,
   "metadata": {},
   "outputs": [
    {
     "data": {
      "text/plain": [
       "['DBGuide',\n",
       " '이젠대전캠퍼스',\n",
       " 'GitHub',\n",
       " '쿠팡',\n",
       " 'IoT Korea Exhibition 2..',\n",
       " 'NVIDIA Developer',\n",
       " 'NVIDIA Accounts',\n",
       " 'Microsoft 계정 팀',\n",
       " 'shlee',\n",
       " '정보통신기획평가원',\n",
       " 'GitHub',\n",
       " '조성준',\n",
       " 'oracle-acct_ww@o..',\n",
       " '네이버',\n",
       " 'Google',\n",
       " '정보통신기획평가원',\n",
       " '정보통신기획평가원',\n",
       " 'account@hyundai.c..',\n",
       " '정보통신기획평가원',\n",
       " '롯데시네마']"
      ]
     },
     "execution_count": 28,
     "metadata": {},
     "output_type": "execute_result"
    }
   ],
   "source": [
    "send_list = [raw_list[n].find('a').get_text() for n in range(0, len(raw_list))]\n",
    "send_list"
   ]
  },
  {
   "cell_type": "code",
   "execution_count": 31,
   "metadata": {},
   "outputs": [
    {
     "data": {
      "text/plain": [
       "['DBGuide',\n",
       " '이젠대전캠퍼스',\n",
       " 'GitHub',\n",
       " '쿠팡',\n",
       " 'IoT Korea Exhibition 2..',\n",
       " 'NVIDIA Developer',\n",
       " 'NVIDIA Accounts',\n",
       " 'Microsoft 계정 팀',\n",
       " 'shlee',\n",
       " '정보통신기획평가원',\n",
       " 'GitHub',\n",
       " '조성준',\n",
       " 'oracle-acct_ww@o..',\n",
       " '네이버',\n",
       " 'Google',\n",
       " '정보통신기획평가원',\n",
       " '정보통신기획평가원',\n",
       " 'account@hyundai.c..',\n",
       " '정보통신기획평가원',\n",
       " '롯데시네마']"
      ]
     },
     "execution_count": 31,
     "metadata": {},
     "output_type": "execute_result"
    }
   ],
   "source": [
    "send_list = []\n",
    "for item in raw_list:\n",
    "    send_list.append(item.find('a').get_text())\n",
    "send_list"
   ]
  },
  {
   "cell_type": "code",
   "execution_count": 32,
   "metadata": {},
   "outputs": [],
   "source": [
    "driver.close()"
   ]
  },
  {
   "cell_type": "code",
   "execution_count": null,
   "metadata": {},
   "outputs": [],
   "source": []
  }
 ],
 "metadata": {
  "kernelspec": {
   "display_name": "Python 3",
   "language": "python",
   "name": "python3"
  },
  "language_info": {
   "codemirror_mode": {
    "name": "ipython",
    "version": 3
   },
   "file_extension": ".py",
   "mimetype": "text/x-python",
   "name": "python",
   "nbconvert_exporter": "python",
   "pygments_lexer": "ipython3",
   "version": "3.7.4"
  }
 },
 "nbformat": 4,
 "nbformat_minor": 2
}
