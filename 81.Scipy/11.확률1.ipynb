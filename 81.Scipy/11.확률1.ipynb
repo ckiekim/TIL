{
 "cells": [
  {
   "cell_type": "markdown",
   "metadata": {},
   "source": [
    "# 확률변수와 상관관계\n",
    "### 1. 확률적 데이터와 확률변수"
   ]
  },
  {
   "cell_type": "code",
   "execution_count": 2,
   "metadata": {},
   "outputs": [],
   "source": [
    "import numpy as np\n",
    "import seaborn as sns\n",
    "import matplotlib.pyplot as plt\n",
    "import warnings\n",
    "warnings.filterwarnings('ignore')"
   ]
  },
  {
   "cell_type": "code",
   "execution_count": 4,
   "metadata": {},
   "outputs": [],
   "source": [
    "import matplotlib as mpl\n",
    "mpl.rcParams['axes.unicode_minus'] = False\n",
    "mpl.rcParams['font.family'] = 'Malgun Gothic'"
   ]
  },
  {
   "cell_type": "code",
   "execution_count": 3,
   "metadata": {},
   "outputs": [
    {
     "data": {
      "text/plain": [
       "array([ 1.76405235,  0.40015721,  0.97873798,  2.2408932 ,  1.86755799,\n",
       "       -0.97727788,  0.95008842, -0.15135721, -0.10321885,  0.4105985 ,\n",
       "        0.14404357,  1.45427351,  0.76103773,  0.12167502,  0.44386323,\n",
       "        0.33367433,  1.49407907, -0.20515826,  0.3130677 , -0.85409574,\n",
       "       -2.55298982])"
      ]
     },
     "execution_count": 3,
     "metadata": {},
     "output_type": "execute_result"
    }
   ],
   "source": [
    "np.random.seed(0)\n",
    "x = np.random.normal(size=21)\n",
    "x"
   ]
  },
  {
   "cell_type": "code",
   "execution_count": 5,
   "metadata": {},
   "outputs": [
    {
     "data": {
      "image/png": "[encoded data removed]",
      "text/plain": [
       "<Figure size 432x288 with 1 Axes>"
      ]
     },
     "metadata": {
      "needs_background": "light"
     },
     "output_type": "display_data"
    }
   ],
   "source": [
    "bins = np.linspace(-4, 4, 17)\n",
    "sns.distplot(x, rug=True, kde=False, bins=bins)\n",
    "plt.title(\"히스토그램으로 나타낸 데이터 분포\")\n",
    "plt.xlabel(\"x\")\n",
    "plt.show()"
   ]
  },
  {
   "cell_type": "markdown",
   "metadata": {},
   "source": [
    "- 기술 통계"
   ]
  },
  {
   "cell_type": "code",
   "execution_count": 6,
   "metadata": {},
   "outputs": [
    {
     "data": {
      "text/plain": [
       "(0.4206524782418389, 0.4001572083672233)"
      ]
     },
     "execution_count": 6,
     "metadata": {},
     "output_type": "execute_result"
    }
   ],
   "source": [
    "# 표본 평균, 표본 중앙값\n",
    "np.mean(x), np.median(x)"
   ]
  },
  {
   "cell_type": "code",
   "execution_count": 9,
   "metadata": {},
   "outputs": [
    {
     "name": "stdout",
     "output_type": "stream",
     "text": [
      "최빈구간: 0.0 ~ 0.5\n"
     ]
    }
   ],
   "source": [
    "# 연속 데이터에 대한 최빈 구간\n",
    "ns, _ = np.histogram(x, bins=bins)\n",
    "m_bin = np.argmax(ns)\n",
    "print(f\"최빈구간: {bins[m_bin]} ~ {bins[m_bin + 1]}\")"
   ]
  },
  {
   "cell_type": "code",
   "execution_count": 11,
   "metadata": {},
   "outputs": [],
   "source": [
    "# 연습문제 7.1.1 \n",
    "import pandas as pd\n",
    "from sklearn.datasets import load_iris\n",
    "iris = load_iris()\n",
    "df = pd.DataFrame(iris.data, columns=iris.feature_names)\n",
    "sy = pd.Series(iris.target, dtype=\"category\")\n",
    "sy = sy.cat.rename_categories(iris.target_names)\n",
    "df['species'] = sy"
   ]
  },
  {
   "cell_type": "code",
   "execution_count": 14,
   "metadata": {},
   "outputs": [
    {
     "data": {
      "text/html": [
       "<div>\n",
       "<style scoped>\n",
       "    .dataframe tbody tr th:only-of-type {\n",
       "        vertical-align: middle;\n",
       "    }\n",
       "\n",
       "    .dataframe tbody tr th {\n",
       "        vertical-align: top;\n",
       "    }\n",
       "\n",
       "    .dataframe thead th {\n",
       "        text-align: right;\n",
       "    }\n",
       "</style>\n",
       "<table border=\"1\" class=\"dataframe\">\n",
       "  <thead>\n",
       "    <tr style=\"text-align: right;\">\n",
       "      <th></th>\n",
       "      <th>sepal length (cm)</th>\n",
       "      <th>sepal width (cm)</th>\n",
       "      <th>petal length (cm)</th>\n",
       "      <th>petal width (cm)</th>\n",
       "      <th>species</th>\n",
       "    </tr>\n",
       "  </thead>\n",
       "  <tbody>\n",
       "    <tr>\n",
       "      <th>0</th>\n",
       "      <td>5.1</td>\n",
       "      <td>3.5</td>\n",
       "      <td>1.4</td>\n",
       "      <td>0.2</td>\n",
       "      <td>setosa</td>\n",
       "    </tr>\n",
       "    <tr>\n",
       "      <th>1</th>\n",
       "      <td>4.9</td>\n",
       "      <td>3.0</td>\n",
       "      <td>1.4</td>\n",
       "      <td>0.2</td>\n",
       "      <td>setosa</td>\n",
       "    </tr>\n",
       "    <tr>\n",
       "      <th>2</th>\n",
       "      <td>4.7</td>\n",
       "      <td>3.2</td>\n",
       "      <td>1.3</td>\n",
       "      <td>0.2</td>\n",
       "      <td>setosa</td>\n",
       "    </tr>\n",
       "  </tbody>\n",
       "</table>\n",
       "</div>"
      ],
      "text/plain": [
       "   sepal length (cm)  sepal width (cm)  petal length (cm)  petal width (cm)  \\\n",
       "0                5.1               3.5                1.4               0.2   \n",
       "1                4.9               3.0                1.4               0.2   \n",
       "2                4.7               3.2                1.3               0.2   \n",
       "\n",
       "  species  \n",
       "0  setosa  \n",
       "1  setosa  \n",
       "2  setosa  "
      ]
     },
     "execution_count": 14,
     "metadata": {},
     "output_type": "execute_result"
    }
   ],
   "source": [
    "df.head(3)"
   ]
  },
  {
   "cell_type": "code",
   "execution_count": 18,
   "metadata": {},
   "outputs": [
    {
     "data": {
      "image/png": "[encoded data removed]",
      "text/plain": [
       "<Figure size 432x288 with 1 Axes>"
      ]
     },
     "metadata": {
      "needs_background": "light"
     },
     "output_type": "display_data"
    }
   ],
   "source": [
    "# 1) 꽃잎 길이\n",
    "sns.distplot(df['sepal length (cm)'], rug=True, kde=False)\n",
    "plt.title(\"1) 꽃잎 길이의 데이터 분포\")\n",
    "plt.xlabel(\"꽃잎 길이\")\n",
    "plt.show()"
   ]
  },
  {
   "cell_type": "code",
   "execution_count": 19,
   "metadata": {},
   "outputs": [
    {
     "data": {
      "image/png": "[encoded data removed]",
      "text/plain": [
       "<Figure size 432x288 with 1 Axes>"
      ]
     },
     "metadata": {
      "needs_background": "light"
     },
     "output_type": "display_data"
    }
   ],
   "source": [
    "# 2) Setosa 품종의 꽃잎 길이\n",
    "sns.distplot(df[df.species == 'setosa']['sepal length (cm)'], rug=True, kde=False)\n",
    "plt.title(\"1) Setosa 품종 꽃잎 길이의 데이터 분포\")\n",
    "plt.xlabel(\"꽃잎 길이\")\n",
    "plt.show()"
   ]
  },
  {
   "cell_type": "markdown",
   "metadata": {},
   "source": [
    "- 대칭 분포"
   ]
  },
  {
   "cell_type": "code",
   "execution_count": 20,
   "metadata": {},
   "outputs": [
    {
     "data": {
      "image/png": "[encoded data removed]",
      "text/plain": [
       "<Figure size 432x288 with 1 Axes>"
      ]
     },
     "metadata": {
      "needs_background": "light"
     },
     "output_type": "display_data"
    }
   ],
   "source": [
    "np.random.seed(1)\n",
    "x = np.random.normal(size=1000)\n",
    "x = np.hstack([x, 5 * np.ones(50)])\n",
    "bins = np.linspace(-6, 6, 12 * 4 + 1)\n",
    "ns, _ = np.histogram(x, bins=bins)\n",
    "\n",
    "sample_mean = np.mean(x)\n",
    "sample_median = np.median(x)\n",
    "mode_index = np.argmax(ns)\n",
    "sample_mode = 0.5 * (bins[mode_index] + bins[mode_index + 1])\n",
    "\n",
    "sns.distplot(x, bins=bins)\n",
    "plt.axvline(sample_mean, c='k', ls=\":\", label=\"표본평균\")\n",
    "plt.axvline(sample_median, c='k', ls=\"--\", label=\"표본중앙값\")\n",
    "plt.axvline(sample_mode, c='k', ls=\"-\", label=\"표본최빈값\")\n",
    "plt.title(\"표본평균, 표본중앙값, 표본최빈값의 차이\")\n",
    "plt.xlabel(\"x\")\n",
    "plt.legend()\n",
    "plt.show()"
   ]
  },
  {
   "cell_type": "code",
   "execution_count": 32,
   "metadata": {},
   "outputs": [
    {
     "data": {
      "image/png": "[encoded data removed]",
      "text/plain": [
       "<Figure size 432x288 with 1 Axes>"
      ]
     },
     "metadata": {
      "needs_background": "light"
     },
     "output_type": "display_data"
    }
   ],
   "source": [
    "# 연습 문제 7.1.2 - 1)\n",
    "vg = df[df.species == 'virginica']['petal length (cm)']\n",
    "bins = np.linspace(0, 10, 10)\n",
    "ns, _ = np.histogram(vg, bins=bins)\n",
    "mode_index = np.argmax(ns)\n",
    "sample_mode = 0.5 * (bins[mode_index] + bins[mode_index + 1])\n",
    "\n",
    "sns.distplot(vg, bins=bins)\n",
    "plt.axvline(np.mean(vg), c='k', ls=\":\", label=\"평균\")\n",
    "plt.axvline(np.median(vg), c='k', ls=\"--\", label=\"중앙값\")\n",
    "plt.axvline(sample_mode, c='k', ls=\"-\", label=\"최빈값\")\n",
    "plt.title(\"Virginica Petal_length의 평균, 중앙값, 최빈값\")\n",
    "plt.xlabel(\"Petal length\")\n",
    "plt.legend()\n",
    "plt.show()"
   ]
  },
  {
   "cell_type": "code",
   "execution_count": 33,
   "metadata": {},
   "outputs": [
    {
     "data": {
      "image/png": "[encoded data removed]",
      "text/plain": [
       "<Figure size 432x288 with 1 Axes>"
      ]
     },
     "metadata": {
      "needs_background": "light"
     },
     "output_type": "display_data"
    }
   ],
   "source": [
    "bins = np.linspace(0, 10, 50)\n",
    "ns, _ = np.histogram(vg, bins=bins)\n",
    "mode_index = np.argmax(ns)\n",
    "sample_mode = 0.5 * (bins[mode_index] + bins[mode_index + 1])\n",
    "\n",
    "sns.distplot(vg, bins=bins)\n",
    "plt.axvline(np.mean(vg), c='k', ls=\":\", label=\"평균\")\n",
    "plt.axvline(np.median(vg), c='k', ls=\"--\", label=\"중앙값\")\n",
    "plt.axvline(sample_mode, c='k', ls=\"-\", label=\"최빈값\")\n",
    "plt.title(\"Virginica Petal_length의 평균, 중앙값, 최빈값\")\n",
    "plt.xlabel(\"Petal length\")\n",
    "plt.legend()\n",
    "plt.show()"
   ]
  },
  {
   "cell_type": "code",
   "execution_count": 37,
   "metadata": {},
   "outputs": [],
   "source": [
    "import scipy as sp \n",
    "sp.random.seed(0)"
   ]
  },
  {
   "cell_type": "code",
   "execution_count": 38,
   "metadata": {},
   "outputs": [
    {
     "data": {
      "text/plain": [
       "(3.896937825248617, 1.9740663173380515)"
      ]
     },
     "execution_count": 38,
     "metadata": {},
     "output_type": "execute_result"
    }
   ],
   "source": [
    "x = sp.stats.norm(0,2).rvs(1000)    # 평균=0, 표준편차=2 인 정규분포 데이터 생성\n",
    "np.var(x), np.std(x)"
   ]
  },
  {
   "cell_type": "code",
   "execution_count": 39,
   "metadata": {},
   "outputs": [
    {
     "data": {
      "text/plain": [
       "(3.900838663912529, 1.9750540913890255)"
      ]
     },
     "execution_count": 39,
     "metadata": {},
     "output_type": "execute_result"
    }
   ],
   "source": [
    "# 비편향 표본분산, 표본표준편차\n",
    "np.var(x, ddof=True), np.std(x, ddof=True)"
   ]
  },
  {
   "cell_type": "code",
   "execution_count": 41,
   "metadata": {},
   "outputs": [
    {
     "name": "stdout",
     "output_type": "stream",
     "text": [
      "[ 3.52810469  0.80031442  1.95747597  4.4817864   3.73511598 -1.95455576\n",
      "  1.90017684 -0.30271442 -0.2064377   0.821197  ]\n"
     ]
    }
   ],
   "source": [
    "print(x[:10])"
   ]
  },
  {
   "cell_type": "code",
   "execution_count": 43,
   "metadata": {},
   "outputs": [
    {
     "data": {
      "text/plain": [
       "DATE\n",
       "2017-02-10    7093.67\n",
       "2017-02-13    7142.40\n",
       "2017-02-14    7146.31\n",
       "2017-02-15    7186.12\n",
       "2017-02-16    7181.24\n",
       "Name: DJCA, dtype: float64"
      ]
     },
     "execution_count": 43,
     "metadata": {},
     "output_type": "execute_result"
    }
   ],
   "source": [
    "# 연습 문제 7.1.3\n",
    "import pandas_datareader.data as web\n",
    "df = web.DataReader(\"DJCA\", data_source='fred').dropna()[\"DJCA\"]\n",
    "df.head()"
   ]
  },
  {
   "cell_type": "code",
   "execution_count": 45,
   "metadata": {},
   "outputs": [
    {
     "data": {
      "text/plain": [
       "DATE\n",
       "2017-02-10        NaN\n",
       "2017-02-13    7093.67\n",
       "2017-02-14    7142.40\n",
       "2017-02-15    7146.31\n",
       "2017-02-16    7186.12\n",
       "Name: DJCA, dtype: float64"
      ]
     },
     "execution_count": 45,
     "metadata": {},
     "output_type": "execute_result"
    }
   ],
   "source": [
    "df.shift(1).head()"
   ]
  },
  {
   "cell_type": "code",
   "execution_count": 44,
   "metadata": {},
   "outputs": [
    {
     "data": {
      "text/plain": [
       "array([ 0.00684602,  0.00054729,  0.00555525, -0.00067932,  0.00103132])"
      ]
     },
     "execution_count": 44,
     "metadata": {},
     "output_type": "execute_result"
    }
   ],
   "source": [
    "r = np.log(df / df.shift(1)).dropna().values\n",
    "r[:5]"
   ]
  },
  {
   "cell_type": "code",
   "execution_count": 46,
   "metadata": {},
   "outputs": [
    {
     "data": {
      "text/plain": [
       "(0.0004048346878847953, 0.0001556636224271516, 0.012476522850023222)"
      ]
     },
     "execution_count": 46,
     "metadata": {},
     "output_type": "execute_result"
    }
   ],
   "source": [
    "# 1) 다우지수 일간수익률의 표본평균, 표본분산, 표본표준편차\n",
    "np.mean(r), np.var(r), np.std(r)"
   ]
  },
  {
   "cell_type": "code",
   "execution_count": 48,
   "metadata": {},
   "outputs": [
    {
     "data": {
      "text/plain": [
       "19.962436560037155"
      ]
     },
     "execution_count": 48,
     "metadata": {},
     "output_type": "execute_result"
    }
   ],
   "source": [
    "# 2) 연간변동성(annual volatility)\n",
    "np.std(r) * np.sqrt(256) * 100"
   ]
  },
  {
   "cell_type": "markdown",
   "metadata": {},
   "source": [
    "- 표본 비대칭도, 표본 첨도"
   ]
  },
  {
   "cell_type": "code",
   "execution_count": 50,
   "metadata": {},
   "outputs": [
    {
     "data": {
      "text/plain": [
       "(0.03385895323565712, -0.0467663244783294)"
      ]
     },
     "execution_count": 50,
     "metadata": {},
     "output_type": "execute_result"
    }
   ],
   "source": [
    "sp.stats.skew(x), sp.stats.kurtosis(x)"
   ]
  },
  {
   "cell_type": "code",
   "execution_count": 51,
   "metadata": {},
   "outputs": [
    {
     "data": {
      "text/plain": [
       "(0.0, 3.896937825248617, 0.2604706193725514, 44.84817401965371)"
      ]
     },
     "execution_count": 51,
     "metadata": {},
     "output_type": "execute_result"
    }
   ],
   "source": [
    "# 표본 모멘트\n",
    "sp.stats.moment(x, 1), sp.stats.moment(x, 2), sp.stats.moment(x, 3), sp.stats.moment(x, 4)"
   ]
  },
  {
   "cell_type": "markdown",
   "metadata": {},
   "source": [
    "### 2. 기댓값과 확률변수의 변환"
   ]
  },
  {
   "cell_type": "code",
   "execution_count": 54,
   "metadata": {},
   "outputs": [
    {
     "data": {
      "image/png": "[encoded data removed]",
      "text/plain": [
       "<Figure size 432x288 with 2 Axes>"
      ]
     },
     "metadata": {
      "needs_background": "light"
     },
     "output_type": "display_data"
    }
   ],
   "source": [
    "x = np.linspace(-100, 500, 1000)\n",
    "p = np.zeros_like(x)\n",
    "p[(0 < x) & (x <= 360)] = 1 / 360\n",
    "xp = x * p\n",
    "\n",
    "plt.subplot(121)\n",
    "plt.plot(x, p)\n",
    "plt.xticks([0, 180, 360])\n",
    "plt.title(\"$p(x)$\")\n",
    "plt.xlabel(\"$x$ (도)\")\n",
    "\n",
    "plt.subplot(122)\n",
    "plt.plot(x, xp)\n",
    "plt.xticks([0, 180, 360])\n",
    "plt.title(\"$xp(x)$\")\n",
    "plt.xlabel(\"$x$ (도)\")\n",
    "\n",
    "plt.show()"
   ]
  },
  {
   "cell_type": "code",
   "execution_count": 55,
   "metadata": {},
   "outputs": [
    {
     "data": {
      "image/png": "[encoded data removed]",
      "text/plain": [
       "<Figure size 432x288 with 2 Axes>"
      ]
     },
     "metadata": {
      "needs_background": "light"
     },
     "output_type": "display_data"
    }
   ],
   "source": [
    "# 0도에서 180도 사이에 화살이 2배 더 잘 박히도록 원반이 조작\n",
    "x = np.linspace(-100, 500, 1000)\n",
    "p = np.zeros_like(x)\n",
    "p[(0 < x) & (x <= 180)] = 2 / (3 * 360)\n",
    "p[(180 < x) & (x <= 360)] = 1 / (3 * 360)\n",
    "xp = x * p\n",
    "\n",
    "plt.subplot(121)\n",
    "plt.plot(x, p)\n",
    "plt.xticks([0, 180, 360])\n",
    "plt.title(\"$p(x)$\")\n",
    "plt.xlabel(\"$x$ (도)\")\n",
    "\n",
    "plt.subplot(122)\n",
    "plt.plot(x, xp)\n",
    "plt.xticks([0, 180, 360])\n",
    "plt.title(\"$xp(x)$\")\n",
    "plt.xlabel(\"$x$ (도)\")\\\n",
    "\n",
    "plt.show()"
   ]
  },
  {
   "cell_type": "code",
   "execution_count": 61,
   "metadata": {},
   "outputs": [
    {
     "data": {
      "text/plain": [
       "0.20902777777777778"
      ]
     },
     "execution_count": 61,
     "metadata": {},
     "output_type": "execute_result"
    }
   ],
   "source": [
    "# 연습 문제 7.2.3\n",
    "x = np.arange(1,361)\n",
    "p = np.zeros(360)\n",
    "p[(0 < x) & (x <= 180)] = 2 / (3 * 360)\n",
    "p[(180 < x) & (x <= 360)] = 1 / (3 * 360)\n",
    "np.sum(x * p) / 360"
   ]
  },
  {
   "cell_type": "code",
   "execution_count": null,
   "metadata": {},
   "outputs": [],
   "source": []
  }
 ],
 "metadata": {
  "interpreter": {
   "hash": "5a1baeb1610b05443f415525bf52a486212d0ee94c2d320214bf0d7d56e225dd"
  },
  "kernelspec": {
   "display_name": "Python 3.7.7 ('vsc')",
   "language": "python",
   "name": "python3"
  },
  "language_info": {
   "codemirror_mode": {
    "name": "ipython",
    "version": 3
   },
   "file_extension": ".py",
   "mimetype": "text/x-python",
   "name": "python",
   "nbconvert_exporter": "python",
   "pygments_lexer": "ipython3",
   "version": "3.7.7"
  },
  "orig_nbformat": 4
 },
 "nbformat": 4,
 "nbformat_minor": 2
}
