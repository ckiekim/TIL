{
 "cells": [
  {
   "cell_type": "markdown",
   "metadata": {},
   "source": [
    "# 문장(시계열수치)입력 다중클래스분류 모델\n",
    "- 문장 혹은 시계열수치로 타입을 분류하는 문제를 풀 수 있음"
   ]
  },
  {
   "cell_type": "markdown",
   "metadata": {},
   "source": [
    "### 데이터셋 준비\n",
    "- 로이터에서 제공하는 뉴스와이어 데이터셋\n",
    "- 총 11,228개의 샘플로 구성\n",
    "- 라벨은 46개 주제로 지정되어 0에서 45의 값을 가지고 있음\n",
    "- 데이터셋은 이미 정수로 인코딩되어 있으며, 정수값은 단어의 빈도수를 나타냄 \n",
    "- 모든 단어를 고려할 수 없으므로 빈도수가 높은 단어를 위주로 데이터셋을 생성\n",
    "- 15,000번째로 많이 사용하는 단어까지만 데이터셋으로 만들고 싶다면, num_words 인자에 15000이라고 지정하면 됨"
   ]
  },
  {
   "cell_type": "code",
   "execution_count": 1,
   "metadata": {},
   "outputs": [
    {
     "name": "stderr",
     "output_type": "stream",
     "text": [
      "Using TensorFlow backend.\n"
     ]
    },
    {
     "name": "stdout",
     "output_type": "stream",
     "text": [
      "Downloading data from https://s3.amazonaws.com/text-datasets/reuters.npz\n",
      "2113536/2110848 [==============================] - 1s 1us/step\n"
     ]
    }
   ],
   "source": [
    "from keras.datasets import reuters\n",
    "(x_train, y_train), (x_test, y_test) = reuters.load_data(num_words=15000)"
   ]
  },
  {
   "cell_type": "code",
   "execution_count": 2,
   "metadata": {},
   "outputs": [],
   "source": [
    "x_val = x_train[7000:]      # 총 8,982개중 1,982개는 검증용\n",
    "y_val = y_train[7000:]\n",
    "x_train = x_train[:7000]\n",
    "y_train = y_train[:7000]"
   ]
  },
  {
   "cell_type": "code",
   "execution_count": 3,
   "metadata": {},
   "outputs": [],
   "source": [
    "max_features = 15000\n",
    "text_max_words = 120"
   ]
  },
  {
   "cell_type": "code",
   "execution_count": 4,
   "metadata": {},
   "outputs": [],
   "source": [
    "from keras.preprocessing import sequence\n",
    "\n",
    "x_train = sequence.pad_sequences(x_train, maxlen=text_max_words)\n",
    "x_val = sequence.pad_sequences(x_val, maxlen=text_max_words)\n",
    "x_test = sequence.pad_sequences(x_test, maxlen=text_max_words)"
   ]
  },
  {
   "cell_type": "code",
   "execution_count": 5,
   "metadata": {},
   "outputs": [],
   "source": [
    "from keras.utils import np_utils\n",
    "\n",
    "y_train = np_utils.to_categorical(y_train)\n",
    "y_val = np_utils.to_categorical(y_val)\n",
    "y_test = np_utils.to_categorical(y_test)"
   ]
  },
  {
   "cell_type": "markdown",
   "metadata": {},
   "source": [
    "## 1. 다층퍼셉트론 신경망 모델"
   ]
  },
  {
   "cell_type": "code",
   "execution_count": 6,
   "metadata": {},
   "outputs": [],
   "source": [
    "from keras.models import Sequential\n",
    "from keras.layers import Dense, Embedding, Flatten"
   ]
  },
  {
   "cell_type": "code",
   "execution_count": 8,
   "metadata": {},
   "outputs": [
    {
     "name": "stdout",
     "output_type": "stream",
     "text": [
      "Model: \"sequential_2\"\n",
      "_________________________________________________________________\n",
      "Layer (type)                 Output Shape              Param #   \n",
      "=================================================================\n",
      "embedding_2 (Embedding)      (None, 120, 128)          1920000   \n",
      "_________________________________________________________________\n",
      "flatten_2 (Flatten)          (None, 15360)             0         \n",
      "_________________________________________________________________\n",
      "dense_3 (Dense)              (None, 256)               3932416   \n",
      "_________________________________________________________________\n",
      "dense_4 (Dense)              (None, 46)                11822     \n",
      "=================================================================\n",
      "Total params: 5,864,238\n",
      "Trainable params: 5,864,238\n",
      "Non-trainable params: 0\n",
      "_________________________________________________________________\n"
     ]
    }
   ],
   "source": [
    "# 모델 구성하기\n",
    "model1 = Sequential()\n",
    "model1.add(Embedding(max_features, 128, input_length=text_max_words))\n",
    "model1.add(Flatten())\n",
    "model1.add(Dense(256, activation='relu'))\n",
    "model1.add(Dense(46, activation='softmax'))\n",
    "model1.summary()"
   ]
  },
  {
   "cell_type": "code",
   "execution_count": 10,
   "metadata": {},
   "outputs": [],
   "source": [
    "# 모델 학습과정 설정하기\n",
    "model1.compile(loss='categorical_crossentropy', optimizer='adam', metrics=['accuracy'])"
   ]
  },
  {
   "cell_type": "code",
   "execution_count": 11,
   "metadata": {},
   "outputs": [
    {
     "name": "stderr",
     "output_type": "stream",
     "text": [
      "W0910 17:25:04.718917 15440 deprecation.py:323] From C:\\ProgramData\\Anaconda3\\lib\\site-packages\\tensorflow\\python\\ops\\math_grad.py:1250: add_dispatch_support.<locals>.wrapper (from tensorflow.python.ops.array_ops) is deprecated and will be removed in a future version.\n",
      "Instructions for updating:\n",
      "Use tf.where in 2.0, which has the same broadcast rule as np.where\n",
      "W0910 17:25:04.782405 15440 deprecation_wrapper.py:119] From C:\\ProgramData\\Anaconda3\\lib\\site-packages\\keras\\backend\\tensorflow_backend.py:1033: The name tf.assign_add is deprecated. Please use tf.compat.v1.assign_add instead.\n",
      "\n"
     ]
    },
    {
     "name": "stdout",
     "output_type": "stream",
     "text": [
      "Train on 7000 samples, validate on 1982 samples\n",
      "Epoch 1/10\n",
      "7000/7000 [==============================] - 6s 794us/step - loss: 1.9199 - acc: 0.5146 - val_loss: 1.4663 - val_acc: 0.6504\n",
      "Epoch 2/10\n",
      "7000/7000 [==============================] - 3s 477us/step - loss: 0.8490 - acc: 0.8047 - val_loss: 1.2951 - val_acc: 0.7069\n",
      "Epoch 3/10\n",
      "7000/7000 [==============================] - 3s 477us/step - loss: 0.2809 - acc: 0.9507 - val_loss: 1.3858 - val_acc: 0.6847\n",
      "Epoch 4/10\n",
      "7000/7000 [==============================] - 3s 478us/step - loss: 0.1789 - acc: 0.9621 - val_loss: 1.4051 - val_acc: 0.6852\n",
      "Epoch 5/10\n",
      "7000/7000 [==============================] - 3s 476us/step - loss: 0.1509 - acc: 0.9620 - val_loss: 1.3813 - val_acc: 0.6983\n",
      "Epoch 6/10\n",
      "7000/7000 [==============================] - 3s 475us/step - loss: 0.1291 - acc: 0.9637 - val_loss: 1.3811 - val_acc: 0.6932\n",
      "Epoch 7/10\n",
      "7000/7000 [==============================] - 3s 476us/step - loss: 0.1162 - acc: 0.9629 - val_loss: 1.4875 - val_acc: 0.6847\n",
      "Epoch 8/10\n",
      "7000/7000 [==============================] - 3s 476us/step - loss: 0.1058 - acc: 0.9639 - val_loss: 1.5062 - val_acc: 0.6811\n",
      "Epoch 9/10\n",
      "7000/7000 [==============================] - 3s 480us/step - loss: 0.0962 - acc: 0.9640 - val_loss: 1.4200 - val_acc: 0.6978\n",
      "Epoch 10/10\n",
      "7000/7000 [==============================] - 3s 479us/step - loss: 0.0902 - acc: 0.9653 - val_loss: 1.4482 - val_acc: 0.6922\n"
     ]
    }
   ],
   "source": [
    "# 모델 학습시키기\n",
    "hist1 = model1.fit(x_train, y_train, epochs=10, batch_size=64, validation_data=(x_val, y_val))"
   ]
  },
  {
   "cell_type": "code",
   "execution_count": 12,
   "metadata": {},
   "outputs": [
    {
     "data": {
      "image/png": "[encoded data removed]",
      "text/plain": [
       "<Figure size 432x288 with 2 Axes>"
      ]
     },
     "metadata": {
      "needs_background": "light"
     },
     "output_type": "display_data"
    }
   ],
   "source": [
    "# 학습과정 살펴보기\n",
    "%matplotlib inline\n",
    "import matplotlib.pyplot as plt\n",
    "\n",
    "fig, loss_ax = plt.subplots()\n",
    "\n",
    "acc_ax = loss_ax.twinx()\n",
    "\n",
    "loss_ax.plot(hist1.history['loss'], 'y', label='train loss')\n",
    "loss_ax.plot(hist1.history['val_loss'], 'r', label='val loss')\n",
    "loss_ax.set_ylim([0.0, 3.0])\n",
    "\n",
    "acc_ax.plot(hist1.history['acc'], 'b', label='train acc')\n",
    "acc_ax.plot(hist1.history['val_acc'], 'g', label='val acc')\n",
    "acc_ax.set_ylim([0.0, 1.0])\n",
    "\n",
    "loss_ax.set_xlabel('epoch')\n",
    "loss_ax.set_ylabel('loss')\n",
    "acc_ax.set_ylabel('accuray')\n",
    "\n",
    "loss_ax.legend(loc='upper left')\n",
    "acc_ax.legend(loc='lower left')\n",
    "\n",
    "plt.show()"
   ]
  },
  {
   "cell_type": "code",
   "execution_count": 13,
   "metadata": {},
   "outputs": [
    {
     "name": "stdout",
     "output_type": "stream",
     "text": [
      "2246/2246 [==============================] - 0s 53us/step\n",
      "## evaluation loss and_metrics ##\n",
      "[1.4785858351315968, 0.6838824577291205]\n"
     ]
    }
   ],
   "source": [
    "# 모델 평가하기\n",
    "loss_and_metrics = model1.evaluate(x_test, y_test, batch_size=64)\n",
    "print('## evaluation loss and_metrics ##')\n",
    "print(loss_and_metrics)"
   ]
  },
  {
   "cell_type": "markdown",
   "metadata": {},
   "source": [
    "## 2. 순환 신경망 모델"
   ]
  },
  {
   "cell_type": "code",
   "execution_count": 14,
   "metadata": {},
   "outputs": [
    {
     "name": "stdout",
     "output_type": "stream",
     "text": [
      "Model: \"sequential_3\"\n",
      "_________________________________________________________________\n",
      "Layer (type)                 Output Shape              Param #   \n",
      "=================================================================\n",
      "embedding_3 (Embedding)      (None, None, 128)         1920000   \n",
      "_________________________________________________________________\n",
      "lstm_1 (LSTM)                (None, 128)               131584    \n",
      "_________________________________________________________________\n",
      "dense_5 (Dense)              (None, 46)                5934      \n",
      "=================================================================\n",
      "Total params: 2,057,518\n",
      "Trainable params: 2,057,518\n",
      "Non-trainable params: 0\n",
      "_________________________________________________________________\n"
     ]
    }
   ],
   "source": [
    "from keras.layers import LSTM\n",
    "# 모델 구성하기\n",
    "model2 = Sequential()\n",
    "model2.add(Embedding(max_features, 128))\n",
    "model2.add(LSTM(128))\n",
    "model2.add(Dense(46, activation='softmax'))\n",
    "model2.summary()"
   ]
  },
  {
   "cell_type": "code",
   "execution_count": 15,
   "metadata": {},
   "outputs": [],
   "source": [
    "# 모델 학습과정 설정하기\n",
    "model2.compile(loss='categorical_crossentropy', optimizer='adam', metrics=['accuracy'])"
   ]
  },
  {
   "cell_type": "code",
   "execution_count": 16,
   "metadata": {},
   "outputs": [
    {
     "name": "stdout",
     "output_type": "stream",
     "text": [
      "Train on 7000 samples, validate on 1982 samples\n",
      "Epoch 1/10\n",
      "7000/7000 [==============================] - 22s 3ms/step - loss: 2.5173 - acc: 0.3744 - val_loss: 2.0530 - val_acc: 0.4960\n",
      "Epoch 2/10\n",
      "7000/7000 [==============================] - 21s 3ms/step - loss: 2.0137 - acc: 0.5107 - val_loss: 1.9578 - val_acc: 0.5131\n",
      "Epoch 3/10\n",
      "7000/7000 [==============================] - 28s 4ms/step - loss: 1.8242 - acc: 0.5454 - val_loss: 1.7730 - val_acc: 0.5590\n",
      "Epoch 4/10\n",
      "7000/7000 [==============================] - 33s 5ms/step - loss: 1.6599 - acc: 0.5953 - val_loss: 1.6442 - val_acc: 0.5969\n",
      "Epoch 5/10\n",
      "7000/7000 [==============================] - 43s 6ms/step - loss: 1.4178 - acc: 0.6466 - val_loss: 1.4921 - val_acc: 0.6418\n",
      "Epoch 6/10\n",
      "7000/7000 [==============================] - 46s 7ms/step - loss: 1.2380 - acc: 0.6920 - val_loss: 1.4926 - val_acc: 0.6327\n",
      "Epoch 7/10\n",
      "7000/7000 [==============================] - 46s 7ms/step - loss: 1.1087 - acc: 0.7159 - val_loss: 1.4903 - val_acc: 0.6332\n",
      "Epoch 8/10\n",
      "7000/7000 [==============================] - 46s 7ms/step - loss: 0.9339 - acc: 0.7566 - val_loss: 1.4410 - val_acc: 0.6705\n",
      "Epoch 9/10\n",
      "7000/7000 [==============================] - 46s 7ms/step - loss: 0.7892 - acc: 0.7921 - val_loss: 1.5101 - val_acc: 0.6514\n",
      "Epoch 10/10\n",
      "7000/7000 [==============================] - 46s 7ms/step - loss: 0.6558 - acc: 0.8273 - val_loss: 1.4883 - val_acc: 0.6579\n"
     ]
    }
   ],
   "source": [
    "# 모델 학습시키기\n",
    "hist2 = model2.fit(x_train, y_train, epochs=10, batch_size=64, validation_data=(x_val, y_val))"
   ]
  },
  {
   "cell_type": "code",
   "execution_count": 17,
   "metadata": {},
   "outputs": [
    {
     "data": {
      "image/png": "[encoded data removed]",
      "text/plain": [
       "<Figure size 432x288 with 2 Axes>"
      ]
     },
     "metadata": {
      "needs_background": "light"
     },
     "output_type": "display_data"
    }
   ],
   "source": [
    "# 학습과정 살펴보기\n",
    "fig, loss_ax = plt.subplots()\n",
    "\n",
    "acc_ax = loss_ax.twinx()\n",
    "\n",
    "loss_ax.plot(hist2.history['loss'], 'y', label='train loss')\n",
    "loss_ax.plot(hist2.history['val_loss'], 'r', label='val loss')\n",
    "loss_ax.set_ylim([0.0, 3.0])\n",
    "\n",
    "acc_ax.plot(hist2.history['acc'], 'b', label='train acc')\n",
    "acc_ax.plot(hist2.history['val_acc'], 'g', label='val acc')\n",
    "acc_ax.set_ylim([0.0, 1.0])\n",
    "\n",
    "loss_ax.set_xlabel('epoch')\n",
    "loss_ax.set_ylabel('loss')\n",
    "acc_ax.set_ylabel('accuray')\n",
    "\n",
    "loss_ax.legend(loc='upper left')\n",
    "acc_ax.legend(loc='lower left')\n",
    "\n",
    "plt.show()"
   ]
  },
  {
   "cell_type": "code",
   "execution_count": 18,
   "metadata": {},
   "outputs": [
    {
     "name": "stdout",
     "output_type": "stream",
     "text": [
      "2246/2246 [==============================] - 1s 630us/step\n",
      "## evaluation loss and_metrics ##\n",
      "[1.574536947724231, 0.6460373998219056]\n"
     ]
    }
   ],
   "source": [
    "# 모델 평가하기\n",
    "loss_and_metrics = model2.evaluate(x_test, y_test, batch_size=64)\n",
    "print('## evaluation loss and_metrics ##')\n",
    "print(loss_and_metrics)"
   ]
  },
  {
   "cell_type": "markdown",
   "metadata": {},
   "source": [
    "## 3. 컨볼루션 신경망 모델"
   ]
  },
  {
   "cell_type": "code",
   "execution_count": 20,
   "metadata": {},
   "outputs": [
    {
     "name": "stdout",
     "output_type": "stream",
     "text": [
      "Model: \"sequential_5\"\n",
      "_________________________________________________________________\n",
      "Layer (type)                 Output Shape              Param #   \n",
      "=================================================================\n",
      "embedding_5 (Embedding)      (None, 120, 128)          1920000   \n",
      "_________________________________________________________________\n",
      "dropout_3 (Dropout)          (None, 120, 128)          0         \n",
      "_________________________________________________________________\n",
      "conv1d_2 (Conv1D)            (None, 118, 256)          98560     \n",
      "_________________________________________________________________\n",
      "global_max_pooling1d_2 (Glob (None, 256)               0         \n",
      "_________________________________________________________________\n",
      "dense_8 (Dense)              (None, 128)               32896     \n",
      "_________________________________________________________________\n",
      "dropout_4 (Dropout)          (None, 128)               0         \n",
      "_________________________________________________________________\n",
      "dense_9 (Dense)              (None, 46)                5934      \n",
      "=================================================================\n",
      "Total params: 2,057,390\n",
      "Trainable params: 2,057,390\n",
      "Non-trainable params: 0\n",
      "_________________________________________________________________\n"
     ]
    }
   ],
   "source": [
    "from keras.layers import Dropout, Conv1D, GlobalMaxPooling1D\n",
    "# 모델 구성하기\n",
    "model3 = Sequential()\n",
    "model3.add(Embedding(max_features, 128, input_length=text_max_words))\n",
    "model3.add(Dropout(0.2))\n",
    "model3.add(Conv1D(256, 3, padding='valid', activation='relu', strides=1))\n",
    "model3.add(GlobalMaxPooling1D())\n",
    "model3.add(Dense(128, activation='relu'))\n",
    "model3.add(Dropout(0.2))\n",
    "model3.add(Dense(46, activation='softmax'))\n",
    "model3.summary()"
   ]
  },
  {
   "cell_type": "code",
   "execution_count": 21,
   "metadata": {},
   "outputs": [],
   "source": [
    "# 모델 학습과정 설정하기\n",
    "model3.compile(loss='categorical_crossentropy', optimizer='adam', metrics=['accuracy'])"
   ]
  },
  {
   "cell_type": "code",
   "execution_count": 22,
   "metadata": {},
   "outputs": [
    {
     "name": "stdout",
     "output_type": "stream",
     "text": [
      "Train on 7000 samples, validate on 1982 samples\n",
      "Epoch 1/10\n",
      "7000/7000 [==============================] - 5s 644us/step - loss: 2.2703 - acc: 0.4453 - val_loss: 1.7521 - val_acc: 0.5172\n",
      "Epoch 2/10\n",
      "7000/7000 [==============================] - 3s 404us/step - loss: 1.5607 - acc: 0.6237 - val_loss: 1.3369 - val_acc: 0.6852\n",
      "Epoch 3/10\n",
      "7000/7000 [==============================] - 3s 405us/step - loss: 1.2168 - acc: 0.7094 - val_loss: 1.1801 - val_acc: 0.7255\n",
      "Epoch 4/10\n",
      "7000/7000 [==============================] - 3s 406us/step - loss: 0.9689 - acc: 0.7664 - val_loss: 1.0866 - val_acc: 0.7442\n",
      "Epoch 5/10\n",
      "7000/7000 [==============================] - 3s 409us/step - loss: 0.7504 - acc: 0.8137 - val_loss: 1.0328 - val_acc: 0.7558\n",
      "Epoch 6/10\n",
      "7000/7000 [==============================] - 3s 418us/step - loss: 0.5685 - acc: 0.8569 - val_loss: 1.0141 - val_acc: 0.7735\n",
      "Epoch 7/10\n",
      "7000/7000 [==============================] - 3s 434us/step - loss: 0.4267 - acc: 0.8916 - val_loss: 1.0695 - val_acc: 0.7725\n",
      "Epoch 8/10\n",
      "7000/7000 [==============================] - 3s 445us/step - loss: 0.3285 - acc: 0.9149 - val_loss: 1.1263 - val_acc: 0.7735\n",
      "Epoch 9/10\n",
      "7000/7000 [==============================] - 5s 681us/step - loss: 0.2645 - acc: 0.9333 - val_loss: 1.1534 - val_acc: 0.7740\n",
      "Epoch 10/10\n",
      "7000/7000 [==============================] - 6s 884us/step - loss: 0.2119 - acc: 0.9450 - val_loss: 1.1705 - val_acc: 0.7669\n"
     ]
    }
   ],
   "source": [
    "# 모델 학습시키기\n",
    "hist3 = model3.fit(x_train, y_train, epochs=10, batch_size=64, validation_data=(x_val, y_val))"
   ]
  },
  {
   "cell_type": "code",
   "execution_count": 23,
   "metadata": {},
   "outputs": [
    {
     "data": {
      "image/png": "[encoded data removed]",
      "text/plain": [
       "<Figure size 432x288 with 2 Axes>"
      ]
     },
     "metadata": {
      "needs_background": "light"
     },
     "output_type": "display_data"
    }
   ],
   "source": [
    "# 학습과정 살펴보기\n",
    "fig, loss_ax = plt.subplots()\n",
    "\n",
    "acc_ax = loss_ax.twinx()\n",
    "\n",
    "loss_ax.plot(hist3.history['loss'], 'y', label='train loss')\n",
    "loss_ax.plot(hist3.history['val_loss'], 'r', label='val loss')\n",
    "loss_ax.set_ylim([0.0, 3.0])\n",
    "\n",
    "acc_ax.plot(hist3.history['acc'], 'b', label='train acc')\n",
    "acc_ax.plot(hist3.history['val_acc'], 'g', label='val acc')\n",
    "acc_ax.set_ylim([0.0, 1.0])\n",
    "\n",
    "loss_ax.set_xlabel('epoch')\n",
    "loss_ax.set_ylabel('loss')\n",
    "acc_ax.set_ylabel('accuray')\n",
    "\n",
    "loss_ax.legend(loc='upper left')\n",
    "acc_ax.legend(loc='lower left')\n",
    "\n",
    "plt.show()"
   ]
  },
  {
   "cell_type": "code",
   "execution_count": 24,
   "metadata": {},
   "outputs": [
    {
     "name": "stdout",
     "output_type": "stream",
     "text": [
      "2246/2246 [==============================] - 0s 82us/step\n",
      "## evaluation loss and_metrics ##\n",
      "[1.2969207973853882, 0.7462154942650085]\n"
     ]
    }
   ],
   "source": [
    "# 모델 평가하기\n",
    "loss_and_metrics = model3.evaluate(x_test, y_test, batch_size=64)\n",
    "print('## evaluation loss and_metrics ##')\n",
    "print(loss_and_metrics)"
   ]
  },
  {
   "cell_type": "markdown",
   "metadata": {},
   "source": [
    "## 4. 순환 컨볼루션 신경망 모델"
   ]
  },
  {
   "cell_type": "code",
   "execution_count": 26,
   "metadata": {},
   "outputs": [
    {
     "name": "stdout",
     "output_type": "stream",
     "text": [
      "Model: \"sequential_7\"\n",
      "_________________________________________________________________\n",
      "Layer (type)                 Output Shape              Param #   \n",
      "=================================================================\n",
      "embedding_7 (Embedding)      (None, 120, 128)          1920000   \n",
      "_________________________________________________________________\n",
      "dropout_6 (Dropout)          (None, 120, 128)          0         \n",
      "_________________________________________________________________\n",
      "conv1d_4 (Conv1D)            (None, 118, 256)          98560     \n",
      "_________________________________________________________________\n",
      "max_pooling1d_2 (MaxPooling1 (None, 29, 256)           0         \n",
      "_________________________________________________________________\n",
      "lstm_3 (LSTM)                (None, 128)               197120    \n",
      "_________________________________________________________________\n",
      "dense_11 (Dense)             (None, 46)                5934      \n",
      "=================================================================\n",
      "Total params: 2,221,614\n",
      "Trainable params: 2,221,614\n",
      "Non-trainable params: 0\n",
      "_________________________________________________________________\n"
     ]
    }
   ],
   "source": [
    "from keras.layers import MaxPooling1D\n",
    "# 모델 구성하기\n",
    "model4 = Sequential()\n",
    "model4.add(Embedding(max_features, 128, input_length=text_max_words))\n",
    "model4.add(Dropout(0.2))\n",
    "model4.add(Conv1D(256, 3, padding='valid', activation='relu', strides=1))\n",
    "model4.add(MaxPooling1D(pool_size=4))\n",
    "model4.add(LSTM(128))\n",
    "model4.add(Dense(46, activation='softmax'))\n",
    "model4.summary()"
   ]
  },
  {
   "cell_type": "code",
   "execution_count": 27,
   "metadata": {},
   "outputs": [],
   "source": [
    "# 모델 학습과정 설정하기\n",
    "model4.compile(loss='categorical_crossentropy', optimizer='adam', metrics=['accuracy'])"
   ]
  },
  {
   "cell_type": "code",
   "execution_count": 28,
   "metadata": {},
   "outputs": [
    {
     "name": "stdout",
     "output_type": "stream",
     "text": [
      "Train on 7000 samples, validate on 1982 samples\n",
      "Epoch 1/10\n",
      "7000/7000 [==============================] - 11s 2ms/step - loss: 2.1936 - acc: 0.4444 - val_loss: 1.7324 - val_acc: 0.5358\n",
      "Epoch 2/10\n",
      "7000/7000 [==============================] - 10s 1ms/step - loss: 1.6220 - acc: 0.5844 - val_loss: 1.5251 - val_acc: 0.6231\n",
      "Epoch 3/10\n",
      "7000/7000 [==============================] - 11s 2ms/step - loss: 1.2802 - acc: 0.6720 - val_loss: 1.3150 - val_acc: 0.6801\n",
      "Epoch 4/10\n",
      "7000/7000 [==============================] - 18s 3ms/step - loss: 0.9975 - acc: 0.7487 - val_loss: 1.3026 - val_acc: 0.6816\n",
      "Epoch 5/10\n",
      "7000/7000 [==============================] - 27s 4ms/step - loss: 0.8011 - acc: 0.7954 - val_loss: 1.2824 - val_acc: 0.6842\n",
      "Epoch 6/10\n",
      "7000/7000 [==============================] - 17s 2ms/step - loss: 0.6569 - acc: 0.8326 - val_loss: 1.3187 - val_acc: 0.7013\n",
      "Epoch 7/10\n",
      "7000/7000 [==============================] - 17s 2ms/step - loss: 0.5406 - acc: 0.8579 - val_loss: 1.2526 - val_acc: 0.7119\n",
      "Epoch 8/10\n",
      "7000/7000 [==============================] - 27s 4ms/step - loss: 0.4498 - acc: 0.8816 - val_loss: 1.3171 - val_acc: 0.7200\n",
      "Epoch 9/10\n",
      "7000/7000 [==============================] - 27s 4ms/step - loss: 0.3691 - acc: 0.9027 - val_loss: 1.3417 - val_acc: 0.7250\n",
      "Epoch 10/10\n",
      "7000/7000 [==============================] - 27s 4ms/step - loss: 0.3107 - acc: 0.9189 - val_loss: 1.3822 - val_acc: 0.7129\n"
     ]
    }
   ],
   "source": [
    "# 모델 학습시키기\n",
    "hist4 = model4.fit(x_train, y_train, epochs=10, batch_size=64, validation_data=(x_val, y_val))"
   ]
  },
  {
   "cell_type": "code",
   "execution_count": 29,
   "metadata": {},
   "outputs": [
    {
     "data": {
      "image/png": "[encoded data removed]",
      "text/plain": [
       "<Figure size 432x288 with 2 Axes>"
      ]
     },
     "metadata": {
      "needs_background": "light"
     },
     "output_type": "display_data"
    }
   ],
   "source": [
    "# 학습과정 살펴보기\n",
    "fig, loss_ax = plt.subplots()\n",
    "\n",
    "acc_ax = loss_ax.twinx()\n",
    "\n",
    "loss_ax.plot(hist4.history['loss'], 'y', label='train loss')\n",
    "loss_ax.plot(hist4.history['val_loss'], 'r', label='val loss')\n",
    "loss_ax.set_ylim([0.0, 3.0])\n",
    "\n",
    "acc_ax.plot(hist4.history['acc'], 'b', label='train acc')\n",
    "acc_ax.plot(hist4.history['val_acc'], 'g', label='val acc')\n",
    "acc_ax.set_ylim([0.0, 1.0])\n",
    "\n",
    "loss_ax.set_xlabel('epoch')\n",
    "loss_ax.set_ylabel('loss')\n",
    "acc_ax.set_ylabel('accuray')\n",
    "\n",
    "loss_ax.legend(loc='upper left')\n",
    "acc_ax.legend(loc='lower left')\n",
    "\n",
    "plt.show()"
   ]
  },
  {
   "cell_type": "code",
   "execution_count": 30,
   "metadata": {},
   "outputs": [
    {
     "name": "stdout",
     "output_type": "stream",
     "text": [
      "2246/2246 [==============================] - 1s 548us/step\n",
      "## evaluation loss and_metrics ##\n",
      "[1.4301423574279486, 0.7016918967052538]\n"
     ]
    }
   ],
   "source": [
    "# 모델 평가하기\n",
    "loss_and_metrics = model4.evaluate(x_test, y_test, batch_size=64)\n",
    "print('## evaluation loss and_metrics ##')\n",
    "print(loss_and_metrics)"
   ]
  },
  {
   "cell_type": "code",
   "execution_count": null,
   "metadata": {},
   "outputs": [],
   "source": []
  }
 ],
 "metadata": {
  "kernelspec": {
   "display_name": "Python 3",
   "language": "python",
   "name": "python3"
  },
  "language_info": {
   "codemirror_mode": {
    "name": "ipython",
    "version": 3
   },
   "file_extension": ".py",
   "mimetype": "text/x-python",
   "name": "python",
   "nbconvert_exporter": "python",
   "pygments_lexer": "ipython3",
   "version": "3.7.4"
  }
 },
 "nbformat": 4,
 "nbformat_minor": 2
}
