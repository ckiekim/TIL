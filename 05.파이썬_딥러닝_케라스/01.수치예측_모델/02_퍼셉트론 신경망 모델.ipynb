{
 "cells": [
  {
   "cell_type": "markdown",
   "metadata": {},
   "source": [
    "# 수치입력 수치 예측 모델 레시피\n",
    "## 2. 퍼셉트론 신경망 모델"
   ]
  },
  {
   "cell_type": "code",
   "execution_count": 1,
   "metadata": {},
   "outputs": [
    {
     "name": "stderr",
     "output_type": "stream",
     "text": [
      "Using TensorFlow backend.\n"
     ]
    }
   ],
   "source": [
    "import numpy as np\n",
    "import random\n",
    "from keras.models import Sequential\n",
    "from keras.layers import Dense"
   ]
  },
  {
   "cell_type": "markdown",
   "metadata": {},
   "source": [
    "### 데이터셋 준비"
   ]
  },
  {
   "cell_type": "code",
   "execution_count": 2,
   "metadata": {},
   "outputs": [
    {
     "data": {
      "image/png": "[encoded data removed]",
      "text/plain": [
       "<Figure size 432x288 with 1 Axes>"
      ]
     },
     "metadata": {
      "needs_background": "light"
     },
     "output_type": "display_data"
    }
   ],
   "source": [
    "# 데이터셋 생성\n",
    "x_train = np.random.random((1000, 1))\n",
    "y_train = x_train * 2 + np.random.random((1000, 1))/3.0\n",
    "x_test = np.random.random((100, 1))\n",
    "y_test = x_test * 2 + np.random.random((100, 1))/3.0\n",
    "\n",
    "#데이터셋 확인\n",
    "import matplotlib.pyplot as plt\n",
    "%matplotlib inline\n",
    "plt.plot(x_train, y_train, 'ro')\n",
    "plt.plot(x_test, y_test, 'bo')\n",
    "plt.legend(['train', 'test'], loc='upper left')\n",
    "plt.show()"
   ]
  },
  {
   "cell_type": "markdown",
   "metadata": {},
   "source": [
    "### 퍼셉트론 모델"
   ]
  },
  {
   "cell_type": "code",
   "execution_count": 4,
   "metadata": {},
   "outputs": [],
   "source": [
    "# 모델 구성하기\n",
    "model = Sequential()\n",
    "model.add(Dense(1, input_dim=1))"
   ]
  },
  {
   "cell_type": "code",
   "execution_count": 6,
   "metadata": {},
   "outputs": [],
   "source": [
    "# 모델 학습과정 설정하기\n",
    "model.compile(optimizer='rmsprop', loss='mse')"
   ]
  },
  {
   "cell_type": "code",
   "execution_count": 7,
   "metadata": {},
   "outputs": [
    {
     "name": "stderr",
     "output_type": "stream",
     "text": [
      "W0904 17:21:38.055588  7232 deprecation_wrapper.py:119] From C:\\ProgramData\\Anaconda3\\lib\\site-packages\\keras\\backend\\tensorflow_backend.py:1033: The name tf.assign_add is deprecated. Please use tf.compat.v1.assign_add instead.\n",
      "\n",
      "W0904 17:21:38.061998  7232 deprecation_wrapper.py:119] From C:\\ProgramData\\Anaconda3\\lib\\site-packages\\keras\\backend\\tensorflow_backend.py:1020: The name tf.assign is deprecated. Please use tf.compat.v1.assign instead.\n",
      "\n"
     ]
    },
    {
     "name": "stdout",
     "output_type": "stream",
     "text": [
      "Epoch 1/50\n",
      "1000/1000 [==============================] - 2s 2ms/step - loss: 4.6528\n",
      "Epoch 2/50\n",
      "1000/1000 [==============================] - 0s 40us/step - loss: 4.5370\n",
      "Epoch 3/50\n",
      "1000/1000 [==============================] - 0s 42us/step - loss: 4.4387\n",
      "Epoch 4/50\n",
      "1000/1000 [==============================] - 0s 42us/step - loss: 4.3440\n",
      "Epoch 5/50\n",
      "1000/1000 [==============================] - 0s 40us/step - loss: 4.2502\n",
      "Epoch 6/50\n",
      "1000/1000 [==============================] - 0s 41us/step - loss: 4.1571\n",
      "Epoch 7/50\n",
      "1000/1000 [==============================] - 0s 40us/step - loss: 4.0649\n",
      "Epoch 8/50\n",
      "1000/1000 [==============================] - 0s 42us/step - loss: 3.9752\n",
      "Epoch 9/50\n",
      "1000/1000 [==============================] - 0s 39us/step - loss: 3.8861\n",
      "Epoch 10/50\n",
      "1000/1000 [==============================] - 0s 43us/step - loss: 3.7974\n",
      "Epoch 11/50\n",
      "1000/1000 [==============================] - 0s 44us/step - loss: 3.7097\n",
      "Epoch 12/50\n",
      "1000/1000 [==============================] - 0s 42us/step - loss: 3.6245\n",
      "Epoch 13/50\n",
      "1000/1000 [==============================] - 0s 57us/step - loss: 3.5399\n",
      "Epoch 14/50\n",
      "1000/1000 [==============================] - 0s 52us/step - loss: 3.4565\n",
      "Epoch 15/50\n",
      "1000/1000 [==============================] - 0s 51us/step - loss: 3.3741\n",
      "Epoch 16/50\n",
      "1000/1000 [==============================] - 0s 48us/step - loss: 3.2928\n",
      "Epoch 17/50\n",
      "1000/1000 [==============================] - 0s 46us/step - loss: 3.2125\n",
      "Epoch 18/50\n",
      "1000/1000 [==============================] - 0s 46us/step - loss: 3.1332\n",
      "Epoch 19/50\n",
      "1000/1000 [==============================] - 0s 47us/step - loss: 3.0554\n",
      "Epoch 20/50\n",
      "1000/1000 [==============================] - 0s 47us/step - loss: 2.9793\n",
      "Epoch 21/50\n",
      "1000/1000 [==============================] - 0s 47us/step - loss: 2.9038\n",
      "Epoch 22/50\n",
      "1000/1000 [==============================] - 0s 49us/step - loss: 2.8289\n",
      "Epoch 23/50\n",
      "1000/1000 [==============================] - 0s 48us/step - loss: 2.7560\n",
      "Epoch 24/50\n",
      "1000/1000 [==============================] - 0s 47us/step - loss: 2.6844\n",
      "Epoch 25/50\n",
      "1000/1000 [==============================] - 0s 47us/step - loss: 2.6139\n",
      "Epoch 26/50\n",
      "1000/1000 [==============================] - 0s 48us/step - loss: 2.5446\n",
      "Epoch 27/50\n",
      "1000/1000 [==============================] - 0s 49us/step - loss: 2.4760\n",
      "Epoch 28/50\n",
      "1000/1000 [==============================] - 0s 48us/step - loss: 2.4084\n",
      "Epoch 29/50\n",
      "1000/1000 [==============================] - 0s 48us/step - loss: 2.3422\n",
      "Epoch 30/50\n",
      "1000/1000 [==============================] - 0s 49us/step - loss: 2.2765\n",
      "Epoch 31/50\n",
      "1000/1000 [==============================] - 0s 48us/step - loss: 2.2129\n",
      "Epoch 32/50\n",
      "1000/1000 [==============================] - 0s 46us/step - loss: 2.1505\n",
      "Epoch 33/50\n",
      "1000/1000 [==============================] - 0s 46us/step - loss: 2.0888\n",
      "Epoch 34/50\n",
      "1000/1000 [==============================] - 0s 49us/step - loss: 2.0283\n",
      "Epoch 35/50\n",
      "1000/1000 [==============================] - 0s 48us/step - loss: 1.9690\n",
      "Epoch 36/50\n",
      "1000/1000 [==============================] - 0s 48us/step - loss: 1.9107\n",
      "Epoch 37/50\n",
      "1000/1000 [==============================] - 0s 50us/step - loss: 1.8534\n",
      "Epoch 38/50\n",
      "1000/1000 [==============================] - 0s 48us/step - loss: 1.7973\n",
      "Epoch 39/50\n",
      "1000/1000 [==============================] - 0s 50us/step - loss: 1.7422\n",
      "Epoch 40/50\n",
      "1000/1000 [==============================] - 0s 45us/step - loss: 1.6890\n",
      "Epoch 41/50\n",
      "1000/1000 [==============================] - 0s 50us/step - loss: 1.6361\n",
      "Epoch 42/50\n",
      "1000/1000 [==============================] - 0s 44us/step - loss: 1.5849\n",
      "Epoch 43/50\n",
      "1000/1000 [==============================] - 0s 49us/step - loss: 1.5354\n",
      "Epoch 44/50\n",
      "1000/1000 [==============================] - 0s 49us/step - loss: 1.4860\n",
      "Epoch 45/50\n",
      "1000/1000 [==============================] - 0s 51us/step - loss: 1.4380\n",
      "Epoch 46/50\n",
      "1000/1000 [==============================] - 0s 52us/step - loss: 1.3914\n",
      "Epoch 47/50\n",
      "1000/1000 [==============================] - 0s 47us/step - loss: 1.3458\n",
      "Epoch 48/50\n",
      "1000/1000 [==============================] - 0s 50us/step - loss: 1.3011\n",
      "Epoch 49/50\n",
      "1000/1000 [==============================] - 0s 49us/step - loss: 1.2579\n",
      "Epoch 50/50\n",
      "1000/1000 [==============================] - 0s 51us/step - loss: 1.2158\n"
     ]
    }
   ],
   "source": [
    "# 모델 학습시키기\n",
    "hist = model.fit(x_train, y_train, epochs=50, batch_size=64)"
   ]
  },
  {
   "cell_type": "code",
   "execution_count": 8,
   "metadata": {},
   "outputs": [
    {
     "name": "stdout",
     "output_type": "stream",
     "text": [
      "[[-0.80719435]] [0.7966909]\n"
     ]
    }
   ],
   "source": [
    "w, b = model.get_weights()\n",
    "print(w, b)"
   ]
  },
  {
   "cell_type": "code",
   "execution_count": 10,
   "metadata": {},
   "outputs": [
    {
     "data": {
      "image/png": "[encoded data removed]",
      "text/plain": [
       "<Figure size 432x288 with 1 Axes>"
      ]
     },
     "metadata": {
      "needs_background": "light"
     },
     "output_type": "display_data"
    }
   ],
   "source": [
    "# 학습과정 살펴보기\n",
    "plt.plot(hist.history['loss'])\n",
    "plt.ylim(0.0, 5.0)\n",
    "plt.ylabel('loss')\n",
    "plt.xlabel('epoch')\n",
    "plt.legend(['train'], loc='upper left')\n",
    "plt.show()"
   ]
  },
  {
   "cell_type": "markdown",
   "metadata": {},
   "source": [
    "### 모델 평가하기"
   ]
  },
  {
   "cell_type": "code",
   "execution_count": 11,
   "metadata": {},
   "outputs": [
    {
     "name": "stdout",
     "output_type": "stream",
     "text": [
      "100/100 [==============================] - 0s 283us/step\n",
      "loss : 1.307137403488159\n"
     ]
    }
   ],
   "source": [
    "loss = model.evaluate(x_test, y_test, batch_size=32)\n",
    "print('loss : ' + str(loss))"
   ]
  },
  {
   "cell_type": "code",
   "execution_count": null,
   "metadata": {},
   "outputs": [],
   "source": []
  }
 ],
 "metadata": {
  "kernelspec": {
   "display_name": "Python 3",
   "language": "python",
   "name": "python3"
  },
  "language_info": {
   "codemirror_mode": {
    "name": "ipython",
    "version": 3
   },
   "file_extension": ".py",
   "mimetype": "text/x-python",
   "name": "python",
   "nbconvert_exporter": "python",
   "pygments_lexer": "ipython3",
   "version": "3.7.4"
  }
 },
 "nbformat": 4,
 "nbformat_minor": 2
}
