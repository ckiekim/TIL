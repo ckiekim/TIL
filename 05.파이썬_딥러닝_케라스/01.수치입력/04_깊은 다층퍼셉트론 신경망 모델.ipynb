{
 "cells": [
  {
   "cell_type": "markdown",
   "metadata": {},
   "source": [
    "# 수치입력 수치 예측 모델 레시피\n",
    "## 4. 깊은 다층퍼셉트론 신경망 모델"
   ]
  },
  {
   "cell_type": "code",
   "execution_count": 1,
   "metadata": {},
   "outputs": [
    {
     "name": "stderr",
     "output_type": "stream",
     "text": [
      "Using TensorFlow backend.\n"
     ]
    }
   ],
   "source": [
    "import numpy as np\n",
    "import random\n",
    "from keras.models import Sequential\n",
    "from keras.layers import Dense"
   ]
  },
  {
   "cell_type": "markdown",
   "metadata": {},
   "source": [
    "### 데이터셋 준비"
   ]
  },
  {
   "cell_type": "code",
   "execution_count": 2,
   "metadata": {},
   "outputs": [
    {
     "data": {
      "image/png": "[encoded data removed]",
      "text/plain": [
       "<Figure size 432x288 with 1 Axes>"
      ]
     },
     "metadata": {
      "needs_background": "light"
     },
     "output_type": "display_data"
    }
   ],
   "source": [
    "# 데이터셋 생성\n",
    "x_train = np.random.random((1000, 1))\n",
    "y_train = x_train * 2 + np.random.random((1000, 1))/3.0\n",
    "x_test = np.random.random((100, 1))\n",
    "y_test = x_test * 2 + np.random.random((100, 1))/3.0\n",
    "\n",
    "#데이터셋 확인\n",
    "import matplotlib.pyplot as plt\n",
    "%matplotlib inline\n",
    "plt.plot(x_train, y_train, 'ro')\n",
    "plt.plot(x_test, y_test, 'bo')\n",
    "plt.legend(['train', 'test'], loc='upper left')\n",
    "plt.show()"
   ]
  },
  {
   "cell_type": "markdown",
   "metadata": {},
   "source": [
    "### GPU 문제 해결 - Tensorflow Backend 엔진 설정"
   ]
  },
  {
   "cell_type": "code",
   "execution_count": 3,
   "metadata": {},
   "outputs": [],
   "source": [
    "import tensorflow as tf\n",
    "from keras.backend import tensorflow_backend as K\n",
    "config = tf.ConfigProto()\n",
    "config.gpu_options.per_process_gpu_memory_fraction = 0.4\n",
    "# config.gpu_options.allow_growth = True\n",
    "K.set_session(tf.Session(config=config))"
   ]
  },
  {
   "cell_type": "markdown",
   "metadata": {},
   "source": [
    "### 다층퍼셉트론 모델"
   ]
  },
  {
   "cell_type": "code",
   "execution_count": 4,
   "metadata": {},
   "outputs": [
    {
     "name": "stderr",
     "output_type": "stream",
     "text": [
      "WARNING: Logging before flag parsing goes to stderr.\n",
      "W0904 18:06:05.233438  1572 deprecation_wrapper.py:119] From C:\\ProgramData\\Anaconda3\\lib\\site-packages\\keras\\backend\\tensorflow_backend.py:66: The name tf.get_default_graph is deprecated. Please use tf.compat.v1.get_default_graph instead.\n",
      "\n",
      "W0904 18:06:05.236439  1572 deprecation_wrapper.py:119] From C:\\ProgramData\\Anaconda3\\lib\\site-packages\\keras\\backend\\tensorflow_backend.py:541: The name tf.placeholder is deprecated. Please use tf.compat.v1.placeholder instead.\n",
      "\n",
      "W0904 18:06:05.240379  1572 deprecation_wrapper.py:119] From C:\\ProgramData\\Anaconda3\\lib\\site-packages\\keras\\backend\\tensorflow_backend.py:4432: The name tf.random_uniform is deprecated. Please use tf.random.uniform instead.\n",
      "\n"
     ]
    }
   ],
   "source": [
    "# 모델 구성하기\n",
    "model = Sequential()\n",
    "model.add(Dense(64, input_dim=1, activation='relu'))\n",
    "model.add(Dense(64, activation='relu'))\n",
    "model.add(Dense(1))"
   ]
  },
  {
   "cell_type": "code",
   "execution_count": 5,
   "metadata": {},
   "outputs": [
    {
     "name": "stderr",
     "output_type": "stream",
     "text": [
      "W0904 18:06:09.409997  1572 deprecation_wrapper.py:119] From C:\\ProgramData\\Anaconda3\\lib\\site-packages\\keras\\optimizers.py:793: The name tf.train.Optimizer is deprecated. Please use tf.compat.v1.train.Optimizer instead.\n",
      "\n"
     ]
    }
   ],
   "source": [
    "# 모델 학습과정 설정하기\n",
    "model.compile(optimizer='rmsprop', loss='mse')"
   ]
  },
  {
   "cell_type": "code",
   "execution_count": 6,
   "metadata": {},
   "outputs": [
    {
     "name": "stderr",
     "output_type": "stream",
     "text": [
      "W0904 18:06:10.921805  1572 deprecation_wrapper.py:119] From C:\\ProgramData\\Anaconda3\\lib\\site-packages\\keras\\backend\\tensorflow_backend.py:1033: The name tf.assign_add is deprecated. Please use tf.compat.v1.assign_add instead.\n",
      "\n",
      "W0904 18:06:10.929244  1572 deprecation_wrapper.py:119] From C:\\ProgramData\\Anaconda3\\lib\\site-packages\\keras\\backend\\tensorflow_backend.py:1020: The name tf.assign is deprecated. Please use tf.compat.v1.assign instead.\n",
      "\n"
     ]
    },
    {
     "name": "stdout",
     "output_type": "stream",
     "text": [
      "Epoch 1/50\n",
      "1000/1000 [==============================] - 1s 504us/step - loss: 0.8641\n",
      "Epoch 2/50\n",
      "1000/1000 [==============================] - 0s 41us/step - loss: 0.1883\n",
      "Epoch 3/50\n",
      "1000/1000 [==============================] - 0s 42us/step - loss: 0.0388\n",
      "Epoch 4/50\n",
      "1000/1000 [==============================] - 0s 40us/step - loss: 0.0226\n",
      "Epoch 5/50\n",
      "1000/1000 [==============================] - 0s 41us/step - loss: 0.0140\n",
      "Epoch 6/50\n",
      "1000/1000 [==============================] - 0s 41us/step - loss: 0.0106\n",
      "Epoch 7/50\n",
      "1000/1000 [==============================] - 0s 42us/step - loss: 0.0105\n",
      "Epoch 8/50\n",
      "1000/1000 [==============================] - 0s 42us/step - loss: 0.0101\n",
      "Epoch 9/50\n",
      "1000/1000 [==============================] - 0s 43us/step - loss: 0.0102\n",
      "Epoch 10/50\n",
      "1000/1000 [==============================] - 0s 41us/step - loss: 0.0102\n",
      "Epoch 11/50\n",
      "1000/1000 [==============================] - 0s 39us/step - loss: 0.0102\n",
      "Epoch 12/50\n",
      "1000/1000 [==============================] - 0s 40us/step - loss: 0.0105\n",
      "Epoch 13/50\n",
      "1000/1000 [==============================] - 0s 41us/step - loss: 0.0105\n",
      "Epoch 14/50\n",
      "1000/1000 [==============================] - 0s 42us/step - loss: 0.0101\n",
      "Epoch 15/50\n",
      "1000/1000 [==============================] - 0s 40us/step - loss: 0.0101\n",
      "Epoch 16/50\n",
      "1000/1000 [==============================] - 0s 39us/step - loss: 0.0101\n",
      "Epoch 17/50\n",
      "1000/1000 [==============================] - 0s 40us/step - loss: 0.0105\n",
      "Epoch 18/50\n",
      "1000/1000 [==============================] - 0s 39us/step - loss: 0.0100\n",
      "Epoch 19/50\n",
      "1000/1000 [==============================] - 0s 42us/step - loss: 0.0105\n",
      "Epoch 20/50\n",
      "1000/1000 [==============================] - 0s 41us/step - loss: 0.0104\n",
      "Epoch 21/50\n",
      "1000/1000 [==============================] - 0s 40us/step - loss: 0.0106\n",
      "Epoch 22/50\n",
      "1000/1000 [==============================] - 0s 41us/step - loss: 0.0100\n",
      "Epoch 23/50\n",
      "1000/1000 [==============================] - 0s 40us/step - loss: 0.0101\n",
      "Epoch 24/50\n",
      "1000/1000 [==============================] - 0s 41us/step - loss: 0.0104\n",
      "Epoch 25/50\n",
      "1000/1000 [==============================] - 0s 40us/step - loss: 0.0105\n",
      "Epoch 26/50\n",
      "1000/1000 [==============================] - 0s 40us/step - loss: 0.0107\n",
      "Epoch 27/50\n",
      "1000/1000 [==============================] - 0s 40us/step - loss: 0.0100\n",
      "Epoch 28/50\n",
      "1000/1000 [==============================] - 0s 42us/step - loss: 0.0103\n",
      "Epoch 29/50\n",
      "1000/1000 [==============================] - 0s 42us/step - loss: 0.0103\n",
      "Epoch 30/50\n",
      "1000/1000 [==============================] - 0s 44us/step - loss: 0.0100\n",
      "Epoch 31/50\n",
      "1000/1000 [==============================] - 0s 40us/step - loss: 0.0105\n",
      "Epoch 32/50\n",
      "1000/1000 [==============================] - 0s 40us/step - loss: 0.0100\n",
      "Epoch 33/50\n",
      "1000/1000 [==============================] - 0s 41us/step - loss: 0.0104\n",
      "Epoch 34/50\n",
      "1000/1000 [==============================] - 0s 41us/step - loss: 0.0102\n",
      "Epoch 35/50\n",
      "1000/1000 [==============================] - 0s 43us/step - loss: 0.0104\n",
      "Epoch 36/50\n",
      "1000/1000 [==============================] - 0s 41us/step - loss: 0.0100\n",
      "Epoch 37/50\n",
      "1000/1000 [==============================] - 0s 42us/step - loss: 0.0104\n",
      "Epoch 38/50\n",
      "1000/1000 [==============================] - 0s 41us/step - loss: 0.0103\n",
      "Epoch 39/50\n",
      "1000/1000 [==============================] - 0s 41us/step - loss: 0.0105\n",
      "Epoch 40/50\n",
      "1000/1000 [==============================] - 0s 42us/step - loss: 0.0101\n",
      "Epoch 41/50\n",
      "1000/1000 [==============================] - 0s 42us/step - loss: 0.0101\n",
      "Epoch 42/50\n",
      "1000/1000 [==============================] - 0s 40us/step - loss: 0.0105\n",
      "Epoch 43/50\n",
      "1000/1000 [==============================] - 0s 41us/step - loss: 0.0101\n",
      "Epoch 44/50\n",
      "1000/1000 [==============================] - 0s 37us/step - loss: 0.0102\n",
      "Epoch 45/50\n",
      "1000/1000 [==============================] - 0s 41us/step - loss: 0.0102\n",
      "Epoch 46/50\n",
      "1000/1000 [==============================] - 0s 41us/step - loss: 0.0099\n",
      "Epoch 47/50\n",
      "1000/1000 [==============================] - 0s 40us/step - loss: 0.0104\n",
      "Epoch 48/50\n",
      "1000/1000 [==============================] - 0s 41us/step - loss: 0.0101\n",
      "Epoch 49/50\n",
      "1000/1000 [==============================] - 0s 40us/step - loss: 0.0101\n",
      "Epoch 50/50\n",
      "1000/1000 [==============================] - 0s 42us/step - loss: 0.0102\n"
     ]
    }
   ],
   "source": [
    "# 모델 학습시키기\n",
    "hist = model.fit(x_train, y_train, epochs=50, batch_size=64)"
   ]
  },
  {
   "cell_type": "code",
   "execution_count": 7,
   "metadata": {},
   "outputs": [
    {
     "data": {
      "image/png": "[encoded data removed]",
      "text/plain": [
       "<Figure size 432x288 with 1 Axes>"
      ]
     },
     "metadata": {
      "needs_background": "light"
     },
     "output_type": "display_data"
    }
   ],
   "source": [
    "# 학습과정 살펴보기\n",
    "plt.plot(hist.history['loss'])\n",
    "plt.ylim(0.0, 1.5)\n",
    "plt.ylabel('loss')\n",
    "plt.xlabel('epoch')\n",
    "plt.legend(['train'], loc='upper left')\n",
    "plt.show()"
   ]
  },
  {
   "cell_type": "markdown",
   "metadata": {},
   "source": [
    "### 모델 평가하기"
   ]
  },
  {
   "cell_type": "code",
   "execution_count": 8,
   "metadata": {},
   "outputs": [
    {
     "name": "stdout",
     "output_type": "stream",
     "text": [
      "100/100 [==============================] - 0s 342us/step\n",
      "loss : 0.009111100137233734\n"
     ]
    }
   ],
   "source": [
    "loss = model.evaluate(x_test, y_test, batch_size=32)\n",
    "print('loss : ' + str(loss))"
   ]
  },
  {
   "cell_type": "code",
   "execution_count": null,
   "metadata": {},
   "outputs": [],
   "source": []
  }
 ],
 "metadata": {
  "kernelspec": {
   "display_name": "Python 3",
   "language": "python",
   "name": "python3"
  },
  "language_info": {
   "codemirror_mode": {
    "name": "ipython",
    "version": 3
   },
   "file_extension": ".py",
   "mimetype": "text/x-python",
   "name": "python",
   "nbconvert_exporter": "python",
   "pygments_lexer": "ipython3",
   "version": "3.7.4"
  }
 },
 "nbformat": 4,
 "nbformat_minor": 2
}
