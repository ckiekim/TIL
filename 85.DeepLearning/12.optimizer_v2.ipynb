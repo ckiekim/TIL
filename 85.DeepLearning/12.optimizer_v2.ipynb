{
 "cells": [
  {
   "cell_type": "markdown",
   "metadata": {},
   "source": [
    "# Optimizer 검증 프로그램\n",
    "- Numpy, module 활용 버전"
   ]
  },
  {
   "cell_type": "code",
   "execution_count": 1,
   "metadata": {},
   "outputs": [],
   "source": [
    "import numpy as np\n",
    "import optimizer as opt"
   ]
  },
  {
   "cell_type": "code",
   "execution_count": 2,
   "metadata": {},
   "outputs": [],
   "source": [
    "# f(x,y) = x*x + y*y + xy - 4x - 8y\n",
    "def func(params):\n",
    "    x, y = params[0], params[1]\n",
    "    return x*x + y*y + x*y - 4.*x - 8.*y\n",
    "\n",
    "# Df(x,y) = (2x + y - 4, 2y + x - 8)\n",
    "def deriv_f(params):\n",
    "    x, y = params[0], params[1]\n",
    "    return np.array((np.round(2*x + y - 4., 4), np.round(2*y + x - 8., 4)))"
   ]
  },
  {
   "cell_type": "code",
   "execution_count": 3,
   "metadata": {},
   "outputs": [
    {
     "name": "stdout",
     "output_type": "stream",
     "text": [
      "초기값: params=[0. 0.], grads=[-4. -8.], func=0.0000\n",
      "1회 시행: params=[2. 4.], grads=[-4. -8.], func=-12.0000\n",
      "2회 시행: params=[0. 3.], grads=[4. 2.], func=-15.0000\n",
      "3회 시행: params=[0.5 4. ], grads=[-1. -2.], func=-15.7500\n",
      "4회 시행: params=[0.   3.75], grads=[1.  0.5], func=-15.9375\n",
      "5회 시행: params=[0.125 4.   ], grads=[-0.25 -0.5 ], func=-15.9844\n",
      "6회 시행: params=[0.     3.9375], grads=[0.25  0.125], func=-15.9961\n",
      "7회 시행: params=[0.03125 4.     ], grads=[-0.0625 -0.125 ], func=-15.9990\n",
      "8회 시행: params=[0.     3.9844], grads=[0.0625 0.0312], func=-15.9998\n",
      "9회 시행: params=[0.0078 4.    ], grads=[-0.0156 -0.0312], func=-15.9999\n",
      "10회 시행: params=[-2.1159649e-10  3.9960999e+00], grads=[0.0156 0.0078], func=-16.0000\n"
     ]
    }
   ],
   "source": [
    "sgd = opt.SGD(0.5)\n",
    "params = np.array((0,0), dtype=np.float32)\n",
    "grads = deriv_f(params)\n",
    "print(f'초기값: params={params}, grads={grads}, func={func(params):.4f}')\n",
    "for i in range(10):\n",
    "    sgd.update(params, grads)\n",
    "    print(f'{i+1}회 시행: params={params}, grads={grads}, func={func(params):.4f}')\n",
    "    grads = deriv_f(params)"
   ]
  },
  {
   "cell_type": "code",
   "execution_count": null,
   "metadata": {},
   "outputs": [],
   "source": []
  }
 ],
 "metadata": {
  "interpreter": {
   "hash": "5a1baeb1610b05443f415525bf52a486212d0ee94c2d320214bf0d7d56e225dd"
  },
  "kernelspec": {
   "display_name": "Python 3.7.7 ('vsc')",
   "language": "python",
   "name": "python3"
  },
  "language_info": {
   "codemirror_mode": {
    "name": "ipython",
    "version": 3
   },
   "file_extension": ".py",
   "mimetype": "text/x-python",
   "name": "python",
   "nbconvert_exporter": "python",
   "pygments_lexer": "ipython3",
   "version": "3.7.7"
  },
  "orig_nbformat": 4
 },
 "nbformat": 4,
 "nbformat_minor": 2
}
